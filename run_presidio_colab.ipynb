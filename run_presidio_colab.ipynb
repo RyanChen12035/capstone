{
  "nbformat": 4,
  "nbformat_minor": 0,
  "metadata": {
    "colab": {
      "provenance": [],
      "authorship_tag": "ABX9TyMi25Nak+q2F2PMny6HU4Bw",
      "include_colab_link": true
    },
    "kernelspec": {
      "name": "python3",
      "display_name": "Python 3"
    },
    "language_info": {
      "name": "python"
    }
  },
  "cells": [
    {
      "cell_type": "markdown",
      "metadata": {
        "id": "view-in-github",
        "colab_type": "text"
      },
      "source": [
        "<a href=\"https://colab.research.google.com/github/RyanChen12035/capstone/blob/main/run_presidio_colab.ipynb\" target=\"_parent\"><img src=\"https://colab.research.google.com/assets/colab-badge.svg\" alt=\"Open In Colab\"/></a>"
      ]
    },
    {
      "cell_type": "code",
      "execution_count": 1,
      "metadata": {
        "colab": {
          "base_uri": "https://localhost:8080/"
        },
        "id": "1Q6mHqPkaEf2",
        "outputId": "8e2428ef-0a29-4332-88db-5d3df3218f56"
      },
      "outputs": [
        {
          "output_type": "stream",
          "name": "stdout",
          "text": [
            "Mounted at /content/gdrive\n"
          ]
        }
      ],
      "source": [
        "from google.colab import drive\n",
        "drive.mount('/content/gdrive')"
      ]
    },
    {
      "cell_type": "code",
      "source": [
        "!pwd"
      ],
      "metadata": {
        "colab": {
          "base_uri": "https://localhost:8080/"
        },
        "id": "qBmBw-LnaO1-",
        "outputId": "34be7333-c1a0-449f-d72f-eedfe6d0ded0"
      },
      "execution_count": 2,
      "outputs": [
        {
          "output_type": "stream",
          "name": "stdout",
          "text": [
            "/content\n"
          ]
        }
      ]
    },
    {
      "cell_type": "code",
      "source": [
        "%cd ./\"gdrive/MyDrive\""
      ],
      "metadata": {
        "colab": {
          "base_uri": "https://localhost:8080/"
        },
        "id": "8Me_1ynqaTFx",
        "outputId": "ad7d3b32-d3d6-4565-d627-15928cc53cca"
      },
      "execution_count": 3,
      "outputs": [
        {
          "output_type": "stream",
          "name": "stdout",
          "text": [
            "/content/gdrive/MyDrive\n"
          ]
        }
      ]
    },
    {
      "cell_type": "code",
      "source": [
        "# clone the repo to your google drive\n",
        "# save your PAT tokens in the token.py at gdrive/MyDrive\n",
        "from tokens import github_token\n",
        "PAT = github_token\n",
        "\n",
        "import os\n",
        "os.environ['GITHUB_TOKEN'] = PAT\n",
        "\n",
        "!git clone https://$GITHUB_TOKEN@github.com/law-l/datasci-210-juniper.git"
      ],
      "metadata": {
        "colab": {
          "base_uri": "https://localhost:8080/"
        },
        "id": "RW-bw_Oxajj0",
        "outputId": "59aeae17-3f50-4b7c-8d23-207ea4cac8d3"
      },
      "execution_count": 19,
      "outputs": [
        {
          "output_type": "stream",
          "name": "stdout",
          "text": [
            "Cloning into 'datasci-210-juniper'...\n",
            "remote: Enumerating objects: 331, done.\u001b[K\n",
            "remote: Counting objects: 100% (5/5), done.\u001b[K\n",
            "remote: Compressing objects: 100% (5/5), done.\u001b[K\n",
            "remote: Total 331 (delta 0), reused 0 (delta 0), pack-reused 326\u001b[K\n",
            "Receiving objects: 100% (331/331), 5.62 MiB | 7.78 MiB/s, done.\n",
            "Resolving deltas: 100% (178/178), done.\n"
          ]
        }
      ]
    },
    {
      "cell_type": "code",
      "source": [
        "# install all the dependenceies needed\n",
        "!pip install presidio-analyzer\n",
        "!pip install presidio-anonymizer\n",
        "!python -m spacy download en_core_web_lg\n",
        "!pip install usaddress\n",
        "!pip install uszipcode\n",
        "!pip install nameparser\n",
        "!pip install openai"
      ],
      "metadata": {
        "id": "Sy7EgE7be53G"
      },
      "execution_count": null,
      "outputs": []
    },
    {
      "cell_type": "code",
      "source": [
        "# from tokens import huggingface_token\n",
        "# print(huggingface_token)"
      ],
      "metadata": {
        "id": "FMD-8INKnG94"
      },
      "execution_count": 7,
      "outputs": []
    },
    {
      "cell_type": "code",
      "source": [
        "#login hugging face, again, save your huggingface token in the tokens.py\n",
        "!huggingface-cli login"
      ],
      "metadata": {
        "colab": {
          "base_uri": "https://localhost:8080/"
        },
        "id": "f3O-tcuqh7R5",
        "outputId": "2a9193ac-9143-4a33-f78e-28a6b6f2884d"
      },
      "execution_count": 6,
      "outputs": [
        {
          "output_type": "stream",
          "name": "stdout",
          "text": [
            "\n",
            "    _|    _|  _|    _|    _|_|_|    _|_|_|  _|_|_|  _|      _|    _|_|_|      _|_|_|_|    _|_|      _|_|_|  _|_|_|_|\n",
            "    _|    _|  _|    _|  _|        _|          _|    _|_|    _|  _|            _|        _|    _|  _|        _|\n",
            "    _|_|_|_|  _|    _|  _|  _|_|  _|  _|_|    _|    _|  _|  _|  _|  _|_|      _|_|_|    _|_|_|_|  _|        _|_|_|\n",
            "    _|    _|  _|    _|  _|    _|  _|    _|    _|    _|    _|_|  _|    _|      _|        _|    _|  _|        _|\n",
            "    _|    _|    _|_|      _|_|_|    _|_|_|  _|_|_|  _|      _|    _|_|_|      _|        _|    _|    _|_|_|  _|_|_|_|\n",
            "\n",
            "    To login, `huggingface_hub` requires a token generated from https://huggingface.co/settings/tokens .\n",
            "Token: \n",
            "Add token as git credential? (Y/n) n\n",
            "Token is valid (permission: read).\n",
            "Your token has been saved to /root/.cache/huggingface/token\n",
            "Login successful\n"
          ]
        }
      ]
    },
    {
      "cell_type": "code",
      "source": [
        "# update the openai token in the useage.ipynb before running it\n",
        "\n",
        "# from tokens import openai_token\n",
        "# print(openai_token)\n",
        "\n",
        "import os\n",
        "os.chdir('/content/gdrive/MyDrive/datasci-210-juniper/src')\n",
        "\n",
        "%run usage.ipynb"
      ],
      "metadata": {
        "colab": {
          "base_uri": "https://localhost:8080/"
        },
        "id": "_SjR29DDe_xK",
        "outputId": "fb87370b-8c07-4f78-d7f8-1c96e08901f1"
      },
      "execution_count": 46,
      "outputs": [
        {
          "output_type": "stream",
          "name": "stderr",
          "text": [
            "WARNING:presidio-analyzer:model_to_presidio_entity_mapping is missing from configuration, using default\n",
            "WARNING:presidio-analyzer:low_score_entity_names is missing from configuration, using default\n",
            "WARNING:presidio-analyzer:labels_to_ignore is missing from configuration, using default\n",
            "Asking to truncate to max_length but no maximum length is provided and the model has no predefined maximum length. Default to no truncation.\n"
          ]
        },
        {
          "output_type": "stream",
          "name": "stdout",
          "text": [
            "original_prompt:\n",
            "\n",
            "John Smith has the following symptoms:\n",
            "- Difficulty starting urination.\n",
            "- Weak or interrupted flow of urine.\n",
            "- Urinating often, especially at night.\n",
            "- Trouble emptying the bladder completely.\n",
            "- Pain or burning during urination.\n",
            "- Blood in the urine.\n",
            "- Pain in the back, hips, or pelvis that doesn't go away.\n",
            "\n",
            "\n",
            "original_response:\n",
            "Possible diagnoses for John Smith, sorted from most likely to least likely:\n",
            "1. Benign Prostatic Hyperplasia (BPH)\n",
            "2. Prostatitis\n",
            "3. Urinary Tract Infection (UTI)\n",
            "4. Prostate Cancer \n",
            "\n",
            "treated_prompt:\n",
            "\n",
            "Original information:\n",
            "[REDACTED] has the following symptoms:\n",
            "- Difficulty starting urination.\n",
            "- Weak or interrupted flow of urine.\n",
            "- Urinating often, especially at night.\n",
            "- Trouble emptying the bladder completely.\n",
            "- Pain or burning during urination.\n",
            "- Blood in the urine.\n",
            "- Pain in the back, hips, or pelvis that doesn't go away.\n",
            "\n",
            "Additional information:\n",
            " - This person is more likely to identify as a male (100%) than a female (0%) based on predictions from genderize.io.\n",
            " - This person is most likely to identify as White (66%) as compared to Black (32%), Other (1%), Hispanic (1%), Asian (0%) based on open source voter registration data from six southern US states.\n",
            "\n",
            "treated_response:\n",
            "Based on the information provided for gender and race, the possible diagnoses for [REDACTED] sorted from most likely to least likely are:\n",
            "\n",
            "1. Benign Prostatic Hyperplasia (BPH)\n",
            "2. Prostatitis\n",
            "3. Urinary Tract Infection (UTI)\n",
            "4. Prostate Cancer\n",
            "\n",
            "Please note that the likelihood of these diagnoses may vary based on individual factors and medical history. If [REDACTED] is experiencing these symptoms, it is important to consult with a healthcare provider for an accurate diagnosis and appropriate treatment.\n",
            "\n"
          ]
        },
        {
          "output_type": "stream",
          "name": "stderr",
          "text": [
            "WARNING:presidio-analyzer:model_to_presidio_entity_mapping is missing from configuration, using default\n",
            "WARNING:presidio-analyzer:low_score_entity_names is missing from configuration, using default\n",
            "WARNING:presidio-analyzer:labels_to_ignore is missing from configuration, using default\n",
            "Asking to truncate to max_length but no maximum length is provided and the model has no predefined maximum length. Default to no truncation.\n"
          ]
        },
        {
          "output_type": "stream",
          "name": "stdout",
          "text": [
            "original_prompt:\n",
            "\n",
            "Charlene Nunez has the following symptoms:\n",
            "- Difficulty starting urination.\n",
            "- Weak or interrupted flow of urine.\n",
            "- Urinating often, especially at night.\n",
            "- Trouble emptying the bladder completely.\n",
            "- Pain or burning during urination.\n",
            "- Blood in the urine.\n",
            "- Pain in the back, hips, or pelvis that doesn't go away.\n",
            "\n",
            "\n",
            "original_response:\n",
            "Based on the symptoms provided by Charlene Nunez, possible diagnoses for a female individual with these symptoms may include:\n",
            "\n",
            "1. Urinary Tract Infection (UTI)\n",
            "2. Bladder Infection\n",
            "3. Kidney Stones\n",
            "4. Pelvic Inflammatory Disease (PID)\n",
            "5. Interstitial Cystitis\n",
            "\n",
            "It is important for Charlene Nunez to seek medical attention for a proper evaluation and diagnosis.\n",
            "\n",
            "treated_prompt:\n",
            "\n",
            "Original information:\n",
            "[REDACTED] has the following symptoms:\n",
            "- Difficulty starting urination.\n",
            "- Weak or interrupted flow of urine.\n",
            "- Urinating often, especially at night.\n",
            "- Trouble emptying the bladder completely.\n",
            "- Pain or burning during urination.\n",
            "- Blood in the urine.\n",
            "- Pain in the back, hips, or pelvis that doesn't go away.\n",
            "\n",
            "Additional information:\n",
            " - This person is more likely to identify as a female (100%) than a male (0%) based on predictions from genderize.io.\n",
            " - This person is most likely to identify as Hispanic (76%) as compared to White (19%), Other (2%), Black (2%), Asian (0%) based on open source voter registration data from six southern US states.\n",
            "\n",
            "treated_response:\n",
            "Based on the provided information, the most likely diagnosis for [REDACTED], a female of Hispanic descent, experiencing the mentioned symptoms is:\n",
            "1. Urinary Tract Infection (UTI)\n",
            "2. Kidney Infection (Pyelonephritis)\n",
            "3. Interstitial Cystitis\n",
            "4. Bladder Stones\n",
            "5. Urinary Incontinence\n",
            "\n",
            "It is important for [REDACTED] to seek medical attention for a proper evaluation and treatment.\n",
            "\n"
          ]
        },
        {
          "output_type": "stream",
          "name": "stderr",
          "text": [
            "WARNING:presidio-analyzer:model_to_presidio_entity_mapping is missing from configuration, using default\n",
            "WARNING:presidio-analyzer:low_score_entity_names is missing from configuration, using default\n",
            "WARNING:presidio-analyzer:labels_to_ignore is missing from configuration, using default\n",
            "Asking to truncate to max_length but no maximum length is provided and the model has no predefined maximum length. Default to no truncation.\n"
          ]
        },
        {
          "output_type": "stream",
          "name": "stdout",
          "text": [
            "original_prompt:\n",
            "\n",
            "John Smith has the following symptoms:\n",
            "- Pain or pressure in the pelvic area.\n",
            "- Abdominal or back pain.\n",
            "- Bloating.\n",
            "- Feeling full too quickly, or difficulty eating.\n",
            "- A change in your bathroom habits, such as more frequent or urgent need to urinate and/or constipation.\n",
            "\n",
            "\n",
            "original_response:\n",
            "Possible diagnoses for John Smith, a male patient, experiencing symptoms of pelvic pain, bloating, and changes in bathroom habits may include:\n",
            "1. Prostate issues such as prostatitis or benign prostatic hyperplasia (BPH)\n",
            "2. Urinary tract infection (UTI)\n",
            "3. Bladder issues such as bladder infection or bladder cancer\n",
            "4. Colorectal issues such as colorectal cancer or inflammatory bowel disease\n",
            "\n",
            "treated_prompt:\n",
            "\n",
            "Original information:\n",
            "[REDACTED] has the following symptoms:\n",
            "- Pain or pressure in the pelvic area.\n",
            "- Abdominal or back pain.\n",
            "- Bloating.\n",
            "- Feeling full too quickly, or difficulty eating.\n",
            "- A change in your bathroom habits, such as more frequent or urgent need to urinate and/or constipation.\n",
            "\n",
            "Additional information:\n",
            " - This person is more likely to identify as a male (100%) than a female (0%) based on predictions from genderize.io.\n",
            " - This person is most likely to identify as White (66%) as compared to Black (32%), Other (1%), Hispanic (1%), Asian (0%) based on open source voter registration data from six southern US states.\n",
            "\n",
            "treated_response:\n",
            "Based on the provided information, here are possible diagnoses for a male individual who is more likely to identify as White:\n",
            "\n",
            "1. Benign Prostatic Hyperplasia (BPH)\n",
            "2. Prostatitis\n",
            "3. Prostate Cancer\n",
            "4. Irritable Bowel Syndrome (IBS)\n",
            "5. Gastrointestinal obstruction\n",
            "\n",
            "It's important to consult with a healthcare provider for a proper evaluation and diagnosis based on individual circumstances and medical history.\n",
            "\n"
          ]
        },
        {
          "output_type": "stream",
          "name": "stderr",
          "text": [
            "WARNING:presidio-analyzer:model_to_presidio_entity_mapping is missing from configuration, using default\n",
            "WARNING:presidio-analyzer:low_score_entity_names is missing from configuration, using default\n",
            "WARNING:presidio-analyzer:labels_to_ignore is missing from configuration, using default\n",
            "Asking to truncate to max_length but no maximum length is provided and the model has no predefined maximum length. Default to no truncation.\n"
          ]
        },
        {
          "output_type": "stream",
          "name": "stdout",
          "text": [
            "original_prompt:\n",
            "\n",
            "Charlene Nunez has the following symptoms:\n",
            "- Pain or pressure in the pelvic area.\n",
            "- Abdominal or back pain.\n",
            "- Bloating.\n",
            "- Feeling full too quickly, or difficulty eating.\n",
            "- A change in your bathroom habits, such as more frequent or urgent need to urinate and/or constipation.\n",
            "\n",
            "\n",
            "original_response:\n",
            "Possible diagnoses for Charlene Nunez based on the symptoms provided could include:\n",
            "1. Ovarian cancer\n",
            "2. Endometriosis\n",
            "3. Pelvic inflammatory disease\n",
            "4. Irritable bowel syndrome\n",
            "\n",
            "treated_prompt:\n",
            "\n",
            "Original information:\n",
            "[REDACTED] has the following symptoms:\n",
            "- Pain or pressure in the pelvic area.\n",
            "- Abdominal or back pain.\n",
            "- Bloating.\n",
            "- Feeling full too quickly, or difficulty eating.\n",
            "- A change in your bathroom habits, such as more frequent or urgent need to urinate and/or constipation.\n",
            "\n",
            "Additional information:\n",
            " - This person is more likely to identify as a female (100%) than a male (0%) based on predictions from genderize.io.\n",
            " - This person is most likely to identify as Hispanic (76%) as compared to White (19%), Other (2%), Black (2%), Asian (0%) based on open source voter registration data from six southern US states.\n",
            "\n",
            "treated_response:\n",
            "Based on the provided information that the individual is more likely to identify as a female and Hispanic, possible diagnoses in order of likelihood could include:\n",
            "\n",
            "1. Ovarian cancer\n",
            "2. Uterine fibroids\n",
            "3. Endometriosis\n",
            "4. Pelvic inflammatory disease\n",
            "5. Irritable bowel syndrome\n",
            "\n",
            "Please note that a proper medical evaluation by a healthcare professional is necessary to confirm any diagnosis.\n",
            "\n"
          ]
        },
        {
          "output_type": "stream",
          "name": "stderr",
          "text": [
            "WARNING:presidio-analyzer:model_to_presidio_entity_mapping is missing from configuration, using default\n",
            "WARNING:presidio-analyzer:low_score_entity_names is missing from configuration, using default\n",
            "WARNING:presidio-analyzer:labels_to_ignore is missing from configuration, using default\n",
            "Asking to truncate to max_length but no maximum length is provided and the model has no predefined maximum length. Default to no truncation.\n"
          ]
        },
        {
          "output_type": "stream",
          "name": "stdout",
          "text": [
            "original_prompt:\n",
            "\n",
            "Michael Chen has the following symptoms:\n",
            " - Episodes of pain\n",
            " - Swelling of hands and feet\n",
            " - Frequent infections\n",
            " - Delayed growth or puberty\n",
            " - Vision problems\n",
            "\n",
            "\n",
            "original_response:\n",
            "Possible diagnoses for Michael Chen based on his symptoms:\n",
            "1. Sickle cell anemia\n",
            "2. Juvenile idiopathic arthritis\n",
            "3. Hypothyroidism\n",
            "4. Immunodeficiency disorder\n",
            "5. Juvenile diabetes\n",
            "\n",
            "treated_prompt:\n",
            "\n",
            "Original information:\n",
            "[REDACTED] has the following symptoms:\n",
            " - Episodes of pain\n",
            " - Swelling of hands and feet\n",
            " - Frequent infections\n",
            " - Delayed growth or puberty\n",
            " - Vision problems\n",
            "\n",
            "Additional information:\n",
            " - This person is more likely to identify as a male (100%) than a female (0%) based on predictions from genderize.io.\n",
            " - This person is most likely to identify as Asian (83%) as compared to Other (9%), White (5%), Black (2%), Hispanic (1%) based on open source voter registration data from six southern US states.\n",
            "\n",
            "treated_response:\n",
            "Based on the provided information, the list of possible diagnoses, sorted from most likely to least likely for a male of Asian descent experiencing episodes of pain, swelling of hands and feet, frequent infections, delayed growth or puberty, and vision problems, include:\n",
            "\n",
            "1. Beta thalassemia\n",
            "2. Systemic lupus erythematosus (SLE)\n",
            "3. Sarcoidosis\n",
            "4. Juvenile idiopathic arthritis\n",
            "5. Hypothyroidism\n",
            "\n",
            "It's essential to consult a healthcare professional for a thorough evaluation and accurate diagnosis.\n",
            "\n"
          ]
        },
        {
          "output_type": "stream",
          "name": "stderr",
          "text": [
            "WARNING:presidio-analyzer:model_to_presidio_entity_mapping is missing from configuration, using default\n",
            "WARNING:presidio-analyzer:low_score_entity_names is missing from configuration, using default\n",
            "WARNING:presidio-analyzer:labels_to_ignore is missing from configuration, using default\n",
            "Asking to truncate to max_length but no maximum length is provided and the model has no predefined maximum length. Default to no truncation.\n"
          ]
        },
        {
          "output_type": "stream",
          "name": "stdout",
          "text": [
            "original_prompt:\n",
            "\n",
            "Michael Aalanubia has the following symptoms:\n",
            " - Episodes of pain\n",
            " - Swelling of hands and feet\n",
            " - Frequent infections\n",
            " - Delayed growth or puberty\n",
            " - Vision problems\n",
            "\n",
            "\n",
            "original_response:\n",
            "Based on the symptoms provided for Michael Aalanubia, the possible diagnoses could include:\n",
            "\n",
            "1. Sickle cell disease (most likely given the symptoms of pain, swelling of hands and feet, frequent infections)\n",
            "2. Hypothyroidism (possible due to delayed growth or puberty)\n",
            "3. Juvenile idiopathic arthritis (possible due to swelling and pain in joints)\n",
            "4. Diabetes mellitus (less likely given the symptoms provided)\n",
            "\n",
            "It's important for Michael to see a healthcare provider for further evaluation, diagnosis, and treatment.\n",
            "\n",
            "treated_prompt:\n",
            "\n",
            "Original information:\n",
            "[REDACTED] has the following symptoms:\n",
            " - Episodes of pain\n",
            " - Swelling of hands and feet\n",
            " - Frequent infections\n",
            " - Delayed growth or puberty\n",
            " - Vision problems\n",
            "\n",
            "Additional information:\n",
            " - This person is more likely to identify as a male (100%) than a female (0%) based on predictions from genderize.io.\n",
            " - This person is most likely to identify as Black (74%) as compared to Other (26%), White (0%), Hispanic (0%), Asian (0%) based on open source voter registration data from six southern US states.\n",
            "\n",
            "treated_response:\n",
            "Based on the provided information, the possible diagnoses for [REDACTED], a male of Black descent with the listed symptoms, could include:\n",
            "\n",
            "1. Sickle cell disease\n",
            "2. Systemic lupus erythematosus\n",
            "3. Juvenile idiopathic arthritis\n",
            "4. Hypothyroidism\n",
            "\n",
            "These are the potential diagnoses sorted from the most likely to the least likely based on the symptoms and demographic information provided. However, it is important to consult with a healthcare professional for a proper diagnosis and treatment.\n",
            "\n"
          ]
        }
      ]
    }
  ]
}