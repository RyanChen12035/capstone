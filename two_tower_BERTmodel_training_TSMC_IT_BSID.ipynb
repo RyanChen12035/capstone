{
  "nbformat": 4,
  "nbformat_minor": 0,
  "metadata": {
    "colab": {
      "provenance": [],
      "gpuType": "T4",
      "include_colab_link": true
    },
    "kernelspec": {
      "name": "python3",
      "display_name": "Python 3"
    },
    "language_info": {
      "name": "python"
    },
    "accelerator": "GPU",
    "widgets": {
      "application/vnd.jupyter.widget-state+json": {
        "b8976725a9be414f80965b1b421a2467": {
          "model_module": "@jupyter-widgets/controls",
          "model_name": "HBoxModel",
          "model_module_version": "1.5.0",
          "state": {
            "_dom_classes": [],
            "_model_module": "@jupyter-widgets/controls",
            "_model_module_version": "1.5.0",
            "_model_name": "HBoxModel",
            "_view_count": null,
            "_view_module": "@jupyter-widgets/controls",
            "_view_module_version": "1.5.0",
            "_view_name": "HBoxView",
            "box_style": "",
            "children": [
              "IPY_MODEL_1e62ea09371e475385ddad01c4b83ae7",
              "IPY_MODEL_f43516733d614cf685354b9504664f19",
              "IPY_MODEL_7758181a759048788c7c8b7bc38f3b63"
            ],
            "layout": "IPY_MODEL_7478ee868abc46c5a8de1175a91b94fd"
          }
        },
        "1e62ea09371e475385ddad01c4b83ae7": {
          "model_module": "@jupyter-widgets/controls",
          "model_name": "HTMLModel",
          "model_module_version": "1.5.0",
          "state": {
            "_dom_classes": [],
            "_model_module": "@jupyter-widgets/controls",
            "_model_module_version": "1.5.0",
            "_model_name": "HTMLModel",
            "_view_count": null,
            "_view_module": "@jupyter-widgets/controls",
            "_view_module_version": "1.5.0",
            "_view_name": "HTMLView",
            "description": "",
            "description_tooltip": null,
            "layout": "IPY_MODEL_e5dd7cb24e494d98a12bda88e6e9fedb",
            "placeholder": "​",
            "style": "IPY_MODEL_b17308dd927145a9b2634a33736561aa",
            "value": "tokenizer_config.json: 100%"
          }
        },
        "f43516733d614cf685354b9504664f19": {
          "model_module": "@jupyter-widgets/controls",
          "model_name": "FloatProgressModel",
          "model_module_version": "1.5.0",
          "state": {
            "_dom_classes": [],
            "_model_module": "@jupyter-widgets/controls",
            "_model_module_version": "1.5.0",
            "_model_name": "FloatProgressModel",
            "_view_count": null,
            "_view_module": "@jupyter-widgets/controls",
            "_view_module_version": "1.5.0",
            "_view_name": "ProgressView",
            "bar_style": "success",
            "description": "",
            "description_tooltip": null,
            "layout": "IPY_MODEL_32569cff761a46d0a8ddae3a56bfe6cc",
            "max": 49,
            "min": 0,
            "orientation": "horizontal",
            "style": "IPY_MODEL_c0a098f9bcae4ce1a7a2ecf56f864a1e",
            "value": 49
          }
        },
        "7758181a759048788c7c8b7bc38f3b63": {
          "model_module": "@jupyter-widgets/controls",
          "model_name": "HTMLModel",
          "model_module_version": "1.5.0",
          "state": {
            "_dom_classes": [],
            "_model_module": "@jupyter-widgets/controls",
            "_model_module_version": "1.5.0",
            "_model_name": "HTMLModel",
            "_view_count": null,
            "_view_module": "@jupyter-widgets/controls",
            "_view_module_version": "1.5.0",
            "_view_name": "HTMLView",
            "description": "",
            "description_tooltip": null,
            "layout": "IPY_MODEL_90ca8300fdbe4092aefd6bc954851496",
            "placeholder": "​",
            "style": "IPY_MODEL_10a20e56078043fbb8afddf7c5a61d7e",
            "value": " 49.0/49.0 [00:00&lt;00:00, 1.31kB/s]"
          }
        },
        "7478ee868abc46c5a8de1175a91b94fd": {
          "model_module": "@jupyter-widgets/base",
          "model_name": "LayoutModel",
          "model_module_version": "1.2.0",
          "state": {
            "_model_module": "@jupyter-widgets/base",
            "_model_module_version": "1.2.0",
            "_model_name": "LayoutModel",
            "_view_count": null,
            "_view_module": "@jupyter-widgets/base",
            "_view_module_version": "1.2.0",
            "_view_name": "LayoutView",
            "align_content": null,
            "align_items": null,
            "align_self": null,
            "border": null,
            "bottom": null,
            "display": null,
            "flex": null,
            "flex_flow": null,
            "grid_area": null,
            "grid_auto_columns": null,
            "grid_auto_flow": null,
            "grid_auto_rows": null,
            "grid_column": null,
            "grid_gap": null,
            "grid_row": null,
            "grid_template_areas": null,
            "grid_template_columns": null,
            "grid_template_rows": null,
            "height": null,
            "justify_content": null,
            "justify_items": null,
            "left": null,
            "margin": null,
            "max_height": null,
            "max_width": null,
            "min_height": null,
            "min_width": null,
            "object_fit": null,
            "object_position": null,
            "order": null,
            "overflow": null,
            "overflow_x": null,
            "overflow_y": null,
            "padding": null,
            "right": null,
            "top": null,
            "visibility": null,
            "width": null
          }
        },
        "e5dd7cb24e494d98a12bda88e6e9fedb": {
          "model_module": "@jupyter-widgets/base",
          "model_name": "LayoutModel",
          "model_module_version": "1.2.0",
          "state": {
            "_model_module": "@jupyter-widgets/base",
            "_model_module_version": "1.2.0",
            "_model_name": "LayoutModel",
            "_view_count": null,
            "_view_module": "@jupyter-widgets/base",
            "_view_module_version": "1.2.0",
            "_view_name": "LayoutView",
            "align_content": null,
            "align_items": null,
            "align_self": null,
            "border": null,
            "bottom": null,
            "display": null,
            "flex": null,
            "flex_flow": null,
            "grid_area": null,
            "grid_auto_columns": null,
            "grid_auto_flow": null,
            "grid_auto_rows": null,
            "grid_column": null,
            "grid_gap": null,
            "grid_row": null,
            "grid_template_areas": null,
            "grid_template_columns": null,
            "grid_template_rows": null,
            "height": null,
            "justify_content": null,
            "justify_items": null,
            "left": null,
            "margin": null,
            "max_height": null,
            "max_width": null,
            "min_height": null,
            "min_width": null,
            "object_fit": null,
            "object_position": null,
            "order": null,
            "overflow": null,
            "overflow_x": null,
            "overflow_y": null,
            "padding": null,
            "right": null,
            "top": null,
            "visibility": null,
            "width": null
          }
        },
        "b17308dd927145a9b2634a33736561aa": {
          "model_module": "@jupyter-widgets/controls",
          "model_name": "DescriptionStyleModel",
          "model_module_version": "1.5.0",
          "state": {
            "_model_module": "@jupyter-widgets/controls",
            "_model_module_version": "1.5.0",
            "_model_name": "DescriptionStyleModel",
            "_view_count": null,
            "_view_module": "@jupyter-widgets/base",
            "_view_module_version": "1.2.0",
            "_view_name": "StyleView",
            "description_width": ""
          }
        },
        "32569cff761a46d0a8ddae3a56bfe6cc": {
          "model_module": "@jupyter-widgets/base",
          "model_name": "LayoutModel",
          "model_module_version": "1.2.0",
          "state": {
            "_model_module": "@jupyter-widgets/base",
            "_model_module_version": "1.2.0",
            "_model_name": "LayoutModel",
            "_view_count": null,
            "_view_module": "@jupyter-widgets/base",
            "_view_module_version": "1.2.0",
            "_view_name": "LayoutView",
            "align_content": null,
            "align_items": null,
            "align_self": null,
            "border": null,
            "bottom": null,
            "display": null,
            "flex": null,
            "flex_flow": null,
            "grid_area": null,
            "grid_auto_columns": null,
            "grid_auto_flow": null,
            "grid_auto_rows": null,
            "grid_column": null,
            "grid_gap": null,
            "grid_row": null,
            "grid_template_areas": null,
            "grid_template_columns": null,
            "grid_template_rows": null,
            "height": null,
            "justify_content": null,
            "justify_items": null,
            "left": null,
            "margin": null,
            "max_height": null,
            "max_width": null,
            "min_height": null,
            "min_width": null,
            "object_fit": null,
            "object_position": null,
            "order": null,
            "overflow": null,
            "overflow_x": null,
            "overflow_y": null,
            "padding": null,
            "right": null,
            "top": null,
            "visibility": null,
            "width": null
          }
        },
        "c0a098f9bcae4ce1a7a2ecf56f864a1e": {
          "model_module": "@jupyter-widgets/controls",
          "model_name": "ProgressStyleModel",
          "model_module_version": "1.5.0",
          "state": {
            "_model_module": "@jupyter-widgets/controls",
            "_model_module_version": "1.5.0",
            "_model_name": "ProgressStyleModel",
            "_view_count": null,
            "_view_module": "@jupyter-widgets/base",
            "_view_module_version": "1.2.0",
            "_view_name": "StyleView",
            "bar_color": null,
            "description_width": ""
          }
        },
        "90ca8300fdbe4092aefd6bc954851496": {
          "model_module": "@jupyter-widgets/base",
          "model_name": "LayoutModel",
          "model_module_version": "1.2.0",
          "state": {
            "_model_module": "@jupyter-widgets/base",
            "_model_module_version": "1.2.0",
            "_model_name": "LayoutModel",
            "_view_count": null,
            "_view_module": "@jupyter-widgets/base",
            "_view_module_version": "1.2.0",
            "_view_name": "LayoutView",
            "align_content": null,
            "align_items": null,
            "align_self": null,
            "border": null,
            "bottom": null,
            "display": null,
            "flex": null,
            "flex_flow": null,
            "grid_area": null,
            "grid_auto_columns": null,
            "grid_auto_flow": null,
            "grid_auto_rows": null,
            "grid_column": null,
            "grid_gap": null,
            "grid_row": null,
            "grid_template_areas": null,
            "grid_template_columns": null,
            "grid_template_rows": null,
            "height": null,
            "justify_content": null,
            "justify_items": null,
            "left": null,
            "margin": null,
            "max_height": null,
            "max_width": null,
            "min_height": null,
            "min_width": null,
            "object_fit": null,
            "object_position": null,
            "order": null,
            "overflow": null,
            "overflow_x": null,
            "overflow_y": null,
            "padding": null,
            "right": null,
            "top": null,
            "visibility": null,
            "width": null
          }
        },
        "10a20e56078043fbb8afddf7c5a61d7e": {
          "model_module": "@jupyter-widgets/controls",
          "model_name": "DescriptionStyleModel",
          "model_module_version": "1.5.0",
          "state": {
            "_model_module": "@jupyter-widgets/controls",
            "_model_module_version": "1.5.0",
            "_model_name": "DescriptionStyleModel",
            "_view_count": null,
            "_view_module": "@jupyter-widgets/base",
            "_view_module_version": "1.2.0",
            "_view_name": "StyleView",
            "description_width": ""
          }
        },
        "9143c2379cff42d7b2d84cd659976d58": {
          "model_module": "@jupyter-widgets/controls",
          "model_name": "HBoxModel",
          "model_module_version": "1.5.0",
          "state": {
            "_dom_classes": [],
            "_model_module": "@jupyter-widgets/controls",
            "_model_module_version": "1.5.0",
            "_model_name": "HBoxModel",
            "_view_count": null,
            "_view_module": "@jupyter-widgets/controls",
            "_view_module_version": "1.5.0",
            "_view_name": "HBoxView",
            "box_style": "",
            "children": [
              "IPY_MODEL_6669fee3e72f4661979554d14d0fc752",
              "IPY_MODEL_e754f687f6fd4ed4ba3fa9c8684aa144",
              "IPY_MODEL_1af5200407b64bf4a471173d1f153fce"
            ],
            "layout": "IPY_MODEL_edb7b951663c44bc98e0a4983946a20a"
          }
        },
        "6669fee3e72f4661979554d14d0fc752": {
          "model_module": "@jupyter-widgets/controls",
          "model_name": "HTMLModel",
          "model_module_version": "1.5.0",
          "state": {
            "_dom_classes": [],
            "_model_module": "@jupyter-widgets/controls",
            "_model_module_version": "1.5.0",
            "_model_name": "HTMLModel",
            "_view_count": null,
            "_view_module": "@jupyter-widgets/controls",
            "_view_module_version": "1.5.0",
            "_view_name": "HTMLView",
            "description": "",
            "description_tooltip": null,
            "layout": "IPY_MODEL_0c6738f0d40743bb9709cfcc46f63c02",
            "placeholder": "​",
            "style": "IPY_MODEL_7d2d45abfbfb4323b248d9da43489a84",
            "value": "vocab.txt: 100%"
          }
        },
        "e754f687f6fd4ed4ba3fa9c8684aa144": {
          "model_module": "@jupyter-widgets/controls",
          "model_name": "FloatProgressModel",
          "model_module_version": "1.5.0",
          "state": {
            "_dom_classes": [],
            "_model_module": "@jupyter-widgets/controls",
            "_model_module_version": "1.5.0",
            "_model_name": "FloatProgressModel",
            "_view_count": null,
            "_view_module": "@jupyter-widgets/controls",
            "_view_module_version": "1.5.0",
            "_view_name": "ProgressView",
            "bar_style": "success",
            "description": "",
            "description_tooltip": null,
            "layout": "IPY_MODEL_7ca61785e92846b6ae6334c07dd5d587",
            "max": 213450,
            "min": 0,
            "orientation": "horizontal",
            "style": "IPY_MODEL_34057f1b1ec141e8a53e31de21246375",
            "value": 213450
          }
        },
        "1af5200407b64bf4a471173d1f153fce": {
          "model_module": "@jupyter-widgets/controls",
          "model_name": "HTMLModel",
          "model_module_version": "1.5.0",
          "state": {
            "_dom_classes": [],
            "_model_module": "@jupyter-widgets/controls",
            "_model_module_version": "1.5.0",
            "_model_name": "HTMLModel",
            "_view_count": null,
            "_view_module": "@jupyter-widgets/controls",
            "_view_module_version": "1.5.0",
            "_view_name": "HTMLView",
            "description": "",
            "description_tooltip": null,
            "layout": "IPY_MODEL_6f9067b3927e4e4fb14af8bb920b25a3",
            "placeholder": "​",
            "style": "IPY_MODEL_39f5f09a79b44792afeea30f3611460d",
            "value": " 213k/213k [00:00&lt;00:00, 1.60MB/s]"
          }
        },
        "edb7b951663c44bc98e0a4983946a20a": {
          "model_module": "@jupyter-widgets/base",
          "model_name": "LayoutModel",
          "model_module_version": "1.2.0",
          "state": {
            "_model_module": "@jupyter-widgets/base",
            "_model_module_version": "1.2.0",
            "_model_name": "LayoutModel",
            "_view_count": null,
            "_view_module": "@jupyter-widgets/base",
            "_view_module_version": "1.2.0",
            "_view_name": "LayoutView",
            "align_content": null,
            "align_items": null,
            "align_self": null,
            "border": null,
            "bottom": null,
            "display": null,
            "flex": null,
            "flex_flow": null,
            "grid_area": null,
            "grid_auto_columns": null,
            "grid_auto_flow": null,
            "grid_auto_rows": null,
            "grid_column": null,
            "grid_gap": null,
            "grid_row": null,
            "grid_template_areas": null,
            "grid_template_columns": null,
            "grid_template_rows": null,
            "height": null,
            "justify_content": null,
            "justify_items": null,
            "left": null,
            "margin": null,
            "max_height": null,
            "max_width": null,
            "min_height": null,
            "min_width": null,
            "object_fit": null,
            "object_position": null,
            "order": null,
            "overflow": null,
            "overflow_x": null,
            "overflow_y": null,
            "padding": null,
            "right": null,
            "top": null,
            "visibility": null,
            "width": null
          }
        },
        "0c6738f0d40743bb9709cfcc46f63c02": {
          "model_module": "@jupyter-widgets/base",
          "model_name": "LayoutModel",
          "model_module_version": "1.2.0",
          "state": {
            "_model_module": "@jupyter-widgets/base",
            "_model_module_version": "1.2.0",
            "_model_name": "LayoutModel",
            "_view_count": null,
            "_view_module": "@jupyter-widgets/base",
            "_view_module_version": "1.2.0",
            "_view_name": "LayoutView",
            "align_content": null,
            "align_items": null,
            "align_self": null,
            "border": null,
            "bottom": null,
            "display": null,
            "flex": null,
            "flex_flow": null,
            "grid_area": null,
            "grid_auto_columns": null,
            "grid_auto_flow": null,
            "grid_auto_rows": null,
            "grid_column": null,
            "grid_gap": null,
            "grid_row": null,
            "grid_template_areas": null,
            "grid_template_columns": null,
            "grid_template_rows": null,
            "height": null,
            "justify_content": null,
            "justify_items": null,
            "left": null,
            "margin": null,
            "max_height": null,
            "max_width": null,
            "min_height": null,
            "min_width": null,
            "object_fit": null,
            "object_position": null,
            "order": null,
            "overflow": null,
            "overflow_x": null,
            "overflow_y": null,
            "padding": null,
            "right": null,
            "top": null,
            "visibility": null,
            "width": null
          }
        },
        "7d2d45abfbfb4323b248d9da43489a84": {
          "model_module": "@jupyter-widgets/controls",
          "model_name": "DescriptionStyleModel",
          "model_module_version": "1.5.0",
          "state": {
            "_model_module": "@jupyter-widgets/controls",
            "_model_module_version": "1.5.0",
            "_model_name": "DescriptionStyleModel",
            "_view_count": null,
            "_view_module": "@jupyter-widgets/base",
            "_view_module_version": "1.2.0",
            "_view_name": "StyleView",
            "description_width": ""
          }
        },
        "7ca61785e92846b6ae6334c07dd5d587": {
          "model_module": "@jupyter-widgets/base",
          "model_name": "LayoutModel",
          "model_module_version": "1.2.0",
          "state": {
            "_model_module": "@jupyter-widgets/base",
            "_model_module_version": "1.2.0",
            "_model_name": "LayoutModel",
            "_view_count": null,
            "_view_module": "@jupyter-widgets/base",
            "_view_module_version": "1.2.0",
            "_view_name": "LayoutView",
            "align_content": null,
            "align_items": null,
            "align_self": null,
            "border": null,
            "bottom": null,
            "display": null,
            "flex": null,
            "flex_flow": null,
            "grid_area": null,
            "grid_auto_columns": null,
            "grid_auto_flow": null,
            "grid_auto_rows": null,
            "grid_column": null,
            "grid_gap": null,
            "grid_row": null,
            "grid_template_areas": null,
            "grid_template_columns": null,
            "grid_template_rows": null,
            "height": null,
            "justify_content": null,
            "justify_items": null,
            "left": null,
            "margin": null,
            "max_height": null,
            "max_width": null,
            "min_height": null,
            "min_width": null,
            "object_fit": null,
            "object_position": null,
            "order": null,
            "overflow": null,
            "overflow_x": null,
            "overflow_y": null,
            "padding": null,
            "right": null,
            "top": null,
            "visibility": null,
            "width": null
          }
        },
        "34057f1b1ec141e8a53e31de21246375": {
          "model_module": "@jupyter-widgets/controls",
          "model_name": "ProgressStyleModel",
          "model_module_version": "1.5.0",
          "state": {
            "_model_module": "@jupyter-widgets/controls",
            "_model_module_version": "1.5.0",
            "_model_name": "ProgressStyleModel",
            "_view_count": null,
            "_view_module": "@jupyter-widgets/base",
            "_view_module_version": "1.2.0",
            "_view_name": "StyleView",
            "bar_color": null,
            "description_width": ""
          }
        },
        "6f9067b3927e4e4fb14af8bb920b25a3": {
          "model_module": "@jupyter-widgets/base",
          "model_name": "LayoutModel",
          "model_module_version": "1.2.0",
          "state": {
            "_model_module": "@jupyter-widgets/base",
            "_model_module_version": "1.2.0",
            "_model_name": "LayoutModel",
            "_view_count": null,
            "_view_module": "@jupyter-widgets/base",
            "_view_module_version": "1.2.0",
            "_view_name": "LayoutView",
            "align_content": null,
            "align_items": null,
            "align_self": null,
            "border": null,
            "bottom": null,
            "display": null,
            "flex": null,
            "flex_flow": null,
            "grid_area": null,
            "grid_auto_columns": null,
            "grid_auto_flow": null,
            "grid_auto_rows": null,
            "grid_column": null,
            "grid_gap": null,
            "grid_row": null,
            "grid_template_areas": null,
            "grid_template_columns": null,
            "grid_template_rows": null,
            "height": null,
            "justify_content": null,
            "justify_items": null,
            "left": null,
            "margin": null,
            "max_height": null,
            "max_width": null,
            "min_height": null,
            "min_width": null,
            "object_fit": null,
            "object_position": null,
            "order": null,
            "overflow": null,
            "overflow_x": null,
            "overflow_y": null,
            "padding": null,
            "right": null,
            "top": null,
            "visibility": null,
            "width": null
          }
        },
        "39f5f09a79b44792afeea30f3611460d": {
          "model_module": "@jupyter-widgets/controls",
          "model_name": "DescriptionStyleModel",
          "model_module_version": "1.5.0",
          "state": {
            "_model_module": "@jupyter-widgets/controls",
            "_model_module_version": "1.5.0",
            "_model_name": "DescriptionStyleModel",
            "_view_count": null,
            "_view_module": "@jupyter-widgets/base",
            "_view_module_version": "1.2.0",
            "_view_name": "StyleView",
            "description_width": ""
          }
        },
        "e4625ac83c214928bdb4a7180e77a4a8": {
          "model_module": "@jupyter-widgets/controls",
          "model_name": "HBoxModel",
          "model_module_version": "1.5.0",
          "state": {
            "_dom_classes": [],
            "_model_module": "@jupyter-widgets/controls",
            "_model_module_version": "1.5.0",
            "_model_name": "HBoxModel",
            "_view_count": null,
            "_view_module": "@jupyter-widgets/controls",
            "_view_module_version": "1.5.0",
            "_view_name": "HBoxView",
            "box_style": "",
            "children": [
              "IPY_MODEL_562e2009a97e46baa2a89979513d6b66",
              "IPY_MODEL_e70c4bc7b804400c9a6fb68a981b1bcd",
              "IPY_MODEL_ac6f308696744de68a968c2dd9d55fe4"
            ],
            "layout": "IPY_MODEL_dc57fe6ce26f45e390c2df42f03cf28e"
          }
        },
        "562e2009a97e46baa2a89979513d6b66": {
          "model_module": "@jupyter-widgets/controls",
          "model_name": "HTMLModel",
          "model_module_version": "1.5.0",
          "state": {
            "_dom_classes": [],
            "_model_module": "@jupyter-widgets/controls",
            "_model_module_version": "1.5.0",
            "_model_name": "HTMLModel",
            "_view_count": null,
            "_view_module": "@jupyter-widgets/controls",
            "_view_module_version": "1.5.0",
            "_view_name": "HTMLView",
            "description": "",
            "description_tooltip": null,
            "layout": "IPY_MODEL_c2ccb1055dce4e18b97ab77398bd9afd",
            "placeholder": "​",
            "style": "IPY_MODEL_f3ae2f7cc856415bae820fd07bc91737",
            "value": "tokenizer.json: 100%"
          }
        },
        "e70c4bc7b804400c9a6fb68a981b1bcd": {
          "model_module": "@jupyter-widgets/controls",
          "model_name": "FloatProgressModel",
          "model_module_version": "1.5.0",
          "state": {
            "_dom_classes": [],
            "_model_module": "@jupyter-widgets/controls",
            "_model_module_version": "1.5.0",
            "_model_name": "FloatProgressModel",
            "_view_count": null,
            "_view_module": "@jupyter-widgets/controls",
            "_view_module_version": "1.5.0",
            "_view_name": "ProgressView",
            "bar_style": "success",
            "description": "",
            "description_tooltip": null,
            "layout": "IPY_MODEL_44232a901fe34cb69f5cdc8fad78288c",
            "max": 435797,
            "min": 0,
            "orientation": "horizontal",
            "style": "IPY_MODEL_60219d0019754328b5f77903799cd5f1",
            "value": 435797
          }
        },
        "ac6f308696744de68a968c2dd9d55fe4": {
          "model_module": "@jupyter-widgets/controls",
          "model_name": "HTMLModel",
          "model_module_version": "1.5.0",
          "state": {
            "_dom_classes": [],
            "_model_module": "@jupyter-widgets/controls",
            "_model_module_version": "1.5.0",
            "_model_name": "HTMLModel",
            "_view_count": null,
            "_view_module": "@jupyter-widgets/controls",
            "_view_module_version": "1.5.0",
            "_view_name": "HTMLView",
            "description": "",
            "description_tooltip": null,
            "layout": "IPY_MODEL_d5f34d5dd0bf4e1c866ea1d54fecb22d",
            "placeholder": "​",
            "style": "IPY_MODEL_94c7a845bc9e41dab690664b82b3a5c9",
            "value": " 436k/436k [00:00&lt;00:00, 10.8MB/s]"
          }
        },
        "dc57fe6ce26f45e390c2df42f03cf28e": {
          "model_module": "@jupyter-widgets/base",
          "model_name": "LayoutModel",
          "model_module_version": "1.2.0",
          "state": {
            "_model_module": "@jupyter-widgets/base",
            "_model_module_version": "1.2.0",
            "_model_name": "LayoutModel",
            "_view_count": null,
            "_view_module": "@jupyter-widgets/base",
            "_view_module_version": "1.2.0",
            "_view_name": "LayoutView",
            "align_content": null,
            "align_items": null,
            "align_self": null,
            "border": null,
            "bottom": null,
            "display": null,
            "flex": null,
            "flex_flow": null,
            "grid_area": null,
            "grid_auto_columns": null,
            "grid_auto_flow": null,
            "grid_auto_rows": null,
            "grid_column": null,
            "grid_gap": null,
            "grid_row": null,
            "grid_template_areas": null,
            "grid_template_columns": null,
            "grid_template_rows": null,
            "height": null,
            "justify_content": null,
            "justify_items": null,
            "left": null,
            "margin": null,
            "max_height": null,
            "max_width": null,
            "min_height": null,
            "min_width": null,
            "object_fit": null,
            "object_position": null,
            "order": null,
            "overflow": null,
            "overflow_x": null,
            "overflow_y": null,
            "padding": null,
            "right": null,
            "top": null,
            "visibility": null,
            "width": null
          }
        },
        "c2ccb1055dce4e18b97ab77398bd9afd": {
          "model_module": "@jupyter-widgets/base",
          "model_name": "LayoutModel",
          "model_module_version": "1.2.0",
          "state": {
            "_model_module": "@jupyter-widgets/base",
            "_model_module_version": "1.2.0",
            "_model_name": "LayoutModel",
            "_view_count": null,
            "_view_module": "@jupyter-widgets/base",
            "_view_module_version": "1.2.0",
            "_view_name": "LayoutView",
            "align_content": null,
            "align_items": null,
            "align_self": null,
            "border": null,
            "bottom": null,
            "display": null,
            "flex": null,
            "flex_flow": null,
            "grid_area": null,
            "grid_auto_columns": null,
            "grid_auto_flow": null,
            "grid_auto_rows": null,
            "grid_column": null,
            "grid_gap": null,
            "grid_row": null,
            "grid_template_areas": null,
            "grid_template_columns": null,
            "grid_template_rows": null,
            "height": null,
            "justify_content": null,
            "justify_items": null,
            "left": null,
            "margin": null,
            "max_height": null,
            "max_width": null,
            "min_height": null,
            "min_width": null,
            "object_fit": null,
            "object_position": null,
            "order": null,
            "overflow": null,
            "overflow_x": null,
            "overflow_y": null,
            "padding": null,
            "right": null,
            "top": null,
            "visibility": null,
            "width": null
          }
        },
        "f3ae2f7cc856415bae820fd07bc91737": {
          "model_module": "@jupyter-widgets/controls",
          "model_name": "DescriptionStyleModel",
          "model_module_version": "1.5.0",
          "state": {
            "_model_module": "@jupyter-widgets/controls",
            "_model_module_version": "1.5.0",
            "_model_name": "DescriptionStyleModel",
            "_view_count": null,
            "_view_module": "@jupyter-widgets/base",
            "_view_module_version": "1.2.0",
            "_view_name": "StyleView",
            "description_width": ""
          }
        },
        "44232a901fe34cb69f5cdc8fad78288c": {
          "model_module": "@jupyter-widgets/base",
          "model_name": "LayoutModel",
          "model_module_version": "1.2.0",
          "state": {
            "_model_module": "@jupyter-widgets/base",
            "_model_module_version": "1.2.0",
            "_model_name": "LayoutModel",
            "_view_count": null,
            "_view_module": "@jupyter-widgets/base",
            "_view_module_version": "1.2.0",
            "_view_name": "LayoutView",
            "align_content": null,
            "align_items": null,
            "align_self": null,
            "border": null,
            "bottom": null,
            "display": null,
            "flex": null,
            "flex_flow": null,
            "grid_area": null,
            "grid_auto_columns": null,
            "grid_auto_flow": null,
            "grid_auto_rows": null,
            "grid_column": null,
            "grid_gap": null,
            "grid_row": null,
            "grid_template_areas": null,
            "grid_template_columns": null,
            "grid_template_rows": null,
            "height": null,
            "justify_content": null,
            "justify_items": null,
            "left": null,
            "margin": null,
            "max_height": null,
            "max_width": null,
            "min_height": null,
            "min_width": null,
            "object_fit": null,
            "object_position": null,
            "order": null,
            "overflow": null,
            "overflow_x": null,
            "overflow_y": null,
            "padding": null,
            "right": null,
            "top": null,
            "visibility": null,
            "width": null
          }
        },
        "60219d0019754328b5f77903799cd5f1": {
          "model_module": "@jupyter-widgets/controls",
          "model_name": "ProgressStyleModel",
          "model_module_version": "1.5.0",
          "state": {
            "_model_module": "@jupyter-widgets/controls",
            "_model_module_version": "1.5.0",
            "_model_name": "ProgressStyleModel",
            "_view_count": null,
            "_view_module": "@jupyter-widgets/base",
            "_view_module_version": "1.2.0",
            "_view_name": "StyleView",
            "bar_color": null,
            "description_width": ""
          }
        },
        "d5f34d5dd0bf4e1c866ea1d54fecb22d": {
          "model_module": "@jupyter-widgets/base",
          "model_name": "LayoutModel",
          "model_module_version": "1.2.0",
          "state": {
            "_model_module": "@jupyter-widgets/base",
            "_model_module_version": "1.2.0",
            "_model_name": "LayoutModel",
            "_view_count": null,
            "_view_module": "@jupyter-widgets/base",
            "_view_module_version": "1.2.0",
            "_view_name": "LayoutView",
            "align_content": null,
            "align_items": null,
            "align_self": null,
            "border": null,
            "bottom": null,
            "display": null,
            "flex": null,
            "flex_flow": null,
            "grid_area": null,
            "grid_auto_columns": null,
            "grid_auto_flow": null,
            "grid_auto_rows": null,
            "grid_column": null,
            "grid_gap": null,
            "grid_row": null,
            "grid_template_areas": null,
            "grid_template_columns": null,
            "grid_template_rows": null,
            "height": null,
            "justify_content": null,
            "justify_items": null,
            "left": null,
            "margin": null,
            "max_height": null,
            "max_width": null,
            "min_height": null,
            "min_width": null,
            "object_fit": null,
            "object_position": null,
            "order": null,
            "overflow": null,
            "overflow_x": null,
            "overflow_y": null,
            "padding": null,
            "right": null,
            "top": null,
            "visibility": null,
            "width": null
          }
        },
        "94c7a845bc9e41dab690664b82b3a5c9": {
          "model_module": "@jupyter-widgets/controls",
          "model_name": "DescriptionStyleModel",
          "model_module_version": "1.5.0",
          "state": {
            "_model_module": "@jupyter-widgets/controls",
            "_model_module_version": "1.5.0",
            "_model_name": "DescriptionStyleModel",
            "_view_count": null,
            "_view_module": "@jupyter-widgets/base",
            "_view_module_version": "1.2.0",
            "_view_name": "StyleView",
            "description_width": ""
          }
        },
        "9d8906b5cc4846a1a3b2c5c715925800": {
          "model_module": "@jupyter-widgets/controls",
          "model_name": "HBoxModel",
          "model_module_version": "1.5.0",
          "state": {
            "_dom_classes": [],
            "_model_module": "@jupyter-widgets/controls",
            "_model_module_version": "1.5.0",
            "_model_name": "HBoxModel",
            "_view_count": null,
            "_view_module": "@jupyter-widgets/controls",
            "_view_module_version": "1.5.0",
            "_view_name": "HBoxView",
            "box_style": "",
            "children": [
              "IPY_MODEL_9a75d362e02c46bb9b0270de73a7a03a",
              "IPY_MODEL_0892a274cfea4f81947c19d1f2daf84f",
              "IPY_MODEL_f9e324359fa144a7972f5f021e85664f"
            ],
            "layout": "IPY_MODEL_aef715a58f3d49c3aeb601391c9210df"
          }
        },
        "9a75d362e02c46bb9b0270de73a7a03a": {
          "model_module": "@jupyter-widgets/controls",
          "model_name": "HTMLModel",
          "model_module_version": "1.5.0",
          "state": {
            "_dom_classes": [],
            "_model_module": "@jupyter-widgets/controls",
            "_model_module_version": "1.5.0",
            "_model_name": "HTMLModel",
            "_view_count": null,
            "_view_module": "@jupyter-widgets/controls",
            "_view_module_version": "1.5.0",
            "_view_name": "HTMLView",
            "description": "",
            "description_tooltip": null,
            "layout": "IPY_MODEL_f4d87614761e48c8b518ee53eca6020f",
            "placeholder": "​",
            "style": "IPY_MODEL_d4385aa3595148ddb60b199ca3ea47f6",
            "value": "config.json: 100%"
          }
        },
        "0892a274cfea4f81947c19d1f2daf84f": {
          "model_module": "@jupyter-widgets/controls",
          "model_name": "FloatProgressModel",
          "model_module_version": "1.5.0",
          "state": {
            "_dom_classes": [],
            "_model_module": "@jupyter-widgets/controls",
            "_model_module_version": "1.5.0",
            "_model_name": "FloatProgressModel",
            "_view_count": null,
            "_view_module": "@jupyter-widgets/controls",
            "_view_module_version": "1.5.0",
            "_view_name": "ProgressView",
            "bar_style": "success",
            "description": "",
            "description_tooltip": null,
            "layout": "IPY_MODEL_b5a530ee91eb44e5842ba5ffe15d6672",
            "max": 570,
            "min": 0,
            "orientation": "horizontal",
            "style": "IPY_MODEL_e04001010aff4ef98e9eac30887f1f4b",
            "value": 570
          }
        },
        "f9e324359fa144a7972f5f021e85664f": {
          "model_module": "@jupyter-widgets/controls",
          "model_name": "HTMLModel",
          "model_module_version": "1.5.0",
          "state": {
            "_dom_classes": [],
            "_model_module": "@jupyter-widgets/controls",
            "_model_module_version": "1.5.0",
            "_model_name": "HTMLModel",
            "_view_count": null,
            "_view_module": "@jupyter-widgets/controls",
            "_view_module_version": "1.5.0",
            "_view_name": "HTMLView",
            "description": "",
            "description_tooltip": null,
            "layout": "IPY_MODEL_f3567cdd55f44718a7b17ab0ebb87df7",
            "placeholder": "​",
            "style": "IPY_MODEL_33c22a8e9eec47f5bc1b0216a12e5bc5",
            "value": " 570/570 [00:00&lt;00:00, 20.9kB/s]"
          }
        },
        "aef715a58f3d49c3aeb601391c9210df": {
          "model_module": "@jupyter-widgets/base",
          "model_name": "LayoutModel",
          "model_module_version": "1.2.0",
          "state": {
            "_model_module": "@jupyter-widgets/base",
            "_model_module_version": "1.2.0",
            "_model_name": "LayoutModel",
            "_view_count": null,
            "_view_module": "@jupyter-widgets/base",
            "_view_module_version": "1.2.0",
            "_view_name": "LayoutView",
            "align_content": null,
            "align_items": null,
            "align_self": null,
            "border": null,
            "bottom": null,
            "display": null,
            "flex": null,
            "flex_flow": null,
            "grid_area": null,
            "grid_auto_columns": null,
            "grid_auto_flow": null,
            "grid_auto_rows": null,
            "grid_column": null,
            "grid_gap": null,
            "grid_row": null,
            "grid_template_areas": null,
            "grid_template_columns": null,
            "grid_template_rows": null,
            "height": null,
            "justify_content": null,
            "justify_items": null,
            "left": null,
            "margin": null,
            "max_height": null,
            "max_width": null,
            "min_height": null,
            "min_width": null,
            "object_fit": null,
            "object_position": null,
            "order": null,
            "overflow": null,
            "overflow_x": null,
            "overflow_y": null,
            "padding": null,
            "right": null,
            "top": null,
            "visibility": null,
            "width": null
          }
        },
        "f4d87614761e48c8b518ee53eca6020f": {
          "model_module": "@jupyter-widgets/base",
          "model_name": "LayoutModel",
          "model_module_version": "1.2.0",
          "state": {
            "_model_module": "@jupyter-widgets/base",
            "_model_module_version": "1.2.0",
            "_model_name": "LayoutModel",
            "_view_count": null,
            "_view_module": "@jupyter-widgets/base",
            "_view_module_version": "1.2.0",
            "_view_name": "LayoutView",
            "align_content": null,
            "align_items": null,
            "align_self": null,
            "border": null,
            "bottom": null,
            "display": null,
            "flex": null,
            "flex_flow": null,
            "grid_area": null,
            "grid_auto_columns": null,
            "grid_auto_flow": null,
            "grid_auto_rows": null,
            "grid_column": null,
            "grid_gap": null,
            "grid_row": null,
            "grid_template_areas": null,
            "grid_template_columns": null,
            "grid_template_rows": null,
            "height": null,
            "justify_content": null,
            "justify_items": null,
            "left": null,
            "margin": null,
            "max_height": null,
            "max_width": null,
            "min_height": null,
            "min_width": null,
            "object_fit": null,
            "object_position": null,
            "order": null,
            "overflow": null,
            "overflow_x": null,
            "overflow_y": null,
            "padding": null,
            "right": null,
            "top": null,
            "visibility": null,
            "width": null
          }
        },
        "d4385aa3595148ddb60b199ca3ea47f6": {
          "model_module": "@jupyter-widgets/controls",
          "model_name": "DescriptionStyleModel",
          "model_module_version": "1.5.0",
          "state": {
            "_model_module": "@jupyter-widgets/controls",
            "_model_module_version": "1.5.0",
            "_model_name": "DescriptionStyleModel",
            "_view_count": null,
            "_view_module": "@jupyter-widgets/base",
            "_view_module_version": "1.2.0",
            "_view_name": "StyleView",
            "description_width": ""
          }
        },
        "b5a530ee91eb44e5842ba5ffe15d6672": {
          "model_module": "@jupyter-widgets/base",
          "model_name": "LayoutModel",
          "model_module_version": "1.2.0",
          "state": {
            "_model_module": "@jupyter-widgets/base",
            "_model_module_version": "1.2.0",
            "_model_name": "LayoutModel",
            "_view_count": null,
            "_view_module": "@jupyter-widgets/base",
            "_view_module_version": "1.2.0",
            "_view_name": "LayoutView",
            "align_content": null,
            "align_items": null,
            "align_self": null,
            "border": null,
            "bottom": null,
            "display": null,
            "flex": null,
            "flex_flow": null,
            "grid_area": null,
            "grid_auto_columns": null,
            "grid_auto_flow": null,
            "grid_auto_rows": null,
            "grid_column": null,
            "grid_gap": null,
            "grid_row": null,
            "grid_template_areas": null,
            "grid_template_columns": null,
            "grid_template_rows": null,
            "height": null,
            "justify_content": null,
            "justify_items": null,
            "left": null,
            "margin": null,
            "max_height": null,
            "max_width": null,
            "min_height": null,
            "min_width": null,
            "object_fit": null,
            "object_position": null,
            "order": null,
            "overflow": null,
            "overflow_x": null,
            "overflow_y": null,
            "padding": null,
            "right": null,
            "top": null,
            "visibility": null,
            "width": null
          }
        },
        "e04001010aff4ef98e9eac30887f1f4b": {
          "model_module": "@jupyter-widgets/controls",
          "model_name": "ProgressStyleModel",
          "model_module_version": "1.5.0",
          "state": {
            "_model_module": "@jupyter-widgets/controls",
            "_model_module_version": "1.5.0",
            "_model_name": "ProgressStyleModel",
            "_view_count": null,
            "_view_module": "@jupyter-widgets/base",
            "_view_module_version": "1.2.0",
            "_view_name": "StyleView",
            "bar_color": null,
            "description_width": ""
          }
        },
        "f3567cdd55f44718a7b17ab0ebb87df7": {
          "model_module": "@jupyter-widgets/base",
          "model_name": "LayoutModel",
          "model_module_version": "1.2.0",
          "state": {
            "_model_module": "@jupyter-widgets/base",
            "_model_module_version": "1.2.0",
            "_model_name": "LayoutModel",
            "_view_count": null,
            "_view_module": "@jupyter-widgets/base",
            "_view_module_version": "1.2.0",
            "_view_name": "LayoutView",
            "align_content": null,
            "align_items": null,
            "align_self": null,
            "border": null,
            "bottom": null,
            "display": null,
            "flex": null,
            "flex_flow": null,
            "grid_area": null,
            "grid_auto_columns": null,
            "grid_auto_flow": null,
            "grid_auto_rows": null,
            "grid_column": null,
            "grid_gap": null,
            "grid_row": null,
            "grid_template_areas": null,
            "grid_template_columns": null,
            "grid_template_rows": null,
            "height": null,
            "justify_content": null,
            "justify_items": null,
            "left": null,
            "margin": null,
            "max_height": null,
            "max_width": null,
            "min_height": null,
            "min_width": null,
            "object_fit": null,
            "object_position": null,
            "order": null,
            "overflow": null,
            "overflow_x": null,
            "overflow_y": null,
            "padding": null,
            "right": null,
            "top": null,
            "visibility": null,
            "width": null
          }
        },
        "33c22a8e9eec47f5bc1b0216a12e5bc5": {
          "model_module": "@jupyter-widgets/controls",
          "model_name": "DescriptionStyleModel",
          "model_module_version": "1.5.0",
          "state": {
            "_model_module": "@jupyter-widgets/controls",
            "_model_module_version": "1.5.0",
            "_model_name": "DescriptionStyleModel",
            "_view_count": null,
            "_view_module": "@jupyter-widgets/base",
            "_view_module_version": "1.2.0",
            "_view_name": "StyleView",
            "description_width": ""
          }
        },
        "60d0ae3bdd984e9ca97d0826ec6de654": {
          "model_module": "@jupyter-widgets/controls",
          "model_name": "HBoxModel",
          "model_module_version": "1.5.0",
          "state": {
            "_dom_classes": [],
            "_model_module": "@jupyter-widgets/controls",
            "_model_module_version": "1.5.0",
            "_model_name": "HBoxModel",
            "_view_count": null,
            "_view_module": "@jupyter-widgets/controls",
            "_view_module_version": "1.5.0",
            "_view_name": "HBoxView",
            "box_style": "",
            "children": [
              "IPY_MODEL_86a920c1f5cf4e288a74b954919613cc",
              "IPY_MODEL_e65eabb131f34b919bcd1a29941feb02",
              "IPY_MODEL_756b8070d1d54d50946727d222361b9b"
            ],
            "layout": "IPY_MODEL_1a8c3c783ea048e28d29acac7bbd540d"
          }
        },
        "86a920c1f5cf4e288a74b954919613cc": {
          "model_module": "@jupyter-widgets/controls",
          "model_name": "HTMLModel",
          "model_module_version": "1.5.0",
          "state": {
            "_dom_classes": [],
            "_model_module": "@jupyter-widgets/controls",
            "_model_module_version": "1.5.0",
            "_model_name": "HTMLModel",
            "_view_count": null,
            "_view_module": "@jupyter-widgets/controls",
            "_view_module_version": "1.5.0",
            "_view_name": "HTMLView",
            "description": "",
            "description_tooltip": null,
            "layout": "IPY_MODEL_b071091f9f30497da09eab5f35eb307a",
            "placeholder": "​",
            "style": "IPY_MODEL_a7d29fbc58344c43b02047fa9d9e7953",
            "value": "model.safetensors: 100%"
          }
        },
        "e65eabb131f34b919bcd1a29941feb02": {
          "model_module": "@jupyter-widgets/controls",
          "model_name": "FloatProgressModel",
          "model_module_version": "1.5.0",
          "state": {
            "_dom_classes": [],
            "_model_module": "@jupyter-widgets/controls",
            "_model_module_version": "1.5.0",
            "_model_name": "FloatProgressModel",
            "_view_count": null,
            "_view_module": "@jupyter-widgets/controls",
            "_view_module_version": "1.5.0",
            "_view_name": "ProgressView",
            "bar_style": "success",
            "description": "",
            "description_tooltip": null,
            "layout": "IPY_MODEL_6a35ebd0a2cf4952a011c722685d6d5a",
            "max": 435755784,
            "min": 0,
            "orientation": "horizontal",
            "style": "IPY_MODEL_8a1f6e57fdd543f18ba67d4bb961a81e",
            "value": 435755784
          }
        },
        "756b8070d1d54d50946727d222361b9b": {
          "model_module": "@jupyter-widgets/controls",
          "model_name": "HTMLModel",
          "model_module_version": "1.5.0",
          "state": {
            "_dom_classes": [],
            "_model_module": "@jupyter-widgets/controls",
            "_model_module_version": "1.5.0",
            "_model_name": "HTMLModel",
            "_view_count": null,
            "_view_module": "@jupyter-widgets/controls",
            "_view_module_version": "1.5.0",
            "_view_name": "HTMLView",
            "description": "",
            "description_tooltip": null,
            "layout": "IPY_MODEL_861914346c044a5996e6eeeeeddb3a47",
            "placeholder": "​",
            "style": "IPY_MODEL_d8f99f0a40ac48c88a49632751eff33c",
            "value": " 436M/436M [00:02&lt;00:00, 159MB/s]"
          }
        },
        "1a8c3c783ea048e28d29acac7bbd540d": {
          "model_module": "@jupyter-widgets/base",
          "model_name": "LayoutModel",
          "model_module_version": "1.2.0",
          "state": {
            "_model_module": "@jupyter-widgets/base",
            "_model_module_version": "1.2.0",
            "_model_name": "LayoutModel",
            "_view_count": null,
            "_view_module": "@jupyter-widgets/base",
            "_view_module_version": "1.2.0",
            "_view_name": "LayoutView",
            "align_content": null,
            "align_items": null,
            "align_self": null,
            "border": null,
            "bottom": null,
            "display": null,
            "flex": null,
            "flex_flow": null,
            "grid_area": null,
            "grid_auto_columns": null,
            "grid_auto_flow": null,
            "grid_auto_rows": null,
            "grid_column": null,
            "grid_gap": null,
            "grid_row": null,
            "grid_template_areas": null,
            "grid_template_columns": null,
            "grid_template_rows": null,
            "height": null,
            "justify_content": null,
            "justify_items": null,
            "left": null,
            "margin": null,
            "max_height": null,
            "max_width": null,
            "min_height": null,
            "min_width": null,
            "object_fit": null,
            "object_position": null,
            "order": null,
            "overflow": null,
            "overflow_x": null,
            "overflow_y": null,
            "padding": null,
            "right": null,
            "top": null,
            "visibility": null,
            "width": null
          }
        },
        "b071091f9f30497da09eab5f35eb307a": {
          "model_module": "@jupyter-widgets/base",
          "model_name": "LayoutModel",
          "model_module_version": "1.2.0",
          "state": {
            "_model_module": "@jupyter-widgets/base",
            "_model_module_version": "1.2.0",
            "_model_name": "LayoutModel",
            "_view_count": null,
            "_view_module": "@jupyter-widgets/base",
            "_view_module_version": "1.2.0",
            "_view_name": "LayoutView",
            "align_content": null,
            "align_items": null,
            "align_self": null,
            "border": null,
            "bottom": null,
            "display": null,
            "flex": null,
            "flex_flow": null,
            "grid_area": null,
            "grid_auto_columns": null,
            "grid_auto_flow": null,
            "grid_auto_rows": null,
            "grid_column": null,
            "grid_gap": null,
            "grid_row": null,
            "grid_template_areas": null,
            "grid_template_columns": null,
            "grid_template_rows": null,
            "height": null,
            "justify_content": null,
            "justify_items": null,
            "left": null,
            "margin": null,
            "max_height": null,
            "max_width": null,
            "min_height": null,
            "min_width": null,
            "object_fit": null,
            "object_position": null,
            "order": null,
            "overflow": null,
            "overflow_x": null,
            "overflow_y": null,
            "padding": null,
            "right": null,
            "top": null,
            "visibility": null,
            "width": null
          }
        },
        "a7d29fbc58344c43b02047fa9d9e7953": {
          "model_module": "@jupyter-widgets/controls",
          "model_name": "DescriptionStyleModel",
          "model_module_version": "1.5.0",
          "state": {
            "_model_module": "@jupyter-widgets/controls",
            "_model_module_version": "1.5.0",
            "_model_name": "DescriptionStyleModel",
            "_view_count": null,
            "_view_module": "@jupyter-widgets/base",
            "_view_module_version": "1.2.0",
            "_view_name": "StyleView",
            "description_width": ""
          }
        },
        "6a35ebd0a2cf4952a011c722685d6d5a": {
          "model_module": "@jupyter-widgets/base",
          "model_name": "LayoutModel",
          "model_module_version": "1.2.0",
          "state": {
            "_model_module": "@jupyter-widgets/base",
            "_model_module_version": "1.2.0",
            "_model_name": "LayoutModel",
            "_view_count": null,
            "_view_module": "@jupyter-widgets/base",
            "_view_module_version": "1.2.0",
            "_view_name": "LayoutView",
            "align_content": null,
            "align_items": null,
            "align_self": null,
            "border": null,
            "bottom": null,
            "display": null,
            "flex": null,
            "flex_flow": null,
            "grid_area": null,
            "grid_auto_columns": null,
            "grid_auto_flow": null,
            "grid_auto_rows": null,
            "grid_column": null,
            "grid_gap": null,
            "grid_row": null,
            "grid_template_areas": null,
            "grid_template_columns": null,
            "grid_template_rows": null,
            "height": null,
            "justify_content": null,
            "justify_items": null,
            "left": null,
            "margin": null,
            "max_height": null,
            "max_width": null,
            "min_height": null,
            "min_width": null,
            "object_fit": null,
            "object_position": null,
            "order": null,
            "overflow": null,
            "overflow_x": null,
            "overflow_y": null,
            "padding": null,
            "right": null,
            "top": null,
            "visibility": null,
            "width": null
          }
        },
        "8a1f6e57fdd543f18ba67d4bb961a81e": {
          "model_module": "@jupyter-widgets/controls",
          "model_name": "ProgressStyleModel",
          "model_module_version": "1.5.0",
          "state": {
            "_model_module": "@jupyter-widgets/controls",
            "_model_module_version": "1.5.0",
            "_model_name": "ProgressStyleModel",
            "_view_count": null,
            "_view_module": "@jupyter-widgets/base",
            "_view_module_version": "1.2.0",
            "_view_name": "StyleView",
            "bar_color": null,
            "description_width": ""
          }
        },
        "861914346c044a5996e6eeeeeddb3a47": {
          "model_module": "@jupyter-widgets/base",
          "model_name": "LayoutModel",
          "model_module_version": "1.2.0",
          "state": {
            "_model_module": "@jupyter-widgets/base",
            "_model_module_version": "1.2.0",
            "_model_name": "LayoutModel",
            "_view_count": null,
            "_view_module": "@jupyter-widgets/base",
            "_view_module_version": "1.2.0",
            "_view_name": "LayoutView",
            "align_content": null,
            "align_items": null,
            "align_self": null,
            "border": null,
            "bottom": null,
            "display": null,
            "flex": null,
            "flex_flow": null,
            "grid_area": null,
            "grid_auto_columns": null,
            "grid_auto_flow": null,
            "grid_auto_rows": null,
            "grid_column": null,
            "grid_gap": null,
            "grid_row": null,
            "grid_template_areas": null,
            "grid_template_columns": null,
            "grid_template_rows": null,
            "height": null,
            "justify_content": null,
            "justify_items": null,
            "left": null,
            "margin": null,
            "max_height": null,
            "max_width": null,
            "min_height": null,
            "min_width": null,
            "object_fit": null,
            "object_position": null,
            "order": null,
            "overflow": null,
            "overflow_x": null,
            "overflow_y": null,
            "padding": null,
            "right": null,
            "top": null,
            "visibility": null,
            "width": null
          }
        },
        "d8f99f0a40ac48c88a49632751eff33c": {
          "model_module": "@jupyter-widgets/controls",
          "model_name": "DescriptionStyleModel",
          "model_module_version": "1.5.0",
          "state": {
            "_model_module": "@jupyter-widgets/controls",
            "_model_module_version": "1.5.0",
            "_model_name": "DescriptionStyleModel",
            "_view_count": null,
            "_view_module": "@jupyter-widgets/base",
            "_view_module_version": "1.2.0",
            "_view_name": "StyleView",
            "description_width": ""
          }
        }
      }
    }
  },
  "cells": [
    {
      "cell_type": "markdown",
      "metadata": {
        "id": "view-in-github",
        "colab_type": "text"
      },
      "source": [
        "<a href=\"https://colab.research.google.com/github/RyanChen12035/capstone/blob/main/two_tower_BERTmodel_training_TSMC_IT_BSID.ipynb\" target=\"_parent\"><img src=\"https://colab.research.google.com/assets/colab-badge.svg\" alt=\"Open In Colab\"/></a>"
      ]
    },
    {
      "cell_type": "code",
      "execution_count": null,
      "metadata": {
        "colab": {
          "base_uri": "https://localhost:8080/"
        },
        "id": "GE0qQNQ-GZAc",
        "outputId": "f387f14f-536a-47a0-fa08-dad19bf69d8e"
      },
      "outputs": [
        {
          "output_type": "stream",
          "name": "stdout",
          "text": [
            "\u001b[2K     \u001b[90m━━━━━━━━━━━━━━━━━━━━━━━━━━━━━━━━━━━━━━━━\u001b[0m \u001b[32m497.6/497.6 MB\u001b[0m \u001b[31m3.1 MB/s\u001b[0m eta \u001b[36m0:00:00\u001b[0m\n",
            "\u001b[2K     \u001b[90m━━━━━━━━━━━━━━━━━━━━━━━━━━━━━━━━━━━━━━━━\u001b[0m \u001b[32m42.6/42.6 kB\u001b[0m \u001b[31m5.7 MB/s\u001b[0m eta \u001b[36m0:00:00\u001b[0m\n",
            "\u001b[2K     \u001b[90m━━━━━━━━━━━━━━━━━━━━━━━━━━━━━━━━━━━━━━━━\u001b[0m \u001b[32m5.8/5.8 MB\u001b[0m \u001b[31m107.9 MB/s\u001b[0m eta \u001b[36m0:00:00\u001b[0m\n",
            "\u001b[2K     \u001b[90m━━━━━━━━━━━━━━━━━━━━━━━━━━━━━━━━━━━━━━━━\u001b[0m \u001b[32m462.5/462.5 kB\u001b[0m \u001b[31m48.0 MB/s\u001b[0m eta \u001b[36m0:00:00\u001b[0m\n",
            "\u001b[2K     \u001b[90m━━━━━━━━━━━━━━━━━━━━━━━━━━━━━━━━━━━━━━━━\u001b[0m \u001b[32m1.4/1.4 MB\u001b[0m \u001b[31m62.2 MB/s\u001b[0m eta \u001b[36m0:00:00\u001b[0m\n",
            "\u001b[2K     \u001b[90m━━━━━━━━━━━━━━━━━━━━━━━━━━━━━━━━━━━━━━━━\u001b[0m \u001b[32m4.9/4.9 MB\u001b[0m \u001b[31m69.8 MB/s\u001b[0m eta \u001b[36m0:00:00\u001b[0m\n",
            "\u001b[2K     \u001b[90m━━━━━━━━━━━━━━━━━━━━━━━━━━━━━━━━━━━━━━━━\u001b[0m \u001b[32m781.3/781.3 kB\u001b[0m \u001b[31m67.3 MB/s\u001b[0m eta \u001b[36m0:00:00\u001b[0m\n",
            "\u001b[?25h\u001b[31mERROR: pip's dependency resolver does not currently take into account all the packages that are installed. This behaviour is the source of the following dependency conflicts.\n",
            "pandas-gbq 0.19.2 requires google-auth-oauthlib>=0.7.0, but you have google-auth-oauthlib 0.4.6 which is incompatible.\n",
            "tf-keras 2.15.1 requires tensorflow<2.16,>=2.15, but you have tensorflow 2.8.0 which is incompatible.\u001b[0m\u001b[31m\n",
            "\u001b[2K     \u001b[90m━━━━━━━━━━━━━━━━━━━━━━━━━━━━━━━━━━━━━━━━\u001b[0m \u001b[32m3.4/3.4 MB\u001b[0m \u001b[31m17.7 MB/s\u001b[0m eta \u001b[36m0:00:00\u001b[0m\n",
            "\u001b[2K     \u001b[90m━━━━━━━━━━━━━━━━━━━━━━━━━━━━━━━━━━━━━━━━\u001b[0m \u001b[32m897.5/897.5 kB\u001b[0m \u001b[31m25.2 MB/s\u001b[0m eta \u001b[36m0:00:00\u001b[0m\n",
            "\u001b[2K     \u001b[90m━━━━━━━━━━━━━━━━━━━━━━━━━━━━━━━━━━━━━━━━\u001b[0m \u001b[32m212.7/212.7 kB\u001b[0m \u001b[31m26.7 MB/s\u001b[0m eta \u001b[36m0:00:00\u001b[0m\n",
            "\u001b[?25h  Installing build dependencies ... \u001b[?25l\u001b[?25hdone\n",
            "  Getting requirements to build wheel ... \u001b[?25l\u001b[?25hdone\n",
            "  Preparing metadata (pyproject.toml) ... \u001b[?25l\u001b[?25hdone\n",
            "  \u001b[1;31merror\u001b[0m: \u001b[1msubprocess-exited-with-error\u001b[0m\n",
            "  \n",
            "  \u001b[31m×\u001b[0m \u001b[32mBuilding wheel for tokenizers \u001b[0m\u001b[1;32m(\u001b[0m\u001b[32mpyproject.toml\u001b[0m\u001b[1;32m)\u001b[0m did not run successfully.\n",
            "  \u001b[31m│\u001b[0m exit code: \u001b[1;36m1\u001b[0m\n",
            "  \u001b[31m╰─>\u001b[0m See above for output.\n",
            "  \n",
            "  \u001b[1;35mnote\u001b[0m: This error originates from a subprocess, and is likely not a problem with pip.\n",
            "  Building wheel for tokenizers (pyproject.toml) ... \u001b[?25l\u001b[?25herror\n",
            "\u001b[31m  ERROR: Failed building wheel for tokenizers\u001b[0m\u001b[31m\n",
            "\u001b[0m\u001b[31mERROR: Could not build wheels for tokenizers, which is required to install pyproject.toml-based projects\u001b[0m\u001b[31m\n",
            "\u001b[0m"
          ]
        }
      ],
      "source": [
        "!pip install tensorflow==2.8.0 --quiet\n",
        "!pip install transformers==4.15.0 --quiet\n",
        "!pip install scikit-learn --quiet"
      ]
    },
    {
      "cell_type": "code",
      "source": [
        "import tensorflow as tf\n",
        "print(\"Num GPUs Available: \", len(tf.config.experimental.list_physical_devices('GPU')))"
      ],
      "metadata": {
        "colab": {
          "base_uri": "https://localhost:8080/"
        },
        "id": "L0SE9cNaGaVN",
        "outputId": "907e574f-4fe3-4a2e-b749-32feb76b300b"
      },
      "execution_count": null,
      "outputs": [
        {
          "output_type": "stream",
          "name": "stdout",
          "text": [
            "Num GPUs Available:  0\n"
          ]
        }
      ]
    },
    {
      "cell_type": "code",
      "source": [
        "!nvidia-smi -L"
      ],
      "metadata": {
        "colab": {
          "base_uri": "https://localhost:8080/"
        },
        "id": "3DlQmjvDGabe",
        "outputId": "6086d32b-3235-4598-8566-f39b8c0e87f2"
      },
      "execution_count": null,
      "outputs": [
        {
          "output_type": "stream",
          "name": "stdout",
          "text": [
            "GPU 0: Tesla T4 (UUID: GPU-a0996d98-9e44-4b90-027e-d26e7be2439d)\n"
          ]
        }
      ]
    },
    {
      "cell_type": "code",
      "source": [
        "import numpy as np\n",
        "import pandas as pd\n",
        "import tensorflow as tf\n",
        "from tensorflow import keras\n",
        "from tensorflow.keras.layers import Embedding, Input, Dense, Lambda, Dropout, Conv1D, GlobalMaxPooling1D, Concatenate, Activation\n",
        "from tensorflow.keras.models import Model\n",
        "import tensorflow.keras.backend as K\n",
        "from transformers import BertTokenizer, TFBertModel\n",
        "from transformers import logging\n",
        "logging.set_verbosity_error()\n",
        "import sklearn as sk\n",
        "import os\n",
        "from nltk.data import find\n",
        "import matplotlib.pyplot as plt\n",
        "import re\n",
        "from sklearn.model_selection import train_test_split"
      ],
      "metadata": {
        "id": "xGYigkBbGaeM"
      },
      "execution_count": null,
      "outputs": []
    },
    {
      "cell_type": "code",
      "source": [
        "df = pd.read_csv(\"./job_PII_diagnosis_5.csv\", error_bad_lines=False)\n",
        "df.head(2)"
      ],
      "metadata": {
        "colab": {
          "base_uri": "https://localhost:8080/",
          "height": 185
        },
        "id": "6N6ezkUJGagi",
        "outputId": "8990b39f-9259-401d-a46b-31b5f338e46d"
      },
      "execution_count": null,
      "outputs": [
        {
          "output_type": "stream",
          "name": "stderr",
          "text": [
            "<ipython-input-5-d5b672055e87>:1: FutureWarning: The error_bad_lines argument has been deprecated and will be removed in a future version. Use on_bad_lines in the future.\n",
            "\n",
            "\n",
            "  df = pd.read_csv(\"./job_PII_diagnosis_5.csv\", error_bad_lines=False)\n"
          ]
        },
        {
          "output_type": "execute_result",
          "data": {
            "text/plain": [
              "                                              prompt  related_to_job\n",
              "0  Being a C++  GRAPHICS PROGRAMMER  at BY, HM, M...               1\n",
              "1  I am doing my job in Customer Success and the ...               1"
            ],
            "text/html": [
              "\n",
              "  <div id=\"df-ae9865af-41f6-4d81-910e-6b75bca49592\" class=\"colab-df-container\">\n",
              "    <div>\n",
              "<style scoped>\n",
              "    .dataframe tbody tr th:only-of-type {\n",
              "        vertical-align: middle;\n",
              "    }\n",
              "\n",
              "    .dataframe tbody tr th {\n",
              "        vertical-align: top;\n",
              "    }\n",
              "\n",
              "    .dataframe thead th {\n",
              "        text-align: right;\n",
              "    }\n",
              "</style>\n",
              "<table border=\"1\" class=\"dataframe\">\n",
              "  <thead>\n",
              "    <tr style=\"text-align: right;\">\n",
              "      <th></th>\n",
              "      <th>prompt</th>\n",
              "      <th>related_to_job</th>\n",
              "    </tr>\n",
              "  </thead>\n",
              "  <tbody>\n",
              "    <tr>\n",
              "      <th>0</th>\n",
              "      <td>Being a C++  GRAPHICS PROGRAMMER  at BY, HM, M...</td>\n",
              "      <td>1</td>\n",
              "    </tr>\n",
              "    <tr>\n",
              "      <th>1</th>\n",
              "      <td>I am doing my job in Customer Success and the ...</td>\n",
              "      <td>1</td>\n",
              "    </tr>\n",
              "  </tbody>\n",
              "</table>\n",
              "</div>\n",
              "    <div class=\"colab-df-buttons\">\n",
              "\n",
              "  <div class=\"colab-df-container\">\n",
              "    <button class=\"colab-df-convert\" onclick=\"convertToInteractive('df-ae9865af-41f6-4d81-910e-6b75bca49592')\"\n",
              "            title=\"Convert this dataframe to an interactive table.\"\n",
              "            style=\"display:none;\">\n",
              "\n",
              "  <svg xmlns=\"http://www.w3.org/2000/svg\" height=\"24px\" viewBox=\"0 -960 960 960\">\n",
              "    <path d=\"M120-120v-720h720v720H120Zm60-500h600v-160H180v160Zm220 220h160v-160H400v160Zm0 220h160v-160H400v160ZM180-400h160v-160H180v160Zm440 0h160v-160H620v160ZM180-180h160v-160H180v160Zm440 0h160v-160H620v160Z\"/>\n",
              "  </svg>\n",
              "    </button>\n",
              "\n",
              "  <style>\n",
              "    .colab-df-container {\n",
              "      display:flex;\n",
              "      gap: 12px;\n",
              "    }\n",
              "\n",
              "    .colab-df-convert {\n",
              "      background-color: #E8F0FE;\n",
              "      border: none;\n",
              "      border-radius: 50%;\n",
              "      cursor: pointer;\n",
              "      display: none;\n",
              "      fill: #1967D2;\n",
              "      height: 32px;\n",
              "      padding: 0 0 0 0;\n",
              "      width: 32px;\n",
              "    }\n",
              "\n",
              "    .colab-df-convert:hover {\n",
              "      background-color: #E2EBFA;\n",
              "      box-shadow: 0px 1px 2px rgba(60, 64, 67, 0.3), 0px 1px 3px 1px rgba(60, 64, 67, 0.15);\n",
              "      fill: #174EA6;\n",
              "    }\n",
              "\n",
              "    .colab-df-buttons div {\n",
              "      margin-bottom: 4px;\n",
              "    }\n",
              "\n",
              "    [theme=dark] .colab-df-convert {\n",
              "      background-color: #3B4455;\n",
              "      fill: #D2E3FC;\n",
              "    }\n",
              "\n",
              "    [theme=dark] .colab-df-convert:hover {\n",
              "      background-color: #434B5C;\n",
              "      box-shadow: 0px 1px 3px 1px rgba(0, 0, 0, 0.15);\n",
              "      filter: drop-shadow(0px 1px 2px rgba(0, 0, 0, 0.3));\n",
              "      fill: #FFFFFF;\n",
              "    }\n",
              "  </style>\n",
              "\n",
              "    <script>\n",
              "      const buttonEl =\n",
              "        document.querySelector('#df-ae9865af-41f6-4d81-910e-6b75bca49592 button.colab-df-convert');\n",
              "      buttonEl.style.display =\n",
              "        google.colab.kernel.accessAllowed ? 'block' : 'none';\n",
              "\n",
              "      async function convertToInteractive(key) {\n",
              "        const element = document.querySelector('#df-ae9865af-41f6-4d81-910e-6b75bca49592');\n",
              "        const dataTable =\n",
              "          await google.colab.kernel.invokeFunction('convertToInteractive',\n",
              "                                                    [key], {});\n",
              "        if (!dataTable) return;\n",
              "\n",
              "        const docLinkHtml = 'Like what you see? Visit the ' +\n",
              "          '<a target=\"_blank\" href=https://colab.research.google.com/notebooks/data_table.ipynb>data table notebook</a>'\n",
              "          + ' to learn more about interactive tables.';\n",
              "        element.innerHTML = '';\n",
              "        dataTable['output_type'] = 'display_data';\n",
              "        await google.colab.output.renderOutput(dataTable, element);\n",
              "        const docLink = document.createElement('div');\n",
              "        docLink.innerHTML = docLinkHtml;\n",
              "        element.appendChild(docLink);\n",
              "      }\n",
              "    </script>\n",
              "  </div>\n",
              "\n",
              "\n",
              "<div id=\"df-9f925eab-c243-4afe-a70e-60f63acac293\">\n",
              "  <button class=\"colab-df-quickchart\" onclick=\"quickchart('df-9f925eab-c243-4afe-a70e-60f63acac293')\"\n",
              "            title=\"Suggest charts\"\n",
              "            style=\"display:none;\">\n",
              "\n",
              "<svg xmlns=\"http://www.w3.org/2000/svg\" height=\"24px\"viewBox=\"0 0 24 24\"\n",
              "     width=\"24px\">\n",
              "    <g>\n",
              "        <path d=\"M19 3H5c-1.1 0-2 .9-2 2v14c0 1.1.9 2 2 2h14c1.1 0 2-.9 2-2V5c0-1.1-.9-2-2-2zM9 17H7v-7h2v7zm4 0h-2V7h2v10zm4 0h-2v-4h2v4z\"/>\n",
              "    </g>\n",
              "</svg>\n",
              "  </button>\n",
              "\n",
              "<style>\n",
              "  .colab-df-quickchart {\n",
              "      --bg-color: #E8F0FE;\n",
              "      --fill-color: #1967D2;\n",
              "      --hover-bg-color: #E2EBFA;\n",
              "      --hover-fill-color: #174EA6;\n",
              "      --disabled-fill-color: #AAA;\n",
              "      --disabled-bg-color: #DDD;\n",
              "  }\n",
              "\n",
              "  [theme=dark] .colab-df-quickchart {\n",
              "      --bg-color: #3B4455;\n",
              "      --fill-color: #D2E3FC;\n",
              "      --hover-bg-color: #434B5C;\n",
              "      --hover-fill-color: #FFFFFF;\n",
              "      --disabled-bg-color: #3B4455;\n",
              "      --disabled-fill-color: #666;\n",
              "  }\n",
              "\n",
              "  .colab-df-quickchart {\n",
              "    background-color: var(--bg-color);\n",
              "    border: none;\n",
              "    border-radius: 50%;\n",
              "    cursor: pointer;\n",
              "    display: none;\n",
              "    fill: var(--fill-color);\n",
              "    height: 32px;\n",
              "    padding: 0;\n",
              "    width: 32px;\n",
              "  }\n",
              "\n",
              "  .colab-df-quickchart:hover {\n",
              "    background-color: var(--hover-bg-color);\n",
              "    box-shadow: 0 1px 2px rgba(60, 64, 67, 0.3), 0 1px 3px 1px rgba(60, 64, 67, 0.15);\n",
              "    fill: var(--button-hover-fill-color);\n",
              "  }\n",
              "\n",
              "  .colab-df-quickchart-complete:disabled,\n",
              "  .colab-df-quickchart-complete:disabled:hover {\n",
              "    background-color: var(--disabled-bg-color);\n",
              "    fill: var(--disabled-fill-color);\n",
              "    box-shadow: none;\n",
              "  }\n",
              "\n",
              "  .colab-df-spinner {\n",
              "    border: 2px solid var(--fill-color);\n",
              "    border-color: transparent;\n",
              "    border-bottom-color: var(--fill-color);\n",
              "    animation:\n",
              "      spin 1s steps(1) infinite;\n",
              "  }\n",
              "\n",
              "  @keyframes spin {\n",
              "    0% {\n",
              "      border-color: transparent;\n",
              "      border-bottom-color: var(--fill-color);\n",
              "      border-left-color: var(--fill-color);\n",
              "    }\n",
              "    20% {\n",
              "      border-color: transparent;\n",
              "      border-left-color: var(--fill-color);\n",
              "      border-top-color: var(--fill-color);\n",
              "    }\n",
              "    30% {\n",
              "      border-color: transparent;\n",
              "      border-left-color: var(--fill-color);\n",
              "      border-top-color: var(--fill-color);\n",
              "      border-right-color: var(--fill-color);\n",
              "    }\n",
              "    40% {\n",
              "      border-color: transparent;\n",
              "      border-right-color: var(--fill-color);\n",
              "      border-top-color: var(--fill-color);\n",
              "    }\n",
              "    60% {\n",
              "      border-color: transparent;\n",
              "      border-right-color: var(--fill-color);\n",
              "    }\n",
              "    80% {\n",
              "      border-color: transparent;\n",
              "      border-right-color: var(--fill-color);\n",
              "      border-bottom-color: var(--fill-color);\n",
              "    }\n",
              "    90% {\n",
              "      border-color: transparent;\n",
              "      border-bottom-color: var(--fill-color);\n",
              "    }\n",
              "  }\n",
              "</style>\n",
              "\n",
              "  <script>\n",
              "    async function quickchart(key) {\n",
              "      const quickchartButtonEl =\n",
              "        document.querySelector('#' + key + ' button');\n",
              "      quickchartButtonEl.disabled = true;  // To prevent multiple clicks.\n",
              "      quickchartButtonEl.classList.add('colab-df-spinner');\n",
              "      try {\n",
              "        const charts = await google.colab.kernel.invokeFunction(\n",
              "            'suggestCharts', [key], {});\n",
              "      } catch (error) {\n",
              "        console.error('Error during call to suggestCharts:', error);\n",
              "      }\n",
              "      quickchartButtonEl.classList.remove('colab-df-spinner');\n",
              "      quickchartButtonEl.classList.add('colab-df-quickchart-complete');\n",
              "    }\n",
              "    (() => {\n",
              "      let quickchartButtonEl =\n",
              "        document.querySelector('#df-9f925eab-c243-4afe-a70e-60f63acac293 button');\n",
              "      quickchartButtonEl.style.display =\n",
              "        google.colab.kernel.accessAllowed ? 'block' : 'none';\n",
              "    })();\n",
              "  </script>\n",
              "</div>\n",
              "\n",
              "    </div>\n",
              "  </div>\n"
            ],
            "application/vnd.google.colaboratory.intrinsic+json": {
              "type": "dataframe",
              "variable_name": "df",
              "summary": "{\n  \"name\": \"df\",\n  \"rows\": 3034,\n  \"fields\": [\n    {\n      \"column\": \"prompt\",\n      \"properties\": {\n        \"dtype\": \"string\",\n        \"num_unique_values\": 2991,\n        \"samples\": [\n          \"Therefore, any potential cardiovascular issues require close monitoring and attention to prevent further complications.   Thank you for your continued care and support, Dr. [Last Name].\",\n          \"You can reach me at my email address (matthew68@example.net) or by phone (516-552-0904 x731).\",\n          \"Actively participate in communication team meetings to share ideas and insights to continually improve communication processes, tools and results.Actively build relationships with team members and key stakeholders.Other duties as assigned.\"\n        ],\n        \"semantic_type\": \"\",\n        \"description\": \"\"\n      }\n    },\n    {\n      \"column\": \"related_to_job\",\n      \"properties\": {\n        \"dtype\": \"number\",\n        \"std\": 0,\n        \"min\": 0,\n        \"max\": 1,\n        \"num_unique_values\": 2,\n        \"samples\": [\n          0,\n          1\n        ],\n        \"semantic_type\": \"\",\n        \"description\": \"\"\n      }\n    }\n  ]\n}"
            }
          },
          "metadata": {},
          "execution_count": 5
        }
      ]
    },
    {
      "cell_type": "code",
      "source": [
        "# data split\n",
        "X_train, X_test, y_train, y_test = train_test_split(df['prompt'], df['related_to_job'], test_size=0.2, random_state=42)"
      ],
      "metadata": {
        "id": "Z3oOgZPRGaiq"
      },
      "execution_count": null,
      "outputs": []
    },
    {
      "cell_type": "code",
      "source": [
        "#allow us to get the hidden layer\n",
        "bert_tokenizer = BertTokenizer.from_pretrained('bert-base-cased')\n",
        "bert_model = TFBertModel.from_pretrained('bert-base-cased')"
      ],
      "metadata": {
        "id": "I04VEB2SGf2Y",
        "outputId": "bffed4f7-6edf-4366-b0fb-d791236055b2",
        "colab": {
          "base_uri": "https://localhost:8080/",
          "height": 306,
          "referenced_widgets": [
            "b8976725a9be414f80965b1b421a2467",
            "1e62ea09371e475385ddad01c4b83ae7",
            "f43516733d614cf685354b9504664f19",
            "7758181a759048788c7c8b7bc38f3b63",
            "7478ee868abc46c5a8de1175a91b94fd",
            "e5dd7cb24e494d98a12bda88e6e9fedb",
            "b17308dd927145a9b2634a33736561aa",
            "32569cff761a46d0a8ddae3a56bfe6cc",
            "c0a098f9bcae4ce1a7a2ecf56f864a1e",
            "90ca8300fdbe4092aefd6bc954851496",
            "10a20e56078043fbb8afddf7c5a61d7e",
            "9143c2379cff42d7b2d84cd659976d58",
            "6669fee3e72f4661979554d14d0fc752",
            "e754f687f6fd4ed4ba3fa9c8684aa144",
            "1af5200407b64bf4a471173d1f153fce",
            "edb7b951663c44bc98e0a4983946a20a",
            "0c6738f0d40743bb9709cfcc46f63c02",
            "7d2d45abfbfb4323b248d9da43489a84",
            "7ca61785e92846b6ae6334c07dd5d587",
            "34057f1b1ec141e8a53e31de21246375",
            "6f9067b3927e4e4fb14af8bb920b25a3",
            "39f5f09a79b44792afeea30f3611460d",
            "e4625ac83c214928bdb4a7180e77a4a8",
            "562e2009a97e46baa2a89979513d6b66",
            "e70c4bc7b804400c9a6fb68a981b1bcd",
            "ac6f308696744de68a968c2dd9d55fe4",
            "dc57fe6ce26f45e390c2df42f03cf28e",
            "c2ccb1055dce4e18b97ab77398bd9afd",
            "f3ae2f7cc856415bae820fd07bc91737",
            "44232a901fe34cb69f5cdc8fad78288c",
            "60219d0019754328b5f77903799cd5f1",
            "d5f34d5dd0bf4e1c866ea1d54fecb22d",
            "94c7a845bc9e41dab690664b82b3a5c9",
            "9d8906b5cc4846a1a3b2c5c715925800",
            "9a75d362e02c46bb9b0270de73a7a03a",
            "0892a274cfea4f81947c19d1f2daf84f",
            "f9e324359fa144a7972f5f021e85664f",
            "aef715a58f3d49c3aeb601391c9210df",
            "f4d87614761e48c8b518ee53eca6020f",
            "d4385aa3595148ddb60b199ca3ea47f6",
            "b5a530ee91eb44e5842ba5ffe15d6672",
            "e04001010aff4ef98e9eac30887f1f4b",
            "f3567cdd55f44718a7b17ab0ebb87df7",
            "33c22a8e9eec47f5bc1b0216a12e5bc5",
            "60d0ae3bdd984e9ca97d0826ec6de654",
            "86a920c1f5cf4e288a74b954919613cc",
            "e65eabb131f34b919bcd1a29941feb02",
            "756b8070d1d54d50946727d222361b9b",
            "1a8c3c783ea048e28d29acac7bbd540d",
            "b071091f9f30497da09eab5f35eb307a",
            "a7d29fbc58344c43b02047fa9d9e7953",
            "6a35ebd0a2cf4952a011c722685d6d5a",
            "8a1f6e57fdd543f18ba67d4bb961a81e",
            "861914346c044a5996e6eeeeeddb3a47",
            "d8f99f0a40ac48c88a49632751eff33c"
          ]
        }
      },
      "execution_count": null,
      "outputs": [
        {
          "output_type": "stream",
          "name": "stderr",
          "text": [
            "/usr/local/lib/python3.10/dist-packages/huggingface_hub/utils/_token.py:88: UserWarning: \n",
            "The secret `HF_TOKEN` does not exist in your Colab secrets.\n",
            "To authenticate with the Hugging Face Hub, create a token in your settings tab (https://huggingface.co/settings/tokens), set it as secret in your Google Colab and restart your session.\n",
            "You will be able to reuse this secret in all of your notebooks.\n",
            "Please note that authentication is recommended but still optional to access public models or datasets.\n",
            "  warnings.warn(\n"
          ]
        },
        {
          "output_type": "display_data",
          "data": {
            "text/plain": [
              "tokenizer_config.json:   0%|          | 0.00/49.0 [00:00<?, ?B/s]"
            ],
            "application/vnd.jupyter.widget-view+json": {
              "version_major": 2,
              "version_minor": 0,
              "model_id": "b8976725a9be414f80965b1b421a2467"
            }
          },
          "metadata": {}
        },
        {
          "output_type": "display_data",
          "data": {
            "text/plain": [
              "vocab.txt:   0%|          | 0.00/213k [00:00<?, ?B/s]"
            ],
            "application/vnd.jupyter.widget-view+json": {
              "version_major": 2,
              "version_minor": 0,
              "model_id": "9143c2379cff42d7b2d84cd659976d58"
            }
          },
          "metadata": {}
        },
        {
          "output_type": "display_data",
          "data": {
            "text/plain": [
              "tokenizer.json:   0%|          | 0.00/436k [00:00<?, ?B/s]"
            ],
            "application/vnd.jupyter.widget-view+json": {
              "version_major": 2,
              "version_minor": 0,
              "model_id": "e4625ac83c214928bdb4a7180e77a4a8"
            }
          },
          "metadata": {}
        },
        {
          "output_type": "display_data",
          "data": {
            "text/plain": [
              "config.json:   0%|          | 0.00/570 [00:00<?, ?B/s]"
            ],
            "application/vnd.jupyter.widget-view+json": {
              "version_major": 2,
              "version_minor": 0,
              "model_id": "9d8906b5cc4846a1a3b2c5c715925800"
            }
          },
          "metadata": {}
        },
        {
          "output_type": "display_data",
          "data": {
            "text/plain": [
              "model.safetensors:   0%|          | 0.00/436M [00:00<?, ?B/s]"
            ],
            "application/vnd.jupyter.widget-view+json": {
              "version_major": 2,
              "version_minor": 0,
              "model_id": "60d0ae3bdd984e9ca97d0826ec6de654"
            }
          },
          "metadata": {}
        }
      ]
    },
    {
      "cell_type": "code",
      "source": [
        "X_train_list = X_train.apply(lambda x: x.replace('\\xa0', ' ')).tolist()\n",
        "X_val_list = X_test.apply(lambda x: x.replace('\\xa0', ' ')).tolist()\n",
        "\n",
        "# train\n",
        "bert_train_tokenized = bert_tokenizer(X_train_list,\n",
        "    max_length=128,\n",
        "    truncation=True,\n",
        "    padding='max_length',\n",
        "    return_tensors='tf')\n",
        "bert_train_inputs = [bert_train_tokenized.input_ids,\n",
        "    bert_train_tokenized.token_type_ids,\n",
        "    bert_train_tokenized.attention_mask]\n",
        "bert_train_labels = np.array(y_train)\n",
        "\n",
        "# valdation\n",
        "bert_val_tokenized = bert_tokenizer(X_val_list,\n",
        "    max_length=128,\n",
        "    truncation=True,\n",
        "    padding='max_length',\n",
        "    return_tensors='tf')\n",
        "bert_val_inputs = [bert_val_tokenized.input_ids,\n",
        "    bert_val_tokenized.token_type_ids, # if single sentence (0, 0, 0, 0) (this case), but if we have two segment seperated by [SEP] like question and answering, it would be (0,0,0, 1, 1, 1..)\n",
        "    bert_val_tokenized.attention_mask] # for identify padding [1, 1, 1, 1, 1, 1, 1, 0, 0, 0], padding start with token number 7\n",
        "bert_val_labels = np.array(y_test)"
      ],
      "metadata": {
        "id": "mNf2HahtGjuB"
      },
      "execution_count": null,
      "outputs": []
    },
    {
      "cell_type": "code",
      "source": [
        "print(X_train_list[0])\n",
        "print(bert_train_labels[0])"
      ],
      "metadata": {
        "colab": {
          "base_uri": "https://localhost:8080/"
        },
        "id": "CpMIPFkpGkk7",
        "outputId": "e2355825-a3d3-4477-ef31-bf9e2bba8a75"
      },
      "execution_count": null,
      "outputs": [
        {
          "output_type": "stream",
          "name": "stdout",
          "text": [
            "Shifts:  Morning, Day, Evening, Weekend , Part-Time and Full-Time Pick orders that come through the app, pack the order and hand off to our drivers.\n",
            "1\n"
          ]
        }
      ]
    },
    {
      "cell_type": "code",
      "source": [
        "text = X_train_list[0]\n",
        "encoded_input = bert_tokenizer.encode_plus(text, return_tensors='pt')\n",
        "encoded_input['input_ids'].size(1)"
      ],
      "metadata": {
        "colab": {
          "base_uri": "https://localhost:8080/"
        },
        "id": "uAfRlnotTRU-",
        "outputId": "d79947f9-cd0f-4aa1-a810-3611d9405897"
      },
      "execution_count": null,
      "outputs": [
        {
          "output_type": "execute_result",
          "data": {
            "text/plain": [
              "38"
            ]
          },
          "metadata": {},
          "execution_count": 10
        }
      ]
    },
    {
      "cell_type": "markdown",
      "source": [
        "![model_data_table.png](data:image/png;base64,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)"
      ],
      "metadata": {
        "id": "Qhvtr3X_G4t0"
      }
    },
    {
      "cell_type": "markdown",
      "source": [
        "![model_training.png](data:image/png;base64,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)"
      ],
      "metadata": {
        "id": "_iCGWBborRPs"
      }
    },
    {
      "cell_type": "code",
      "source": [
        "#12 layers of transformer\n",
        "#A drop out layer + dense layer with 100 hidden layer size on top + final layer with sigmoid as activation function\n",
        "def create_bert_cls_model(bert_base_model,\n",
        "                          max_sequence_length=128,\n",
        "                          hidden_size = 100,\n",
        "                          dropout=0.3,\n",
        "                          learning_rate=0.0001): #0.0005\n",
        "    \"\"\"\n",
        "    Build a simple classification model with BERT. Use the CLS Token output for classification purposes.\n",
        "    \"\"\"\n",
        "\n",
        "    bert_base_model.trainable = True #True\n",
        "\n",
        "    #input layers of BERT, shape (batch, max_sequence_length), model will be fit with bert_train_tokenized\n",
        "    input_ids = Input(shape=(max_sequence_length,), dtype=tf.int32, name='input_ids')\n",
        "    token_type_ids = Input(shape=(max_sequence_length,), dtype=tf.int32, name='token_type_ids')\n",
        "    attention_mask = Input(shape=(max_sequence_length,), dtype=tf.int32, name='attention_mask')\n",
        "\n",
        "    inputs = [input_ids, token_type_ids, attention_mask]\n",
        "\n",
        "    #BERT output, last_hidden_state shape (batch, max_sequence_length, embedding dimensions)\n",
        "    bert_output = bert_base_model(input_ids=input_ids,\n",
        "                                  token_type_ids=token_type_ids,\n",
        "                                  attention_mask=attention_mask)\n",
        "\n",
        "    #Extract the CLS token's output, the embedding representation of first token of every sentence, shape(batch, embedding dimensions)\n",
        "    # cls_token_output = bert_output[0][:, 0, :] # CLS token output from the last layer\n",
        "    pooled_output = GlobalMaxPooling1D()(bert_output[0])\n",
        "\n",
        "    #Add a dropout layer\n",
        "    x = Dropout(dropout)(pooled_output)\n",
        "\n",
        "    #Add a fully connected layer for classification\n",
        "    x = Dense(hidden_size, activation='relu')(x)\n",
        "\n",
        "    #Final output layer for classification, assuming it's binary task\n",
        "    output = Dense(1, activation='sigmoid')(x)\n",
        "\n",
        "    #Model complie\n",
        "    classification_model = Model(inputs=inputs, outputs=output)\n",
        "    classification_model.compile(optimizer=tf.keras.optimizers.Adam(learning_rate=learning_rate),\n",
        "                                 loss='binary_crossentropy',\n",
        "                                 metrics=['accuracy'])\n",
        "    return classification_model"
      ],
      "metadata": {
        "id": "8ORhE1CTOI8A"
      },
      "execution_count": null,
      "outputs": []
    },
    {
      "cell_type": "code",
      "source": [
        "bert_cls_model_classification = create_bert_cls_model(bert_model)"
      ],
      "metadata": {
        "id": "b4aDvzCrOOIZ"
      },
      "execution_count": null,
      "outputs": []
    },
    {
      "cell_type": "code",
      "source": [
        "history_cls_bert= bert_cls_model_classification.fit(bert_train_inputs,\n",
        "                                                    bert_train_labels,\n",
        "                                                    epochs=1, #2\n",
        "                                                    batch_size=16, #8\n",
        "                                                    validation_data=(bert_val_inputs, bert_val_labels))\n",
        "\n",
        "#v3\n",
        "# 56/567 accuracy 0.95,data examples 4000,batch 8,lr 0.00005,version1 data\n",
        "# 12/100 accuracy 0.92,data examples 2000,batch 16,lr 0.0001,version2 data\n",
        "# 39/100 accuracy 0.92,data examples 2000,batch 16,lr 0.0001,version3 data\n",
        "#v4\n",
        "# 14/118 loss: 0.2994 - accuracy: 0.8661 batch 16,lr 0.0001 version4 data\n",
        "# 35/118 loss: 0.1629 - accuracy: 0.9321\n",
        "# 60/118 loss: 0.1210 - accuracy: 0.9531"
      ],
      "metadata": {
        "colab": {
          "base_uri": "https://localhost:8080/"
        },
        "id": "r2AR-EkkPWq9",
        "outputId": "fe10c2fa-cb88-4197-9df7-ac6e2116cc47"
      },
      "execution_count": null,
      "outputs": [
        {
          "output_type": "stream",
          "name": "stderr",
          "text": [
            "WARNING:tensorflow:Gradients do not exist for variables ['tf_bert_model/bert/pooler/dense/kernel:0', 'tf_bert_model/bert/pooler/dense/bias:0'] when minimizing the loss. If you're using `model.compile()`, did you forget to provide a `loss`argument?\n",
            "WARNING:tensorflow:Gradients do not exist for variables ['tf_bert_model/bert/pooler/dense/kernel:0', 'tf_bert_model/bert/pooler/dense/bias:0'] when minimizing the loss. If you're using `model.compile()`, did you forget to provide a `loss`argument?\n"
          ]
        },
        {
          "output_type": "stream",
          "name": "stdout",
          "text": [
            "152/152 [==============================] - 2324s 15s/step - loss: 0.0956 - accuracy: 0.9674 - val_loss: 0.0237 - val_accuracy: 0.9934\n"
          ]
        }
      ]
    },
    {
      "cell_type": "code",
      "source": [
        "bert_cls_model_classification.summary()"
      ],
      "metadata": {
        "colab": {
          "base_uri": "https://localhost:8080/"
        },
        "id": "rZloN6moAyuM",
        "outputId": "e061e9b9-9f20-4865-d138-c61008d63116"
      },
      "execution_count": null,
      "outputs": [
        {
          "output_type": "stream",
          "name": "stdout",
          "text": [
            "Model: \"model\"\n",
            "__________________________________________________________________________________________________\n",
            " Layer (type)                   Output Shape         Param #     Connected to                     \n",
            "==================================================================================================\n",
            " input_ids (InputLayer)         [(None, 128)]        0           []                               \n",
            "                                                                                                  \n",
            " attention_mask (InputLayer)    [(None, 128)]        0           []                               \n",
            "                                                                                                  \n",
            " token_type_ids (InputLayer)    [(None, 128)]        0           []                               \n",
            "                                                                                                  \n",
            " tf_bert_model (TFBertModel)    TFBaseModelOutputWi  108310272   ['input_ids[0][0]',              \n",
            "                                thPoolingAndCrossAt               'attention_mask[0][0]',         \n",
            "                                tentions(last_hidde               'token_type_ids[0][0]']         \n",
            "                                n_state=(None, 128,                                               \n",
            "                                 768),                                                            \n",
            "                                 pooler_output=(Non                                               \n",
            "                                e, 768),                                                          \n",
            "                                 past_key_values=No                                               \n",
            "                                ne, hidden_states=N                                               \n",
            "                                one, attentions=Non                                               \n",
            "                                e, cross_attentions                                               \n",
            "                                =None)                                                            \n",
            "                                                                                                  \n",
            " global_max_pooling1d (GlobalMa  (None, 768)         0           ['tf_bert_model[0][0]']          \n",
            " xPooling1D)                                                                                      \n",
            "                                                                                                  \n",
            " dropout_37 (Dropout)           (None, 768)          0           ['global_max_pooling1d[0][0]']   \n",
            "                                                                                                  \n",
            " dense (Dense)                  (None, 100)          76900       ['dropout_37[0][0]']             \n",
            "                                                                                                  \n",
            " dense_1 (Dense)                (None, 1)            101         ['dense[0][0]']                  \n",
            "                                                                                                  \n",
            "==================================================================================================\n",
            "Total params: 108,387,273\n",
            "Trainable params: 108,387,273\n",
            "Non-trainable params: 0\n",
            "__________________________________________________________________________________________________\n"
          ]
        }
      ]
    },
    {
      "cell_type": "code",
      "source": [
        "bert_cls_model_classification.save('./two_tower_bert_v5_max.h5')"
      ],
      "metadata": {
        "id": "DDG22mLDJIJs"
      },
      "execution_count": null,
      "outputs": []
    },
    {
      "cell_type": "code",
      "source": [
        "from google.colab import drive\n",
        "\n",
        "# mount Google Drive\n",
        "drive.mount('/content/drive')"
      ],
      "metadata": {
        "colab": {
          "base_uri": "https://localhost:8080/"
        },
        "id": "3v5Br-na7FV1",
        "outputId": "434cc64f-466a-4bff-91bb-9e653fdae679"
      },
      "execution_count": null,
      "outputs": [
        {
          "output_type": "stream",
          "name": "stdout",
          "text": [
            "Mounted at /content/drive\n"
          ]
        }
      ]
    },
    {
      "cell_type": "code",
      "source": [
        "bert_cls_model_classification.save('./drive/MyDrive/two_tower_bert_v5_max.h5')"
      ],
      "metadata": {
        "id": "5hCYq6tI5m8G"
      },
      "execution_count": null,
      "outputs": []
    },
    {
      "cell_type": "code",
      "source": [
        "from tensorflow.keras.models import load_model\n",
        "\n",
        "custom_objects = {'TFBertModel': TFBertModel}\n",
        "model = load_model('./two_tower_bert.h5', custom_objects=custom_objects)"
      ],
      "metadata": {
        "colab": {
          "base_uri": "https://localhost:8080/"
        },
        "id": "DRTc6uqVJNe8",
        "outputId": "02ba9258-be39-4f01-c635-a22d2a8df2d6"
      },
      "execution_count": null,
      "outputs": [
        {
          "output_type": "stream",
          "name": "stderr",
          "text": [
            "WARNING:tensorflow:Error in loading the saved optimizer state. As a result, your model is starting with a freshly initialized optimizer.\n"
          ]
        }
      ]
    },
    {
      "cell_type": "code",
      "source": [
        "model.summary()"
      ],
      "metadata": {
        "id": "AktYIi1Jf3Ob",
        "outputId": "659450e7-1882-4630-d1ba-13586f56e127",
        "colab": {
          "base_uri": "https://localhost:8080/"
        }
      },
      "execution_count": null,
      "outputs": [
        {
          "output_type": "stream",
          "name": "stdout",
          "text": [
            "Model: \"model\"\n",
            "__________________________________________________________________________________________________\n",
            " Layer (type)                   Output Shape         Param #     Connected to                     \n",
            "==================================================================================================\n",
            " input_ids (InputLayer)         [(None, 128)]        0           []                               \n",
            "                                                                                                  \n",
            " attention_mask (InputLayer)    [(None, 128)]        0           []                               \n",
            "                                                                                                  \n",
            " token_type_ids (InputLayer)    [(None, 128)]        0           []                               \n",
            "                                                                                                  \n",
            " tf_bert_model_1 (TFBertModel)  TFBaseModelOutputWi  108310272   ['input_ids[0][0]',              \n",
            "                                thPoolingAndCrossAt               'attention_mask[0][0]',         \n",
            "                                tentions(last_hidde               'token_type_ids[0][0]']         \n",
            "                                n_state=(None, 128,                                               \n",
            "                                 768),                                                            \n",
            "                                 pooler_output=(Non                                               \n",
            "                                e, 768),                                                          \n",
            "                                 past_key_values=No                                               \n",
            "                                ne, hidden_states=N                                               \n",
            "                                one, attentions=Non                                               \n",
            "                                e, cross_attentions                                               \n",
            "                                =None)                                                            \n",
            "                                                                                                  \n",
            " tf.__operators__.getitem (Slic  (None, 768)         0           ['tf_bert_model_1[0][0]']        \n",
            " ingOpLambda)                                                                                     \n",
            "                                                                                                  \n",
            " dropout_37 (Dropout)           (None, 768)          0           ['tf.__operators__.getitem[0][0]'\n",
            "                                                                 ]                                \n",
            "                                                                                                  \n",
            " dense (Dense)                  (None, 100)          76900       ['dropout_37[0][0]']             \n",
            "                                                                                                  \n",
            " dense_1 (Dense)                (None, 1)            101         ['dense[0][0]']                  \n",
            "                                                                                                  \n",
            "==================================================================================================\n",
            "Total params: 108,387,273\n",
            "Trainable params: 108,387,273\n",
            "Non-trainable params: 0\n",
            "__________________________________________________________________________________________________\n"
          ]
        }
      ]
    },
    {
      "cell_type": "markdown",
      "source": [
        "BERT as the embedding for the vector database"
      ],
      "metadata": {
        "id": "FOhbOzX7CWdZ"
      }
    },
    {
      "cell_type": "code",
      "source": [
        "def generate_embedding(text, model):\n",
        "  bert_embedding_model = Model(inputs=[model.input],\n",
        "                               outputs=model.get_layer('tf.__operators__.getitem').output)\n",
        "  bert_train_tokenized = bert_tokenizer(text,\n",
        "                                        max_length=128,\n",
        "                                        truncation=True,\n",
        "                                        padding='max_length',\n",
        "                                        return_tensors='tf')\n",
        "  bert_train_inputs = [bert_train_tokenized.input_ids,\n",
        "                       bert_train_tokenized.token_type_ids,\n",
        "                       bert_train_tokenized.attention_mask]\n",
        "  return bert_embedding_model.predict(bert_train_inputs)\n",
        "\n",
        "text = X_train_list[2]\n",
        "embeddings = generate_embedding(text, model)\n",
        "embeddings.shape"
      ],
      "metadata": {
        "colab": {
          "base_uri": "https://localhost:8080/"
        },
        "id": "n9ESnLUrVX5E",
        "outputId": "540af11a-3a0b-4513-a195-3e9ed43ac548"
      },
      "execution_count": null,
      "outputs": [
        {
          "output_type": "execute_result",
          "data": {
            "text/plain": [
              "(1, 768)"
            ]
          },
          "metadata": {},
          "execution_count": 19
        }
      ]
    },
    {
      "cell_type": "code",
      "source": [
        "!pip install faiss-gpu transformers torch --quiet"
      ],
      "metadata": {
        "id": "Z8lkF_AG1Qad",
        "outputId": "74dbfbca-96a0-4ef5-a61f-48109ae4528a",
        "colab": {
          "base_uri": "https://localhost:8080/"
        }
      },
      "execution_count": null,
      "outputs": [
        {
          "output_type": "stream",
          "name": "stdout",
          "text": [
            "\u001b[2K     \u001b[90m━━━━━━━━━━━━━━━━━━━━━━━━━━━━━━━━━━━━━━━━\u001b[0m \u001b[32m85.5/85.5 MB\u001b[0m \u001b[31m12.8 MB/s\u001b[0m eta \u001b[36m0:00:00\u001b[0m\n",
            "\u001b[?25h"
          ]
        }
      ]
    },
    {
      "cell_type": "code",
      "source": [
        "import faiss\n",
        "import numpy as np\n",
        "\n",
        "dimension = 768  # Dimension of BERT-base embeddings\n",
        "nlist = 50  # Number of clusters for quantization, adjust based on your dataset size\n",
        "\n",
        "# Using an IndexFlatL2 for simplicity, which is a basic but exact method for similarity search\n",
        "index = faiss.IndexFlatL2(dimension)\n",
        "\n",
        "# For larger datasets, consider using an IVF index to speed up search at the cost of slight accuracy loss\n",
        "# quantizer = faiss.IndexFlatL2(dimension)\n",
        "# index = faiss.IndexIVFFlat(quantizer, dimension, nlist, faiss.METRIC_L2)\n",
        "# index.train(embeddings) # You need to train the index with some embeddings if using IVF"
      ],
      "metadata": {
        "id": "OxNZxBC-2D5h"
      },
      "execution_count": null,
      "outputs": []
    },
    {
      "cell_type": "code",
      "source": [
        "def embedding_vectordatabase(embedding):\n",
        "  embeddings = np.array(embedding, dtype=\"float32\")\n",
        "  embeddings = embeddings.reshape(-1, embeddings.shape[-1])\n",
        "  return embeddings\n",
        "\n",
        "\n",
        "# Add embeddings to the index\n",
        "index.add(embedding_vectordatabase(embeddings))"
      ],
      "metadata": {
        "id": "QSZwS68o2GRZ"
      },
      "execution_count": null,
      "outputs": []
    },
    {
      "cell_type": "code",
      "source": [
        "\"\"\"\n",
        "Business Analyst - CRM and the salary range is negotiable Our passion for improving quality of life through geography is at the heart of everything we do.\n",
        "Esri’s geographic information system (GIS) technolog\n",
        "\n",
        "\"\"\""
      ],
      "metadata": {
        "id": "0jHMeMPkEjyf"
      },
      "execution_count": null,
      "outputs": []
    },
    {
      "cell_type": "code",
      "source": [
        "query_text = \"My name is Ryan and I have a headache\"\n",
        "query_embedding = generate_embedding(query_text, model)\n",
        "query_embedding = embedding_vectordatabase(query_embedding)\n",
        "\n",
        "# Search the index\n",
        "k = 5\n",
        "distances, indices = index.search(query_embedding, k)\n",
        "\n",
        "print(\"Indices of closest embeddings:\", indices)\n",
        "print(\"Distances:\", distances)"
      ],
      "metadata": {
        "colab": {
          "base_uri": "https://localhost:8080/"
        },
        "id": "qWmGzszY2JN2",
        "outputId": "c3e455dc-d6f3-4641-98ec-cc31a795329f"
      },
      "execution_count": null,
      "outputs": [
        {
          "output_type": "stream",
          "name": "stdout",
          "text": [
            "Indices of closest embeddings: [[ 0 -1 -1 -1 -1]]\n",
            "Distances: [[2.6915427e+02 3.4028235e+38 3.4028235e+38 3.4028235e+38 3.4028235e+38]]\n"
          ]
        }
      ]
    },
    {
      "cell_type": "code",
      "source": [
        "num_vectors = index.ntotal\n",
        "print(f\"The index contains {num_vectors} vectors.\")"
      ],
      "metadata": {
        "colab": {
          "base_uri": "https://localhost:8080/"
        },
        "id": "Wzm2yVuoGS_C",
        "outputId": "8b2eec17-4388-4345-f815-edb0f748661e"
      },
      "execution_count": null,
      "outputs": [
        {
          "output_type": "stream",
          "name": "stdout",
          "text": [
            "The index contains 1 vectors.\n"
          ]
        }
      ]
    },
    {
      "cell_type": "code",
      "source": [
        "# I am a project manager in APPLE, and I don't want these data to be revealed. Save it in the customized vector database\n",
        "level_four_job = [\"Competitive salary for iPhone project management roles\",\n",
        "                  \"Relocation benefits for Apple Cupertino campus positions\",\n",
        "                  \"Exclusive health and wellness benefits for iPhone development team members\",\n",
        "                  \"Stock options and bonuses for iPhone project milestones\",\n",
        "                  \"Collaborative workspaces at Apple's Silicon Valley locations\",\n",
        "                  \"Professional development programs for iOS project leads\",\n",
        "                  \"Confidentiality agreements for upcoming iPhone projects\",\n",
        "                  \"Global travel opportunities for iPhone supplier audits\",\n",
        "                  \"Flexible working hours for Apple's product development teams\",\n",
        "                  \"Team-building retreats for iPhone project managers\"]\n",
        "\n",
        "for input in level_four_job:\n",
        "  embeddings = generate_embedding(input, model)\n",
        "  index.add(embedding_vectordatabase(embeddings))\n",
        "\n",
        "num_vectors = index.ntotal\n",
        "print(f\"The index contains {num_vectors} vectors.\")"
      ],
      "metadata": {
        "id": "ziNwISY3iFoB",
        "outputId": "d8809b8d-07ee-4542-94ea-9c70e66c7886",
        "colab": {
          "base_uri": "https://localhost:8080/"
        }
      },
      "execution_count": null,
      "outputs": [
        {
          "output_type": "stream",
          "name": "stderr",
          "text": [
            "WARNING:tensorflow:5 out of the last 5 calls to <function Model.make_predict_function.<locals>.predict_function at 0x7eaf59c92290> triggered tf.function retracing. Tracing is expensive and the excessive number of tracings could be due to (1) creating @tf.function repeatedly in a loop, (2) passing tensors with different shapes, (3) passing Python objects instead of tensors. For (1), please define your @tf.function outside of the loop. For (2), @tf.function has experimental_relax_shapes=True option that relaxes argument shapes that can avoid unnecessary retracing. For (3), please refer to https://www.tensorflow.org/guide/function#controlling_retracing and https://www.tensorflow.org/api_docs/python/tf/function for  more details.\n",
            "WARNING:tensorflow:6 out of the last 6 calls to <function Model.make_predict_function.<locals>.predict_function at 0x7eaf53259750> triggered tf.function retracing. Tracing is expensive and the excessive number of tracings could be due to (1) creating @tf.function repeatedly in a loop, (2) passing tensors with different shapes, (3) passing Python objects instead of tensors. For (1), please define your @tf.function outside of the loop. For (2), @tf.function has experimental_relax_shapes=True option that relaxes argument shapes that can avoid unnecessary retracing. For (3), please refer to https://www.tensorflow.org/guide/function#controlling_retracing and https://www.tensorflow.org/api_docs/python/tf/function for  more details.\n"
          ]
        },
        {
          "output_type": "stream",
          "name": "stdout",
          "text": [
            "The index contains 11 vectors.\n"
          ]
        }
      ]
    },
    {
      "cell_type": "code",
      "source": [
        "# test data for Not Related to Job, Explanation: Completely unrelated to the project management role at Apple, so it should not be flagged by the blacklist.\n",
        "\"Join our culinary team to explore innovative vegan cuisine and contribute to sustainable dining.\"\n",
        "# Indices of closest embeddings: [[ 5 10  3  7  8]]\n",
        "# Distances: [[66.25166 73.83598 82.73463 83.92089 88.1475 ]]\n",
        "\n",
        "# test data for Related to Job but Not in the Blacklist, Explanation: While this is related to the technology and design fields, and potentially relevant to someone working on iPhone projects, it doesn't directly trigger any specific blacklist terms related to project management, salary, location, or benefits.\n",
        "\"Opportunity for a UX designer to influence the next generation of mobile applications.\"\n",
        "# Indices of closest embeddings: [[9 7 3 8 5]]\n",
        "# Distances: [[36.14649  42.72695  44.93425  47.048252 50.511066]]\n",
        "\n",
        "# Related to Job and in the Blacklist. Explanation: This prompt hits multiple blacklist criteria: the role's focus (iPhone project manager), location (Cupertino campus), salary and stock options, and specific benefits like global travel and team-building retreats. It's closely aligned with the job description specifics you're aiming to filter out.\n",
        "\"Apple is seeking an iPhone project manager based at our Cupertino campus, offering a competitive salary, stock options, and exclusive benefits, including team-building retreats and global travel opportunities for project oversight.\"\n",
        "# Indices of closest embeddings: [[9 3 8 6 1]]\n",
        "# Distances: [[28.694798 40.38536  42.107452 44.624413 44.68187 ]]\n",
        "\n",
        "# 1: Inquiry about Screen Time Effects\n",
        "\"I've been experiencing frequent headaches and eye strain lately, which I suspect might be related to my extensive screen time. Given my role overseeing the integration of health features into the next iPhone model, I'm constantly on my device, reviewing designs and communicating with our team in Cupertino. Could this be causing my symptoms? Any advice on mitigating these effects would be greatly appreciated.\"\n",
        "# Indices of closest embeddings: [[ 0  2  7  8 10]]\n",
        "# Distances: [[ 67.89299 531.2768  633.97546 646.0087  664.3931 ]]\n",
        "\n",
        "# Question about Wrist Pain\n",
        "\"Lately, I've been experiencing persistent wrist pain, possibly from using my phone and laptop so much. Working closely with our Silicon Valley team to enhance user experience for the upcoming iPhone release, I often test new features and spend hours on my devices. Could this be contributing to my condition? What are your recommendations for alleviating this pain?\"\n",
        "# Indices of closest embeddings: [[ 2  7  8  5 10]]\n",
        "# Distances: [[165.68468 213.81473 224.25032 228.40056 243.57683]]\n",
        "\n",
        "# diagnosis_symptom\n",
        "\"I've been having a lot of pain in my neck and back. I've also been having trouble with my balance and coordination. I've been coughing a lot and my limbs feel weak.\"\n",
        "# Indices of closest embeddings: [[ 0  2  7  8 10]]\n",
        "# Distances: [[145.86563 765.25275 848.5806  867.8585  877.37506]]\n",
        "\n",
        "#data from generated_symptoms_name_age_full_promptv3\n",
        "query_text = \"\"\"As Jane Cook, I am writing to let my doctor know about my current health status. Over the past few days, I have been experiencing fever, fatigue, and difficulty breathing, which has made it hard for me to carry out daily activities. My blood pressure is low, but my cholesterol level is normal.\n",
        "  I am feeling really tired and weak, and even simple tasks like getting dressed or taking a shower leave me exhausted. My breathing is labored, and I often feel winded after just a few minutes of talking or walking. The fever has been persistent, and it's making me feel quite uncomfortable.\n",
        "  Given my symptoms, I am worried that there might be something serious going on with my health. I would greatly appreciate it if you could look into this matter as soon as possible and let me know what is causing these symptoms. My email address is williamsjennifer@example.net, and my phone number is 001-974-704-4096x550. Thank you for your attention to this matter.\n",
        "  I am looking forward to hearing from you soon. Please let me know if there's any additional information or tests that I need to undergo to determine the cause of my symptoms.\"\"\"\n",
        "# Indices of closest embeddings: [[ 0  2  7  8 10]]\n",
        "# Distances: [[ 50.78079 691.00836 782.1455  798.60315 813.26685]]\n",
        "\n",
        "#data from generated_symptoms_name_age_full_promptv3 after redacting\n",
        "query_text = \"\"\"\n",
        "Original information:As [REDACTED], I am writing to let my doctor know about my current health status. Over the past few days, I have been experiencing fever, fatigue, and difficulty breathing, which has made it hard for me to carry out daily activities. My blood pressure is low, but my cholesterol level is normal.\n",
        "  I am feeling really tired and weak, and even simple tasks like getting dressed or taking a shower leave me exhausted. My breathing is labored, and I often feel winded after just a few minutes of talking or walking. The fever has been persistent, and it's making me feel quite uncomfortable.\n",
        "  Given my symptoms, I am worried that there might be something serious going on with my health. I would greatly appreciate it if you could look into this matter as soon as possible and let me know what is causing these symptoms. My email address is user@example.net, and my phone number is 000-000-0000. Thank you for your attention to this matter.\n",
        "  I am looking forward to hearing from you soon. Please let me know if there's any additional information or tests that I need to undergo to determine the cause of my symptoms.\n",
        "Additional information:\n",
        " - This person is more likely to identify as a female (100%) than a male (0%) based on open-source government data from the US, UK, Canada, and Australia.\n",
        " - This person is most likely to identify as White (79%) as compared to Black (19%), Other (1%), Hispanic (1%), Asian (0%) based on open source voter registration data from six southern US states.\n",
        "\"\"\"\n",
        "# Indices of closest embeddings: [[ 0  2  7  8 10]]\n",
        "# Distances: [[ 61.194756 639.60956  731.6357   747.2034   762.112   ]]\n",
        "\n",
        "# inject data on the blacklist to promptv3 (subtly)\n",
        "query_text = \"\"\"As [REDACTED], I am writing to let my doctor know about my current health status. Over the past few days,\n",
        "I have been experiencing fever, fatigue, and difficulty breathing, which has made it hard for me to carry out daily activities,\n",
        "including my role in overseeing the integration of new health features into the upcoming iPhone model. My blood pressure is low, but my cholesterol level is normal.\n",
        "I am feeling really tired and weak, and even simple tasks like getting dressed, taking a shower, or reviewing design prototypes for our next project milestone leave me exhausted.\n",
        "My breathing is labored, and I often feel winded after just a few minutes of talking or walking through our Cupertino campus to meet with the engineering team. The fever has been persistent,\n",
        "making it hard to focus during our strategic planning sessions for the iPhone's health applications, and it's making me feel quite uncomfortable.\n",
        "- This person is more likely to identify as a female (100%) than a male (0%) based on open-source government data from the US, UK, Canada, and Australia.\n",
        "- This person is most likely to identify as White (79%) as compared to Black (19%), Other (1%), Hispanic (1%), Asian (0%) based on open source voter registration data from six southern US states.\n",
        "\"\"\"\n",
        "# Indices of closest embeddings: [[ 0  2  7  8 10]]\n",
        "# Distances: [[ 61.28682 633.5507  727.4907  740.2074  755.8944 ]]\n",
        "\n",
        "# inject data on the blacklist to promptv3 with chucking\n",
        "query_text = \"\"\"I often feel winded after just a few minutes of talking or walking through our Cupertino campus to meet with the engineering team.\n",
        "\"\"\"\n",
        "# Indices of closest embeddings: [[ 0  2  7  8 10]]\n",
        "# Distances: [[108.96535 481.43365 574.1655  582.4253  598.46356]]\n",
        "\n",
        "# More Obvious Modified Prompt with Blacklist Information\n",
        "query_text = \"\"\"As the project manager for the iPhone development team at Apple's Cupertino campus, I am writing to inform you of my current health status. Over the past few days, I have been experiencing severe fever, fatigue, and difficulty breathing. These symptoms have significantly hindered my ability to oversee the critical stages of our iPhone project, including the integration of the latest health monitoring features and coordinating with our Silicon Valley and Cupertino teams for the upcoming release.\n",
        "My blood pressure has been consistently low, contrasting with my normally normal cholesterol levels. The fatigue is so overwhelming that performing my job, such as attending back-to-back meetings, managing our project deadlines, and reviewing the latest software updates for health applications on our new iPhone model, leaves me completely exhausted. The effort of just speaking during our project update calls or walking to different departments for meetings causes significant breathlessness.\n",
        "\"\"\"\n",
        "# Indices of closest embeddings: [[ 2  8  5  7 10]]\n",
        "# Distances: [[128.25296 157.81598 164.87578 175.58789 179.93022]]\n",
        "\n",
        "\n",
        "def query_similar_search(query_text, model, k):\n",
        "  query_embedding = generate_embedding(query_text, model)\n",
        "  query_embedding = embedding_vectordatabase(query_embedding)\n",
        "  distances, indices = index.search(query_embedding, k)\n",
        "  return indices, distances\n",
        "\n",
        "# query_text = \"I've been having a lot of pain in my neck and back. I've also been having trouble with my balance and coordination. I've been coughing a lot and my limbs feel weak.\"\n",
        "indices, distances = query_similar_search(query_text, model, k=5)\n",
        "print(\"Indices of closest embeddings:\", indices)\n",
        "print(\"Distances:\", distances)\n"
      ],
      "metadata": {
        "id": "xdboOMqhiFvB",
        "outputId": "e6789ca8-1d88-4802-a76e-f2f6ef765a5f",
        "colab": {
          "base_uri": "https://localhost:8080/"
        }
      },
      "execution_count": null,
      "outputs": [
        {
          "output_type": "stream",
          "name": "stdout",
          "text": [
            "Indices of closest embeddings: [[ 2  8  5  7 10]]\n",
            "Distances: [[128.25296 157.81598 164.87578 175.58789 179.93022]]\n"
          ]
        }
      ]
    }
  ]
}