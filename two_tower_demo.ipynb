{
  "nbformat": 4,
  "nbformat_minor": 0,
  "metadata": {
    "colab": {
      "provenance": [],
      "gpuType": "T4",
      "include_colab_link": true
    },
    "kernelspec": {
      "name": "python3",
      "display_name": "Python 3"
    },
    "language_info": {
      "name": "python"
    },
    "accelerator": "GPU",
    "widgets": {
      "application/vnd.jupyter.widget-state+json": {
        "8c1d21d29a4d42fbbb9636b0fd951749": {
          "model_module": "@jupyter-widgets/controls",
          "model_name": "HBoxModel",
          "model_module_version": "1.5.0",
          "state": {
            "_dom_classes": [],
            "_model_module": "@jupyter-widgets/controls",
            "_model_module_version": "1.5.0",
            "_model_name": "HBoxModel",
            "_view_count": null,
            "_view_module": "@jupyter-widgets/controls",
            "_view_module_version": "1.5.0",
            "_view_name": "HBoxView",
            "box_style": "",
            "children": [
              "IPY_MODEL_dcf6653a8c5f4ed38f44d3dc9eac2bc7",
              "IPY_MODEL_39c1ea694bae475f8366d7220d263441",
              "IPY_MODEL_e581250bd291480b8c0fa8a2a5c6c755"
            ],
            "layout": "IPY_MODEL_7970ef1da3174d228a43ed85e11f55d5"
          }
        },
        "dcf6653a8c5f4ed38f44d3dc9eac2bc7": {
          "model_module": "@jupyter-widgets/controls",
          "model_name": "HTMLModel",
          "model_module_version": "1.5.0",
          "state": {
            "_dom_classes": [],
            "_model_module": "@jupyter-widgets/controls",
            "_model_module_version": "1.5.0",
            "_model_name": "HTMLModel",
            "_view_count": null,
            "_view_module": "@jupyter-widgets/controls",
            "_view_module_version": "1.5.0",
            "_view_name": "HTMLView",
            "description": "",
            "description_tooltip": null,
            "layout": "IPY_MODEL_a49cb87f1d2744ca9e44a30a646d33ad",
            "placeholder": "​",
            "style": "IPY_MODEL_6248a91789354b6aa69a85ac0c3efd2e",
            "value": "two_tower_bert_v5.h5: 100%"
          }
        },
        "39c1ea694bae475f8366d7220d263441": {
          "model_module": "@jupyter-widgets/controls",
          "model_name": "FloatProgressModel",
          "model_module_version": "1.5.0",
          "state": {
            "_dom_classes": [],
            "_model_module": "@jupyter-widgets/controls",
            "_model_module_version": "1.5.0",
            "_model_name": "FloatProgressModel",
            "_view_count": null,
            "_view_module": "@jupyter-widgets/controls",
            "_view_module_version": "1.5.0",
            "_view_name": "ProgressView",
            "bar_style": "success",
            "description": "",
            "description_tooltip": null,
            "layout": "IPY_MODEL_14a187bc8d4e430db3f4b1f1ef29f8a5",
            "max": 1296787128,
            "min": 0,
            "orientation": "horizontal",
            "style": "IPY_MODEL_451b3edbe90847e2a0a3e077eb090b99",
            "value": 1296787128
          }
        },
        "e581250bd291480b8c0fa8a2a5c6c755": {
          "model_module": "@jupyter-widgets/controls",
          "model_name": "HTMLModel",
          "model_module_version": "1.5.0",
          "state": {
            "_dom_classes": [],
            "_model_module": "@jupyter-widgets/controls",
            "_model_module_version": "1.5.0",
            "_model_name": "HTMLModel",
            "_view_count": null,
            "_view_module": "@jupyter-widgets/controls",
            "_view_module_version": "1.5.0",
            "_view_name": "HTMLView",
            "description": "",
            "description_tooltip": null,
            "layout": "IPY_MODEL_6c1dbae52b0d4412a2096b4844883a55",
            "placeholder": "​",
            "style": "IPY_MODEL_78863776b8c1464d8de3a96b22e3bf32",
            "value": " 1.30G/1.30G [00:07&lt;00:00, 147MB/s]"
          }
        },
        "7970ef1da3174d228a43ed85e11f55d5": {
          "model_module": "@jupyter-widgets/base",
          "model_name": "LayoutModel",
          "model_module_version": "1.2.0",
          "state": {
            "_model_module": "@jupyter-widgets/base",
            "_model_module_version": "1.2.0",
            "_model_name": "LayoutModel",
            "_view_count": null,
            "_view_module": "@jupyter-widgets/base",
            "_view_module_version": "1.2.0",
            "_view_name": "LayoutView",
            "align_content": null,
            "align_items": null,
            "align_self": null,
            "border": null,
            "bottom": null,
            "display": null,
            "flex": null,
            "flex_flow": null,
            "grid_area": null,
            "grid_auto_columns": null,
            "grid_auto_flow": null,
            "grid_auto_rows": null,
            "grid_column": null,
            "grid_gap": null,
            "grid_row": null,
            "grid_template_areas": null,
            "grid_template_columns": null,
            "grid_template_rows": null,
            "height": null,
            "justify_content": null,
            "justify_items": null,
            "left": null,
            "margin": null,
            "max_height": null,
            "max_width": null,
            "min_height": null,
            "min_width": null,
            "object_fit": null,
            "object_position": null,
            "order": null,
            "overflow": null,
            "overflow_x": null,
            "overflow_y": null,
            "padding": null,
            "right": null,
            "top": null,
            "visibility": null,
            "width": null
          }
        },
        "a49cb87f1d2744ca9e44a30a646d33ad": {
          "model_module": "@jupyter-widgets/base",
          "model_name": "LayoutModel",
          "model_module_version": "1.2.0",
          "state": {
            "_model_module": "@jupyter-widgets/base",
            "_model_module_version": "1.2.0",
            "_model_name": "LayoutModel",
            "_view_count": null,
            "_view_module": "@jupyter-widgets/base",
            "_view_module_version": "1.2.0",
            "_view_name": "LayoutView",
            "align_content": null,
            "align_items": null,
            "align_self": null,
            "border": null,
            "bottom": null,
            "display": null,
            "flex": null,
            "flex_flow": null,
            "grid_area": null,
            "grid_auto_columns": null,
            "grid_auto_flow": null,
            "grid_auto_rows": null,
            "grid_column": null,
            "grid_gap": null,
            "grid_row": null,
            "grid_template_areas": null,
            "grid_template_columns": null,
            "grid_template_rows": null,
            "height": null,
            "justify_content": null,
            "justify_items": null,
            "left": null,
            "margin": null,
            "max_height": null,
            "max_width": null,
            "min_height": null,
            "min_width": null,
            "object_fit": null,
            "object_position": null,
            "order": null,
            "overflow": null,
            "overflow_x": null,
            "overflow_y": null,
            "padding": null,
            "right": null,
            "top": null,
            "visibility": null,
            "width": null
          }
        },
        "6248a91789354b6aa69a85ac0c3efd2e": {
          "model_module": "@jupyter-widgets/controls",
          "model_name": "DescriptionStyleModel",
          "model_module_version": "1.5.0",
          "state": {
            "_model_module": "@jupyter-widgets/controls",
            "_model_module_version": "1.5.0",
            "_model_name": "DescriptionStyleModel",
            "_view_count": null,
            "_view_module": "@jupyter-widgets/base",
            "_view_module_version": "1.2.0",
            "_view_name": "StyleView",
            "description_width": ""
          }
        },
        "14a187bc8d4e430db3f4b1f1ef29f8a5": {
          "model_module": "@jupyter-widgets/base",
          "model_name": "LayoutModel",
          "model_module_version": "1.2.0",
          "state": {
            "_model_module": "@jupyter-widgets/base",
            "_model_module_version": "1.2.0",
            "_model_name": "LayoutModel",
            "_view_count": null,
            "_view_module": "@jupyter-widgets/base",
            "_view_module_version": "1.2.0",
            "_view_name": "LayoutView",
            "align_content": null,
            "align_items": null,
            "align_self": null,
            "border": null,
            "bottom": null,
            "display": null,
            "flex": null,
            "flex_flow": null,
            "grid_area": null,
            "grid_auto_columns": null,
            "grid_auto_flow": null,
            "grid_auto_rows": null,
            "grid_column": null,
            "grid_gap": null,
            "grid_row": null,
            "grid_template_areas": null,
            "grid_template_columns": null,
            "grid_template_rows": null,
            "height": null,
            "justify_content": null,
            "justify_items": null,
            "left": null,
            "margin": null,
            "max_height": null,
            "max_width": null,
            "min_height": null,
            "min_width": null,
            "object_fit": null,
            "object_position": null,
            "order": null,
            "overflow": null,
            "overflow_x": null,
            "overflow_y": null,
            "padding": null,
            "right": null,
            "top": null,
            "visibility": null,
            "width": null
          }
        },
        "451b3edbe90847e2a0a3e077eb090b99": {
          "model_module": "@jupyter-widgets/controls",
          "model_name": "ProgressStyleModel",
          "model_module_version": "1.5.0",
          "state": {
            "_model_module": "@jupyter-widgets/controls",
            "_model_module_version": "1.5.0",
            "_model_name": "ProgressStyleModel",
            "_view_count": null,
            "_view_module": "@jupyter-widgets/base",
            "_view_module_version": "1.2.0",
            "_view_name": "StyleView",
            "bar_color": null,
            "description_width": ""
          }
        },
        "6c1dbae52b0d4412a2096b4844883a55": {
          "model_module": "@jupyter-widgets/base",
          "model_name": "LayoutModel",
          "model_module_version": "1.2.0",
          "state": {
            "_model_module": "@jupyter-widgets/base",
            "_model_module_version": "1.2.0",
            "_model_name": "LayoutModel",
            "_view_count": null,
            "_view_module": "@jupyter-widgets/base",
            "_view_module_version": "1.2.0",
            "_view_name": "LayoutView",
            "align_content": null,
            "align_items": null,
            "align_self": null,
            "border": null,
            "bottom": null,
            "display": null,
            "flex": null,
            "flex_flow": null,
            "grid_area": null,
            "grid_auto_columns": null,
            "grid_auto_flow": null,
            "grid_auto_rows": null,
            "grid_column": null,
            "grid_gap": null,
            "grid_row": null,
            "grid_template_areas": null,
            "grid_template_columns": null,
            "grid_template_rows": null,
            "height": null,
            "justify_content": null,
            "justify_items": null,
            "left": null,
            "margin": null,
            "max_height": null,
            "max_width": null,
            "min_height": null,
            "min_width": null,
            "object_fit": null,
            "object_position": null,
            "order": null,
            "overflow": null,
            "overflow_x": null,
            "overflow_y": null,
            "padding": null,
            "right": null,
            "top": null,
            "visibility": null,
            "width": null
          }
        },
        "78863776b8c1464d8de3a96b22e3bf32": {
          "model_module": "@jupyter-widgets/controls",
          "model_name": "DescriptionStyleModel",
          "model_module_version": "1.5.0",
          "state": {
            "_model_module": "@jupyter-widgets/controls",
            "_model_module_version": "1.5.0",
            "_model_name": "DescriptionStyleModel",
            "_view_count": null,
            "_view_module": "@jupyter-widgets/base",
            "_view_module_version": "1.2.0",
            "_view_name": "StyleView",
            "description_width": ""
          }
        },
        "85f48f8b34f346f08280cc6115584e31": {
          "model_module": "@jupyter-widgets/controls",
          "model_name": "HBoxModel",
          "model_module_version": "1.5.0",
          "state": {
            "_dom_classes": [],
            "_model_module": "@jupyter-widgets/controls",
            "_model_module_version": "1.5.0",
            "_model_name": "HBoxModel",
            "_view_count": null,
            "_view_module": "@jupyter-widgets/controls",
            "_view_module_version": "1.5.0",
            "_view_name": "HBoxView",
            "box_style": "",
            "children": [
              "IPY_MODEL_2ed66f6691e74aaa8b2f6df182f373c1",
              "IPY_MODEL_1cb9aaba8c1a487e8a9a3be357518f5a",
              "IPY_MODEL_cf04ae2dc386409bbfefcf3f0684cbbd"
            ],
            "layout": "IPY_MODEL_0f999d275955425b83ef80e74d58e634"
          }
        },
        "2ed66f6691e74aaa8b2f6df182f373c1": {
          "model_module": "@jupyter-widgets/controls",
          "model_name": "HTMLModel",
          "model_module_version": "1.5.0",
          "state": {
            "_dom_classes": [],
            "_model_module": "@jupyter-widgets/controls",
            "_model_module_version": "1.5.0",
            "_model_name": "HTMLModel",
            "_view_count": null,
            "_view_module": "@jupyter-widgets/controls",
            "_view_module_version": "1.5.0",
            "_view_name": "HTMLView",
            "description": "",
            "description_tooltip": null,
            "layout": "IPY_MODEL_c5d7da14450d44d5b12402555213832a",
            "placeholder": "​",
            "style": "IPY_MODEL_21c9e170e3d94ec5951a0f8be8ebe997",
            "value": "tokenizer_config.json: 100%"
          }
        },
        "1cb9aaba8c1a487e8a9a3be357518f5a": {
          "model_module": "@jupyter-widgets/controls",
          "model_name": "FloatProgressModel",
          "model_module_version": "1.5.0",
          "state": {
            "_dom_classes": [],
            "_model_module": "@jupyter-widgets/controls",
            "_model_module_version": "1.5.0",
            "_model_name": "FloatProgressModel",
            "_view_count": null,
            "_view_module": "@jupyter-widgets/controls",
            "_view_module_version": "1.5.0",
            "_view_name": "ProgressView",
            "bar_style": "success",
            "description": "",
            "description_tooltip": null,
            "layout": "IPY_MODEL_bc45e66dc9de46c49646dd79b195fe8b",
            "max": 49,
            "min": 0,
            "orientation": "horizontal",
            "style": "IPY_MODEL_05c3c12dd04e4e0589fc48dd6b8ee9e5",
            "value": 49
          }
        },
        "cf04ae2dc386409bbfefcf3f0684cbbd": {
          "model_module": "@jupyter-widgets/controls",
          "model_name": "HTMLModel",
          "model_module_version": "1.5.0",
          "state": {
            "_dom_classes": [],
            "_model_module": "@jupyter-widgets/controls",
            "_model_module_version": "1.5.0",
            "_model_name": "HTMLModel",
            "_view_count": null,
            "_view_module": "@jupyter-widgets/controls",
            "_view_module_version": "1.5.0",
            "_view_name": "HTMLView",
            "description": "",
            "description_tooltip": null,
            "layout": "IPY_MODEL_d47d7f4152514fd880927c5088ee8925",
            "placeholder": "​",
            "style": "IPY_MODEL_ee2ea9626561483da28d6f9320bd8495",
            "value": " 49.0/49.0 [00:00&lt;00:00, 3.93kB/s]"
          }
        },
        "0f999d275955425b83ef80e74d58e634": {
          "model_module": "@jupyter-widgets/base",
          "model_name": "LayoutModel",
          "model_module_version": "1.2.0",
          "state": {
            "_model_module": "@jupyter-widgets/base",
            "_model_module_version": "1.2.0",
            "_model_name": "LayoutModel",
            "_view_count": null,
            "_view_module": "@jupyter-widgets/base",
            "_view_module_version": "1.2.0",
            "_view_name": "LayoutView",
            "align_content": null,
            "align_items": null,
            "align_self": null,
            "border": null,
            "bottom": null,
            "display": null,
            "flex": null,
            "flex_flow": null,
            "grid_area": null,
            "grid_auto_columns": null,
            "grid_auto_flow": null,
            "grid_auto_rows": null,
            "grid_column": null,
            "grid_gap": null,
            "grid_row": null,
            "grid_template_areas": null,
            "grid_template_columns": null,
            "grid_template_rows": null,
            "height": null,
            "justify_content": null,
            "justify_items": null,
            "left": null,
            "margin": null,
            "max_height": null,
            "max_width": null,
            "min_height": null,
            "min_width": null,
            "object_fit": null,
            "object_position": null,
            "order": null,
            "overflow": null,
            "overflow_x": null,
            "overflow_y": null,
            "padding": null,
            "right": null,
            "top": null,
            "visibility": null,
            "width": null
          }
        },
        "c5d7da14450d44d5b12402555213832a": {
          "model_module": "@jupyter-widgets/base",
          "model_name": "LayoutModel",
          "model_module_version": "1.2.0",
          "state": {
            "_model_module": "@jupyter-widgets/base",
            "_model_module_version": "1.2.0",
            "_model_name": "LayoutModel",
            "_view_count": null,
            "_view_module": "@jupyter-widgets/base",
            "_view_module_version": "1.2.0",
            "_view_name": "LayoutView",
            "align_content": null,
            "align_items": null,
            "align_self": null,
            "border": null,
            "bottom": null,
            "display": null,
            "flex": null,
            "flex_flow": null,
            "grid_area": null,
            "grid_auto_columns": null,
            "grid_auto_flow": null,
            "grid_auto_rows": null,
            "grid_column": null,
            "grid_gap": null,
            "grid_row": null,
            "grid_template_areas": null,
            "grid_template_columns": null,
            "grid_template_rows": null,
            "height": null,
            "justify_content": null,
            "justify_items": null,
            "left": null,
            "margin": null,
            "max_height": null,
            "max_width": null,
            "min_height": null,
            "min_width": null,
            "object_fit": null,
            "object_position": null,
            "order": null,
            "overflow": null,
            "overflow_x": null,
            "overflow_y": null,
            "padding": null,
            "right": null,
            "top": null,
            "visibility": null,
            "width": null
          }
        },
        "21c9e170e3d94ec5951a0f8be8ebe997": {
          "model_module": "@jupyter-widgets/controls",
          "model_name": "DescriptionStyleModel",
          "model_module_version": "1.5.0",
          "state": {
            "_model_module": "@jupyter-widgets/controls",
            "_model_module_version": "1.5.0",
            "_model_name": "DescriptionStyleModel",
            "_view_count": null,
            "_view_module": "@jupyter-widgets/base",
            "_view_module_version": "1.2.0",
            "_view_name": "StyleView",
            "description_width": ""
          }
        },
        "bc45e66dc9de46c49646dd79b195fe8b": {
          "model_module": "@jupyter-widgets/base",
          "model_name": "LayoutModel",
          "model_module_version": "1.2.0",
          "state": {
            "_model_module": "@jupyter-widgets/base",
            "_model_module_version": "1.2.0",
            "_model_name": "LayoutModel",
            "_view_count": null,
            "_view_module": "@jupyter-widgets/base",
            "_view_module_version": "1.2.0",
            "_view_name": "LayoutView",
            "align_content": null,
            "align_items": null,
            "align_self": null,
            "border": null,
            "bottom": null,
            "display": null,
            "flex": null,
            "flex_flow": null,
            "grid_area": null,
            "grid_auto_columns": null,
            "grid_auto_flow": null,
            "grid_auto_rows": null,
            "grid_column": null,
            "grid_gap": null,
            "grid_row": null,
            "grid_template_areas": null,
            "grid_template_columns": null,
            "grid_template_rows": null,
            "height": null,
            "justify_content": null,
            "justify_items": null,
            "left": null,
            "margin": null,
            "max_height": null,
            "max_width": null,
            "min_height": null,
            "min_width": null,
            "object_fit": null,
            "object_position": null,
            "order": null,
            "overflow": null,
            "overflow_x": null,
            "overflow_y": null,
            "padding": null,
            "right": null,
            "top": null,
            "visibility": null,
            "width": null
          }
        },
        "05c3c12dd04e4e0589fc48dd6b8ee9e5": {
          "model_module": "@jupyter-widgets/controls",
          "model_name": "ProgressStyleModel",
          "model_module_version": "1.5.0",
          "state": {
            "_model_module": "@jupyter-widgets/controls",
            "_model_module_version": "1.5.0",
            "_model_name": "ProgressStyleModel",
            "_view_count": null,
            "_view_module": "@jupyter-widgets/base",
            "_view_module_version": "1.2.0",
            "_view_name": "StyleView",
            "bar_color": null,
            "description_width": ""
          }
        },
        "d47d7f4152514fd880927c5088ee8925": {
          "model_module": "@jupyter-widgets/base",
          "model_name": "LayoutModel",
          "model_module_version": "1.2.0",
          "state": {
            "_model_module": "@jupyter-widgets/base",
            "_model_module_version": "1.2.0",
            "_model_name": "LayoutModel",
            "_view_count": null,
            "_view_module": "@jupyter-widgets/base",
            "_view_module_version": "1.2.0",
            "_view_name": "LayoutView",
            "align_content": null,
            "align_items": null,
            "align_self": null,
            "border": null,
            "bottom": null,
            "display": null,
            "flex": null,
            "flex_flow": null,
            "grid_area": null,
            "grid_auto_columns": null,
            "grid_auto_flow": null,
            "grid_auto_rows": null,
            "grid_column": null,
            "grid_gap": null,
            "grid_row": null,
            "grid_template_areas": null,
            "grid_template_columns": null,
            "grid_template_rows": null,
            "height": null,
            "justify_content": null,
            "justify_items": null,
            "left": null,
            "margin": null,
            "max_height": null,
            "max_width": null,
            "min_height": null,
            "min_width": null,
            "object_fit": null,
            "object_position": null,
            "order": null,
            "overflow": null,
            "overflow_x": null,
            "overflow_y": null,
            "padding": null,
            "right": null,
            "top": null,
            "visibility": null,
            "width": null
          }
        },
        "ee2ea9626561483da28d6f9320bd8495": {
          "model_module": "@jupyter-widgets/controls",
          "model_name": "DescriptionStyleModel",
          "model_module_version": "1.5.0",
          "state": {
            "_model_module": "@jupyter-widgets/controls",
            "_model_module_version": "1.5.0",
            "_model_name": "DescriptionStyleModel",
            "_view_count": null,
            "_view_module": "@jupyter-widgets/base",
            "_view_module_version": "1.2.0",
            "_view_name": "StyleView",
            "description_width": ""
          }
        },
        "953fe065721c4f11b99861d965e4d1d7": {
          "model_module": "@jupyter-widgets/controls",
          "model_name": "HBoxModel",
          "model_module_version": "1.5.0",
          "state": {
            "_dom_classes": [],
            "_model_module": "@jupyter-widgets/controls",
            "_model_module_version": "1.5.0",
            "_model_name": "HBoxModel",
            "_view_count": null,
            "_view_module": "@jupyter-widgets/controls",
            "_view_module_version": "1.5.0",
            "_view_name": "HBoxView",
            "box_style": "",
            "children": [
              "IPY_MODEL_7f5e33d7a5c54a6b99dc1b5fbba7d70e",
              "IPY_MODEL_55c01d69049c4ce4a849b824f2636885",
              "IPY_MODEL_03fbffd2a8cc468db300dbe17cc031f5"
            ],
            "layout": "IPY_MODEL_9fdaa96f23f343c7bf194a70ce343a74"
          }
        },
        "7f5e33d7a5c54a6b99dc1b5fbba7d70e": {
          "model_module": "@jupyter-widgets/controls",
          "model_name": "HTMLModel",
          "model_module_version": "1.5.0",
          "state": {
            "_dom_classes": [],
            "_model_module": "@jupyter-widgets/controls",
            "_model_module_version": "1.5.0",
            "_model_name": "HTMLModel",
            "_view_count": null,
            "_view_module": "@jupyter-widgets/controls",
            "_view_module_version": "1.5.0",
            "_view_name": "HTMLView",
            "description": "",
            "description_tooltip": null,
            "layout": "IPY_MODEL_8c7106bb9b6d4d7da4eb81b956bd8572",
            "placeholder": "​",
            "style": "IPY_MODEL_a54f906933ac4c3cbc1405f5bfce03bd",
            "value": "vocab.txt: 100%"
          }
        },
        "55c01d69049c4ce4a849b824f2636885": {
          "model_module": "@jupyter-widgets/controls",
          "model_name": "FloatProgressModel",
          "model_module_version": "1.5.0",
          "state": {
            "_dom_classes": [],
            "_model_module": "@jupyter-widgets/controls",
            "_model_module_version": "1.5.0",
            "_model_name": "FloatProgressModel",
            "_view_count": null,
            "_view_module": "@jupyter-widgets/controls",
            "_view_module_version": "1.5.0",
            "_view_name": "ProgressView",
            "bar_style": "success",
            "description": "",
            "description_tooltip": null,
            "layout": "IPY_MODEL_12ef6cb8eb0d458186fe6c60ee6aa85d",
            "max": 213450,
            "min": 0,
            "orientation": "horizontal",
            "style": "IPY_MODEL_1460c9ded4fe4c3381ea721f1a55f35b",
            "value": 213450
          }
        },
        "03fbffd2a8cc468db300dbe17cc031f5": {
          "model_module": "@jupyter-widgets/controls",
          "model_name": "HTMLModel",
          "model_module_version": "1.5.0",
          "state": {
            "_dom_classes": [],
            "_model_module": "@jupyter-widgets/controls",
            "_model_module_version": "1.5.0",
            "_model_name": "HTMLModel",
            "_view_count": null,
            "_view_module": "@jupyter-widgets/controls",
            "_view_module_version": "1.5.0",
            "_view_name": "HTMLView",
            "description": "",
            "description_tooltip": null,
            "layout": "IPY_MODEL_6a54ea0650bf4b82be9f45ccc2038321",
            "placeholder": "​",
            "style": "IPY_MODEL_bbd42f3709dd451d8364fe132cce250f",
            "value": " 213k/213k [00:00&lt;00:00, 1.71MB/s]"
          }
        },
        "9fdaa96f23f343c7bf194a70ce343a74": {
          "model_module": "@jupyter-widgets/base",
          "model_name": "LayoutModel",
          "model_module_version": "1.2.0",
          "state": {
            "_model_module": "@jupyter-widgets/base",
            "_model_module_version": "1.2.0",
            "_model_name": "LayoutModel",
            "_view_count": null,
            "_view_module": "@jupyter-widgets/base",
            "_view_module_version": "1.2.0",
            "_view_name": "LayoutView",
            "align_content": null,
            "align_items": null,
            "align_self": null,
            "border": null,
            "bottom": null,
            "display": null,
            "flex": null,
            "flex_flow": null,
            "grid_area": null,
            "grid_auto_columns": null,
            "grid_auto_flow": null,
            "grid_auto_rows": null,
            "grid_column": null,
            "grid_gap": null,
            "grid_row": null,
            "grid_template_areas": null,
            "grid_template_columns": null,
            "grid_template_rows": null,
            "height": null,
            "justify_content": null,
            "justify_items": null,
            "left": null,
            "margin": null,
            "max_height": null,
            "max_width": null,
            "min_height": null,
            "min_width": null,
            "object_fit": null,
            "object_position": null,
            "order": null,
            "overflow": null,
            "overflow_x": null,
            "overflow_y": null,
            "padding": null,
            "right": null,
            "top": null,
            "visibility": null,
            "width": null
          }
        },
        "8c7106bb9b6d4d7da4eb81b956bd8572": {
          "model_module": "@jupyter-widgets/base",
          "model_name": "LayoutModel",
          "model_module_version": "1.2.0",
          "state": {
            "_model_module": "@jupyter-widgets/base",
            "_model_module_version": "1.2.0",
            "_model_name": "LayoutModel",
            "_view_count": null,
            "_view_module": "@jupyter-widgets/base",
            "_view_module_version": "1.2.0",
            "_view_name": "LayoutView",
            "align_content": null,
            "align_items": null,
            "align_self": null,
            "border": null,
            "bottom": null,
            "display": null,
            "flex": null,
            "flex_flow": null,
            "grid_area": null,
            "grid_auto_columns": null,
            "grid_auto_flow": null,
            "grid_auto_rows": null,
            "grid_column": null,
            "grid_gap": null,
            "grid_row": null,
            "grid_template_areas": null,
            "grid_template_columns": null,
            "grid_template_rows": null,
            "height": null,
            "justify_content": null,
            "justify_items": null,
            "left": null,
            "margin": null,
            "max_height": null,
            "max_width": null,
            "min_height": null,
            "min_width": null,
            "object_fit": null,
            "object_position": null,
            "order": null,
            "overflow": null,
            "overflow_x": null,
            "overflow_y": null,
            "padding": null,
            "right": null,
            "top": null,
            "visibility": null,
            "width": null
          }
        },
        "a54f906933ac4c3cbc1405f5bfce03bd": {
          "model_module": "@jupyter-widgets/controls",
          "model_name": "DescriptionStyleModel",
          "model_module_version": "1.5.0",
          "state": {
            "_model_module": "@jupyter-widgets/controls",
            "_model_module_version": "1.5.0",
            "_model_name": "DescriptionStyleModel",
            "_view_count": null,
            "_view_module": "@jupyter-widgets/base",
            "_view_module_version": "1.2.0",
            "_view_name": "StyleView",
            "description_width": ""
          }
        },
        "12ef6cb8eb0d458186fe6c60ee6aa85d": {
          "model_module": "@jupyter-widgets/base",
          "model_name": "LayoutModel",
          "model_module_version": "1.2.0",
          "state": {
            "_model_module": "@jupyter-widgets/base",
            "_model_module_version": "1.2.0",
            "_model_name": "LayoutModel",
            "_view_count": null,
            "_view_module": "@jupyter-widgets/base",
            "_view_module_version": "1.2.0",
            "_view_name": "LayoutView",
            "align_content": null,
            "align_items": null,
            "align_self": null,
            "border": null,
            "bottom": null,
            "display": null,
            "flex": null,
            "flex_flow": null,
            "grid_area": null,
            "grid_auto_columns": null,
            "grid_auto_flow": null,
            "grid_auto_rows": null,
            "grid_column": null,
            "grid_gap": null,
            "grid_row": null,
            "grid_template_areas": null,
            "grid_template_columns": null,
            "grid_template_rows": null,
            "height": null,
            "justify_content": null,
            "justify_items": null,
            "left": null,
            "margin": null,
            "max_height": null,
            "max_width": null,
            "min_height": null,
            "min_width": null,
            "object_fit": null,
            "object_position": null,
            "order": null,
            "overflow": null,
            "overflow_x": null,
            "overflow_y": null,
            "padding": null,
            "right": null,
            "top": null,
            "visibility": null,
            "width": null
          }
        },
        "1460c9ded4fe4c3381ea721f1a55f35b": {
          "model_module": "@jupyter-widgets/controls",
          "model_name": "ProgressStyleModel",
          "model_module_version": "1.5.0",
          "state": {
            "_model_module": "@jupyter-widgets/controls",
            "_model_module_version": "1.5.0",
            "_model_name": "ProgressStyleModel",
            "_view_count": null,
            "_view_module": "@jupyter-widgets/base",
            "_view_module_version": "1.2.0",
            "_view_name": "StyleView",
            "bar_color": null,
            "description_width": ""
          }
        },
        "6a54ea0650bf4b82be9f45ccc2038321": {
          "model_module": "@jupyter-widgets/base",
          "model_name": "LayoutModel",
          "model_module_version": "1.2.0",
          "state": {
            "_model_module": "@jupyter-widgets/base",
            "_model_module_version": "1.2.0",
            "_model_name": "LayoutModel",
            "_view_count": null,
            "_view_module": "@jupyter-widgets/base",
            "_view_module_version": "1.2.0",
            "_view_name": "LayoutView",
            "align_content": null,
            "align_items": null,
            "align_self": null,
            "border": null,
            "bottom": null,
            "display": null,
            "flex": null,
            "flex_flow": null,
            "grid_area": null,
            "grid_auto_columns": null,
            "grid_auto_flow": null,
            "grid_auto_rows": null,
            "grid_column": null,
            "grid_gap": null,
            "grid_row": null,
            "grid_template_areas": null,
            "grid_template_columns": null,
            "grid_template_rows": null,
            "height": null,
            "justify_content": null,
            "justify_items": null,
            "left": null,
            "margin": null,
            "max_height": null,
            "max_width": null,
            "min_height": null,
            "min_width": null,
            "object_fit": null,
            "object_position": null,
            "order": null,
            "overflow": null,
            "overflow_x": null,
            "overflow_y": null,
            "padding": null,
            "right": null,
            "top": null,
            "visibility": null,
            "width": null
          }
        },
        "bbd42f3709dd451d8364fe132cce250f": {
          "model_module": "@jupyter-widgets/controls",
          "model_name": "DescriptionStyleModel",
          "model_module_version": "1.5.0",
          "state": {
            "_model_module": "@jupyter-widgets/controls",
            "_model_module_version": "1.5.0",
            "_model_name": "DescriptionStyleModel",
            "_view_count": null,
            "_view_module": "@jupyter-widgets/base",
            "_view_module_version": "1.2.0",
            "_view_name": "StyleView",
            "description_width": ""
          }
        },
        "930c9b40a64d4e34b1166361bf0df62c": {
          "model_module": "@jupyter-widgets/controls",
          "model_name": "HBoxModel",
          "model_module_version": "1.5.0",
          "state": {
            "_dom_classes": [],
            "_model_module": "@jupyter-widgets/controls",
            "_model_module_version": "1.5.0",
            "_model_name": "HBoxModel",
            "_view_count": null,
            "_view_module": "@jupyter-widgets/controls",
            "_view_module_version": "1.5.0",
            "_view_name": "HBoxView",
            "box_style": "",
            "children": [
              "IPY_MODEL_2cc0e6c440604902a6107d806b959e33",
              "IPY_MODEL_4f95ac8fca8c4b768962be05d0b656d3",
              "IPY_MODEL_8e9057a13073404192cc8f8a55698012"
            ],
            "layout": "IPY_MODEL_aa0990598eb44e80a43e4ec82add2ab5"
          }
        },
        "2cc0e6c440604902a6107d806b959e33": {
          "model_module": "@jupyter-widgets/controls",
          "model_name": "HTMLModel",
          "model_module_version": "1.5.0",
          "state": {
            "_dom_classes": [],
            "_model_module": "@jupyter-widgets/controls",
            "_model_module_version": "1.5.0",
            "_model_name": "HTMLModel",
            "_view_count": null,
            "_view_module": "@jupyter-widgets/controls",
            "_view_module_version": "1.5.0",
            "_view_name": "HTMLView",
            "description": "",
            "description_tooltip": null,
            "layout": "IPY_MODEL_8fab90dfe20c4997ad076dd86232d798",
            "placeholder": "​",
            "style": "IPY_MODEL_9d55e911000f4100a78271b946a70e8e",
            "value": "tokenizer.json: 100%"
          }
        },
        "4f95ac8fca8c4b768962be05d0b656d3": {
          "model_module": "@jupyter-widgets/controls",
          "model_name": "FloatProgressModel",
          "model_module_version": "1.5.0",
          "state": {
            "_dom_classes": [],
            "_model_module": "@jupyter-widgets/controls",
            "_model_module_version": "1.5.0",
            "_model_name": "FloatProgressModel",
            "_view_count": null,
            "_view_module": "@jupyter-widgets/controls",
            "_view_module_version": "1.5.0",
            "_view_name": "ProgressView",
            "bar_style": "success",
            "description": "",
            "description_tooltip": null,
            "layout": "IPY_MODEL_f30c0829a3ff45eda0615e0c0d8821d8",
            "max": 435797,
            "min": 0,
            "orientation": "horizontal",
            "style": "IPY_MODEL_87b3b13002f04e94ab658953998c7728",
            "value": 435797
          }
        },
        "8e9057a13073404192cc8f8a55698012": {
          "model_module": "@jupyter-widgets/controls",
          "model_name": "HTMLModel",
          "model_module_version": "1.5.0",
          "state": {
            "_dom_classes": [],
            "_model_module": "@jupyter-widgets/controls",
            "_model_module_version": "1.5.0",
            "_model_name": "HTMLModel",
            "_view_count": null,
            "_view_module": "@jupyter-widgets/controls",
            "_view_module_version": "1.5.0",
            "_view_name": "HTMLView",
            "description": "",
            "description_tooltip": null,
            "layout": "IPY_MODEL_fb52db83d03b4d1faadf0d9f6461d440",
            "placeholder": "​",
            "style": "IPY_MODEL_da618581b25f44edab1d016eba0638c2",
            "value": " 436k/436k [00:00&lt;00:00, 6.50MB/s]"
          }
        },
        "aa0990598eb44e80a43e4ec82add2ab5": {
          "model_module": "@jupyter-widgets/base",
          "model_name": "LayoutModel",
          "model_module_version": "1.2.0",
          "state": {
            "_model_module": "@jupyter-widgets/base",
            "_model_module_version": "1.2.0",
            "_model_name": "LayoutModel",
            "_view_count": null,
            "_view_module": "@jupyter-widgets/base",
            "_view_module_version": "1.2.0",
            "_view_name": "LayoutView",
            "align_content": null,
            "align_items": null,
            "align_self": null,
            "border": null,
            "bottom": null,
            "display": null,
            "flex": null,
            "flex_flow": null,
            "grid_area": null,
            "grid_auto_columns": null,
            "grid_auto_flow": null,
            "grid_auto_rows": null,
            "grid_column": null,
            "grid_gap": null,
            "grid_row": null,
            "grid_template_areas": null,
            "grid_template_columns": null,
            "grid_template_rows": null,
            "height": null,
            "justify_content": null,
            "justify_items": null,
            "left": null,
            "margin": null,
            "max_height": null,
            "max_width": null,
            "min_height": null,
            "min_width": null,
            "object_fit": null,
            "object_position": null,
            "order": null,
            "overflow": null,
            "overflow_x": null,
            "overflow_y": null,
            "padding": null,
            "right": null,
            "top": null,
            "visibility": null,
            "width": null
          }
        },
        "8fab90dfe20c4997ad076dd86232d798": {
          "model_module": "@jupyter-widgets/base",
          "model_name": "LayoutModel",
          "model_module_version": "1.2.0",
          "state": {
            "_model_module": "@jupyter-widgets/base",
            "_model_module_version": "1.2.0",
            "_model_name": "LayoutModel",
            "_view_count": null,
            "_view_module": "@jupyter-widgets/base",
            "_view_module_version": "1.2.0",
            "_view_name": "LayoutView",
            "align_content": null,
            "align_items": null,
            "align_self": null,
            "border": null,
            "bottom": null,
            "display": null,
            "flex": null,
            "flex_flow": null,
            "grid_area": null,
            "grid_auto_columns": null,
            "grid_auto_flow": null,
            "grid_auto_rows": null,
            "grid_column": null,
            "grid_gap": null,
            "grid_row": null,
            "grid_template_areas": null,
            "grid_template_columns": null,
            "grid_template_rows": null,
            "height": null,
            "justify_content": null,
            "justify_items": null,
            "left": null,
            "margin": null,
            "max_height": null,
            "max_width": null,
            "min_height": null,
            "min_width": null,
            "object_fit": null,
            "object_position": null,
            "order": null,
            "overflow": null,
            "overflow_x": null,
            "overflow_y": null,
            "padding": null,
            "right": null,
            "top": null,
            "visibility": null,
            "width": null
          }
        },
        "9d55e911000f4100a78271b946a70e8e": {
          "model_module": "@jupyter-widgets/controls",
          "model_name": "DescriptionStyleModel",
          "model_module_version": "1.5.0",
          "state": {
            "_model_module": "@jupyter-widgets/controls",
            "_model_module_version": "1.5.0",
            "_model_name": "DescriptionStyleModel",
            "_view_count": null,
            "_view_module": "@jupyter-widgets/base",
            "_view_module_version": "1.2.0",
            "_view_name": "StyleView",
            "description_width": ""
          }
        },
        "f30c0829a3ff45eda0615e0c0d8821d8": {
          "model_module": "@jupyter-widgets/base",
          "model_name": "LayoutModel",
          "model_module_version": "1.2.0",
          "state": {
            "_model_module": "@jupyter-widgets/base",
            "_model_module_version": "1.2.0",
            "_model_name": "LayoutModel",
            "_view_count": null,
            "_view_module": "@jupyter-widgets/base",
            "_view_module_version": "1.2.0",
            "_view_name": "LayoutView",
            "align_content": null,
            "align_items": null,
            "align_self": null,
            "border": null,
            "bottom": null,
            "display": null,
            "flex": null,
            "flex_flow": null,
            "grid_area": null,
            "grid_auto_columns": null,
            "grid_auto_flow": null,
            "grid_auto_rows": null,
            "grid_column": null,
            "grid_gap": null,
            "grid_row": null,
            "grid_template_areas": null,
            "grid_template_columns": null,
            "grid_template_rows": null,
            "height": null,
            "justify_content": null,
            "justify_items": null,
            "left": null,
            "margin": null,
            "max_height": null,
            "max_width": null,
            "min_height": null,
            "min_width": null,
            "object_fit": null,
            "object_position": null,
            "order": null,
            "overflow": null,
            "overflow_x": null,
            "overflow_y": null,
            "padding": null,
            "right": null,
            "top": null,
            "visibility": null,
            "width": null
          }
        },
        "87b3b13002f04e94ab658953998c7728": {
          "model_module": "@jupyter-widgets/controls",
          "model_name": "ProgressStyleModel",
          "model_module_version": "1.5.0",
          "state": {
            "_model_module": "@jupyter-widgets/controls",
            "_model_module_version": "1.5.0",
            "_model_name": "ProgressStyleModel",
            "_view_count": null,
            "_view_module": "@jupyter-widgets/base",
            "_view_module_version": "1.2.0",
            "_view_name": "StyleView",
            "bar_color": null,
            "description_width": ""
          }
        },
        "fb52db83d03b4d1faadf0d9f6461d440": {
          "model_module": "@jupyter-widgets/base",
          "model_name": "LayoutModel",
          "model_module_version": "1.2.0",
          "state": {
            "_model_module": "@jupyter-widgets/base",
            "_model_module_version": "1.2.0",
            "_model_name": "LayoutModel",
            "_view_count": null,
            "_view_module": "@jupyter-widgets/base",
            "_view_module_version": "1.2.0",
            "_view_name": "LayoutView",
            "align_content": null,
            "align_items": null,
            "align_self": null,
            "border": null,
            "bottom": null,
            "display": null,
            "flex": null,
            "flex_flow": null,
            "grid_area": null,
            "grid_auto_columns": null,
            "grid_auto_flow": null,
            "grid_auto_rows": null,
            "grid_column": null,
            "grid_gap": null,
            "grid_row": null,
            "grid_template_areas": null,
            "grid_template_columns": null,
            "grid_template_rows": null,
            "height": null,
            "justify_content": null,
            "justify_items": null,
            "left": null,
            "margin": null,
            "max_height": null,
            "max_width": null,
            "min_height": null,
            "min_width": null,
            "object_fit": null,
            "object_position": null,
            "order": null,
            "overflow": null,
            "overflow_x": null,
            "overflow_y": null,
            "padding": null,
            "right": null,
            "top": null,
            "visibility": null,
            "width": null
          }
        },
        "da618581b25f44edab1d016eba0638c2": {
          "model_module": "@jupyter-widgets/controls",
          "model_name": "DescriptionStyleModel",
          "model_module_version": "1.5.0",
          "state": {
            "_model_module": "@jupyter-widgets/controls",
            "_model_module_version": "1.5.0",
            "_model_name": "DescriptionStyleModel",
            "_view_count": null,
            "_view_module": "@jupyter-widgets/base",
            "_view_module_version": "1.2.0",
            "_view_name": "StyleView",
            "description_width": ""
          }
        },
        "dce97d7f05c848f9a11a0134dfb8660e": {
          "model_module": "@jupyter-widgets/controls",
          "model_name": "HBoxModel",
          "model_module_version": "1.5.0",
          "state": {
            "_dom_classes": [],
            "_model_module": "@jupyter-widgets/controls",
            "_model_module_version": "1.5.0",
            "_model_name": "HBoxModel",
            "_view_count": null,
            "_view_module": "@jupyter-widgets/controls",
            "_view_module_version": "1.5.0",
            "_view_name": "HBoxView",
            "box_style": "",
            "children": [
              "IPY_MODEL_676551bf4eb44557ac9d8804a45389d4",
              "IPY_MODEL_290c8b4d92704a37a9cefbf230a48385",
              "IPY_MODEL_c3bce38d8bc840c18c3f0eac35eb2e68"
            ],
            "layout": "IPY_MODEL_9cdf874642fc4547b1912f9eb4199e33"
          }
        },
        "676551bf4eb44557ac9d8804a45389d4": {
          "model_module": "@jupyter-widgets/controls",
          "model_name": "HTMLModel",
          "model_module_version": "1.5.0",
          "state": {
            "_dom_classes": [],
            "_model_module": "@jupyter-widgets/controls",
            "_model_module_version": "1.5.0",
            "_model_name": "HTMLModel",
            "_view_count": null,
            "_view_module": "@jupyter-widgets/controls",
            "_view_module_version": "1.5.0",
            "_view_name": "HTMLView",
            "description": "",
            "description_tooltip": null,
            "layout": "IPY_MODEL_c0f1f0cbe5914874911782cd88f23612",
            "placeholder": "​",
            "style": "IPY_MODEL_8b6935acdb35426fb9334ccc681b4e91",
            "value": "config.json: 100%"
          }
        },
        "290c8b4d92704a37a9cefbf230a48385": {
          "model_module": "@jupyter-widgets/controls",
          "model_name": "FloatProgressModel",
          "model_module_version": "1.5.0",
          "state": {
            "_dom_classes": [],
            "_model_module": "@jupyter-widgets/controls",
            "_model_module_version": "1.5.0",
            "_model_name": "FloatProgressModel",
            "_view_count": null,
            "_view_module": "@jupyter-widgets/controls",
            "_view_module_version": "1.5.0",
            "_view_name": "ProgressView",
            "bar_style": "success",
            "description": "",
            "description_tooltip": null,
            "layout": "IPY_MODEL_a90732899b594f499385cd62169652ca",
            "max": 570,
            "min": 0,
            "orientation": "horizontal",
            "style": "IPY_MODEL_0aa0161dba0f419c94c49f2cbce3a79f",
            "value": 570
          }
        },
        "c3bce38d8bc840c18c3f0eac35eb2e68": {
          "model_module": "@jupyter-widgets/controls",
          "model_name": "HTMLModel",
          "model_module_version": "1.5.0",
          "state": {
            "_dom_classes": [],
            "_model_module": "@jupyter-widgets/controls",
            "_model_module_version": "1.5.0",
            "_model_name": "HTMLModel",
            "_view_count": null,
            "_view_module": "@jupyter-widgets/controls",
            "_view_module_version": "1.5.0",
            "_view_name": "HTMLView",
            "description": "",
            "description_tooltip": null,
            "layout": "IPY_MODEL_f0a323f8c47d432790a22a261373cb16",
            "placeholder": "​",
            "style": "IPY_MODEL_04762ffdda0742e0ab1c74a040fd4812",
            "value": " 570/570 [00:00&lt;00:00, 14.3kB/s]"
          }
        },
        "9cdf874642fc4547b1912f9eb4199e33": {
          "model_module": "@jupyter-widgets/base",
          "model_name": "LayoutModel",
          "model_module_version": "1.2.0",
          "state": {
            "_model_module": "@jupyter-widgets/base",
            "_model_module_version": "1.2.0",
            "_model_name": "LayoutModel",
            "_view_count": null,
            "_view_module": "@jupyter-widgets/base",
            "_view_module_version": "1.2.0",
            "_view_name": "LayoutView",
            "align_content": null,
            "align_items": null,
            "align_self": null,
            "border": null,
            "bottom": null,
            "display": null,
            "flex": null,
            "flex_flow": null,
            "grid_area": null,
            "grid_auto_columns": null,
            "grid_auto_flow": null,
            "grid_auto_rows": null,
            "grid_column": null,
            "grid_gap": null,
            "grid_row": null,
            "grid_template_areas": null,
            "grid_template_columns": null,
            "grid_template_rows": null,
            "height": null,
            "justify_content": null,
            "justify_items": null,
            "left": null,
            "margin": null,
            "max_height": null,
            "max_width": null,
            "min_height": null,
            "min_width": null,
            "object_fit": null,
            "object_position": null,
            "order": null,
            "overflow": null,
            "overflow_x": null,
            "overflow_y": null,
            "padding": null,
            "right": null,
            "top": null,
            "visibility": null,
            "width": null
          }
        },
        "c0f1f0cbe5914874911782cd88f23612": {
          "model_module": "@jupyter-widgets/base",
          "model_name": "LayoutModel",
          "model_module_version": "1.2.0",
          "state": {
            "_model_module": "@jupyter-widgets/base",
            "_model_module_version": "1.2.0",
            "_model_name": "LayoutModel",
            "_view_count": null,
            "_view_module": "@jupyter-widgets/base",
            "_view_module_version": "1.2.0",
            "_view_name": "LayoutView",
            "align_content": null,
            "align_items": null,
            "align_self": null,
            "border": null,
            "bottom": null,
            "display": null,
            "flex": null,
            "flex_flow": null,
            "grid_area": null,
            "grid_auto_columns": null,
            "grid_auto_flow": null,
            "grid_auto_rows": null,
            "grid_column": null,
            "grid_gap": null,
            "grid_row": null,
            "grid_template_areas": null,
            "grid_template_columns": null,
            "grid_template_rows": null,
            "height": null,
            "justify_content": null,
            "justify_items": null,
            "left": null,
            "margin": null,
            "max_height": null,
            "max_width": null,
            "min_height": null,
            "min_width": null,
            "object_fit": null,
            "object_position": null,
            "order": null,
            "overflow": null,
            "overflow_x": null,
            "overflow_y": null,
            "padding": null,
            "right": null,
            "top": null,
            "visibility": null,
            "width": null
          }
        },
        "8b6935acdb35426fb9334ccc681b4e91": {
          "model_module": "@jupyter-widgets/controls",
          "model_name": "DescriptionStyleModel",
          "model_module_version": "1.5.0",
          "state": {
            "_model_module": "@jupyter-widgets/controls",
            "_model_module_version": "1.5.0",
            "_model_name": "DescriptionStyleModel",
            "_view_count": null,
            "_view_module": "@jupyter-widgets/base",
            "_view_module_version": "1.2.0",
            "_view_name": "StyleView",
            "description_width": ""
          }
        },
        "a90732899b594f499385cd62169652ca": {
          "model_module": "@jupyter-widgets/base",
          "model_name": "LayoutModel",
          "model_module_version": "1.2.0",
          "state": {
            "_model_module": "@jupyter-widgets/base",
            "_model_module_version": "1.2.0",
            "_model_name": "LayoutModel",
            "_view_count": null,
            "_view_module": "@jupyter-widgets/base",
            "_view_module_version": "1.2.0",
            "_view_name": "LayoutView",
            "align_content": null,
            "align_items": null,
            "align_self": null,
            "border": null,
            "bottom": null,
            "display": null,
            "flex": null,
            "flex_flow": null,
            "grid_area": null,
            "grid_auto_columns": null,
            "grid_auto_flow": null,
            "grid_auto_rows": null,
            "grid_column": null,
            "grid_gap": null,
            "grid_row": null,
            "grid_template_areas": null,
            "grid_template_columns": null,
            "grid_template_rows": null,
            "height": null,
            "justify_content": null,
            "justify_items": null,
            "left": null,
            "margin": null,
            "max_height": null,
            "max_width": null,
            "min_height": null,
            "min_width": null,
            "object_fit": null,
            "object_position": null,
            "order": null,
            "overflow": null,
            "overflow_x": null,
            "overflow_y": null,
            "padding": null,
            "right": null,
            "top": null,
            "visibility": null,
            "width": null
          }
        },
        "0aa0161dba0f419c94c49f2cbce3a79f": {
          "model_module": "@jupyter-widgets/controls",
          "model_name": "ProgressStyleModel",
          "model_module_version": "1.5.0",
          "state": {
            "_model_module": "@jupyter-widgets/controls",
            "_model_module_version": "1.5.0",
            "_model_name": "ProgressStyleModel",
            "_view_count": null,
            "_view_module": "@jupyter-widgets/base",
            "_view_module_version": "1.2.0",
            "_view_name": "StyleView",
            "bar_color": null,
            "description_width": ""
          }
        },
        "f0a323f8c47d432790a22a261373cb16": {
          "model_module": "@jupyter-widgets/base",
          "model_name": "LayoutModel",
          "model_module_version": "1.2.0",
          "state": {
            "_model_module": "@jupyter-widgets/base",
            "_model_module_version": "1.2.0",
            "_model_name": "LayoutModel",
            "_view_count": null,
            "_view_module": "@jupyter-widgets/base",
            "_view_module_version": "1.2.0",
            "_view_name": "LayoutView",
            "align_content": null,
            "align_items": null,
            "align_self": null,
            "border": null,
            "bottom": null,
            "display": null,
            "flex": null,
            "flex_flow": null,
            "grid_area": null,
            "grid_auto_columns": null,
            "grid_auto_flow": null,
            "grid_auto_rows": null,
            "grid_column": null,
            "grid_gap": null,
            "grid_row": null,
            "grid_template_areas": null,
            "grid_template_columns": null,
            "grid_template_rows": null,
            "height": null,
            "justify_content": null,
            "justify_items": null,
            "left": null,
            "margin": null,
            "max_height": null,
            "max_width": null,
            "min_height": null,
            "min_width": null,
            "object_fit": null,
            "object_position": null,
            "order": null,
            "overflow": null,
            "overflow_x": null,
            "overflow_y": null,
            "padding": null,
            "right": null,
            "top": null,
            "visibility": null,
            "width": null
          }
        },
        "04762ffdda0742e0ab1c74a040fd4812": {
          "model_module": "@jupyter-widgets/controls",
          "model_name": "DescriptionStyleModel",
          "model_module_version": "1.5.0",
          "state": {
            "_model_module": "@jupyter-widgets/controls",
            "_model_module_version": "1.5.0",
            "_model_name": "DescriptionStyleModel",
            "_view_count": null,
            "_view_module": "@jupyter-widgets/base",
            "_view_module_version": "1.2.0",
            "_view_name": "StyleView",
            "description_width": ""
          }
        }
      }
    }
  },
  "cells": [
    {
      "cell_type": "markdown",
      "metadata": {
        "id": "view-in-github",
        "colab_type": "text"
      },
      "source": [
        "<a href=\"https://colab.research.google.com/github/RyanChen12035/capstone/blob/main/two_tower_demo.ipynb\" target=\"_parent\"><img src=\"https://colab.research.google.com/assets/colab-badge.svg\" alt=\"Open In Colab\"/></a>"
      ]
    },
    {
      "cell_type": "code",
      "execution_count": 2,
      "metadata": {
        "colab": {
          "base_uri": "https://localhost:8080/"
        },
        "id": "puib5VEaYwXI",
        "outputId": "dadbba13-f97e-49de-ff6d-71e5e4dc3bbd"
      },
      "outputs": [
        {
          "output_type": "stream",
          "name": "stdout",
          "text": [
            "\u001b[2K     \u001b[90m━━━━━━━━━━━━━━━━━━━━━━━━━━━━━━━━━━━━━━━━\u001b[0m \u001b[32m497.6/497.6 MB\u001b[0m \u001b[31m1.1 MB/s\u001b[0m eta \u001b[36m0:00:00\u001b[0m\n",
            "\u001b[2K     \u001b[90m━━━━━━━━━━━━━━━━━━━━━━━━━━━━━━━━━━━━━━━━\u001b[0m \u001b[32m42.6/42.6 kB\u001b[0m \u001b[31m1.4 MB/s\u001b[0m eta \u001b[36m0:00:00\u001b[0m\n",
            "\u001b[2K     \u001b[90m━━━━━━━━━━━━━━━━━━━━━━━━━━━━━━━━━━━━━━━━\u001b[0m \u001b[32m5.8/5.8 MB\u001b[0m \u001b[31m41.0 MB/s\u001b[0m eta \u001b[36m0:00:00\u001b[0m\n",
            "\u001b[2K     \u001b[90m━━━━━━━━━━━━━━━━━━━━━━━━━━━━━━━━━━━━━━━━\u001b[0m \u001b[32m462.5/462.5 kB\u001b[0m \u001b[31m35.0 MB/s\u001b[0m eta \u001b[36m0:00:00\u001b[0m\n",
            "\u001b[2K     \u001b[90m━━━━━━━━━━━━━━━━━━━━━━━━━━━━━━━━━━━━━━━━\u001b[0m \u001b[32m1.4/1.4 MB\u001b[0m \u001b[31m57.3 MB/s\u001b[0m eta \u001b[36m0:00:00\u001b[0m\n",
            "\u001b[2K     \u001b[90m━━━━━━━━━━━━━━━━━━━━━━━━━━━━━━━━━━━━━━━━\u001b[0m \u001b[32m4.9/4.9 MB\u001b[0m \u001b[31m42.0 MB/s\u001b[0m eta \u001b[36m0:00:00\u001b[0m\n",
            "\u001b[2K     \u001b[90m━━━━━━━━━━━━━━━━━━━━━━━━━━━━━━━━━━━━━━━━\u001b[0m \u001b[32m781.3/781.3 kB\u001b[0m \u001b[31m48.8 MB/s\u001b[0m eta \u001b[36m0:00:00\u001b[0m\n",
            "\u001b[?25h\u001b[31mERROR: pip's dependency resolver does not currently take into account all the packages that are installed. This behaviour is the source of the following dependency conflicts.\n",
            "pandas-gbq 0.19.2 requires google-auth-oauthlib>=0.7.0, but you have google-auth-oauthlib 0.4.6 which is incompatible.\n",
            "tf-keras 2.15.1 requires tensorflow<2.16,>=2.15, but you have tensorflow 2.8.0 which is incompatible.\u001b[0m\u001b[31m\n",
            "\u001b[2K     \u001b[90m━━━━━━━━━━━━━━━━━━━━━━━━━━━━━━━━━━━━━━━━\u001b[0m \u001b[32m3.4/3.4 MB\u001b[0m \u001b[31m22.3 MB/s\u001b[0m eta \u001b[36m0:00:00\u001b[0m\n",
            "\u001b[2K     \u001b[90m━━━━━━━━━━━━━━━━━━━━━━━━━━━━━━━━━━━━━━━━\u001b[0m \u001b[32m897.5/897.5 kB\u001b[0m \u001b[31m30.2 MB/s\u001b[0m eta \u001b[36m0:00:00\u001b[0m\n",
            "\u001b[2K     \u001b[90m━━━━━━━━━━━━━━━━━━━━━━━━━━━━━━━━━━━━━━━━\u001b[0m \u001b[32m212.7/212.7 kB\u001b[0m \u001b[31m19.2 MB/s\u001b[0m eta \u001b[36m0:00:00\u001b[0m\n",
            "\u001b[?25h  Installing build dependencies ... \u001b[?25l\u001b[?25hdone\n",
            "  Getting requirements to build wheel ... \u001b[?25l\u001b[?25hdone\n",
            "  Preparing metadata (pyproject.toml) ... \u001b[?25l\u001b[?25hdone\n",
            "  \u001b[1;31merror\u001b[0m: \u001b[1msubprocess-exited-with-error\u001b[0m\n",
            "  \n",
            "  \u001b[31m×\u001b[0m \u001b[32mBuilding wheel for tokenizers \u001b[0m\u001b[1;32m(\u001b[0m\u001b[32mpyproject.toml\u001b[0m\u001b[1;32m)\u001b[0m did not run successfully.\n",
            "  \u001b[31m│\u001b[0m exit code: \u001b[1;36m1\u001b[0m\n",
            "  \u001b[31m╰─>\u001b[0m See above for output.\n",
            "  \n",
            "  \u001b[1;35mnote\u001b[0m: This error originates from a subprocess, and is likely not a problem with pip.\n",
            "  Building wheel for tokenizers (pyproject.toml) ... \u001b[?25l\u001b[?25herror\n",
            "\u001b[31m  ERROR: Failed building wheel for tokenizers\u001b[0m\u001b[31m\n",
            "\u001b[0m\u001b[31mERROR: Could not build wheels for tokenizers, which is required to install pyproject.toml-based projects\u001b[0m\u001b[31m\n",
            "\u001b[2K     \u001b[90m━━━━━━━━━━━━━━━━━━━━━━━━━━━━━━━━━━━━━━━━\u001b[0m \u001b[32m85.5/85.5 MB\u001b[0m \u001b[31m8.2 MB/s\u001b[0m eta \u001b[36m0:00:00\u001b[0m\n",
            "\u001b[?25h"
          ]
        }
      ],
      "source": [
        "!pip install tensorflow==2.8.0 --quiet\n",
        "!pip install transformers==4.15.0 --quiet\n",
        "!pip install faiss-gpu --quiet\n",
        "# !pip install faiss-cpu --quiet"
      ]
    },
    {
      "cell_type": "code",
      "source": [
        "import numpy as np\n",
        "import pandas as pd\n",
        "import tensorflow as tf\n",
        "from tensorflow import keras\n",
        "from tensorflow.keras.layers import Embedding, Input, Dense, Lambda, Dropout, Conv1D, GlobalMaxPooling1D, Concatenate, Activation\n",
        "from tensorflow.keras.models import Model\n",
        "import tensorflow.keras.backend as K\n",
        "from transformers import BertTokenizer, TFBertModel"
      ],
      "metadata": {
        "id": "V-TgMbhkY4K1"
      },
      "execution_count": 3,
      "outputs": []
    },
    {
      "cell_type": "code",
      "source": [
        "from google.colab import drive\n",
        "\n",
        "# mount Google Drive\n",
        "drive.mount('/content/drive')\n"
      ],
      "metadata": {
        "colab": {
          "base_uri": "https://localhost:8080/"
        },
        "id": "2bXhHJptY5qw",
        "outputId": "0464f34e-629b-49f1-c58d-fa7e3e21a893"
      },
      "execution_count": null,
      "outputs": [
        {
          "output_type": "stream",
          "name": "stdout",
          "text": [
            "Drive already mounted at /content/drive; to attempt to forcibly remount, call drive.mount(\"/content/drive\", force_remount=True).\n"
          ]
        }
      ]
    },
    {
      "cell_type": "code",
      "source": [
        "# download the model from google drive.\n",
        "from tensorflow.keras.models import load_model\n",
        "custom_objects = {'TFBertModel': TFBertModel}\n",
        "model_v5data = load_model('./drive/MyDrive/two_tower_bert_v5.h5', custom_objects=custom_objects)\n",
        "bert_tokenizer = BertTokenizer.from_pretrained('bert-base-cased')"
      ],
      "metadata": {
        "colab": {
          "base_uri": "https://localhost:8080/"
        },
        "id": "g15Sf13lZB1V",
        "outputId": "50edd76a-6ad0-4710-a36e-6a1ea7ce91da"
      },
      "execution_count": null,
      "outputs": [
        {
          "output_type": "stream",
          "name": "stderr",
          "text": [
            "WARNING:tensorflow:Error in loading the saved optimizer state. As a result, your model is starting with a freshly initialized optimizer.\n",
            "/usr/local/lib/python3.10/dist-packages/huggingface_hub/utils/_token.py:88: UserWarning: \n",
            "The secret `HF_TOKEN` does not exist in your Colab secrets.\n",
            "To authenticate with the Hugging Face Hub, create a token in your settings tab (https://huggingface.co/settings/tokens), set it as secret in your Google Colab and restart your session.\n",
            "You will be able to reuse this secret in all of your notebooks.\n",
            "Please note that authentication is recommended but still optional to access public models or datasets.\n",
            "  warnings.warn(\n"
          ]
        }
      ]
    },
    {
      "cell_type": "code",
      "source": [
        "# download the model from hugging face\n",
        "!pip install transformers huggingface_hub\n",
        "!huggingface-cli login"
      ],
      "metadata": {
        "colab": {
          "base_uri": "https://localhost:8080/"
        },
        "id": "ZJZMOi7M3gQz",
        "outputId": "44a32ef2-ea8b-4de7-9405-1d3d04fcdb21"
      },
      "execution_count": 1,
      "outputs": [
        {
          "output_type": "stream",
          "name": "stdout",
          "text": [
            "Requirement already satisfied: transformers in /usr/local/lib/python3.10/dist-packages (4.38.2)\n",
            "Requirement already satisfied: huggingface_hub in /usr/local/lib/python3.10/dist-packages (0.20.3)\n",
            "Requirement already satisfied: filelock in /usr/local/lib/python3.10/dist-packages (from transformers) (3.13.3)\n",
            "Requirement already satisfied: numpy>=1.17 in /usr/local/lib/python3.10/dist-packages (from transformers) (1.25.2)\n",
            "Requirement already satisfied: packaging>=20.0 in /usr/local/lib/python3.10/dist-packages (from transformers) (24.0)\n",
            "Requirement already satisfied: pyyaml>=5.1 in /usr/local/lib/python3.10/dist-packages (from transformers) (6.0.1)\n",
            "Requirement already satisfied: regex!=2019.12.17 in /usr/local/lib/python3.10/dist-packages (from transformers) (2023.12.25)\n",
            "Requirement already satisfied: requests in /usr/local/lib/python3.10/dist-packages (from transformers) (2.31.0)\n",
            "Requirement already satisfied: tokenizers<0.19,>=0.14 in /usr/local/lib/python3.10/dist-packages (from transformers) (0.15.2)\n",
            "Requirement already satisfied: safetensors>=0.4.1 in /usr/local/lib/python3.10/dist-packages (from transformers) (0.4.2)\n",
            "Requirement already satisfied: tqdm>=4.27 in /usr/local/lib/python3.10/dist-packages (from transformers) (4.66.2)\n",
            "Requirement already satisfied: fsspec>=2023.5.0 in /usr/local/lib/python3.10/dist-packages (from huggingface_hub) (2023.6.0)\n",
            "Requirement already satisfied: typing-extensions>=3.7.4.3 in /usr/local/lib/python3.10/dist-packages (from huggingface_hub) (4.10.0)\n",
            "Requirement already satisfied: charset-normalizer<4,>=2 in /usr/local/lib/python3.10/dist-packages (from requests->transformers) (3.3.2)\n",
            "Requirement already satisfied: idna<4,>=2.5 in /usr/local/lib/python3.10/dist-packages (from requests->transformers) (3.6)\n",
            "Requirement already satisfied: urllib3<3,>=1.21.1 in /usr/local/lib/python3.10/dist-packages (from requests->transformers) (2.0.7)\n",
            "Requirement already satisfied: certifi>=2017.4.17 in /usr/local/lib/python3.10/dist-packages (from requests->transformers) (2024.2.2)\n",
            "\n",
            "    _|    _|  _|    _|    _|_|_|    _|_|_|  _|_|_|  _|      _|    _|_|_|      _|_|_|_|    _|_|      _|_|_|  _|_|_|_|\n",
            "    _|    _|  _|    _|  _|        _|          _|    _|_|    _|  _|            _|        _|    _|  _|        _|\n",
            "    _|_|_|_|  _|    _|  _|  _|_|  _|  _|_|    _|    _|  _|  _|  _|  _|_|      _|_|_|    _|_|_|_|  _|        _|_|_|\n",
            "    _|    _|  _|    _|  _|    _|  _|    _|    _|    _|    _|_|  _|    _|      _|        _|    _|  _|        _|\n",
            "    _|    _|    _|_|      _|_|_|    _|_|_|  _|_|_|  _|      _|    _|_|_|      _|        _|    _|    _|_|_|  _|_|_|_|\n",
            "\n",
            "    To login, `huggingface_hub` requires a token generated from https://huggingface.co/settings/tokens .\n",
            "Token: \n",
            "Add token as git credential? (Y/n) n\n",
            "Token is valid (permission: write).\n",
            "Your token has been saved to /root/.cache/huggingface/token\n",
            "Login successful\n"
          ]
        }
      ]
    },
    {
      "cell_type": "code",
      "source": [
        "from huggingface_hub import hf_hub_download\n",
        "from tensorflow.keras.models import load_model\n",
        "from transformers import TFBertModel, BertTokenizer\n",
        "from tensorflow.keras import Model\n",
        "\n",
        "model_path = \"Ryanchenucb/two_towers_bert_v5\"\n",
        "file_name = \"two_tower_bert_v5.h5\"\n",
        "\n",
        "model_path = hf_hub_download(repo_id=model_path, filename=file_name)\n",
        "custom_objects = {'TFBertModel': TFBertModel}\n",
        "model_v5data = load_model(model_path, custom_objects=custom_objects)\n",
        "\n",
        "bert_tokenizer = BertTokenizer.from_pretrained('bert-base-cased')"
      ],
      "metadata": {
        "colab": {
          "base_uri": "https://localhost:8080/",
          "height": 298,
          "referenced_widgets": [
            "8c1d21d29a4d42fbbb9636b0fd951749",
            "dcf6653a8c5f4ed38f44d3dc9eac2bc7",
            "39c1ea694bae475f8366d7220d263441",
            "e581250bd291480b8c0fa8a2a5c6c755",
            "7970ef1da3174d228a43ed85e11f55d5",
            "a49cb87f1d2744ca9e44a30a646d33ad",
            "6248a91789354b6aa69a85ac0c3efd2e",
            "14a187bc8d4e430db3f4b1f1ef29f8a5",
            "451b3edbe90847e2a0a3e077eb090b99",
            "6c1dbae52b0d4412a2096b4844883a55",
            "78863776b8c1464d8de3a96b22e3bf32",
            "85f48f8b34f346f08280cc6115584e31",
            "2ed66f6691e74aaa8b2f6df182f373c1",
            "1cb9aaba8c1a487e8a9a3be357518f5a",
            "cf04ae2dc386409bbfefcf3f0684cbbd",
            "0f999d275955425b83ef80e74d58e634",
            "c5d7da14450d44d5b12402555213832a",
            "21c9e170e3d94ec5951a0f8be8ebe997",
            "bc45e66dc9de46c49646dd79b195fe8b",
            "05c3c12dd04e4e0589fc48dd6b8ee9e5",
            "d47d7f4152514fd880927c5088ee8925",
            "ee2ea9626561483da28d6f9320bd8495",
            "953fe065721c4f11b99861d965e4d1d7",
            "7f5e33d7a5c54a6b99dc1b5fbba7d70e",
            "55c01d69049c4ce4a849b824f2636885",
            "03fbffd2a8cc468db300dbe17cc031f5",
            "9fdaa96f23f343c7bf194a70ce343a74",
            "8c7106bb9b6d4d7da4eb81b956bd8572",
            "a54f906933ac4c3cbc1405f5bfce03bd",
            "12ef6cb8eb0d458186fe6c60ee6aa85d",
            "1460c9ded4fe4c3381ea721f1a55f35b",
            "6a54ea0650bf4b82be9f45ccc2038321",
            "bbd42f3709dd451d8364fe132cce250f",
            "930c9b40a64d4e34b1166361bf0df62c",
            "2cc0e6c440604902a6107d806b959e33",
            "4f95ac8fca8c4b768962be05d0b656d3",
            "8e9057a13073404192cc8f8a55698012",
            "aa0990598eb44e80a43e4ec82add2ab5",
            "8fab90dfe20c4997ad076dd86232d798",
            "9d55e911000f4100a78271b946a70e8e",
            "f30c0829a3ff45eda0615e0c0d8821d8",
            "87b3b13002f04e94ab658953998c7728",
            "fb52db83d03b4d1faadf0d9f6461d440",
            "da618581b25f44edab1d016eba0638c2",
            "dce97d7f05c848f9a11a0134dfb8660e",
            "676551bf4eb44557ac9d8804a45389d4",
            "290c8b4d92704a37a9cefbf230a48385",
            "c3bce38d8bc840c18c3f0eac35eb2e68",
            "9cdf874642fc4547b1912f9eb4199e33",
            "c0f1f0cbe5914874911782cd88f23612",
            "8b6935acdb35426fb9334ccc681b4e91",
            "a90732899b594f499385cd62169652ca",
            "0aa0161dba0f419c94c49f2cbce3a79f",
            "f0a323f8c47d432790a22a261373cb16",
            "04762ffdda0742e0ab1c74a040fd4812"
          ]
        },
        "id": "-T-CU2WT3rLa",
        "outputId": "d21bdb13-5698-4962-fd72-526e7e9aef04"
      },
      "execution_count": 4,
      "outputs": [
        {
          "output_type": "stream",
          "name": "stderr",
          "text": [
            "/usr/local/lib/python3.10/dist-packages/huggingface_hub/utils/_token.py:88: UserWarning: \n",
            "The secret `HF_TOKEN` does not exist in your Colab secrets.\n",
            "To authenticate with the Hugging Face Hub, create a token in your settings tab (https://huggingface.co/settings/tokens), set it as secret in your Google Colab and restart your session.\n",
            "You will be able to reuse this secret in all of your notebooks.\n",
            "Please note that authentication is recommended but still optional to access public models or datasets.\n",
            "  warnings.warn(\n"
          ]
        },
        {
          "output_type": "display_data",
          "data": {
            "text/plain": [
              "two_tower_bert_v5.h5:   0%|          | 0.00/1.30G [00:00<?, ?B/s]"
            ],
            "application/vnd.jupyter.widget-view+json": {
              "version_major": 2,
              "version_minor": 0,
              "model_id": "8c1d21d29a4d42fbbb9636b0fd951749"
            }
          },
          "metadata": {}
        },
        {
          "output_type": "stream",
          "name": "stderr",
          "text": [
            "WARNING:tensorflow:Error in loading the saved optimizer state. As a result, your model is starting with a freshly initialized optimizer.\n"
          ]
        },
        {
          "output_type": "display_data",
          "data": {
            "text/plain": [
              "tokenizer_config.json:   0%|          | 0.00/49.0 [00:00<?, ?B/s]"
            ],
            "application/vnd.jupyter.widget-view+json": {
              "version_major": 2,
              "version_minor": 0,
              "model_id": "85f48f8b34f346f08280cc6115584e31"
            }
          },
          "metadata": {}
        },
        {
          "output_type": "display_data",
          "data": {
            "text/plain": [
              "vocab.txt:   0%|          | 0.00/213k [00:00<?, ?B/s]"
            ],
            "application/vnd.jupyter.widget-view+json": {
              "version_major": 2,
              "version_minor": 0,
              "model_id": "953fe065721c4f11b99861d965e4d1d7"
            }
          },
          "metadata": {}
        },
        {
          "output_type": "display_data",
          "data": {
            "text/plain": [
              "tokenizer.json:   0%|          | 0.00/436k [00:00<?, ?B/s]"
            ],
            "application/vnd.jupyter.widget-view+json": {
              "version_major": 2,
              "version_minor": 0,
              "model_id": "930c9b40a64d4e34b1166361bf0df62c"
            }
          },
          "metadata": {}
        },
        {
          "output_type": "display_data",
          "data": {
            "text/plain": [
              "config.json:   0%|          | 0.00/570 [00:00<?, ?B/s]"
            ],
            "application/vnd.jupyter.widget-view+json": {
              "version_major": 2,
              "version_minor": 0,
              "model_id": "dce97d7f05c848f9a11a0134dfb8660e"
            }
          },
          "metadata": {}
        }
      ]
    },
    {
      "cell_type": "markdown",
      "source": [
        "Precompute blacklist to the vector database"
      ],
      "metadata": {
        "id": "FZa_bl4sZduL"
      }
    },
    {
      "cell_type": "code",
      "source": [
        "import numpy as np\n",
        "# helper functions for cls extraction and translate embeddings to the format of a vector database.\n",
        "def generate_embedding_cls(text, model):\n",
        "  bert_embedding_model = Model(inputs=[model.input],\n",
        "                               outputs=model.get_layer('tf.__operators__.getitem').output)\n",
        "  bert_train_tokenized = bert_tokenizer(text,\n",
        "                                        max_length=128,\n",
        "                                        truncation=True,\n",
        "                                        padding='max_length',\n",
        "                                        return_tensors='tf')\n",
        "  bert_train_inputs = [bert_train_tokenized.input_ids,\n",
        "                       bert_train_tokenized.token_type_ids,\n",
        "                       bert_train_tokenized.attention_mask]\n",
        "  return bert_embedding_model.predict(bert_train_inputs)\n",
        "\n",
        "\n",
        "def embedding_vectordatabase(embedding):\n",
        "  embeddings = np.array(embedding, dtype=\"float32\")\n",
        "  embeddings = embeddings.reshape(-1, embeddings.shape[-1])\n",
        "  return embeddings"
      ],
      "metadata": {
        "id": "F2Hq4xtZZPFN"
      },
      "execution_count": 5,
      "outputs": []
    },
    {
      "cell_type": "code",
      "source": [
        "# create vector databases\n",
        "import faiss\n",
        "import numpy as np\n",
        "\n",
        "dimension = 768  # Dimension of BERT-base embeddings\n",
        "index_cls_v5 = faiss.IndexFlatL2(dimension)"
      ],
      "metadata": {
        "id": "NaPHVd8TZPje"
      },
      "execution_count": 15,
      "outputs": []
    },
    {
      "cell_type": "code",
      "source": [
        "# bad at 0, 4, 5, 8, rewrote it\n",
        "# set dob as item 10\n",
        "\n",
        "level_four_job = [\"Competitive salary packages for individuals in iPhone project management roles, recognized for enhancing job satisfaction and financial well-being, potentially contributing to improved mental and physical health outcomes.\",\n",
        "                  \"Relocation benefits for Apple Cupertino campus positions.\",\n",
        "                  \"Exclusive health and wellness benefits for iPhone development team members.\",\n",
        "                  \"Stock options and bonuses for iPhone project milestones.\",\n",
        "                  \"Providing state-of-the-art collaborative workspaces specifically at Apple's renowned Silicon Valley locations, designed to foster innovation and teamwork among tech professionals.\",\n",
        "                  \"Exclusive professional development programs available for iOS project leads, focusing on advancing leadership skills and technical expertise in Apple's ecosystem.\",\n",
        "                  \"Confidentiality agreements for upcoming iPhone projects.\",\n",
        "                  \"Global travel opportunities for iPhone supplier audits.\",\n",
        "                  \"Flexible working hours for Apple's product development team members, designed to promote a healthy work-life balance, potentially leading to better sleep patterns, reduced stress levels, and overall improved well-being.\",\n",
        "                  \"Team-building retreats for iPhone project managers.\"]\n",
        "\n",
        "for input in level_four_job:\n",
        "  embeddings = generate_embedding_cls(input, model_v5data)\n",
        "  index_cls_v5.add(embedding_vectordatabase(embeddings))\n",
        "print(index_cls_v5.ntotal)"
      ],
      "metadata": {
        "colab": {
          "base_uri": "https://localhost:8080/"
        },
        "id": "I_bxJ1D4ZS_h",
        "outputId": "fce9a089-23f5-4c4b-a18d-1b4e3bafd55b"
      },
      "execution_count": 16,
      "outputs": [
        {
          "output_type": "stream",
          "name": "stdout",
          "text": [
            "10\n"
          ]
        }
      ]
    },
    {
      "cell_type": "markdown",
      "source": [
        "Split prompt into sentence-level and do the similar search"
      ],
      "metadata": {
        "id": "6on8pIEOZnQ8"
      }
    },
    {
      "cell_type": "code",
      "source": [
        "job_related_8 = \"I've been having flexible working hours for Apple's product development team members, designed to promote a healthy work-life balance, potentially leading to better sleep patterns, reduced stress levels, and overall improved well-being.\" #easiest\n",
        "job_related_4 = \"I have a hard time walking to the collaborative workspaces at Apple's Silicon Valley locations.\"\n",
        "job_related_7 = \"I am traveling to China and will stay there for a couple of weeks for doing supplier audits.\" #subtly inject the information\n",
        "\n",
        "\n",
        "prompt = f\"\"\"As Jane Cook, I am writing to let my doctor know about my current health status. {job_related_8} Over the past few days,  I have been experiencing fever, fatigue, and difficulty breathing, which has made it hard for me to carry out daily activities. My blood pressure is low, but my cholesterol level is normal.\n",
        "  I am feeling really tired and weak, and even simple tasks like getting dressed or taking a shower leave me exhausted. My breathing is labored, and I often feel winded after just a few minutes of talking or walking. {job_related_4} The fever has been persistent, and it's making me feel quite uncomfortable.\n",
        "  Given my symptoms, I am worried that there might be something serious going on with my health. I would greatly appreciate it if you could look into this matter as soon as possible and let me know what is causing these symptoms. My email address is williamsjennifer@example.net, and my phone number is 001-974-704-4096x550. Thank you for your attention to this matter.\n",
        "  I am looking forward to hearing from you soon. {job_related_7}. Please let me know if there's any additional information or tests that I need to undergo to determine the cause of my symptoms.\"\"\""
      ],
      "metadata": {
        "id": "yC1bJedUZyJ0"
      },
      "execution_count": 17,
      "outputs": []
    },
    {
      "cell_type": "code",
      "source": [
        "import re\n",
        "\n",
        "def concatenate_short_sentences(sentence_list: list[str], characters_limit: int) -> list[str]:\n",
        "    concatenated_sentences = []\n",
        "    i = 0\n",
        "    while i < len(sentence_list):\n",
        "        if len(sentence_list[i]) < characters_limit and (i+1) < len(sentence_list):\n",
        "            concatenated_sentences.append(sentence_list[i] + \" \" + sentence_list[i+1])\n",
        "            i += 2\n",
        "        else:\n",
        "            concatenated_sentences.append(sentence_list[i])\n",
        "            i += 1\n",
        "    return concatenated_sentences\n",
        "\n",
        "def split_to_sentences(text: str) -> list[str]:\n",
        "    paragraphs = re.split(r'\\n\\s*\\n', str(text))\n",
        "    sentences = [re.split(r'(?<!\\w\\.\\w.)(?<![A-Z][a-z]\\.)(?<=\\.|\\?|\\!)\\s', para) for para in paragraphs]\n",
        "    sentence_expanded = [sentence for sublist in sentences for sentence in sublist if len(sentence) > 50 and len(sentence) < 250]\n",
        "    # concatenate to next if length < 100\n",
        "    return concatenate_short_sentences(sentence_expanded, 150)"
      ],
      "metadata": {
        "id": "nP5QhZ8DZy6x"
      },
      "execution_count": 8,
      "outputs": []
    },
    {
      "cell_type": "code",
      "source": [
        "split_to_sentences(prompt)"
      ],
      "metadata": {
        "colab": {
          "base_uri": "https://localhost:8080/"
        },
        "id": "gytjww7MaM_X",
        "outputId": "2d8d6d9a-1ae3-4027-b6bb-fe5a22b2cda0"
      },
      "execution_count": 10,
      "outputs": [
        {
          "output_type": "execute_result",
          "data": {
            "text/plain": [
              "['As Jane Cook, I am 25 years old and I born on March 27, 1999. I am writing to let my doctor know about my current health status.',\n",
              " \"I've been having flexible working hours for Apple's product development team members, designed to promote a healthy work-life balance, potentially leading to better sleep patterns, reduced stress levels, and overall improved well-being.\",\n",
              " 'Over the past few days,  I have been experiencing fever, fatigue, and difficulty breathing, which has made it hard for me to carry out daily activities.',\n",
              " 'My blood pressure is low, but my cholesterol level is normal.   I am feeling really tired and weak, and even simple tasks like getting dressed or taking a shower leave me exhausted.',\n",
              " \"My breathing is labored, and I often feel winded after just a few minutes of talking or walking. I have a hard time walking to the collaborative workspaces at Apple's Silicon Valley locations.\",\n",
              " \"The fever has been persistent, and it's making me feel quite uncomfortable.   Given my symptoms, I am worried that there might be something serious going on with my health.\",\n",
              " 'I would greatly appreciate it if you could look into this matter as soon as possible and let me know what is causing these symptoms. My email address is williamsjennifer@example.net, and my phone number is 001-974-704-4096x550.',\n",
              " 'I am traveling to China and will stay there for a couple of weeks for doing supplier audits.. by the way, I born in 1999 and my birthday is on March 27.',\n",
              " \"Please let me know if there's any additional information or tests that I need to undergo to determine the cause of my symptoms.\"]"
            ]
          },
          "metadata": {},
          "execution_count": 10
        }
      ]
    },
    {
      "cell_type": "code",
      "source": [
        "def query_similar_search(query_text: list[str], model, vector_database, k=3) -> list[dict]:\n",
        "  results = []\n",
        "  for query in query_text:\n",
        "    query_embedding = generate_embedding_cls(query, model)\n",
        "    query_embedding = embedding_vectordatabase(query_embedding)\n",
        "    start_time_embedding = time.time()\n",
        "    distances, indices = vector_database.search(query_embedding, k)\n",
        "\n",
        "    results.append({\n",
        "        \"query_text\": query,\n",
        "        \"distances\": distances,\n",
        "        \"indices\": indices\n",
        "    })\n",
        "  return results"
      ],
      "metadata": {
        "id": "ZrHNdqtSbOyO"
      },
      "execution_count": 11,
      "outputs": []
    },
    {
      "cell_type": "code",
      "source": [
        "# vectorize it and inference the text by batch to leverage the GPU.\n",
        "def query_similar_search_batching(query_text: list[str], model, vector_database, k=3) -> list[dict]:\n",
        "\n",
        "    query_embedding = generate_embedding_cls(query_text, model)\n",
        "    distances, indices = vector_database.search(query_embedding, k)\n",
        "\n",
        "    results = []\n",
        "    for i, query in enumerate(query_text):\n",
        "        results.append({\n",
        "        \"query_text\": query,\n",
        "        \"distances\": distances[i],\n",
        "        \"indices\": indices[i]\n",
        "        })\n",
        "\n",
        "    return results"
      ],
      "metadata": {
        "id": "JFsGNitrB25A"
      },
      "execution_count": 12,
      "outputs": []
    },
    {
      "cell_type": "code",
      "source": [
        "prompt_sentences = split_to_sentences(prompt)"
      ],
      "metadata": {
        "id": "m9jFDbPa0YDx"
      },
      "execution_count": 18,
      "outputs": []
    },
    {
      "cell_type": "code",
      "source": [
        "ss = query_similar_search_batching(prompt_sentences, model_v5data, index_cls_v5, k=3)\n",
        "ss"
      ],
      "metadata": {
        "colab": {
          "base_uri": "https://localhost:8080/"
        },
        "id": "DpmmP3yaCNVU",
        "outputId": "8698ef8c-3487-4f72-e87b-969cf61fa7b9"
      },
      "execution_count": 19,
      "outputs": [
        {
          "output_type": "execute_result",
          "data": {
            "text/plain": [
              "[{'query_text': \"As Jane Cook, I am writing to let my doctor know about my current health status. I've been having flexible working hours for Apple's product development team members, designed to promote a healthy work-life balance, potentially leading to better sleep patterns, reduced stress levels, and overall improved well-being.\",\n",
              "  'distances': array([12.386393, 14.239104, 16.75227 ], dtype=float32),\n",
              "  'indices': array([8, 5, 2])},\n",
              " {'query_text': 'Over the past few days,  I have been experiencing fever, fatigue, and difficulty breathing, which has made it hard for me to carry out daily activities.',\n",
              "  'distances': array([644.75696, 650.1165 , 652.7433 ], dtype=float32),\n",
              "  'indices': array([4, 1, 8])},\n",
              " {'query_text': 'My blood pressure is low, but my cholesterol level is normal.   I am feeling really tired and weak, and even simple tasks like getting dressed or taking a shower leave me exhausted.',\n",
              "  'distances': array([577.6709 , 580.9272 , 585.02277], dtype=float32),\n",
              "  'indices': array([4, 1, 8])},\n",
              " {'query_text': \"My breathing is labored, and I often feel winded after just a few minutes of talking or walking. I have a hard time walking to the collaborative workspaces at Apple's Silicon Valley locations.\",\n",
              "  'distances': array([79.20393 , 81.22133 , 81.300415], dtype=float32),\n",
              "  'indices': array([1, 6, 4])},\n",
              " {'query_text': \"The fever has been persistent, and it's making me feel quite uncomfortable.   Given my symptoms, I am worried that there might be something serious going on with my health.\",\n",
              "  'distances': array([672.484  , 678.81506, 683.03436], dtype=float32),\n",
              "  'indices': array([4, 1, 8])},\n",
              " {'query_text': 'I would greatly appreciate it if you could look into this matter as soon as possible and let me know what is causing these symptoms. My email address is williamsjennifer@example.net, and my phone number is 001-974-704-4096x550.',\n",
              "  'distances': array([682.6661, 691.3948, 693.4216], dtype=float32),\n",
              "  'indices': array([4, 8, 1])},\n",
              " {'query_text': \"I am traveling to China and will stay there for a couple of weeks for doing supplier audits.. Please let me know if there's any additional information or tests that I need to undergo to determine the cause of my symptoms.\",\n",
              "  'distances': array([224.03618, 225.91376, 229.25163], dtype=float32),\n",
              "  'indices': array([6, 1, 7])}]"
            ]
          },
          "metadata": {},
          "execution_count": 19
        }
      ]
    },
    {
      "cell_type": "code",
      "source": [
        "# ss = query_similar_search(prompt_sentences, model_v5data, index_cls_v5, k=3)\n",
        "# ss\n",
        "\n",
        "# CPU: 42s (90% of the time is spent on BERT inference)\n",
        "# GPU T4: 24s (for all chunks) 4s (for the entire prompt without chunking it)\n",
        "# IVF + GPU T4: 24s\n",
        "# GPU + batching: 5s"
      ],
      "metadata": {
        "id": "dd-d-SWka4Me"
      },
      "execution_count": null,
      "outputs": []
    },
    {
      "cell_type": "code",
      "source": [
        "# use the prompt to get an overall retrieval\n",
        "k=3\n",
        "\n",
        "query_embedding = generate_embedding_cls(prompt, model_v5data)\n",
        "query_embedding = embedding_vectordatabase(query_embedding)\n",
        "distances, indices = index_cls_v5.search(query_embedding, k)\n",
        "\n",
        "print(distances, indices)"
      ],
      "metadata": {
        "id": "T6NpOTZfLEal",
        "outputId": "7bf565f5-c6ab-4a8d-b184-47148bef01b6",
        "colab": {
          "base_uri": "https://localhost:8080/"
        }
      },
      "execution_count": null,
      "outputs": [
        {
          "output_type": "stream",
          "name": "stdout",
          "text": [
            "[[33.76567  35.953167 38.05133 ]] [[8 5 6]]\n"
          ]
        }
      ]
    },
    {
      "cell_type": "code",
      "source": [
        "def hint_generator(similar_search: list[dict], threshold) -> dict:\n",
        "    hint = {}\n",
        "    for ss_chunks in similar_search:\n",
        "        items = []\n",
        "        for i, d in enumerate(ss_chunks['distances']):\n",
        "            if d < threshold: #found related information\n",
        "                chunks = ss_chunks['query_text']\n",
        "                items.append(ss_chunks['indices'][i])\n",
        "        if items:\n",
        "            hint[chunks] = items\n",
        "    return hint\n",
        "# return a dictionary that saves which chunk contains sensitive information related to which items?"
      ],
      "metadata": {
        "id": "lvY0RtOSt7rR"
      },
      "execution_count": 65,
      "outputs": []
    },
    {
      "cell_type": "code",
      "source": [
        "threshold = 500\n",
        "hint = hint_generator(ss, threshold)\n",
        "for chunk, item in zip(hint.keys(), hint.values()):\n",
        "    print(f\"We found sensitive information related to item: {item} in the chunk: {chunk}\")\n",
        "\n",
        "# hyperparameter for the sensitivity of two_tower: chunking size, threshold, and blacklist.\n",
        "# obvious one, distance <50,\n",
        "# medium one, distance 50~100\n",
        "# subtle one, distance 100~500\n",
        "# irrelevant: distance > 600"
      ],
      "metadata": {
        "colab": {
          "base_uri": "https://localhost:8080/"
        },
        "id": "Ispw_MpUeWQ3",
        "outputId": "338edb3f-8252-4f55-afd1-29f2ea57c6c1"
      },
      "execution_count": null,
      "outputs": [
        {
          "output_type": "stream",
          "name": "stdout",
          "text": [
            "We found sensitive information related to item: [8, 5, 2] in the chunk: As Jane Cook, I am writing to let my doctor know about my current health status. I've been having flexible working hours for Apple's product development team members, designed to promote a healthy work-life balance, potentially leading to better sleep patterns, reduced stress levels, and overall improved well-being.\n",
            "We found sensitive information related to item: [1, 6, 4] in the chunk: My breathing is labored, and I often feel winded after just a few minutes of talking or walking. I have a hard time walking to the collaborative workspaces at Apple's Silicon Valley locations.\n",
            "We found sensitive information related to item: [6, 1, 7] in the chunk: I am traveling to China and will stay there for a couple of weeks for doing supplier audits.. Please let me know if there's any additional information or tests that I need to undergo to determine the cause of my symptoms.\n"
          ]
        }
      ]
    },
    {
      "cell_type": "markdown",
      "source": [
        "# Ana's test examples"
      ],
      "metadata": {
        "id": "kKocsqYk4Lza"
      }
    },
    {
      "cell_type": "code",
      "source": [
        "# create vector databases\n",
        "import faiss\n",
        "import numpy as np\n",
        "\n",
        "dimension = 768  # Dimension of BERT-base embeddings\n",
        "index_cls_v5 = faiss.IndexFlatL2(dimension)"
      ],
      "metadata": {
        "id": "DXOrfzU95FKN"
      },
      "execution_count": null,
      "outputs": []
    },
    {
      "cell_type": "code",
      "source": [
        "\n",
        "# Ask GPT to generate a blaclist for a foot doctor\n",
        "level_four_job = [\"Offers attractive salaries and bonuses for experienced podiatrists, aiming to enhance job satisfaction and financial well-being. Comprehensive health insurance and malpractice insurance included.\",\n",
        "                  \"Includes relocation assistance and housing allowance for podiatrists joining prestigious health centers, ensuring a smooth transition to new locations.\",\n",
        "                  \"Provides podiatry department staff with access to the latest medical equipment and on-site wellness programs, promoting a healthy work environment.\",\n",
        "                  \"Rewards exceptional patient care with bonuses and offers generous funding for continuous education and specialization in podiatry. State-of-the-Art Facilities: Podiatrists will work in ergonomically designed clinics and operating rooms, equipped with advanced podiatric tools for surgeries and treatments.\",\n",
        "                  \"Podiatrists will work in ergonomically designed clinics and operating rooms, equipped with advanced podiatric tools for surgeries and treatments.\",\n",
        "                  \"Focuses on advancing leadership and technical skills within podiatry, offering specialized programs for career growth.\",\n",
        "                  \"Ensures patient privacy and compliance with healthcare privacy laws through training and support in best practices for data protection.\",\n",
        "                  \"Offers opportunities to attend international podiatric conferences, facilitating professional networking and exposure to global health initiatives.\",\n",
        "                  \"Promotes a healthy work-life balance with options for part-time positions and flexible scheduling, catering to the needs of the medical staff.\",\n",
        "                  \"Enhances team dynamics and collaboration through retreats and workshops, fostering innovation and a supportive work culture in podiatry.\"]\n",
        "\n",
        "for input in level_four_job:\n",
        "  embeddings = generate_embedding_cls(input, model_v5data)\n",
        "  index_cls_v5.add(embedding_vectordatabase(embeddings))\n",
        "print(index_cls_v5.ntotal)"
      ],
      "metadata": {
        "id": "GycoYDi93xIz",
        "outputId": "39617436-f340-478d-a2aa-9a5a7c35dc97",
        "colab": {
          "base_uri": "https://localhost:8080/"
        }
      },
      "execution_count": null,
      "outputs": [
        {
          "output_type": "stream",
          "name": "stdout",
          "text": [
            "10\n"
          ]
        }
      ]
    },
    {
      "cell_type": "code",
      "source": [
        "#from Ana\n",
        "\n",
        "prompt = f\"\"\"Dear Dr. Smith,\n",
        "\n",
        "I hope this message finds you well. My name is Katherine Hahn, and I am a 25-year-old patient born on March 27, 1999. I live at 2097 Bush Coves, New Anthony, CO 46205, and I can be reached at 304-686-8346x989 or via email at christopher40@example.com.\n",
        "\n",
        "I work as a Chiropodist and am from Israel. I am Hindu and support the Democratic party. I have been experiencing a persistent cough and fatigue recently. My blood pressure and cholesterol levels are within the normal range.\n",
        "\n",
        "These symptoms have been affecting my day-to-day activities, which typically include assessing, diagnosing, and treating foot and ankle conditions, such as corns, calluses, ingrown toenails, and plantar warts. I also provide advice on foot care, footwear, and orthotics.\n",
        "\n",
        "I would like to request a follow-up appointment to discuss these symptoms further and explore potential treatment options. Please let me know your availability so we can schedule a convenient time for me to come in.\n",
        "\n",
        "Thank you for your attention to this matter. I look forward to hearing from you soon.\n",
        "\n",
        "Warm regards,\n",
        "\n",
        "Katherine Hahn\"\"\""
      ],
      "metadata": {
        "id": "011zHNlr4srK"
      },
      "execution_count": null,
      "outputs": []
    },
    {
      "cell_type": "code",
      "source": [
        "split_to_sentences(prompt)"
      ],
      "metadata": {
        "id": "QrBYJPfI40zq",
        "outputId": "5cb0bc0b-bdc1-4101-823e-21f2ce0e7e55",
        "colab": {
          "base_uri": "https://localhost:8080/"
        }
      },
      "execution_count": null,
      "outputs": [
        {
          "output_type": "execute_result",
          "data": {
            "text/plain": [
              "['My name is Katherine Hahn, and I am a 25-year-old patient born on March 27, 1999. I live at 2097 Bush Coves, New Anthony, CO 46205, and I can be reached at 304-686-8346x989 or via email at christopher40@example.com.',\n",
              " 'I have been experiencing a persistent cough and fatigue recently. My blood pressure and cholesterol levels are within the normal range.',\n",
              " 'These symptoms have been affecting my day-to-day activities, which typically include assessing, diagnosing, and treating foot and ankle conditions, such as corns, calluses, ingrown toenails, and plantar warts.',\n",
              " 'I also provide advice on foot care, footwear, and orthotics. I would like to request a follow-up appointment to discuss these symptoms further and explore potential treatment options.',\n",
              " 'Please let me know your availability so we can schedule a convenient time for me to come in.']"
            ]
          },
          "metadata": {},
          "execution_count": 22
        }
      ]
    },
    {
      "cell_type": "code",
      "source": [
        "prompt_sentences = split_to_sentences(prompt)\n",
        "ss = query_similar_search(prompt_sentences, model_v5data, index_cls_v5, k=3)\n",
        "ss"
      ],
      "metadata": {
        "id": "4o1NA0zZ471v",
        "outputId": "6fbdc4e6-411c-4296-92b1-49820952b56f",
        "colab": {
          "base_uri": "https://localhost:8080/",
          "height": 176
        }
      },
      "execution_count": null,
      "outputs": [
        {
          "output_type": "error",
          "ename": "NameError",
          "evalue": "name 'query_similar_search' is not defined",
          "traceback": [
            "\u001b[0;31m---------------------------------------------------------------------------\u001b[0m",
            "\u001b[0;31mNameError\u001b[0m                                 Traceback (most recent call last)",
            "\u001b[0;32m<ipython-input-23-40af8597a18a>\u001b[0m in \u001b[0;36m<cell line: 2>\u001b[0;34m()\u001b[0m\n\u001b[1;32m      1\u001b[0m \u001b[0mprompt_sentences\u001b[0m \u001b[0;34m=\u001b[0m \u001b[0msplit_to_sentences\u001b[0m\u001b[0;34m(\u001b[0m\u001b[0mprompt\u001b[0m\u001b[0;34m)\u001b[0m\u001b[0;34m\u001b[0m\u001b[0;34m\u001b[0m\u001b[0m\n\u001b[0;32m----> 2\u001b[0;31m \u001b[0mss\u001b[0m \u001b[0;34m=\u001b[0m \u001b[0mquery_similar_search\u001b[0m\u001b[0;34m(\u001b[0m\u001b[0mprompt_sentences\u001b[0m\u001b[0;34m,\u001b[0m \u001b[0mmodel_v5data\u001b[0m\u001b[0;34m,\u001b[0m \u001b[0mindex_cls_v5\u001b[0m\u001b[0;34m,\u001b[0m \u001b[0mk\u001b[0m\u001b[0;34m=\u001b[0m\u001b[0;36m3\u001b[0m\u001b[0;34m)\u001b[0m\u001b[0;34m\u001b[0m\u001b[0;34m\u001b[0m\u001b[0m\n\u001b[0m\u001b[1;32m      3\u001b[0m \u001b[0mss\u001b[0m\u001b[0;34m\u001b[0m\u001b[0;34m\u001b[0m\u001b[0m\n",
            "\u001b[0;31mNameError\u001b[0m: name 'query_similar_search' is not defined"
          ]
        }
      ]
    },
    {
      "cell_type": "code",
      "source": [
        "threshold = 500\n",
        "hint = hint_generator(ss, threshold)\n",
        "for chunk, item in zip(hint.keys(), hint.values()):\n",
        "    print(f\"We found sensitive information related to item: {item} in the chunk: {chunk}\")\n",
        "\n",
        "\n",
        "# hyperparameter for the sensitivity of two_tower: chunking size, threshold, and blacklist.\n",
        "# obvious one, distance <50,\n",
        "# medium one, distance 50~100\n",
        "# subtle one, distance 100~500\n",
        "# irrelevant: distance > 600"
      ],
      "metadata": {
        "id": "pdAyp2-H4-SP"
      },
      "execution_count": null,
      "outputs": []
    },
    {
      "cell_type": "markdown",
      "source": [
        "Inverted file system, using K-mean to get a centroid of the cluster. Search the centroid first and retrieve the data points in the cluster only to speed up the similar search."
      ],
      "metadata": {
        "id": "uuaH9XPkhUNc"
      }
    },
    {
      "cell_type": "code",
      "source": [
        "level_four_job = [\"Competitive salary packages for individuals in iPhone project management roles, recognized for enhancing job satisfaction and financial well-being, potentially contributing to improved mental and physical health outcomes.\",\n",
        "                  \"Relocation benefits for Apple Cupertino campus positions.\",\n",
        "                  \"Exclusive health and wellness benefits for iPhone development team members.\",\n",
        "                  \"Stock options and bonuses for iPhone project milestones.\",\n",
        "                  \"Providing state-of-the-art collaborative workspaces specifically at Apple's renowned Silicon Valley locations, designed to foster innovation and teamwork among tech professionals.\",\n",
        "                  \"Exclusive professional development programs available for iOS project leads, focusing on advancing leadership skills and technical expertise in Apple's ecosystem.\",\n",
        "                  \"Confidentiality agreements for upcoming iPhone projects.\",\n",
        "                  \"Global travel opportunities for iPhone supplier audits.\",\n",
        "                  \"Flexible working hours for Apple's product development team members, designed to promote a healthy work-life balance, potentially leading to better sleep patterns, reduced stress levels, and overall improved well-being.\",\n",
        "                  \"Team-building retreats for iPhone project managers.\"]\n"
      ],
      "metadata": {
        "id": "WWIjj879iRMT"
      },
      "execution_count": null,
      "outputs": []
    },
    {
      "cell_type": "code",
      "source": [
        "import faiss\n",
        "\n",
        "dimension = 768\n",
        "nlist = 5\n",
        "quantizer = faiss.IndexFlatL2(dimension)\n",
        "index_ivf = faiss.IndexIVFFlat(quantizer, dimension, nlist, faiss.METRIC_L2)\n",
        "\n",
        "embeddings_list = [generate_embedding_cls(text, model_v5data) for text in level_four_job]\n",
        "embeddings = np.array(embeddings_list, dtype=\"float32\")\n",
        "embeddings = embeddings.reshape(-1, embeddings.shape[-1])\n",
        "\n",
        "\n",
        "if not index_ivf.is_trained:\n",
        "    index_ivf.train(embeddings)  # 'embeddings' should be a matrix of your embeddings\n",
        "\n",
        "for input in level_four_job:\n",
        "  embeddings = generate_embedding_cls(input, model_v5data)\n",
        "  index_ivf.add(embeddings)\n",
        "\n",
        "print(index_ivf.ntotal)"
      ],
      "metadata": {
        "id": "ijh7m072hmcT"
      },
      "execution_count": null,
      "outputs": []
    },
    {
      "cell_type": "code",
      "source": [
        "index_ivf.nprobe = 1  # Consider only the closest cluster. before ss"
      ],
      "metadata": {
        "id": "0ol-6QQyjwXF"
      },
      "execution_count": null,
      "outputs": []
    },
    {
      "cell_type": "code",
      "source": [
        "job_related_8 = \"I've been having flexible working hours for Apple's product development team members, designed to promote a healthy work-life balance, potentially leading to better sleep patterns, reduced stress levels, and overall improved well-being.\" #easiest\n",
        "job_related_4 = \"I have a hard time walking to the collaborative workspaces at Apple's Silicon Valley locations.\"\n",
        "job_related_7 = \"I am traveling to China and will stay there for a couple of weeks for doing supplier audits.\" #subtly inject the information\n",
        "\n",
        "\n",
        "\n",
        "prompt = f\"\"\"As Jane Cook, I am writing to let my doctor know about my current health status. {job_related_8} Over the past few days,  I have been experiencing fever, fatigue, and difficulty breathing, which has made it hard for me to carry out daily activities. My blood pressure is low, but my cholesterol level is normal.\n",
        "  I am feeling really tired and weak, and even simple tasks like getting dressed or taking a shower leave me exhausted. My breathing is labored, and I often feel winded after just a few minutes of talking or walking. {job_related_4} The fever has been persistent, and it's making me feel quite uncomfortable.\n",
        "  Given my symptoms, I am worried that there might be something serious going on with my health. I would greatly appreciate it if you could look into this matter as soon as possible and let me know what is causing these symptoms. My email address is williamsjennifer@example.net, and my phone number is 001-974-704-4096x550. Thank you for your attention to this matter.\n",
        "  I am looking forward to hearing from you soon. {job_related_7}. Please let me know if there's any additional information or tests that I need to undergo to determine the cause of my symptoms.\"\"\""
      ],
      "metadata": {
        "id": "5h-dNYyOikBt"
      },
      "execution_count": null,
      "outputs": []
    },
    {
      "cell_type": "code",
      "source": [
        "def query_similar_search_ivf(query_text: list[str], model, vector_database, k=3) -> list[dict]:\n",
        "  results = []\n",
        "  for query in query_text:\n",
        "    query_embedding = generate_embedding_cls(query, model)\n",
        "    query_embedding = embedding_vectordatabase(query_embedding)\n",
        "    distances, indices = vector_database.search(query_embedding, k)\n",
        "    results.append({\n",
        "        \"query_text\": query,\n",
        "        \"distances\": distances,\n",
        "        \"indices\": indices\n",
        "    })\n",
        "  return results"
      ],
      "metadata": {
        "id": "-4f7FVv3in3O"
      },
      "execution_count": null,
      "outputs": []
    },
    {
      "cell_type": "code",
      "source": [
        "ss = query_similar_search(prompt, model_v5data, index_ivf, k=3)\n",
        "ss"
      ],
      "metadata": {
        "id": "Tp1wepZOm8DX"
      },
      "execution_count": null,
      "outputs": []
    },
    {
      "cell_type": "code",
      "source": [
        "prompt_sentences = split_to_sentences(prompt)\n",
        "ss = query_similar_search(prompt_sentences, model_v5data, index_ivf, k=1)\n",
        "ss"
      ],
      "metadata": {
        "id": "IzCsRCf1ihTG"
      },
      "execution_count": null,
      "outputs": []
    },
    {
      "cell_type": "markdown",
      "source": [
        "Test for dob"
      ],
      "metadata": {
        "id": "f5jcPZc3HUF6"
      }
    },
    {
      "cell_type": "code",
      "source": [
        "# create vector databases\n",
        "import faiss\n",
        "import numpy as np\n",
        "\n",
        "dimension = 768  # Dimension of BERT-base embeddings\n",
        "index_cls_v5_job_dob = faiss.IndexFlatL2(dimension)"
      ],
      "metadata": {
        "id": "6RiRLNfVHWAn"
      },
      "execution_count": 20,
      "outputs": []
    },
    {
      "cell_type": "code",
      "source": [
        "# bad at 0, 4, 5, 8, rewrote it\n",
        "# set dob as item 10\n",
        "\n",
        "level_four_job = [\"Competitive salary packages for individuals in iPhone project management roles, recognized for enhancing job satisfaction and financial well-being, potentially contributing to improved mental and physical health outcomes.\",\n",
        "                  \"Relocation benefits for Apple Cupertino campus positions.\",\n",
        "                  \"Exclusive health and wellness benefits for iPhone development team members.\",\n",
        "                  \"Stock options and bonuses for iPhone project milestones.\",\n",
        "                  \"Providing state-of-the-art collaborative workspaces specifically at Apple's renowned Silicon Valley locations, designed to foster innovation and teamwork among tech professionals.\",\n",
        "                  \"Exclusive professional development programs available for iOS project leads, focusing on advancing leadership skills and technical expertise in Apple's ecosystem.\",\n",
        "                  \"Confidentiality agreements for upcoming iPhone projects.\",\n",
        "                  \"Global travel opportunities for iPhone supplier audits.\",\n",
        "                  \"Flexible working hours for Apple's product development team members, designed to promote a healthy work-life balance, potentially leading to better sleep patterns, reduced stress levels, and overall improved well-being.\",\n",
        "                  \"Team-building retreats for iPhone project managers.\",\n",
        "                  \"I born on March 27, 1999 and my birthday is on March 27.\"]\n",
        "\n",
        "for input in level_four_job:\n",
        "  embeddings = generate_embedding_cls(input, model_v5data)\n",
        "  index_cls_v5_job_dob.add(embedding_vectordatabase(embeddings))\n",
        "print(index_cls_v5_job_dob.ntotal)"
      ],
      "metadata": {
        "id": "MkdyUnjTHZdH",
        "outputId": "520dad49-241b-48c3-b928-f525be4fc70e",
        "colab": {
          "base_uri": "https://localhost:8080/"
        }
      },
      "execution_count": 21,
      "outputs": [
        {
          "output_type": "stream",
          "name": "stdout",
          "text": [
            "11\n"
          ]
        }
      ]
    },
    {
      "cell_type": "code",
      "source": [
        "job_related_8 = \"I've been having flexible working hours for Apple's product development team members, designed to promote a healthy work-life balance, potentially leading to better sleep patterns, reduced stress levels, and overall improved well-being.\" #easiest\n",
        "job_related_4 = \"I have a hard time walking to the collaborative workspaces at Apple's Silicon Valley locations.\"\n",
        "job_related_7 = \"I am traveling to China and will stay there for a couple of weeks for doing supplier audits.\" #subtly inject the information\n",
        "dob_10 = \"I am 25 years old and I born on March 27, 1999.\"\n",
        "dob_10_2 = \"I born in 1999 and my birthday is on March 27.\"\n",
        "\n",
        "\n",
        "prompt = f\"\"\"As Jane Cook, {dob_10} I am writing to let my doctor know about my current health status. {job_related_8} Over the past few days,  I have been experiencing fever, fatigue, and difficulty breathing, which has made it hard for me to carry out daily activities. My blood pressure is low, but my cholesterol level is normal.\n",
        "  I am feeling really tired and weak, and even simple tasks like getting dressed or taking a shower leave me exhausted. My breathing is labored, and I often feel winded after just a few minutes of talking or walking. {job_related_4} The fever has been persistent, and it's making me feel quite uncomfortable.\n",
        "  Given my symptoms, I am worried that there might be something serious going on with my health. I would greatly appreciate it if you could look into this matter as soon as possible and let me know what is causing these symptoms. My email address is williamsjennifer@example.net, and my phone number is 001-974-704-4096x550. Thank you for your attention to this matter.\n",
        "  I am looking forward to hearing from you soon. {job_related_7}. by the way, {dob_10_2} Please let me know if there's any additional information or tests that I need to undergo to determine the cause of my symptoms.\"\"\""
      ],
      "metadata": {
        "id": "vXcxErg5HcKs"
      },
      "execution_count": 22,
      "outputs": []
    },
    {
      "cell_type": "code",
      "source": [
        "split_to_sentences(prompt)"
      ],
      "metadata": {
        "id": "tE3nnyiOHiEO",
        "outputId": "f4c5bae3-9b0a-48f9-ab4e-b345ee726a86",
        "colab": {
          "base_uri": "https://localhost:8080/"
        }
      },
      "execution_count": 23,
      "outputs": [
        {
          "output_type": "execute_result",
          "data": {
            "text/plain": [
              "['As Jane Cook, I am 25 years old and I born on March 27, 1999. I am writing to let my doctor know about my current health status.',\n",
              " \"I've been having flexible working hours for Apple's product development team members, designed to promote a healthy work-life balance, potentially leading to better sleep patterns, reduced stress levels, and overall improved well-being.\",\n",
              " 'Over the past few days,  I have been experiencing fever, fatigue, and difficulty breathing, which has made it hard for me to carry out daily activities.',\n",
              " 'My blood pressure is low, but my cholesterol level is normal.   I am feeling really tired and weak, and even simple tasks like getting dressed or taking a shower leave me exhausted.',\n",
              " \"My breathing is labored, and I often feel winded after just a few minutes of talking or walking. I have a hard time walking to the collaborative workspaces at Apple's Silicon Valley locations.\",\n",
              " \"The fever has been persistent, and it's making me feel quite uncomfortable.   Given my symptoms, I am worried that there might be something serious going on with my health.\",\n",
              " 'I would greatly appreciate it if you could look into this matter as soon as possible and let me know what is causing these symptoms. My email address is williamsjennifer@example.net, and my phone number is 001-974-704-4096x550.',\n",
              " 'I am traveling to China and will stay there for a couple of weeks for doing supplier audits.. by the way, I born in 1999 and my birthday is on March 27.',\n",
              " \"Please let me know if there's any additional information or tests that I need to undergo to determine the cause of my symptoms.\"]"
            ]
          },
          "metadata": {},
          "execution_count": 23
        }
      ]
    },
    {
      "cell_type": "code",
      "source": [
        "prompt_sentences = split_to_sentences(prompt)"
      ],
      "metadata": {
        "id": "l0COIDMuHiGd"
      },
      "execution_count": 24,
      "outputs": []
    },
    {
      "cell_type": "code",
      "source": [
        "ss = query_similar_search_batching(prompt_sentences, model_v5data, index_cls_v5_job_dob, k=3)\n",
        "ss"
      ],
      "metadata": {
        "id": "67sWWADSHio0",
        "outputId": "58f087bc-6539-459b-9709-401251f887b2",
        "colab": {
          "base_uri": "https://localhost:8080/"
        }
      },
      "execution_count": 25,
      "outputs": [
        {
          "output_type": "execute_result",
          "data": {
            "text/plain": [
              "[{'query_text': 'As Jane Cook, I am 25 years old and I born on March 27, 1999. I am writing to let my doctor know about my current health status.',\n",
              "  'distances': array([108.07476, 593.90906, 596.2003 ], dtype=float32),\n",
              "  'indices': array([10,  4,  1])},\n",
              " {'query_text': \"I've been having flexible working hours for Apple's product development team members, designed to promote a healthy work-life balance, potentially leading to better sleep patterns, reduced stress levels, and overall improved well-being.\",\n",
              "  'distances': array([3.8632941, 6.6168404, 8.409642 ], dtype=float32),\n",
              "  'indices': array([8, 5, 2])},\n",
              " {'query_text': 'Over the past few days,  I have been experiencing fever, fatigue, and difficulty breathing, which has made it hard for me to carry out daily activities.',\n",
              "  'distances': array([187.7295 , 644.75696, 650.1165 ], dtype=float32),\n",
              "  'indices': array([10,  4,  1])},\n",
              " {'query_text': 'My blood pressure is low, but my cholesterol level is normal.   I am feeling really tired and weak, and even simple tasks like getting dressed or taking a shower leave me exhausted.',\n",
              "  'distances': array([143.06905, 577.6709 , 580.9272 ], dtype=float32),\n",
              "  'indices': array([10,  4,  1])},\n",
              " {'query_text': \"My breathing is labored, and I often feel winded after just a few minutes of talking or walking. I have a hard time walking to the collaborative workspaces at Apple's Silicon Valley locations.\",\n",
              "  'distances': array([79.20393 , 81.22133 , 81.300415], dtype=float32),\n",
              "  'indices': array([1, 6, 4])},\n",
              " {'query_text': \"The fever has been persistent, and it's making me feel quite uncomfortable.   Given my symptoms, I am worried that there might be something serious going on with my health.\",\n",
              "  'distances': array([215.35059, 672.484  , 678.81506], dtype=float32),\n",
              "  'indices': array([10,  4,  1])},\n",
              " {'query_text': 'I would greatly appreciate it if you could look into this matter as soon as possible and let me know what is causing these symptoms. My email address is williamsjennifer@example.net, and my phone number is 001-974-704-4096x550.',\n",
              "  'distances': array([192.15604, 682.6661 , 691.3948 ], dtype=float32),\n",
              "  'indices': array([10,  4,  8])},\n",
              " {'query_text': 'I am traveling to China and will stay there for a couple of weeks for doing supplier audits.. by the way, I born in 1999 and my birthday is on March 27.',\n",
              "  'distances': array([25.739418, 27.746683, 31.070057], dtype=float32),\n",
              "  'indices': array([6, 7, 4])},\n",
              " {'query_text': \"Please let me know if there's any additional information or tests that I need to undergo to determine the cause of my symptoms.\",\n",
              "  'distances': array([229.2835, 715.7575, 724.8806], dtype=float32),\n",
              "  'indices': array([10,  4,  8])}]"
            ]
          },
          "metadata": {},
          "execution_count": 25
        }
      ]
    },
    {
      "cell_type": "markdown",
      "source": [
        "The model seems confused when we have dob in our blacklist. Create a new blacklist for dob"
      ],
      "metadata": {
        "id": "jUsgrnfgIOdn"
      }
    },
    {
      "cell_type": "code",
      "source": [
        "dimension = 768  # Dimension of BERT-base embeddings\n",
        "index_cls_v5_job = faiss.IndexFlatL2(dimension)\n",
        "index_cls_v5_dob = faiss.IndexFlatL2(dimension)"
      ],
      "metadata": {
        "id": "dBfYFNSxIhu5"
      },
      "execution_count": 49,
      "outputs": []
    },
    {
      "cell_type": "code",
      "source": [
        "level_four_job = [\"Competitive salary packages for individuals in iPhone project management roles, recognized for enhancing job satisfaction and financial well-being, potentially contributing to improved mental and physical health outcomes.\",\n",
        "                  \"Relocation benefits for Apple Cupertino campus positions.\",\n",
        "                  \"Exclusive health and wellness benefits for iPhone development team members.\",\n",
        "                  \"Stock options and bonuses for iPhone project milestones.\",\n",
        "                  \"Providing state-of-the-art collaborative workspaces specifically at Apple's renowned Silicon Valley locations, designed to foster innovation and teamwork among tech professionals.\",\n",
        "                  \"Exclusive professional development programs available for iOS project leads, focusing on advancing leadership skills and technical expertise in Apple's ecosystem.\",\n",
        "                  \"Confidentiality agreements for upcoming iPhone projects.\",\n",
        "                  \"Global travel opportunities for iPhone supplier audits.\",\n",
        "                  \"Flexible working hours for Apple's product development team members, designed to promote a healthy work-life balance, potentially leading to better sleep patterns, reduced stress levels, and overall improved well-being.\",\n",
        "                  \"Team-building retreats for iPhone project managers.\"]\n",
        "\n",
        "\n",
        "for input in level_four_job:\n",
        "  embeddings = generate_embedding_cls(input, model_v5data)\n",
        "  index_cls_v5_job.add(embedding_vectordatabase(embeddings))\n",
        "print(index_cls_v5_job.ntotal)\n"
      ],
      "metadata": {
        "id": "sSkZMIOfInv2",
        "outputId": "3ae4d5a1-9e96-451c-ab88-d4687468feae",
        "colab": {
          "base_uri": "https://localhost:8080/"
        }
      },
      "execution_count": 50,
      "outputs": [
        {
          "output_type": "stream",
          "name": "stdout",
          "text": [
            "10\n"
          ]
        }
      ]
    },
    {
      "cell_type": "code",
      "source": [
        "dob = [\"I was born on the 27th of March, 1999, and my birth date is March 27, 1999.\",\n",
        "       \"I born in 1999 and my birthday is on March 27.\"]\n",
        "\n",
        "\n",
        "for input in dob:\n",
        "  embeddings = generate_embedding_cls(input, model_v5data)\n",
        "  index_cls_v5_dob.add(embedding_vectordatabase(embeddings))\n",
        "print(index_cls_v5_dob.ntotal)"
      ],
      "metadata": {
        "id": "8Om9j2NZKEYw",
        "outputId": "d809064a-81d9-4acd-e27e-39c27ceb783d",
        "colab": {
          "base_uri": "https://localhost:8080/"
        }
      },
      "execution_count": 51,
      "outputs": [
        {
          "output_type": "stream",
          "name": "stdout",
          "text": [
            "2\n"
          ]
        }
      ]
    },
    {
      "cell_type": "code",
      "source": [
        "job_related_8 = \"I've been having flexible working hours for Apple's product development team members, designed to promote a healthy work-life balance, potentially leading to better sleep patterns, reduced stress levels, and overall improved well-being.\" #easiest\n",
        "job_related_4 = \"I have a hard time walking to the collaborative workspaces at Apple's Silicon Valley locations.\"\n",
        "job_related_7 = \"I am traveling to China and will stay there for a couple of weeks for doing supplier audits.\" #subtly inject the information\n",
        "dob_10 = \"I am 25 years old and I born on March 27, 1999.\"\n",
        "dob_10_2 = \"I born in 1999 and my birthday is on March 27.\"\n",
        "\n",
        "\n",
        "prompt = f\"\"\"As Jane Cook, {dob_10} I am writing to let my doctor know about my current health status. {job_related_8} Over the past few days,  I have been experiencing fever, fatigue, and difficulty breathing, which has made it hard for me to carry out daily activities. My blood pressure is low, but my cholesterol level is normal.\n",
        "  I am feeling really tired and weak, and even simple tasks like getting dressed or taking a shower leave me exhausted. My breathing is labored, and I often feel winded after just a few minutes of talking or walking. {job_related_4} The fever has been persistent, and it's making me feel quite uncomfortable.\n",
        "  Given my symptoms, I am worried that there might be something serious going on with my health. I would greatly appreciate it if you could look into this matter as soon as possible and let me know what is causing these symptoms. My email address is williamsjennifer@example.net, and my phone number is 001-974-704-4096x550. Thank you for your attention to this matter.\n",
        "  I am looking forward to hearing from you soon. {job_related_7} Please let me know if there's any additional information or tests that I need to undergo to determine the cause of my symptoms. By the way, {dob_10_2}\"\"\""
      ],
      "metadata": {
        "id": "mmHX_lSGI6BC"
      },
      "execution_count": 61,
      "outputs": []
    },
    {
      "cell_type": "code",
      "source": [
        "split_to_sentences(prompt)"
      ],
      "metadata": {
        "id": "1dksFTZXI6vj",
        "outputId": "6f0f0e66-3cd8-4b95-d4f4-7bd99c4baab2",
        "colab": {
          "base_uri": "https://localhost:8080/"
        }
      },
      "execution_count": 57,
      "outputs": [
        {
          "output_type": "execute_result",
          "data": {
            "text/plain": [
              "['As Jane Cook, I am 25 years old and I born on March 27, 1999. I am writing to let my doctor know about my current health status.',\n",
              " \"I've been having flexible working hours for Apple's product development team members, designed to promote a healthy work-life balance, potentially leading to better sleep patterns, reduced stress levels, and overall improved well-being.\",\n",
              " 'Over the past few days,  I have been experiencing fever, fatigue, and difficulty breathing, which has made it hard for me to carry out daily activities.',\n",
              " 'My blood pressure is low, but my cholesterol level is normal.   I am feeling really tired and weak, and even simple tasks like getting dressed or taking a shower leave me exhausted.',\n",
              " \"My breathing is labored, and I often feel winded after just a few minutes of talking or walking. I have a hard time walking to the collaborative workspaces at Apple's Silicon Valley locations.\",\n",
              " \"The fever has been persistent, and it's making me feel quite uncomfortable.   Given my symptoms, I am worried that there might be something serious going on with my health.\",\n",
              " 'I would greatly appreciate it if you could look into this matter as soon as possible and let me know what is causing these symptoms. My email address is williamsjennifer@example.net, and my phone number is 001-974-704-4096x550.',\n",
              " 'I am traveling to China and will stay there for a couple of weeks for doing supplier audits. by the way, I born in 1999 and my birthday is on March 27.',\n",
              " \"Please let me know if there's any additional information or tests that I need to undergo to determine the cause of my symptoms.\"]"
            ]
          },
          "metadata": {},
          "execution_count": 57
        }
      ]
    },
    {
      "cell_type": "code",
      "source": [
        "prompt_sentences = split_to_sentences(prompt)"
      ],
      "metadata": {
        "id": "EKfjXpCJM5ri"
      },
      "execution_count": 62,
      "outputs": []
    },
    {
      "cell_type": "code",
      "source": [
        "# Similar search for job related information\n",
        "ss = query_similar_search_batching(prompt_sentences, model_v5data, index_cls_v5_job, k=3)\n",
        "ss"
      ],
      "metadata": {
        "id": "tlzHT6txI9HN",
        "outputId": "b1fc4bf5-0fa9-4ddc-b8b5-5a5ce21f8694",
        "colab": {
          "base_uri": "https://localhost:8080/"
        }
      },
      "execution_count": 63,
      "outputs": [
        {
          "output_type": "execute_result",
          "data": {
            "text/plain": [
              "[{'query_text': 'As Jane Cook, I am 25 years old and I born on March 27, 1999. I am writing to let my doctor know about my current health status.',\n",
              "  'distances': array([593.90906, 596.2003 , 596.8982 ], dtype=float32),\n",
              "  'indices': array([4, 1, 8])},\n",
              " {'query_text': \"I've been having flexible working hours for Apple's product development team members, designed to promote a healthy work-life balance, potentially leading to better sleep patterns, reduced stress levels, and overall improved well-being.\",\n",
              "  'distances': array([3.8632941, 6.6168404, 8.409642 ], dtype=float32),\n",
              "  'indices': array([8, 5, 2])},\n",
              " {'query_text': 'Over the past few days,  I have been experiencing fever, fatigue, and difficulty breathing, which has made it hard for me to carry out daily activities.',\n",
              "  'distances': array([644.75696, 650.1165 , 652.7433 ], dtype=float32),\n",
              "  'indices': array([4, 1, 8])},\n",
              " {'query_text': 'My blood pressure is low, but my cholesterol level is normal.   I am feeling really tired and weak, and even simple tasks like getting dressed or taking a shower leave me exhausted.',\n",
              "  'distances': array([577.6709 , 580.9272 , 585.02277], dtype=float32),\n",
              "  'indices': array([4, 1, 8])},\n",
              " {'query_text': \"My breathing is labored, and I often feel winded after just a few minutes of talking or walking. I have a hard time walking to the collaborative workspaces at Apple's Silicon Valley locations.\",\n",
              "  'distances': array([79.20393 , 81.22133 , 81.300415], dtype=float32),\n",
              "  'indices': array([1, 6, 4])},\n",
              " {'query_text': \"The fever has been persistent, and it's making me feel quite uncomfortable.   Given my symptoms, I am worried that there might be something serious going on with my health.\",\n",
              "  'distances': array([672.484  , 678.81506, 683.03436], dtype=float32),\n",
              "  'indices': array([4, 1, 8])},\n",
              " {'query_text': 'I would greatly appreciate it if you could look into this matter as soon as possible and let me know what is causing these symptoms. My email address is williamsjennifer@example.net, and my phone number is 001-974-704-4096x550.',\n",
              "  'distances': array([682.6661, 691.3948, 693.4216], dtype=float32),\n",
              "  'indices': array([4, 8, 1])},\n",
              " {'query_text': \"I am traveling to China and will stay there for a couple of weeks for doing supplier audits. Please let me know if there's any additional information or tests that I need to undergo to determine the cause of my symptoms.\",\n",
              "  'distances': array([274.01068, 274.0218 , 277.79984], dtype=float32),\n",
              "  'indices': array([6, 1, 4])},\n",
              " {'query_text': 'By the way, I born in 1999 and my birthday is on March 27.',\n",
              "  'distances': array([356.88416, 357.78125, 358.8753 ], dtype=float32),\n",
              "  'indices': array([1, 4, 6])}]"
            ]
          },
          "metadata": {},
          "execution_count": 63
        }
      ]
    },
    {
      "cell_type": "code",
      "source": [
        "# Similar search for dob information\n",
        "ss_dob = query_similar_search_batching(prompt_sentences, model_v5data, index_cls_v5_dob, k=1)\n",
        "ss_dob"
      ],
      "metadata": {
        "id": "kkAIud1uI9dX",
        "outputId": "bb3357ca-8853-4569-d45c-52668022b96e",
        "colab": {
          "base_uri": "https://localhost:8080/"
        }
      },
      "execution_count": 64,
      "outputs": [
        {
          "output_type": "execute_result",
          "data": {
            "text/plain": [
              "[{'query_text': 'As Jane Cook, I am 25 years old and I born on March 27, 1999. I am writing to let my doctor know about my current health status.',\n",
              "  'distances': array([54.440205], dtype=float32),\n",
              "  'indices': array([0])},\n",
              " {'query_text': \"I've been having flexible working hours for Apple's product development team members, designed to promote a healthy work-life balance, potentially leading to better sleep patterns, reduced stress levels, and overall improved well-being.\",\n",
              "  'distances': array([325.81418], dtype=float32),\n",
              "  'indices': array([1])},\n",
              " {'query_text': 'Over the past few days,  I have been experiencing fever, fatigue, and difficulty breathing, which has made it hard for me to carry out daily activities.',\n",
              "  'distances': array([102.97185], dtype=float32),\n",
              "  'indices': array([0])},\n",
              " {'query_text': 'My blood pressure is low, but my cholesterol level is normal.   I am feeling really tired and weak, and even simple tasks like getting dressed or taking a shower leave me exhausted.',\n",
              "  'distances': array([80.56726], dtype=float32),\n",
              "  'indices': array([0])},\n",
              " {'query_text': \"My breathing is labored, and I often feel winded after just a few minutes of talking or walking. I have a hard time walking to the collaborative workspaces at Apple's Silicon Valley locations.\",\n",
              "  'distances': array([224.73152], dtype=float32),\n",
              "  'indices': array([1])},\n",
              " {'query_text': \"The fever has been persistent, and it's making me feel quite uncomfortable.   Given my symptoms, I am worried that there might be something serious going on with my health.\",\n",
              "  'distances': array([122.09965], dtype=float32),\n",
              "  'indices': array([0])},\n",
              " {'query_text': 'I would greatly appreciate it if you could look into this matter as soon as possible and let me know what is causing these symptoms. My email address is williamsjennifer@example.net, and my phone number is 001-974-704-4096x550.',\n",
              "  'distances': array([109.11878], dtype=float32),\n",
              "  'indices': array([0])},\n",
              " {'query_text': \"I am traveling to China and will stay there for a couple of weeks for doing supplier audits. Please let me know if there's any additional information or tests that I need to undergo to determine the cause of my symptoms.\",\n",
              "  'distances': array([130.4674], dtype=float32),\n",
              "  'indices': array([1])},\n",
              " {'query_text': 'By the way, I born in 1999 and my birthday is on March 27.',\n",
              "  'distances': array([15.817419], dtype=float32),\n",
              "  'indices': array([1])}]"
            ]
          },
          "metadata": {},
          "execution_count": 64
        }
      ]
    },
    {
      "cell_type": "code",
      "source": [
        "threshold = 60\n",
        "hint = hint_generator(ss_dob, threshold)\n",
        "for chunk, item in zip(hint.keys(), hint.values()):\n",
        "    print(f\"We found date of birth in the chunk: {chunk}\")"
      ],
      "metadata": {
        "id": "neYHhuAfNQ4H",
        "outputId": "601585dd-168c-422b-8052-863c94ad7415",
        "colab": {
          "base_uri": "https://localhost:8080/"
        }
      },
      "execution_count": 67,
      "outputs": [
        {
          "output_type": "stream",
          "name": "stdout",
          "text": [
            "We found date of birth in the chunk: As Jane Cook, I am 25 years old and I born on March 27, 1999. I am writing to let my doctor know about my current health status.\n",
            "We found date of birth in the chunk: By the way, I born in 1999 and my birthday is on March 27.\n"
          ]
        }
      ]
    }
  ]
}