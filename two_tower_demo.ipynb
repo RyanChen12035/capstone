{
  "nbformat": 4,
  "nbformat_minor": 0,
  "metadata": {
    "colab": {
      "provenance": [],
      "gpuType": "T4",
      "authorship_tag": "ABX9TyM8cYbDJLNH/jxV/ADZd8ZK",
      "include_colab_link": true
    },
    "kernelspec": {
      "name": "python3",
      "display_name": "Python 3"
    },
    "language_info": {
      "name": "python"
    },
    "accelerator": "GPU"
  },
  "cells": [
    {
      "cell_type": "markdown",
      "metadata": {
        "id": "view-in-github",
        "colab_type": "text"
      },
      "source": [
        "<a href=\"https://colab.research.google.com/github/RyanChen12035/capstone/blob/main/two_tower_demo.ipynb\" target=\"_parent\"><img src=\"https://colab.research.google.com/assets/colab-badge.svg\" alt=\"Open In Colab\"/></a>"
      ]
    },
    {
      "cell_type": "code",
      "execution_count": 1,
      "metadata": {
        "colab": {
          "base_uri": "https://localhost:8080/"
        },
        "id": "puib5VEaYwXI",
        "outputId": "0325e2de-1e70-4e0f-a944-f60a2d990f50"
      },
      "outputs": [
        {
          "output_type": "stream",
          "name": "stdout",
          "text": [
            "  Installing build dependencies ... \u001b[?25l\u001b[?25hdone\n",
            "  Getting requirements to build wheel ... \u001b[?25l\u001b[?25hdone\n",
            "  Preparing metadata (pyproject.toml) ... \u001b[?25l\u001b[?25hdone\n",
            "  \u001b[1;31merror\u001b[0m: \u001b[1msubprocess-exited-with-error\u001b[0m\n",
            "  \n",
            "  \u001b[31m×\u001b[0m \u001b[32mBuilding wheel for tokenizers \u001b[0m\u001b[1;32m(\u001b[0m\u001b[32mpyproject.toml\u001b[0m\u001b[1;32m)\u001b[0m did not run successfully.\n",
            "  \u001b[31m│\u001b[0m exit code: \u001b[1;36m1\u001b[0m\n",
            "  \u001b[31m╰─>\u001b[0m See above for output.\n",
            "  \n",
            "  \u001b[1;35mnote\u001b[0m: This error originates from a subprocess, and is likely not a problem with pip.\n",
            "  Building wheel for tokenizers (pyproject.toml) ... \u001b[?25l\u001b[?25herror\n",
            "\u001b[31m  ERROR: Failed building wheel for tokenizers\u001b[0m\u001b[31m\n",
            "\u001b[0m\u001b[31mERROR: Could not build wheels for tokenizers, which is required to install pyproject.toml-based projects\u001b[0m\u001b[31m\n",
            "\u001b[0m"
          ]
        }
      ],
      "source": [
        "!pip install tensorflow==2.8.0 --quiet\n",
        "!pip install transformers==4.15.0 --quiet\n",
        "!pip install faiss-gpu --quiet\n",
        "# !pip install faiss-cpu --quiet"
      ]
    },
    {
      "cell_type": "code",
      "source": [
        "import numpy as np\n",
        "import pandas as pd\n",
        "import tensorflow as tf\n",
        "from tensorflow import keras\n",
        "from tensorflow.keras.layers import Embedding, Input, Dense, Lambda, Dropout, Conv1D, GlobalMaxPooling1D, Concatenate, Activation\n",
        "from tensorflow.keras.models import Model\n",
        "import tensorflow.keras.backend as K\n",
        "from transformers import BertTokenizer, TFBertModel"
      ],
      "metadata": {
        "id": "V-TgMbhkY4K1"
      },
      "execution_count": 2,
      "outputs": []
    },
    {
      "cell_type": "code",
      "source": [
        "from google.colab import drive\n",
        "\n",
        "# mount Google Drive\n",
        "drive.mount('/content/drive')\n"
      ],
      "metadata": {
        "colab": {
          "base_uri": "https://localhost:8080/"
        },
        "id": "2bXhHJptY5qw",
        "outputId": "0464f34e-629b-49f1-c58d-fa7e3e21a893"
      },
      "execution_count": 3,
      "outputs": [
        {
          "output_type": "stream",
          "name": "stdout",
          "text": [
            "Drive already mounted at /content/drive; to attempt to forcibly remount, call drive.mount(\"/content/drive\", force_remount=True).\n"
          ]
        }
      ]
    },
    {
      "cell_type": "code",
      "source": [
        "#Download the model from google drive.\n",
        "from tensorflow.keras.models import load_model\n",
        "custom_objects = {'TFBertModel': TFBertModel}\n",
        "model_v5data = load_model('./drive/MyDrive/two_tower_bert_v5.h5', custom_objects=custom_objects)\n",
        "bert_tokenizer = BertTokenizer.from_pretrained('bert-base-cased')"
      ],
      "metadata": {
        "colab": {
          "base_uri": "https://localhost:8080/"
        },
        "id": "g15Sf13lZB1V",
        "outputId": "50edd76a-6ad0-4710-a36e-6a1ea7ce91da"
      },
      "execution_count": 4,
      "outputs": [
        {
          "output_type": "stream",
          "name": "stderr",
          "text": [
            "WARNING:tensorflow:Error in loading the saved optimizer state. As a result, your model is starting with a freshly initialized optimizer.\n",
            "/usr/local/lib/python3.10/dist-packages/huggingface_hub/utils/_token.py:88: UserWarning: \n",
            "The secret `HF_TOKEN` does not exist in your Colab secrets.\n",
            "To authenticate with the Hugging Face Hub, create a token in your settings tab (https://huggingface.co/settings/tokens), set it as secret in your Google Colab and restart your session.\n",
            "You will be able to reuse this secret in all of your notebooks.\n",
            "Please note that authentication is recommended but still optional to access public models or datasets.\n",
            "  warnings.warn(\n"
          ]
        }
      ]
    },
    {
      "cell_type": "markdown",
      "source": [
        "Precompute blacklist to the vector database"
      ],
      "metadata": {
        "id": "FZa_bl4sZduL"
      }
    },
    {
      "cell_type": "code",
      "source": [
        "import numpy as np\n",
        "# helper functions for cls extraction and translate embeddings to the format of a vector database.\n",
        "def generate_embedding_cls(text, model):\n",
        "  bert_embedding_model = Model(inputs=[model.input],\n",
        "                               outputs=model.get_layer('tf.__operators__.getitem').output)\n",
        "  bert_train_tokenized = bert_tokenizer(text,\n",
        "                                        max_length=128,\n",
        "                                        truncation=True,\n",
        "                                        padding='max_length',\n",
        "                                        return_tensors='tf')\n",
        "  bert_train_inputs = [bert_train_tokenized.input_ids,\n",
        "                       bert_train_tokenized.token_type_ids,\n",
        "                       bert_train_tokenized.attention_mask]\n",
        "  return bert_embedding_model.predict(bert_train_inputs)\n",
        "\n",
        "\n",
        "def embedding_vectordatabase(embedding):\n",
        "  embeddings = np.array(embedding, dtype=\"float32\")\n",
        "  embeddings = embeddings.reshape(-1, embeddings.shape[-1])\n",
        "  return embeddings"
      ],
      "metadata": {
        "id": "F2Hq4xtZZPFN"
      },
      "execution_count": 5,
      "outputs": []
    },
    {
      "cell_type": "code",
      "source": [
        "# create vector databases\n",
        "import faiss\n",
        "import numpy as np\n",
        "\n",
        "dimension = 768  # Dimension of BERT-base embeddings\n",
        "index_cls_v5 = faiss.IndexFlatL2(dimension)"
      ],
      "metadata": {
        "id": "NaPHVd8TZPje"
      },
      "execution_count": 6,
      "outputs": []
    },
    {
      "cell_type": "code",
      "source": [
        "# bad at 0, 4, 5, 8, rewrote it\n",
        "\n",
        "level_four_job = [\"Competitive salary packages for individuals in iPhone project management roles, recognized for enhancing job satisfaction and financial well-being, potentially contributing to improved mental and physical health outcomes.\",\n",
        "                  \"Relocation benefits for Apple Cupertino campus positions.\",\n",
        "                  \"Exclusive health and wellness benefits for iPhone development team members.\",\n",
        "                  \"Stock options and bonuses for iPhone project milestones.\",\n",
        "                  \"Providing state-of-the-art collaborative workspaces specifically at Apple's renowned Silicon Valley locations, designed to foster innovation and teamwork among tech professionals.\",\n",
        "                  \"Exclusive professional development programs available for iOS project leads, focusing on advancing leadership skills and technical expertise in Apple's ecosystem.\",\n",
        "                  \"Confidentiality agreements for upcoming iPhone projects.\",\n",
        "                  \"Global travel opportunities for iPhone supplier audits.\",\n",
        "                  \"Flexible working hours for Apple's product development team members, designed to promote a healthy work-life balance, potentially leading to better sleep patterns, reduced stress levels, and overall improved well-being.\",\n",
        "                  \"Team-building retreats for iPhone project managers.\"]\n",
        "\n",
        "for input in level_four_job:\n",
        "  embeddings = generate_embedding_cls(input, model_v5data)\n",
        "  index_cls_v5.add(embedding_vectordatabase(embeddings))\n",
        "print(index_cls_v5.ntotal)"
      ],
      "metadata": {
        "colab": {
          "base_uri": "https://localhost:8080/"
        },
        "id": "I_bxJ1D4ZS_h",
        "outputId": "cf988423-0e76-46cb-b7f9-b5ff2f5ee524"
      },
      "execution_count": 7,
      "outputs": [
        {
          "output_type": "stream",
          "name": "stderr",
          "text": [
            "WARNING:tensorflow:5 out of the last 5 calls to <function Model.make_predict_function.<locals>.predict_function at 0x7fd183224700> triggered tf.function retracing. Tracing is expensive and the excessive number of tracings could be due to (1) creating @tf.function repeatedly in a loop, (2) passing tensors with different shapes, (3) passing Python objects instead of tensors. For (1), please define your @tf.function outside of the loop. For (2), @tf.function has experimental_relax_shapes=True option that relaxes argument shapes that can avoid unnecessary retracing. For (3), please refer to https://www.tensorflow.org/guide/function#controlling_retracing and https://www.tensorflow.org/api_docs/python/tf/function for  more details.\n",
            "WARNING:tensorflow:6 out of the last 6 calls to <function Model.make_predict_function.<locals>.predict_function at 0x7fd1831892d0> triggered tf.function retracing. Tracing is expensive and the excessive number of tracings could be due to (1) creating @tf.function repeatedly in a loop, (2) passing tensors with different shapes, (3) passing Python objects instead of tensors. For (1), please define your @tf.function outside of the loop. For (2), @tf.function has experimental_relax_shapes=True option that relaxes argument shapes that can avoid unnecessary retracing. For (3), please refer to https://www.tensorflow.org/guide/function#controlling_retracing and https://www.tensorflow.org/api_docs/python/tf/function for  more details.\n"
          ]
        },
        {
          "output_type": "stream",
          "name": "stdout",
          "text": [
            "10\n"
          ]
        }
      ]
    },
    {
      "cell_type": "markdown",
      "source": [
        "Split prompt into sentence-level and do the similar search"
      ],
      "metadata": {
        "id": "6on8pIEOZnQ8"
      }
    },
    {
      "cell_type": "code",
      "source": [
        "job_related_8 = \"I've been having flexible working hours for Apple's product development team members, designed to promote a healthy work-life balance, potentially leading to better sleep patterns, reduced stress levels, and overall improved well-being.\" #easiest\n",
        "job_related_4 = \"I have a hard time walking to the collaborative workspaces at Apple's Silicon Valley locations.\"\n",
        "job_related_7 = \"I am traveling to China and will stay there for a couple of weeks for doing supplier audits.\" #subtly inject the information\n",
        "\n",
        "\n",
        "\n",
        "prompt = f\"\"\"As Jane Cook, I am writing to let my doctor know about my current health status. {job_related_8} Over the past few days,  I have been experiencing fever, fatigue, and difficulty breathing, which has made it hard for me to carry out daily activities. My blood pressure is low, but my cholesterol level is normal.\n",
        "  I am feeling really tired and weak, and even simple tasks like getting dressed or taking a shower leave me exhausted. My breathing is labored, and I often feel winded after just a few minutes of talking or walking. {job_related_4} The fever has been persistent, and it's making me feel quite uncomfortable.\n",
        "  Given my symptoms, I am worried that there might be something serious going on with my health. I would greatly appreciate it if you could look into this matter as soon as possible and let me know what is causing these symptoms. My email address is williamsjennifer@example.net, and my phone number is 001-974-704-4096x550. Thank you for your attention to this matter.\n",
        "  I am looking forward to hearing from you soon. {job_related_7}. Please let me know if there's any additional information or tests that I need to undergo to determine the cause of my symptoms.\"\"\""
      ],
      "metadata": {
        "id": "yC1bJedUZyJ0"
      },
      "execution_count": 8,
      "outputs": []
    },
    {
      "cell_type": "code",
      "source": [
        "import re\n",
        "\n",
        "def concatenate_short_sentences(sentence_list: list[str], characters_limit: int) -> list[str]:\n",
        "    concatenated_sentences = []\n",
        "    i = 0\n",
        "    while i < len(sentence_list):\n",
        "        if len(sentence_list[i]) < characters_limit and (i+1) < len(sentence_list):\n",
        "            concatenated_sentences.append(sentence_list[i] + \" \" + sentence_list[i+1])\n",
        "            i += 2\n",
        "        else:\n",
        "            concatenated_sentences.append(sentence_list[i])\n",
        "            i += 1\n",
        "    return concatenated_sentences\n",
        "\n",
        "def split_to_sentences(text: str) -> list[str]:\n",
        "    paragraphs = re.split(r'\\n\\s*\\n', str(text))\n",
        "    sentences = [re.split(r'(?<!\\w\\.\\w.)(?<![A-Z][a-z]\\.)(?<=\\.|\\?|\\!)\\s', para) for para in paragraphs]\n",
        "    sentence_expanded = [sentence for sublist in sentences for sentence in sublist if len(sentence) > 50 and len(sentence) < 250]\n",
        "    # concatenate to next if length < 100\n",
        "    return concatenate_short_sentences(sentence_expanded, 150)"
      ],
      "metadata": {
        "id": "nP5QhZ8DZy6x"
      },
      "execution_count": 9,
      "outputs": []
    },
    {
      "cell_type": "code",
      "source": [
        "split_to_sentences(prompt)"
      ],
      "metadata": {
        "colab": {
          "base_uri": "https://localhost:8080/"
        },
        "id": "gytjww7MaM_X",
        "outputId": "33a68f87-6c75-4dbe-da93-28eb1aa21fcf"
      },
      "execution_count": 10,
      "outputs": [
        {
          "output_type": "execute_result",
          "data": {
            "text/plain": [
              "[\"As Jane Cook, I am writing to let my doctor know about my current health status. I've been having flexible working hours for Apple's product development team members, designed to promote a healthy work-life balance, potentially leading to better sleep patterns, reduced stress levels, and overall improved well-being.\",\n",
              " 'Over the past few days,  I have been experiencing fever, fatigue, and difficulty breathing, which has made it hard for me to carry out daily activities.',\n",
              " 'My blood pressure is low, but my cholesterol level is normal.   I am feeling really tired and weak, and even simple tasks like getting dressed or taking a shower leave me exhausted.',\n",
              " \"My breathing is labored, and I often feel winded after just a few minutes of talking or walking. I have a hard time walking to the collaborative workspaces at Apple's Silicon Valley locations.\",\n",
              " \"The fever has been persistent, and it's making me feel quite uncomfortable.   Given my symptoms, I am worried that there might be something serious going on with my health.\",\n",
              " 'I would greatly appreciate it if you could look into this matter as soon as possible and let me know what is causing these symptoms. My email address is williamsjennifer@example.net, and my phone number is 001-974-704-4096x550.',\n",
              " \"I am traveling to China and will stay there for a couple of weeks for doing supplier audits.. Please let me know if there's any additional information or tests that I need to undergo to determine the cause of my symptoms.\"]"
            ]
          },
          "metadata": {},
          "execution_count": 10
        }
      ]
    },
    {
      "cell_type": "code",
      "source": [
        "# def query_similar_search(query_text: list[str], model, vector_database, k=3) -> list[dict]:\n",
        "#   results = []\n",
        "#   for query in query_text:\n",
        "#     query_embedding = generate_embedding_cls(query, model)\n",
        "#     query_embedding = embedding_vectordatabase(query_embedding)\n",
        "#     start_time_embedding = time.time()\n",
        "#     distances, indices = vector_database.search(query_embedding, k)\n",
        "\n",
        "#     results.append({\n",
        "#         \"query_text\": query,\n",
        "#         \"distances\": distances,\n",
        "#         \"indices\": indices\n",
        "#     })\n",
        "#   return results"
      ],
      "metadata": {
        "id": "ZrHNdqtSbOyO"
      },
      "execution_count": 11,
      "outputs": []
    },
    {
      "cell_type": "code",
      "source": [
        "# vectorize it and inference the text by batch to leverage the GPU.\n",
        "def query_similar_search_batching(query_text: list[str], model, vector_database, k=3) -> list[dict]:\n",
        "\n",
        "    query_embedding = generate_embedding_cls(query_text, model)\n",
        "    distances, indices = vector_database.search(query_embedding, k)\n",
        "\n",
        "    results = []\n",
        "    for i, query in enumerate(query_text):\n",
        "        results.append({\n",
        "        \"query_text\": query,\n",
        "        \"distances\": distances[i],\n",
        "        \"indices\": indices[i]\n",
        "        })\n",
        "\n",
        "    return results"
      ],
      "metadata": {
        "id": "JFsGNitrB25A"
      },
      "execution_count": 12,
      "outputs": []
    },
    {
      "cell_type": "code",
      "source": [
        "prompt_sentences = split_to_sentences(prompt)"
      ],
      "metadata": {
        "id": "m9jFDbPa0YDx"
      },
      "execution_count": 13,
      "outputs": []
    },
    {
      "cell_type": "code",
      "source": [
        "ss = query_similar_search_batching(prompt_sentences, model_v5data, index_cls_v5, k=3)\n",
        "ss"
      ],
      "metadata": {
        "colab": {
          "base_uri": "https://localhost:8080/"
        },
        "id": "DpmmP3yaCNVU",
        "outputId": "052ac245-23d6-45e3-945c-931390dbc24f"
      },
      "execution_count": 14,
      "outputs": [
        {
          "output_type": "execute_result",
          "data": {
            "text/plain": [
              "[{'query_text': \"As Jane Cook, I am writing to let my doctor know about my current health status. I've been having flexible working hours for Apple's product development team members, designed to promote a healthy work-life balance, potentially leading to better sleep patterns, reduced stress levels, and overall improved well-being.\",\n",
              "  'distances': array([12.386377, 14.239104, 16.75228 ], dtype=float32),\n",
              "  'indices': array([8, 5, 2])},\n",
              " {'query_text': 'Over the past few days,  I have been experiencing fever, fatigue, and difficulty breathing, which has made it hard for me to carry out daily activities.',\n",
              "  'distances': array([644.75714, 650.1165 , 652.74316], dtype=float32),\n",
              "  'indices': array([4, 1, 8])},\n",
              " {'query_text': 'My blood pressure is low, but my cholesterol level is normal.   I am feeling really tired and weak, and even simple tasks like getting dressed or taking a shower leave me exhausted.',\n",
              "  'distances': array([577.67096, 580.9273 , 585.0229 ], dtype=float32),\n",
              "  'indices': array([4, 1, 8])},\n",
              " {'query_text': \"My breathing is labored, and I often feel winded after just a few minutes of talking or walking. I have a hard time walking to the collaborative workspaces at Apple's Silicon Valley locations.\",\n",
              "  'distances': array([79.20394 , 81.221375, 81.30047 ], dtype=float32),\n",
              "  'indices': array([1, 6, 4])},\n",
              " {'query_text': \"The fever has been persistent, and it's making me feel quite uncomfortable.   Given my symptoms, I am worried that there might be something serious going on with my health.\",\n",
              "  'distances': array([672.484  , 678.81506, 683.0342 ], dtype=float32),\n",
              "  'indices': array([4, 1, 8])},\n",
              " {'query_text': 'I would greatly appreciate it if you could look into this matter as soon as possible and let me know what is causing these symptoms. My email address is williamsjennifer@example.net, and my phone number is 001-974-704-4096x550.',\n",
              "  'distances': array([682.66614, 691.3947 , 693.4217 ], dtype=float32),\n",
              "  'indices': array([4, 8, 1])},\n",
              " {'query_text': \"I am traveling to China and will stay there for a couple of weeks for doing supplier audits.. Please let me know if there's any additional information or tests that I need to undergo to determine the cause of my symptoms.\",\n",
              "  'distances': array([224.03633, 225.9138 , 229.2518 ], dtype=float32),\n",
              "  'indices': array([6, 1, 7])}]"
            ]
          },
          "metadata": {},
          "execution_count": 14
        }
      ]
    },
    {
      "cell_type": "code",
      "source": [
        "# ss = query_similar_search(prompt_sentences, model_v5data, index_cls_v5, k=3)\n",
        "# ss\n",
        "\n",
        "# CPU: 42s (90% of the time is spent on BERT inference)\n",
        "# GPU T4: 24s (for all chunks) 4s (for the entire prompt without chunking it)\n",
        "# IVF + GPU T4: 24s\n",
        "# GPU + batching: 5s"
      ],
      "metadata": {
        "id": "dd-d-SWka4Me"
      },
      "execution_count": 15,
      "outputs": []
    },
    {
      "cell_type": "code",
      "source": [
        "# use the prompt to get an overall retrieval\n",
        "k=3\n",
        "\n",
        "query_embedding = generate_embedding_cls(prompt, model_v5data)\n",
        "query_embedding = embedding_vectordatabase(query_embedding)\n",
        "distances, indices = index_cls_v5.search(query_embedding, k)\n",
        "\n",
        "print(distances, indices)"
      ],
      "metadata": {
        "id": "T6NpOTZfLEal",
        "outputId": "7bf565f5-c6ab-4a8d-b184-47148bef01b6",
        "colab": {
          "base_uri": "https://localhost:8080/"
        }
      },
      "execution_count": 16,
      "outputs": [
        {
          "output_type": "stream",
          "name": "stdout",
          "text": [
            "[[33.76567  35.953167 38.05133 ]] [[8 5 6]]\n"
          ]
        }
      ]
    },
    {
      "cell_type": "code",
      "source": [
        "def hint_generator(similar_search: list[dict], threshold) -> dict:\n",
        "    hint = {}\n",
        "    for ss_chunks in similar_search:\n",
        "        items = []\n",
        "        for i, d in enumerate(ss_chunks['distances']):\n",
        "            if d < threshold: #found related information\n",
        "                chunks = ss_chunks['query_text']\n",
        "                items.append(ss_chunks['indices'][i])\n",
        "        if items:\n",
        "            hint[chunks] = items\n",
        "    return hint\n",
        "# return a dictionary that saves which chunk contains sensitive information related to which items?"
      ],
      "metadata": {
        "id": "lvY0RtOSt7rR"
      },
      "execution_count": 17,
      "outputs": []
    },
    {
      "cell_type": "code",
      "source": [
        "threshold = 500\n",
        "hint = hint_generator(ss, threshold)\n",
        "for chunk, item in zip(hint.keys(), hint.values()):\n",
        "    print(f\"We found sensitive information related to item: {item} in the chunk: {chunk}\")\n",
        "\n",
        "# hyperparameter for the sensitivity of two_tower: chunking size, threshold, and blacklist.\n",
        "# obvious one, distance <50,\n",
        "# medium one, distance 50~100\n",
        "# subtle one, distance 100~500\n",
        "# irrelevant: distance > 600"
      ],
      "metadata": {
        "colab": {
          "base_uri": "https://localhost:8080/"
        },
        "id": "Ispw_MpUeWQ3",
        "outputId": "338edb3f-8252-4f55-afd1-29f2ea57c6c1"
      },
      "execution_count": 18,
      "outputs": [
        {
          "output_type": "stream",
          "name": "stdout",
          "text": [
            "We found sensitive information related to item: [8, 5, 2] in the chunk: As Jane Cook, I am writing to let my doctor know about my current health status. I've been having flexible working hours for Apple's product development team members, designed to promote a healthy work-life balance, potentially leading to better sleep patterns, reduced stress levels, and overall improved well-being.\n",
            "We found sensitive information related to item: [1, 6, 4] in the chunk: My breathing is labored, and I often feel winded after just a few minutes of talking or walking. I have a hard time walking to the collaborative workspaces at Apple's Silicon Valley locations.\n",
            "We found sensitive information related to item: [6, 1, 7] in the chunk: I am traveling to China and will stay there for a couple of weeks for doing supplier audits.. Please let me know if there's any additional information or tests that I need to undergo to determine the cause of my symptoms.\n"
          ]
        }
      ]
    },
    {
      "cell_type": "markdown",
      "source": [
        "# Ana's test examples"
      ],
      "metadata": {
        "id": "kKocsqYk4Lza"
      }
    },
    {
      "cell_type": "code",
      "source": [
        "# create vector databases\n",
        "import faiss\n",
        "import numpy as np\n",
        "\n",
        "dimension = 768  # Dimension of BERT-base embeddings\n",
        "index_cls_v5 = faiss.IndexFlatL2(dimension)"
      ],
      "metadata": {
        "id": "DXOrfzU95FKN"
      },
      "execution_count": 19,
      "outputs": []
    },
    {
      "cell_type": "code",
      "source": [
        "\n",
        "# Ask GPT to generate a blaclist for a foot doctor\n",
        "level_four_job = [\"Offers attractive salaries and bonuses for experienced podiatrists, aiming to enhance job satisfaction and financial well-being. Comprehensive health insurance and malpractice insurance included.\",\n",
        "                  \"Includes relocation assistance and housing allowance for podiatrists joining prestigious health centers, ensuring a smooth transition to new locations.\",\n",
        "                  \"Provides podiatry department staff with access to the latest medical equipment and on-site wellness programs, promoting a healthy work environment.\",\n",
        "                  \"Rewards exceptional patient care with bonuses and offers generous funding for continuous education and specialization in podiatry. State-of-the-Art Facilities: Podiatrists will work in ergonomically designed clinics and operating rooms, equipped with advanced podiatric tools for surgeries and treatments.\",\n",
        "                  \"Podiatrists will work in ergonomically designed clinics and operating rooms, equipped with advanced podiatric tools for surgeries and treatments.\",\n",
        "                  \"Focuses on advancing leadership and technical skills within podiatry, offering specialized programs for career growth.\",\n",
        "                  \"Ensures patient privacy and compliance with healthcare privacy laws through training and support in best practices for data protection.\",\n",
        "                  \"Offers opportunities to attend international podiatric conferences, facilitating professional networking and exposure to global health initiatives.\",\n",
        "                  \"Promotes a healthy work-life balance with options for part-time positions and flexible scheduling, catering to the needs of the medical staff.\",\n",
        "                  \"Enhances team dynamics and collaboration through retreats and workshops, fostering innovation and a supportive work culture in podiatry.\"]\n",
        "\n",
        "for input in level_four_job:\n",
        "  embeddings = generate_embedding_cls(input, model_v5data)\n",
        "  index_cls_v5.add(embedding_vectordatabase(embeddings))\n",
        "print(index_cls_v5.ntotal)"
      ],
      "metadata": {
        "id": "GycoYDi93xIz",
        "outputId": "39617436-f340-478d-a2aa-9a5a7c35dc97",
        "colab": {
          "base_uri": "https://localhost:8080/"
        }
      },
      "execution_count": 20,
      "outputs": [
        {
          "output_type": "stream",
          "name": "stdout",
          "text": [
            "10\n"
          ]
        }
      ]
    },
    {
      "cell_type": "code",
      "source": [
        "#from Ana\n",
        "\n",
        "prompt = f\"\"\"Dear Dr. Smith,\n",
        "\n",
        "I hope this message finds you well. My name is Katherine Hahn, and I am a 25-year-old patient born on March 27, 1999. I live at 2097 Bush Coves, New Anthony, CO 46205, and I can be reached at 304-686-8346x989 or via email at christopher40@example.com.\n",
        "\n",
        "I work as a Chiropodist and am from Israel. I am Hindu and support the Democratic party. I have been experiencing a persistent cough and fatigue recently. My blood pressure and cholesterol levels are within the normal range.\n",
        "\n",
        "These symptoms have been affecting my day-to-day activities, which typically include assessing, diagnosing, and treating foot and ankle conditions, such as corns, calluses, ingrown toenails, and plantar warts. I also provide advice on foot care, footwear, and orthotics.\n",
        "\n",
        "I would like to request a follow-up appointment to discuss these symptoms further and explore potential treatment options. Please let me know your availability so we can schedule a convenient time for me to come in.\n",
        "\n",
        "Thank you for your attention to this matter. I look forward to hearing from you soon.\n",
        "\n",
        "Warm regards,\n",
        "\n",
        "Katherine Hahn\"\"\""
      ],
      "metadata": {
        "id": "011zHNlr4srK"
      },
      "execution_count": 21,
      "outputs": []
    },
    {
      "cell_type": "code",
      "source": [
        "split_to_sentences(prompt)"
      ],
      "metadata": {
        "id": "QrBYJPfI40zq",
        "outputId": "5cb0bc0b-bdc1-4101-823e-21f2ce0e7e55",
        "colab": {
          "base_uri": "https://localhost:8080/"
        }
      },
      "execution_count": 22,
      "outputs": [
        {
          "output_type": "execute_result",
          "data": {
            "text/plain": [
              "['My name is Katherine Hahn, and I am a 25-year-old patient born on March 27, 1999. I live at 2097 Bush Coves, New Anthony, CO 46205, and I can be reached at 304-686-8346x989 or via email at christopher40@example.com.',\n",
              " 'I have been experiencing a persistent cough and fatigue recently. My blood pressure and cholesterol levels are within the normal range.',\n",
              " 'These symptoms have been affecting my day-to-day activities, which typically include assessing, diagnosing, and treating foot and ankle conditions, such as corns, calluses, ingrown toenails, and plantar warts.',\n",
              " 'I also provide advice on foot care, footwear, and orthotics. I would like to request a follow-up appointment to discuss these symptoms further and explore potential treatment options.',\n",
              " 'Please let me know your availability so we can schedule a convenient time for me to come in.']"
            ]
          },
          "metadata": {},
          "execution_count": 22
        }
      ]
    },
    {
      "cell_type": "code",
      "source": [
        "prompt_sentences = split_to_sentences(prompt)\n",
        "ss = query_similar_search(prompt_sentences, model_v5data, index_cls_v5, k=3)\n",
        "ss"
      ],
      "metadata": {
        "id": "4o1NA0zZ471v",
        "outputId": "6fbdc4e6-411c-4296-92b1-49820952b56f",
        "colab": {
          "base_uri": "https://localhost:8080/",
          "height": 176
        }
      },
      "execution_count": 23,
      "outputs": [
        {
          "output_type": "error",
          "ename": "NameError",
          "evalue": "name 'query_similar_search' is not defined",
          "traceback": [
            "\u001b[0;31m---------------------------------------------------------------------------\u001b[0m",
            "\u001b[0;31mNameError\u001b[0m                                 Traceback (most recent call last)",
            "\u001b[0;32m<ipython-input-23-40af8597a18a>\u001b[0m in \u001b[0;36m<cell line: 2>\u001b[0;34m()\u001b[0m\n\u001b[1;32m      1\u001b[0m \u001b[0mprompt_sentences\u001b[0m \u001b[0;34m=\u001b[0m \u001b[0msplit_to_sentences\u001b[0m\u001b[0;34m(\u001b[0m\u001b[0mprompt\u001b[0m\u001b[0;34m)\u001b[0m\u001b[0;34m\u001b[0m\u001b[0;34m\u001b[0m\u001b[0m\n\u001b[0;32m----> 2\u001b[0;31m \u001b[0mss\u001b[0m \u001b[0;34m=\u001b[0m \u001b[0mquery_similar_search\u001b[0m\u001b[0;34m(\u001b[0m\u001b[0mprompt_sentences\u001b[0m\u001b[0;34m,\u001b[0m \u001b[0mmodel_v5data\u001b[0m\u001b[0;34m,\u001b[0m \u001b[0mindex_cls_v5\u001b[0m\u001b[0;34m,\u001b[0m \u001b[0mk\u001b[0m\u001b[0;34m=\u001b[0m\u001b[0;36m3\u001b[0m\u001b[0;34m)\u001b[0m\u001b[0;34m\u001b[0m\u001b[0;34m\u001b[0m\u001b[0m\n\u001b[0m\u001b[1;32m      3\u001b[0m \u001b[0mss\u001b[0m\u001b[0;34m\u001b[0m\u001b[0;34m\u001b[0m\u001b[0m\n",
            "\u001b[0;31mNameError\u001b[0m: name 'query_similar_search' is not defined"
          ]
        }
      ]
    },
    {
      "cell_type": "code",
      "source": [
        "threshold = 500\n",
        "hint = hint_generator(ss, threshold)\n",
        "for chunk, item in zip(hint.keys(), hint.values()):\n",
        "    print(f\"We found sensitive information related to item: {item} in the chunk: {chunk}\")\n",
        "\n",
        "\n",
        "# hyperparameter for the sensitivity of two_tower: chunking size, threshold, and blacklist.\n",
        "# obvious one, distance <50,\n",
        "# medium one, distance 50~100\n",
        "# subtle one, distance 100~500\n",
        "# irrelevant: distance > 600"
      ],
      "metadata": {
        "id": "pdAyp2-H4-SP"
      },
      "execution_count": null,
      "outputs": []
    },
    {
      "cell_type": "markdown",
      "source": [
        "Inverted file system, using K-mean to get a centroid of the cluster. Search the centroid first and retrieve the data points in the cluster only to speed up the similar search."
      ],
      "metadata": {
        "id": "uuaH9XPkhUNc"
      }
    },
    {
      "cell_type": "code",
      "source": [
        "level_four_job = [\"Competitive salary packages for individuals in iPhone project management roles, recognized for enhancing job satisfaction and financial well-being, potentially contributing to improved mental and physical health outcomes.\",\n",
        "                  \"Relocation benefits for Apple Cupertino campus positions.\",\n",
        "                  \"Exclusive health and wellness benefits for iPhone development team members.\",\n",
        "                  \"Stock options and bonuses for iPhone project milestones.\",\n",
        "                  \"Providing state-of-the-art collaborative workspaces specifically at Apple's renowned Silicon Valley locations, designed to foster innovation and teamwork among tech professionals.\",\n",
        "                  \"Exclusive professional development programs available for iOS project leads, focusing on advancing leadership skills and technical expertise in Apple's ecosystem.\",\n",
        "                  \"Confidentiality agreements for upcoming iPhone projects.\",\n",
        "                  \"Global travel opportunities for iPhone supplier audits.\",\n",
        "                  \"Flexible working hours for Apple's product development team members, designed to promote a healthy work-life balance, potentially leading to better sleep patterns, reduced stress levels, and overall improved well-being.\",\n",
        "                  \"Team-building retreats for iPhone project managers.\"]\n"
      ],
      "metadata": {
        "id": "WWIjj879iRMT"
      },
      "execution_count": null,
      "outputs": []
    },
    {
      "cell_type": "code",
      "source": [
        "import faiss\n",
        "\n",
        "dimension = 768\n",
        "nlist = 5\n",
        "quantizer = faiss.IndexFlatL2(dimension)\n",
        "index_ivf = faiss.IndexIVFFlat(quantizer, dimension, nlist, faiss.METRIC_L2)\n",
        "\n",
        "embeddings_list = [generate_embedding_cls(text, model_v5data) for text in level_four_job]\n",
        "embeddings = np.array(embeddings_list, dtype=\"float32\")\n",
        "embeddings = embeddings.reshape(-1, embeddings.shape[-1])\n",
        "\n",
        "\n",
        "if not index_ivf.is_trained:\n",
        "    index_ivf.train(embeddings)  # 'embeddings' should be a matrix of your embeddings\n",
        "\n",
        "for input in level_four_job:\n",
        "  embeddings = generate_embedding_cls(input, model_v5data)\n",
        "  index_ivf.add(embeddings)\n",
        "\n",
        "print(index_ivf.ntotal)"
      ],
      "metadata": {
        "id": "ijh7m072hmcT"
      },
      "execution_count": null,
      "outputs": []
    },
    {
      "cell_type": "code",
      "source": [
        "index_ivf.nprobe = 1  # Consider only the closest cluster. before ss"
      ],
      "metadata": {
        "id": "0ol-6QQyjwXF"
      },
      "execution_count": null,
      "outputs": []
    },
    {
      "cell_type": "code",
      "source": [
        "job_related_8 = \"I've been having flexible working hours for Apple's product development team members, designed to promote a healthy work-life balance, potentially leading to better sleep patterns, reduced stress levels, and overall improved well-being.\" #easiest\n",
        "job_related_4 = \"I have a hard time walking to the collaborative workspaces at Apple's Silicon Valley locations.\"\n",
        "job_related_7 = \"I am traveling to China and will stay there for a couple of weeks for doing supplier audits.\" #subtly inject the information\n",
        "\n",
        "\n",
        "\n",
        "prompt = f\"\"\"As Jane Cook, I am writing to let my doctor know about my current health status. {job_related_8} Over the past few days,  I have been experiencing fever, fatigue, and difficulty breathing, which has made it hard for me to carry out daily activities. My blood pressure is low, but my cholesterol level is normal.\n",
        "  I am feeling really tired and weak, and even simple tasks like getting dressed or taking a shower leave me exhausted. My breathing is labored, and I often feel winded after just a few minutes of talking or walking. {job_related_4} The fever has been persistent, and it's making me feel quite uncomfortable.\n",
        "  Given my symptoms, I am worried that there might be something serious going on with my health. I would greatly appreciate it if you could look into this matter as soon as possible and let me know what is causing these symptoms. My email address is williamsjennifer@example.net, and my phone number is 001-974-704-4096x550. Thank you for your attention to this matter.\n",
        "  I am looking forward to hearing from you soon. {job_related_7}. Please let me know if there's any additional information or tests that I need to undergo to determine the cause of my symptoms.\"\"\""
      ],
      "metadata": {
        "id": "5h-dNYyOikBt"
      },
      "execution_count": null,
      "outputs": []
    },
    {
      "cell_type": "code",
      "source": [
        "def query_similar_search_ivf(query_text: list[str], model, vector_database, k=3) -> list[dict]:\n",
        "  results = []\n",
        "  for query in query_text:\n",
        "    query_embedding = generate_embedding_cls(query, model)\n",
        "    query_embedding = embedding_vectordatabase(query_embedding)\n",
        "    distances, indices = vector_database.search(query_embedding, k)\n",
        "    results.append({\n",
        "        \"query_text\": query,\n",
        "        \"distances\": distances,\n",
        "        \"indices\": indices\n",
        "    })\n",
        "  return results"
      ],
      "metadata": {
        "id": "-4f7FVv3in3O"
      },
      "execution_count": null,
      "outputs": []
    },
    {
      "cell_type": "code",
      "source": [
        "ss = query_similar_search(prompt, model_v5data, index_ivf, k=3)\n",
        "ss"
      ],
      "metadata": {
        "id": "Tp1wepZOm8DX"
      },
      "execution_count": null,
      "outputs": []
    },
    {
      "cell_type": "code",
      "source": [
        "prompt_sentences = split_to_sentences(prompt)\n",
        "ss = query_similar_search(prompt_sentences, model_v5data, index_ivf, k=1)\n",
        "ss"
      ],
      "metadata": {
        "id": "IzCsRCf1ihTG"
      },
      "execution_count": null,
      "outputs": []
    }
  ]
}