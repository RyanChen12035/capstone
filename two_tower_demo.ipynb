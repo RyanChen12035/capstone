{
  "nbformat": 4,
  "nbformat_minor": 0,
  "metadata": {
    "colab": {
      "provenance": [],
      "include_colab_link": true
    },
    "kernelspec": {
      "name": "python3",
      "display_name": "Python 3"
    },
    "language_info": {
      "name": "python"
    },
    "widgets": {
      "application/vnd.jupyter.widget-state+json": {
        "2f592107f2b84c8ba294defa5e70c09b": {
          "model_module": "@jupyter-widgets/controls",
          "model_name": "HBoxModel",
          "model_module_version": "1.5.0",
          "state": {
            "_dom_classes": [],
            "_model_module": "@jupyter-widgets/controls",
            "_model_module_version": "1.5.0",
            "_model_name": "HBoxModel",
            "_view_count": null,
            "_view_module": "@jupyter-widgets/controls",
            "_view_module_version": "1.5.0",
            "_view_name": "HBoxView",
            "box_style": "",
            "children": [
              "IPY_MODEL_9c088ef9357448b28f72e5cb19e87374",
              "IPY_MODEL_7b260b4d20164282ab3fe571dffbd971",
              "IPY_MODEL_7c3cb89768fd4a569a2bac134a5cdf44"
            ],
            "layout": "IPY_MODEL_c28f4912ac5442c8b9b65f7f981badcf"
          }
        },
        "9c088ef9357448b28f72e5cb19e87374": {
          "model_module": "@jupyter-widgets/controls",
          "model_name": "HTMLModel",
          "model_module_version": "1.5.0",
          "state": {
            "_dom_classes": [],
            "_model_module": "@jupyter-widgets/controls",
            "_model_module_version": "1.5.0",
            "_model_name": "HTMLModel",
            "_view_count": null,
            "_view_module": "@jupyter-widgets/controls",
            "_view_module_version": "1.5.0",
            "_view_name": "HTMLView",
            "description": "",
            "description_tooltip": null,
            "layout": "IPY_MODEL_fbd4d06c0c20461a9787a4770ded7306",
            "placeholder": "​",
            "style": "IPY_MODEL_82e0e7d675364b7c88f80c0c6fb666ef",
            "value": "two_tower_bert_v5.h5: 100%"
          }
        },
        "7b260b4d20164282ab3fe571dffbd971": {
          "model_module": "@jupyter-widgets/controls",
          "model_name": "FloatProgressModel",
          "model_module_version": "1.5.0",
          "state": {
            "_dom_classes": [],
            "_model_module": "@jupyter-widgets/controls",
            "_model_module_version": "1.5.0",
            "_model_name": "FloatProgressModel",
            "_view_count": null,
            "_view_module": "@jupyter-widgets/controls",
            "_view_module_version": "1.5.0",
            "_view_name": "ProgressView",
            "bar_style": "success",
            "description": "",
            "description_tooltip": null,
            "layout": "IPY_MODEL_c828880f3c9b40aeb2cdc75394fec3ca",
            "max": 1296787128,
            "min": 0,
            "orientation": "horizontal",
            "style": "IPY_MODEL_f8b27a34cf8e440a906616ad4e6ceadc",
            "value": 1296787128
          }
        },
        "7c3cb89768fd4a569a2bac134a5cdf44": {
          "model_module": "@jupyter-widgets/controls",
          "model_name": "HTMLModel",
          "model_module_version": "1.5.0",
          "state": {
            "_dom_classes": [],
            "_model_module": "@jupyter-widgets/controls",
            "_model_module_version": "1.5.0",
            "_model_name": "HTMLModel",
            "_view_count": null,
            "_view_module": "@jupyter-widgets/controls",
            "_view_module_version": "1.5.0",
            "_view_name": "HTMLView",
            "description": "",
            "description_tooltip": null,
            "layout": "IPY_MODEL_e5919d26b451490eb576ea2c07519d2e",
            "placeholder": "​",
            "style": "IPY_MODEL_35cf0fb1aca940debab63740fd1b90d5",
            "value": " 1.30G/1.30G [00:18&lt;00:00, 91.1MB/s]"
          }
        },
        "c28f4912ac5442c8b9b65f7f981badcf": {
          "model_module": "@jupyter-widgets/base",
          "model_name": "LayoutModel",
          "model_module_version": "1.2.0",
          "state": {
            "_model_module": "@jupyter-widgets/base",
            "_model_module_version": "1.2.0",
            "_model_name": "LayoutModel",
            "_view_count": null,
            "_view_module": "@jupyter-widgets/base",
            "_view_module_version": "1.2.0",
            "_view_name": "LayoutView",
            "align_content": null,
            "align_items": null,
            "align_self": null,
            "border": null,
            "bottom": null,
            "display": null,
            "flex": null,
            "flex_flow": null,
            "grid_area": null,
            "grid_auto_columns": null,
            "grid_auto_flow": null,
            "grid_auto_rows": null,
            "grid_column": null,
            "grid_gap": null,
            "grid_row": null,
            "grid_template_areas": null,
            "grid_template_columns": null,
            "grid_template_rows": null,
            "height": null,
            "justify_content": null,
            "justify_items": null,
            "left": null,
            "margin": null,
            "max_height": null,
            "max_width": null,
            "min_height": null,
            "min_width": null,
            "object_fit": null,
            "object_position": null,
            "order": null,
            "overflow": null,
            "overflow_x": null,
            "overflow_y": null,
            "padding": null,
            "right": null,
            "top": null,
            "visibility": null,
            "width": null
          }
        },
        "fbd4d06c0c20461a9787a4770ded7306": {
          "model_module": "@jupyter-widgets/base",
          "model_name": "LayoutModel",
          "model_module_version": "1.2.0",
          "state": {
            "_model_module": "@jupyter-widgets/base",
            "_model_module_version": "1.2.0",
            "_model_name": "LayoutModel",
            "_view_count": null,
            "_view_module": "@jupyter-widgets/base",
            "_view_module_version": "1.2.0",
            "_view_name": "LayoutView",
            "align_content": null,
            "align_items": null,
            "align_self": null,
            "border": null,
            "bottom": null,
            "display": null,
            "flex": null,
            "flex_flow": null,
            "grid_area": null,
            "grid_auto_columns": null,
            "grid_auto_flow": null,
            "grid_auto_rows": null,
            "grid_column": null,
            "grid_gap": null,
            "grid_row": null,
            "grid_template_areas": null,
            "grid_template_columns": null,
            "grid_template_rows": null,
            "height": null,
            "justify_content": null,
            "justify_items": null,
            "left": null,
            "margin": null,
            "max_height": null,
            "max_width": null,
            "min_height": null,
            "min_width": null,
            "object_fit": null,
            "object_position": null,
            "order": null,
            "overflow": null,
            "overflow_x": null,
            "overflow_y": null,
            "padding": null,
            "right": null,
            "top": null,
            "visibility": null,
            "width": null
          }
        },
        "82e0e7d675364b7c88f80c0c6fb666ef": {
          "model_module": "@jupyter-widgets/controls",
          "model_name": "DescriptionStyleModel",
          "model_module_version": "1.5.0",
          "state": {
            "_model_module": "@jupyter-widgets/controls",
            "_model_module_version": "1.5.0",
            "_model_name": "DescriptionStyleModel",
            "_view_count": null,
            "_view_module": "@jupyter-widgets/base",
            "_view_module_version": "1.2.0",
            "_view_name": "StyleView",
            "description_width": ""
          }
        },
        "c828880f3c9b40aeb2cdc75394fec3ca": {
          "model_module": "@jupyter-widgets/base",
          "model_name": "LayoutModel",
          "model_module_version": "1.2.0",
          "state": {
            "_model_module": "@jupyter-widgets/base",
            "_model_module_version": "1.2.0",
            "_model_name": "LayoutModel",
            "_view_count": null,
            "_view_module": "@jupyter-widgets/base",
            "_view_module_version": "1.2.0",
            "_view_name": "LayoutView",
            "align_content": null,
            "align_items": null,
            "align_self": null,
            "border": null,
            "bottom": null,
            "display": null,
            "flex": null,
            "flex_flow": null,
            "grid_area": null,
            "grid_auto_columns": null,
            "grid_auto_flow": null,
            "grid_auto_rows": null,
            "grid_column": null,
            "grid_gap": null,
            "grid_row": null,
            "grid_template_areas": null,
            "grid_template_columns": null,
            "grid_template_rows": null,
            "height": null,
            "justify_content": null,
            "justify_items": null,
            "left": null,
            "margin": null,
            "max_height": null,
            "max_width": null,
            "min_height": null,
            "min_width": null,
            "object_fit": null,
            "object_position": null,
            "order": null,
            "overflow": null,
            "overflow_x": null,
            "overflow_y": null,
            "padding": null,
            "right": null,
            "top": null,
            "visibility": null,
            "width": null
          }
        },
        "f8b27a34cf8e440a906616ad4e6ceadc": {
          "model_module": "@jupyter-widgets/controls",
          "model_name": "ProgressStyleModel",
          "model_module_version": "1.5.0",
          "state": {
            "_model_module": "@jupyter-widgets/controls",
            "_model_module_version": "1.5.0",
            "_model_name": "ProgressStyleModel",
            "_view_count": null,
            "_view_module": "@jupyter-widgets/base",
            "_view_module_version": "1.2.0",
            "_view_name": "StyleView",
            "bar_color": null,
            "description_width": ""
          }
        },
        "e5919d26b451490eb576ea2c07519d2e": {
          "model_module": "@jupyter-widgets/base",
          "model_name": "LayoutModel",
          "model_module_version": "1.2.0",
          "state": {
            "_model_module": "@jupyter-widgets/base",
            "_model_module_version": "1.2.0",
            "_model_name": "LayoutModel",
            "_view_count": null,
            "_view_module": "@jupyter-widgets/base",
            "_view_module_version": "1.2.0",
            "_view_name": "LayoutView",
            "align_content": null,
            "align_items": null,
            "align_self": null,
            "border": null,
            "bottom": null,
            "display": null,
            "flex": null,
            "flex_flow": null,
            "grid_area": null,
            "grid_auto_columns": null,
            "grid_auto_flow": null,
            "grid_auto_rows": null,
            "grid_column": null,
            "grid_gap": null,
            "grid_row": null,
            "grid_template_areas": null,
            "grid_template_columns": null,
            "grid_template_rows": null,
            "height": null,
            "justify_content": null,
            "justify_items": null,
            "left": null,
            "margin": null,
            "max_height": null,
            "max_width": null,
            "min_height": null,
            "min_width": null,
            "object_fit": null,
            "object_position": null,
            "order": null,
            "overflow": null,
            "overflow_x": null,
            "overflow_y": null,
            "padding": null,
            "right": null,
            "top": null,
            "visibility": null,
            "width": null
          }
        },
        "35cf0fb1aca940debab63740fd1b90d5": {
          "model_module": "@jupyter-widgets/controls",
          "model_name": "DescriptionStyleModel",
          "model_module_version": "1.5.0",
          "state": {
            "_model_module": "@jupyter-widgets/controls",
            "_model_module_version": "1.5.0",
            "_model_name": "DescriptionStyleModel",
            "_view_count": null,
            "_view_module": "@jupyter-widgets/base",
            "_view_module_version": "1.2.0",
            "_view_name": "StyleView",
            "description_width": ""
          }
        },
        "0aebfa5247474a449de83653babe6f29": {
          "model_module": "@jupyter-widgets/controls",
          "model_name": "HBoxModel",
          "model_module_version": "1.5.0",
          "state": {
            "_dom_classes": [],
            "_model_module": "@jupyter-widgets/controls",
            "_model_module_version": "1.5.0",
            "_model_name": "HBoxModel",
            "_view_count": null,
            "_view_module": "@jupyter-widgets/controls",
            "_view_module_version": "1.5.0",
            "_view_name": "HBoxView",
            "box_style": "",
            "children": [
              "IPY_MODEL_dddb07a0db1143819fcd73828c42587e",
              "IPY_MODEL_8434747184a14ced92e083b8bacd5e98",
              "IPY_MODEL_e58e1fea17cd41c0b1356ade153c377a"
            ],
            "layout": "IPY_MODEL_ea5f69e1dc1f456e901bf439950c2516"
          }
        },
        "dddb07a0db1143819fcd73828c42587e": {
          "model_module": "@jupyter-widgets/controls",
          "model_name": "HTMLModel",
          "model_module_version": "1.5.0",
          "state": {
            "_dom_classes": [],
            "_model_module": "@jupyter-widgets/controls",
            "_model_module_version": "1.5.0",
            "_model_name": "HTMLModel",
            "_view_count": null,
            "_view_module": "@jupyter-widgets/controls",
            "_view_module_version": "1.5.0",
            "_view_name": "HTMLView",
            "description": "",
            "description_tooltip": null,
            "layout": "IPY_MODEL_ca748a5aed76497b9dd28fce1b4b4e25",
            "placeholder": "​",
            "style": "IPY_MODEL_c5a450f06f7140948cf52e61c0ca8662",
            "value": "tokenizer_config.json: 100%"
          }
        },
        "8434747184a14ced92e083b8bacd5e98": {
          "model_module": "@jupyter-widgets/controls",
          "model_name": "FloatProgressModel",
          "model_module_version": "1.5.0",
          "state": {
            "_dom_classes": [],
            "_model_module": "@jupyter-widgets/controls",
            "_model_module_version": "1.5.0",
            "_model_name": "FloatProgressModel",
            "_view_count": null,
            "_view_module": "@jupyter-widgets/controls",
            "_view_module_version": "1.5.0",
            "_view_name": "ProgressView",
            "bar_style": "success",
            "description": "",
            "description_tooltip": null,
            "layout": "IPY_MODEL_1f1bd7471c2e460d9858ae4657dbd8e0",
            "max": 49,
            "min": 0,
            "orientation": "horizontal",
            "style": "IPY_MODEL_645760720cc741ad8199860aa71cb014",
            "value": 49
          }
        },
        "e58e1fea17cd41c0b1356ade153c377a": {
          "model_module": "@jupyter-widgets/controls",
          "model_name": "HTMLModel",
          "model_module_version": "1.5.0",
          "state": {
            "_dom_classes": [],
            "_model_module": "@jupyter-widgets/controls",
            "_model_module_version": "1.5.0",
            "_model_name": "HTMLModel",
            "_view_count": null,
            "_view_module": "@jupyter-widgets/controls",
            "_view_module_version": "1.5.0",
            "_view_name": "HTMLView",
            "description": "",
            "description_tooltip": null,
            "layout": "IPY_MODEL_21a3aca0cee348eca45d8cf930155879",
            "placeholder": "​",
            "style": "IPY_MODEL_a6d102a6bfe1427b9267367640bf18dc",
            "value": " 49.0/49.0 [00:00&lt;00:00, 2.47kB/s]"
          }
        },
        "ea5f69e1dc1f456e901bf439950c2516": {
          "model_module": "@jupyter-widgets/base",
          "model_name": "LayoutModel",
          "model_module_version": "1.2.0",
          "state": {
            "_model_module": "@jupyter-widgets/base",
            "_model_module_version": "1.2.0",
            "_model_name": "LayoutModel",
            "_view_count": null,
            "_view_module": "@jupyter-widgets/base",
            "_view_module_version": "1.2.0",
            "_view_name": "LayoutView",
            "align_content": null,
            "align_items": null,
            "align_self": null,
            "border": null,
            "bottom": null,
            "display": null,
            "flex": null,
            "flex_flow": null,
            "grid_area": null,
            "grid_auto_columns": null,
            "grid_auto_flow": null,
            "grid_auto_rows": null,
            "grid_column": null,
            "grid_gap": null,
            "grid_row": null,
            "grid_template_areas": null,
            "grid_template_columns": null,
            "grid_template_rows": null,
            "height": null,
            "justify_content": null,
            "justify_items": null,
            "left": null,
            "margin": null,
            "max_height": null,
            "max_width": null,
            "min_height": null,
            "min_width": null,
            "object_fit": null,
            "object_position": null,
            "order": null,
            "overflow": null,
            "overflow_x": null,
            "overflow_y": null,
            "padding": null,
            "right": null,
            "top": null,
            "visibility": null,
            "width": null
          }
        },
        "ca748a5aed76497b9dd28fce1b4b4e25": {
          "model_module": "@jupyter-widgets/base",
          "model_name": "LayoutModel",
          "model_module_version": "1.2.0",
          "state": {
            "_model_module": "@jupyter-widgets/base",
            "_model_module_version": "1.2.0",
            "_model_name": "LayoutModel",
            "_view_count": null,
            "_view_module": "@jupyter-widgets/base",
            "_view_module_version": "1.2.0",
            "_view_name": "LayoutView",
            "align_content": null,
            "align_items": null,
            "align_self": null,
            "border": null,
            "bottom": null,
            "display": null,
            "flex": null,
            "flex_flow": null,
            "grid_area": null,
            "grid_auto_columns": null,
            "grid_auto_flow": null,
            "grid_auto_rows": null,
            "grid_column": null,
            "grid_gap": null,
            "grid_row": null,
            "grid_template_areas": null,
            "grid_template_columns": null,
            "grid_template_rows": null,
            "height": null,
            "justify_content": null,
            "justify_items": null,
            "left": null,
            "margin": null,
            "max_height": null,
            "max_width": null,
            "min_height": null,
            "min_width": null,
            "object_fit": null,
            "object_position": null,
            "order": null,
            "overflow": null,
            "overflow_x": null,
            "overflow_y": null,
            "padding": null,
            "right": null,
            "top": null,
            "visibility": null,
            "width": null
          }
        },
        "c5a450f06f7140948cf52e61c0ca8662": {
          "model_module": "@jupyter-widgets/controls",
          "model_name": "DescriptionStyleModel",
          "model_module_version": "1.5.0",
          "state": {
            "_model_module": "@jupyter-widgets/controls",
            "_model_module_version": "1.5.0",
            "_model_name": "DescriptionStyleModel",
            "_view_count": null,
            "_view_module": "@jupyter-widgets/base",
            "_view_module_version": "1.2.0",
            "_view_name": "StyleView",
            "description_width": ""
          }
        },
        "1f1bd7471c2e460d9858ae4657dbd8e0": {
          "model_module": "@jupyter-widgets/base",
          "model_name": "LayoutModel",
          "model_module_version": "1.2.0",
          "state": {
            "_model_module": "@jupyter-widgets/base",
            "_model_module_version": "1.2.0",
            "_model_name": "LayoutModel",
            "_view_count": null,
            "_view_module": "@jupyter-widgets/base",
            "_view_module_version": "1.2.0",
            "_view_name": "LayoutView",
            "align_content": null,
            "align_items": null,
            "align_self": null,
            "border": null,
            "bottom": null,
            "display": null,
            "flex": null,
            "flex_flow": null,
            "grid_area": null,
            "grid_auto_columns": null,
            "grid_auto_flow": null,
            "grid_auto_rows": null,
            "grid_column": null,
            "grid_gap": null,
            "grid_row": null,
            "grid_template_areas": null,
            "grid_template_columns": null,
            "grid_template_rows": null,
            "height": null,
            "justify_content": null,
            "justify_items": null,
            "left": null,
            "margin": null,
            "max_height": null,
            "max_width": null,
            "min_height": null,
            "min_width": null,
            "object_fit": null,
            "object_position": null,
            "order": null,
            "overflow": null,
            "overflow_x": null,
            "overflow_y": null,
            "padding": null,
            "right": null,
            "top": null,
            "visibility": null,
            "width": null
          }
        },
        "645760720cc741ad8199860aa71cb014": {
          "model_module": "@jupyter-widgets/controls",
          "model_name": "ProgressStyleModel",
          "model_module_version": "1.5.0",
          "state": {
            "_model_module": "@jupyter-widgets/controls",
            "_model_module_version": "1.5.0",
            "_model_name": "ProgressStyleModel",
            "_view_count": null,
            "_view_module": "@jupyter-widgets/base",
            "_view_module_version": "1.2.0",
            "_view_name": "StyleView",
            "bar_color": null,
            "description_width": ""
          }
        },
        "21a3aca0cee348eca45d8cf930155879": {
          "model_module": "@jupyter-widgets/base",
          "model_name": "LayoutModel",
          "model_module_version": "1.2.0",
          "state": {
            "_model_module": "@jupyter-widgets/base",
            "_model_module_version": "1.2.0",
            "_model_name": "LayoutModel",
            "_view_count": null,
            "_view_module": "@jupyter-widgets/base",
            "_view_module_version": "1.2.0",
            "_view_name": "LayoutView",
            "align_content": null,
            "align_items": null,
            "align_self": null,
            "border": null,
            "bottom": null,
            "display": null,
            "flex": null,
            "flex_flow": null,
            "grid_area": null,
            "grid_auto_columns": null,
            "grid_auto_flow": null,
            "grid_auto_rows": null,
            "grid_column": null,
            "grid_gap": null,
            "grid_row": null,
            "grid_template_areas": null,
            "grid_template_columns": null,
            "grid_template_rows": null,
            "height": null,
            "justify_content": null,
            "justify_items": null,
            "left": null,
            "margin": null,
            "max_height": null,
            "max_width": null,
            "min_height": null,
            "min_width": null,
            "object_fit": null,
            "object_position": null,
            "order": null,
            "overflow": null,
            "overflow_x": null,
            "overflow_y": null,
            "padding": null,
            "right": null,
            "top": null,
            "visibility": null,
            "width": null
          }
        },
        "a6d102a6bfe1427b9267367640bf18dc": {
          "model_module": "@jupyter-widgets/controls",
          "model_name": "DescriptionStyleModel",
          "model_module_version": "1.5.0",
          "state": {
            "_model_module": "@jupyter-widgets/controls",
            "_model_module_version": "1.5.0",
            "_model_name": "DescriptionStyleModel",
            "_view_count": null,
            "_view_module": "@jupyter-widgets/base",
            "_view_module_version": "1.2.0",
            "_view_name": "StyleView",
            "description_width": ""
          }
        },
        "5908e2cb400a4892b2c58140022ae5c0": {
          "model_module": "@jupyter-widgets/controls",
          "model_name": "HBoxModel",
          "model_module_version": "1.5.0",
          "state": {
            "_dom_classes": [],
            "_model_module": "@jupyter-widgets/controls",
            "_model_module_version": "1.5.0",
            "_model_name": "HBoxModel",
            "_view_count": null,
            "_view_module": "@jupyter-widgets/controls",
            "_view_module_version": "1.5.0",
            "_view_name": "HBoxView",
            "box_style": "",
            "children": [
              "IPY_MODEL_b47d690fa6744820a7a2b97e31046251",
              "IPY_MODEL_61115e47776f478284b20530eb5edb5c",
              "IPY_MODEL_c8b71140227043e8a004b8db7aa8a58b"
            ],
            "layout": "IPY_MODEL_458472697b714c7686d43748d6e278b9"
          }
        },
        "b47d690fa6744820a7a2b97e31046251": {
          "model_module": "@jupyter-widgets/controls",
          "model_name": "HTMLModel",
          "model_module_version": "1.5.0",
          "state": {
            "_dom_classes": [],
            "_model_module": "@jupyter-widgets/controls",
            "_model_module_version": "1.5.0",
            "_model_name": "HTMLModel",
            "_view_count": null,
            "_view_module": "@jupyter-widgets/controls",
            "_view_module_version": "1.5.0",
            "_view_name": "HTMLView",
            "description": "",
            "description_tooltip": null,
            "layout": "IPY_MODEL_75e07a31a4f944d2b12457f35ae81e67",
            "placeholder": "​",
            "style": "IPY_MODEL_8560b395c09f4dc4b1af0d1fa7ebc332",
            "value": "vocab.txt: 100%"
          }
        },
        "61115e47776f478284b20530eb5edb5c": {
          "model_module": "@jupyter-widgets/controls",
          "model_name": "FloatProgressModel",
          "model_module_version": "1.5.0",
          "state": {
            "_dom_classes": [],
            "_model_module": "@jupyter-widgets/controls",
            "_model_module_version": "1.5.0",
            "_model_name": "FloatProgressModel",
            "_view_count": null,
            "_view_module": "@jupyter-widgets/controls",
            "_view_module_version": "1.5.0",
            "_view_name": "ProgressView",
            "bar_style": "success",
            "description": "",
            "description_tooltip": null,
            "layout": "IPY_MODEL_3d87bd55e29b4accb60ebb24f805f9ed",
            "max": 213450,
            "min": 0,
            "orientation": "horizontal",
            "style": "IPY_MODEL_75721b45bfa244a3885efdd44c7ccced",
            "value": 213450
          }
        },
        "c8b71140227043e8a004b8db7aa8a58b": {
          "model_module": "@jupyter-widgets/controls",
          "model_name": "HTMLModel",
          "model_module_version": "1.5.0",
          "state": {
            "_dom_classes": [],
            "_model_module": "@jupyter-widgets/controls",
            "_model_module_version": "1.5.0",
            "_model_name": "HTMLModel",
            "_view_count": null,
            "_view_module": "@jupyter-widgets/controls",
            "_view_module_version": "1.5.0",
            "_view_name": "HTMLView",
            "description": "",
            "description_tooltip": null,
            "layout": "IPY_MODEL_14b618b02616480da4307b93398e272a",
            "placeholder": "​",
            "style": "IPY_MODEL_ab9ee79515cb4da19185d3cb776bb87b",
            "value": " 213k/213k [00:00&lt;00:00, 2.90MB/s]"
          }
        },
        "458472697b714c7686d43748d6e278b9": {
          "model_module": "@jupyter-widgets/base",
          "model_name": "LayoutModel",
          "model_module_version": "1.2.0",
          "state": {
            "_model_module": "@jupyter-widgets/base",
            "_model_module_version": "1.2.0",
            "_model_name": "LayoutModel",
            "_view_count": null,
            "_view_module": "@jupyter-widgets/base",
            "_view_module_version": "1.2.0",
            "_view_name": "LayoutView",
            "align_content": null,
            "align_items": null,
            "align_self": null,
            "border": null,
            "bottom": null,
            "display": null,
            "flex": null,
            "flex_flow": null,
            "grid_area": null,
            "grid_auto_columns": null,
            "grid_auto_flow": null,
            "grid_auto_rows": null,
            "grid_column": null,
            "grid_gap": null,
            "grid_row": null,
            "grid_template_areas": null,
            "grid_template_columns": null,
            "grid_template_rows": null,
            "height": null,
            "justify_content": null,
            "justify_items": null,
            "left": null,
            "margin": null,
            "max_height": null,
            "max_width": null,
            "min_height": null,
            "min_width": null,
            "object_fit": null,
            "object_position": null,
            "order": null,
            "overflow": null,
            "overflow_x": null,
            "overflow_y": null,
            "padding": null,
            "right": null,
            "top": null,
            "visibility": null,
            "width": null
          }
        },
        "75e07a31a4f944d2b12457f35ae81e67": {
          "model_module": "@jupyter-widgets/base",
          "model_name": "LayoutModel",
          "model_module_version": "1.2.0",
          "state": {
            "_model_module": "@jupyter-widgets/base",
            "_model_module_version": "1.2.0",
            "_model_name": "LayoutModel",
            "_view_count": null,
            "_view_module": "@jupyter-widgets/base",
            "_view_module_version": "1.2.0",
            "_view_name": "LayoutView",
            "align_content": null,
            "align_items": null,
            "align_self": null,
            "border": null,
            "bottom": null,
            "display": null,
            "flex": null,
            "flex_flow": null,
            "grid_area": null,
            "grid_auto_columns": null,
            "grid_auto_flow": null,
            "grid_auto_rows": null,
            "grid_column": null,
            "grid_gap": null,
            "grid_row": null,
            "grid_template_areas": null,
            "grid_template_columns": null,
            "grid_template_rows": null,
            "height": null,
            "justify_content": null,
            "justify_items": null,
            "left": null,
            "margin": null,
            "max_height": null,
            "max_width": null,
            "min_height": null,
            "min_width": null,
            "object_fit": null,
            "object_position": null,
            "order": null,
            "overflow": null,
            "overflow_x": null,
            "overflow_y": null,
            "padding": null,
            "right": null,
            "top": null,
            "visibility": null,
            "width": null
          }
        },
        "8560b395c09f4dc4b1af0d1fa7ebc332": {
          "model_module": "@jupyter-widgets/controls",
          "model_name": "DescriptionStyleModel",
          "model_module_version": "1.5.0",
          "state": {
            "_model_module": "@jupyter-widgets/controls",
            "_model_module_version": "1.5.0",
            "_model_name": "DescriptionStyleModel",
            "_view_count": null,
            "_view_module": "@jupyter-widgets/base",
            "_view_module_version": "1.2.0",
            "_view_name": "StyleView",
            "description_width": ""
          }
        },
        "3d87bd55e29b4accb60ebb24f805f9ed": {
          "model_module": "@jupyter-widgets/base",
          "model_name": "LayoutModel",
          "model_module_version": "1.2.0",
          "state": {
            "_model_module": "@jupyter-widgets/base",
            "_model_module_version": "1.2.0",
            "_model_name": "LayoutModel",
            "_view_count": null,
            "_view_module": "@jupyter-widgets/base",
            "_view_module_version": "1.2.0",
            "_view_name": "LayoutView",
            "align_content": null,
            "align_items": null,
            "align_self": null,
            "border": null,
            "bottom": null,
            "display": null,
            "flex": null,
            "flex_flow": null,
            "grid_area": null,
            "grid_auto_columns": null,
            "grid_auto_flow": null,
            "grid_auto_rows": null,
            "grid_column": null,
            "grid_gap": null,
            "grid_row": null,
            "grid_template_areas": null,
            "grid_template_columns": null,
            "grid_template_rows": null,
            "height": null,
            "justify_content": null,
            "justify_items": null,
            "left": null,
            "margin": null,
            "max_height": null,
            "max_width": null,
            "min_height": null,
            "min_width": null,
            "object_fit": null,
            "object_position": null,
            "order": null,
            "overflow": null,
            "overflow_x": null,
            "overflow_y": null,
            "padding": null,
            "right": null,
            "top": null,
            "visibility": null,
            "width": null
          }
        },
        "75721b45bfa244a3885efdd44c7ccced": {
          "model_module": "@jupyter-widgets/controls",
          "model_name": "ProgressStyleModel",
          "model_module_version": "1.5.0",
          "state": {
            "_model_module": "@jupyter-widgets/controls",
            "_model_module_version": "1.5.0",
            "_model_name": "ProgressStyleModel",
            "_view_count": null,
            "_view_module": "@jupyter-widgets/base",
            "_view_module_version": "1.2.0",
            "_view_name": "StyleView",
            "bar_color": null,
            "description_width": ""
          }
        },
        "14b618b02616480da4307b93398e272a": {
          "model_module": "@jupyter-widgets/base",
          "model_name": "LayoutModel",
          "model_module_version": "1.2.0",
          "state": {
            "_model_module": "@jupyter-widgets/base",
            "_model_module_version": "1.2.0",
            "_model_name": "LayoutModel",
            "_view_count": null,
            "_view_module": "@jupyter-widgets/base",
            "_view_module_version": "1.2.0",
            "_view_name": "LayoutView",
            "align_content": null,
            "align_items": null,
            "align_self": null,
            "border": null,
            "bottom": null,
            "display": null,
            "flex": null,
            "flex_flow": null,
            "grid_area": null,
            "grid_auto_columns": null,
            "grid_auto_flow": null,
            "grid_auto_rows": null,
            "grid_column": null,
            "grid_gap": null,
            "grid_row": null,
            "grid_template_areas": null,
            "grid_template_columns": null,
            "grid_template_rows": null,
            "height": null,
            "justify_content": null,
            "justify_items": null,
            "left": null,
            "margin": null,
            "max_height": null,
            "max_width": null,
            "min_height": null,
            "min_width": null,
            "object_fit": null,
            "object_position": null,
            "order": null,
            "overflow": null,
            "overflow_x": null,
            "overflow_y": null,
            "padding": null,
            "right": null,
            "top": null,
            "visibility": null,
            "width": null
          }
        },
        "ab9ee79515cb4da19185d3cb776bb87b": {
          "model_module": "@jupyter-widgets/controls",
          "model_name": "DescriptionStyleModel",
          "model_module_version": "1.5.0",
          "state": {
            "_model_module": "@jupyter-widgets/controls",
            "_model_module_version": "1.5.0",
            "_model_name": "DescriptionStyleModel",
            "_view_count": null,
            "_view_module": "@jupyter-widgets/base",
            "_view_module_version": "1.2.0",
            "_view_name": "StyleView",
            "description_width": ""
          }
        },
        "7741992ee028416abe799388212469d4": {
          "model_module": "@jupyter-widgets/controls",
          "model_name": "HBoxModel",
          "model_module_version": "1.5.0",
          "state": {
            "_dom_classes": [],
            "_model_module": "@jupyter-widgets/controls",
            "_model_module_version": "1.5.0",
            "_model_name": "HBoxModel",
            "_view_count": null,
            "_view_module": "@jupyter-widgets/controls",
            "_view_module_version": "1.5.0",
            "_view_name": "HBoxView",
            "box_style": "",
            "children": [
              "IPY_MODEL_45c0f7409cb94eb797548db1afaed001",
              "IPY_MODEL_bcdeef81029b41609bc831fcd507f10a",
              "IPY_MODEL_11678558f63c482082543821e3e4d9d8"
            ],
            "layout": "IPY_MODEL_6e89e5f8f06d4f7dbd40f7e4cc71757c"
          }
        },
        "45c0f7409cb94eb797548db1afaed001": {
          "model_module": "@jupyter-widgets/controls",
          "model_name": "HTMLModel",
          "model_module_version": "1.5.0",
          "state": {
            "_dom_classes": [],
            "_model_module": "@jupyter-widgets/controls",
            "_model_module_version": "1.5.0",
            "_model_name": "HTMLModel",
            "_view_count": null,
            "_view_module": "@jupyter-widgets/controls",
            "_view_module_version": "1.5.0",
            "_view_name": "HTMLView",
            "description": "",
            "description_tooltip": null,
            "layout": "IPY_MODEL_1255b83d307541d49a9febc244a8d947",
            "placeholder": "​",
            "style": "IPY_MODEL_434509186eef43adb5075951d1076388",
            "value": "tokenizer.json: 100%"
          }
        },
        "bcdeef81029b41609bc831fcd507f10a": {
          "model_module": "@jupyter-widgets/controls",
          "model_name": "FloatProgressModel",
          "model_module_version": "1.5.0",
          "state": {
            "_dom_classes": [],
            "_model_module": "@jupyter-widgets/controls",
            "_model_module_version": "1.5.0",
            "_model_name": "FloatProgressModel",
            "_view_count": null,
            "_view_module": "@jupyter-widgets/controls",
            "_view_module_version": "1.5.0",
            "_view_name": "ProgressView",
            "bar_style": "success",
            "description": "",
            "description_tooltip": null,
            "layout": "IPY_MODEL_92787d36b38d49c5b82df6336d3c28a3",
            "max": 435797,
            "min": 0,
            "orientation": "horizontal",
            "style": "IPY_MODEL_b09128c5ac8844cb89ac87e36bea0c30",
            "value": 435797
          }
        },
        "11678558f63c482082543821e3e4d9d8": {
          "model_module": "@jupyter-widgets/controls",
          "model_name": "HTMLModel",
          "model_module_version": "1.5.0",
          "state": {
            "_dom_classes": [],
            "_model_module": "@jupyter-widgets/controls",
            "_model_module_version": "1.5.0",
            "_model_name": "HTMLModel",
            "_view_count": null,
            "_view_module": "@jupyter-widgets/controls",
            "_view_module_version": "1.5.0",
            "_view_name": "HTMLView",
            "description": "",
            "description_tooltip": null,
            "layout": "IPY_MODEL_6497bbea3ca74ab19fab3d9391b45538",
            "placeholder": "​",
            "style": "IPY_MODEL_522af00ccec241f29ea8ab15d1f934c0",
            "value": " 436k/436k [00:00&lt;00:00, 4.92MB/s]"
          }
        },
        "6e89e5f8f06d4f7dbd40f7e4cc71757c": {
          "model_module": "@jupyter-widgets/base",
          "model_name": "LayoutModel",
          "model_module_version": "1.2.0",
          "state": {
            "_model_module": "@jupyter-widgets/base",
            "_model_module_version": "1.2.0",
            "_model_name": "LayoutModel",
            "_view_count": null,
            "_view_module": "@jupyter-widgets/base",
            "_view_module_version": "1.2.0",
            "_view_name": "LayoutView",
            "align_content": null,
            "align_items": null,
            "align_self": null,
            "border": null,
            "bottom": null,
            "display": null,
            "flex": null,
            "flex_flow": null,
            "grid_area": null,
            "grid_auto_columns": null,
            "grid_auto_flow": null,
            "grid_auto_rows": null,
            "grid_column": null,
            "grid_gap": null,
            "grid_row": null,
            "grid_template_areas": null,
            "grid_template_columns": null,
            "grid_template_rows": null,
            "height": null,
            "justify_content": null,
            "justify_items": null,
            "left": null,
            "margin": null,
            "max_height": null,
            "max_width": null,
            "min_height": null,
            "min_width": null,
            "object_fit": null,
            "object_position": null,
            "order": null,
            "overflow": null,
            "overflow_x": null,
            "overflow_y": null,
            "padding": null,
            "right": null,
            "top": null,
            "visibility": null,
            "width": null
          }
        },
        "1255b83d307541d49a9febc244a8d947": {
          "model_module": "@jupyter-widgets/base",
          "model_name": "LayoutModel",
          "model_module_version": "1.2.0",
          "state": {
            "_model_module": "@jupyter-widgets/base",
            "_model_module_version": "1.2.0",
            "_model_name": "LayoutModel",
            "_view_count": null,
            "_view_module": "@jupyter-widgets/base",
            "_view_module_version": "1.2.0",
            "_view_name": "LayoutView",
            "align_content": null,
            "align_items": null,
            "align_self": null,
            "border": null,
            "bottom": null,
            "display": null,
            "flex": null,
            "flex_flow": null,
            "grid_area": null,
            "grid_auto_columns": null,
            "grid_auto_flow": null,
            "grid_auto_rows": null,
            "grid_column": null,
            "grid_gap": null,
            "grid_row": null,
            "grid_template_areas": null,
            "grid_template_columns": null,
            "grid_template_rows": null,
            "height": null,
            "justify_content": null,
            "justify_items": null,
            "left": null,
            "margin": null,
            "max_height": null,
            "max_width": null,
            "min_height": null,
            "min_width": null,
            "object_fit": null,
            "object_position": null,
            "order": null,
            "overflow": null,
            "overflow_x": null,
            "overflow_y": null,
            "padding": null,
            "right": null,
            "top": null,
            "visibility": null,
            "width": null
          }
        },
        "434509186eef43adb5075951d1076388": {
          "model_module": "@jupyter-widgets/controls",
          "model_name": "DescriptionStyleModel",
          "model_module_version": "1.5.0",
          "state": {
            "_model_module": "@jupyter-widgets/controls",
            "_model_module_version": "1.5.0",
            "_model_name": "DescriptionStyleModel",
            "_view_count": null,
            "_view_module": "@jupyter-widgets/base",
            "_view_module_version": "1.2.0",
            "_view_name": "StyleView",
            "description_width": ""
          }
        },
        "92787d36b38d49c5b82df6336d3c28a3": {
          "model_module": "@jupyter-widgets/base",
          "model_name": "LayoutModel",
          "model_module_version": "1.2.0",
          "state": {
            "_model_module": "@jupyter-widgets/base",
            "_model_module_version": "1.2.0",
            "_model_name": "LayoutModel",
            "_view_count": null,
            "_view_module": "@jupyter-widgets/base",
            "_view_module_version": "1.2.0",
            "_view_name": "LayoutView",
            "align_content": null,
            "align_items": null,
            "align_self": null,
            "border": null,
            "bottom": null,
            "display": null,
            "flex": null,
            "flex_flow": null,
            "grid_area": null,
            "grid_auto_columns": null,
            "grid_auto_flow": null,
            "grid_auto_rows": null,
            "grid_column": null,
            "grid_gap": null,
            "grid_row": null,
            "grid_template_areas": null,
            "grid_template_columns": null,
            "grid_template_rows": null,
            "height": null,
            "justify_content": null,
            "justify_items": null,
            "left": null,
            "margin": null,
            "max_height": null,
            "max_width": null,
            "min_height": null,
            "min_width": null,
            "object_fit": null,
            "object_position": null,
            "order": null,
            "overflow": null,
            "overflow_x": null,
            "overflow_y": null,
            "padding": null,
            "right": null,
            "top": null,
            "visibility": null,
            "width": null
          }
        },
        "b09128c5ac8844cb89ac87e36bea0c30": {
          "model_module": "@jupyter-widgets/controls",
          "model_name": "ProgressStyleModel",
          "model_module_version": "1.5.0",
          "state": {
            "_model_module": "@jupyter-widgets/controls",
            "_model_module_version": "1.5.0",
            "_model_name": "ProgressStyleModel",
            "_view_count": null,
            "_view_module": "@jupyter-widgets/base",
            "_view_module_version": "1.2.0",
            "_view_name": "StyleView",
            "bar_color": null,
            "description_width": ""
          }
        },
        "6497bbea3ca74ab19fab3d9391b45538": {
          "model_module": "@jupyter-widgets/base",
          "model_name": "LayoutModel",
          "model_module_version": "1.2.0",
          "state": {
            "_model_module": "@jupyter-widgets/base",
            "_model_module_version": "1.2.0",
            "_model_name": "LayoutModel",
            "_view_count": null,
            "_view_module": "@jupyter-widgets/base",
            "_view_module_version": "1.2.0",
            "_view_name": "LayoutView",
            "align_content": null,
            "align_items": null,
            "align_self": null,
            "border": null,
            "bottom": null,
            "display": null,
            "flex": null,
            "flex_flow": null,
            "grid_area": null,
            "grid_auto_columns": null,
            "grid_auto_flow": null,
            "grid_auto_rows": null,
            "grid_column": null,
            "grid_gap": null,
            "grid_row": null,
            "grid_template_areas": null,
            "grid_template_columns": null,
            "grid_template_rows": null,
            "height": null,
            "justify_content": null,
            "justify_items": null,
            "left": null,
            "margin": null,
            "max_height": null,
            "max_width": null,
            "min_height": null,
            "min_width": null,
            "object_fit": null,
            "object_position": null,
            "order": null,
            "overflow": null,
            "overflow_x": null,
            "overflow_y": null,
            "padding": null,
            "right": null,
            "top": null,
            "visibility": null,
            "width": null
          }
        },
        "522af00ccec241f29ea8ab15d1f934c0": {
          "model_module": "@jupyter-widgets/controls",
          "model_name": "DescriptionStyleModel",
          "model_module_version": "1.5.0",
          "state": {
            "_model_module": "@jupyter-widgets/controls",
            "_model_module_version": "1.5.0",
            "_model_name": "DescriptionStyleModel",
            "_view_count": null,
            "_view_module": "@jupyter-widgets/base",
            "_view_module_version": "1.2.0",
            "_view_name": "StyleView",
            "description_width": ""
          }
        },
        "6d1853ce7a694dd095cef26f31a154ed": {
          "model_module": "@jupyter-widgets/controls",
          "model_name": "HBoxModel",
          "model_module_version": "1.5.0",
          "state": {
            "_dom_classes": [],
            "_model_module": "@jupyter-widgets/controls",
            "_model_module_version": "1.5.0",
            "_model_name": "HBoxModel",
            "_view_count": null,
            "_view_module": "@jupyter-widgets/controls",
            "_view_module_version": "1.5.0",
            "_view_name": "HBoxView",
            "box_style": "",
            "children": [
              "IPY_MODEL_27456654dc564cb6ae2db9c63a6ef00a",
              "IPY_MODEL_9adfb905536a4615ad6f44c2affc2910",
              "IPY_MODEL_7eba3e313be24cfcaf5a075d5eeff1e5"
            ],
            "layout": "IPY_MODEL_3f2832b0b6524261aacf34b8582a0f25"
          }
        },
        "27456654dc564cb6ae2db9c63a6ef00a": {
          "model_module": "@jupyter-widgets/controls",
          "model_name": "HTMLModel",
          "model_module_version": "1.5.0",
          "state": {
            "_dom_classes": [],
            "_model_module": "@jupyter-widgets/controls",
            "_model_module_version": "1.5.0",
            "_model_name": "HTMLModel",
            "_view_count": null,
            "_view_module": "@jupyter-widgets/controls",
            "_view_module_version": "1.5.0",
            "_view_name": "HTMLView",
            "description": "",
            "description_tooltip": null,
            "layout": "IPY_MODEL_8e7ab6eab5324f8d853097e41c9e23ac",
            "placeholder": "​",
            "style": "IPY_MODEL_5125fed1139c4789bf92e0b700455242",
            "value": "config.json: 100%"
          }
        },
        "9adfb905536a4615ad6f44c2affc2910": {
          "model_module": "@jupyter-widgets/controls",
          "model_name": "FloatProgressModel",
          "model_module_version": "1.5.0",
          "state": {
            "_dom_classes": [],
            "_model_module": "@jupyter-widgets/controls",
            "_model_module_version": "1.5.0",
            "_model_name": "FloatProgressModel",
            "_view_count": null,
            "_view_module": "@jupyter-widgets/controls",
            "_view_module_version": "1.5.0",
            "_view_name": "ProgressView",
            "bar_style": "success",
            "description": "",
            "description_tooltip": null,
            "layout": "IPY_MODEL_ad5d2829d80746ac858b29745df4d634",
            "max": 570,
            "min": 0,
            "orientation": "horizontal",
            "style": "IPY_MODEL_7e550eec862248bc9cab1a8a54ad160e",
            "value": 570
          }
        },
        "7eba3e313be24cfcaf5a075d5eeff1e5": {
          "model_module": "@jupyter-widgets/controls",
          "model_name": "HTMLModel",
          "model_module_version": "1.5.0",
          "state": {
            "_dom_classes": [],
            "_model_module": "@jupyter-widgets/controls",
            "_model_module_version": "1.5.0",
            "_model_name": "HTMLModel",
            "_view_count": null,
            "_view_module": "@jupyter-widgets/controls",
            "_view_module_version": "1.5.0",
            "_view_name": "HTMLView",
            "description": "",
            "description_tooltip": null,
            "layout": "IPY_MODEL_0cf88076a56a40049c7c709259d842c2",
            "placeholder": "​",
            "style": "IPY_MODEL_91f022cdcb2f49b18462e7595f82ba97",
            "value": " 570/570 [00:00&lt;00:00, 25.4kB/s]"
          }
        },
        "3f2832b0b6524261aacf34b8582a0f25": {
          "model_module": "@jupyter-widgets/base",
          "model_name": "LayoutModel",
          "model_module_version": "1.2.0",
          "state": {
            "_model_module": "@jupyter-widgets/base",
            "_model_module_version": "1.2.0",
            "_model_name": "LayoutModel",
            "_view_count": null,
            "_view_module": "@jupyter-widgets/base",
            "_view_module_version": "1.2.0",
            "_view_name": "LayoutView",
            "align_content": null,
            "align_items": null,
            "align_self": null,
            "border": null,
            "bottom": null,
            "display": null,
            "flex": null,
            "flex_flow": null,
            "grid_area": null,
            "grid_auto_columns": null,
            "grid_auto_flow": null,
            "grid_auto_rows": null,
            "grid_column": null,
            "grid_gap": null,
            "grid_row": null,
            "grid_template_areas": null,
            "grid_template_columns": null,
            "grid_template_rows": null,
            "height": null,
            "justify_content": null,
            "justify_items": null,
            "left": null,
            "margin": null,
            "max_height": null,
            "max_width": null,
            "min_height": null,
            "min_width": null,
            "object_fit": null,
            "object_position": null,
            "order": null,
            "overflow": null,
            "overflow_x": null,
            "overflow_y": null,
            "padding": null,
            "right": null,
            "top": null,
            "visibility": null,
            "width": null
          }
        },
        "8e7ab6eab5324f8d853097e41c9e23ac": {
          "model_module": "@jupyter-widgets/base",
          "model_name": "LayoutModel",
          "model_module_version": "1.2.0",
          "state": {
            "_model_module": "@jupyter-widgets/base",
            "_model_module_version": "1.2.0",
            "_model_name": "LayoutModel",
            "_view_count": null,
            "_view_module": "@jupyter-widgets/base",
            "_view_module_version": "1.2.0",
            "_view_name": "LayoutView",
            "align_content": null,
            "align_items": null,
            "align_self": null,
            "border": null,
            "bottom": null,
            "display": null,
            "flex": null,
            "flex_flow": null,
            "grid_area": null,
            "grid_auto_columns": null,
            "grid_auto_flow": null,
            "grid_auto_rows": null,
            "grid_column": null,
            "grid_gap": null,
            "grid_row": null,
            "grid_template_areas": null,
            "grid_template_columns": null,
            "grid_template_rows": null,
            "height": null,
            "justify_content": null,
            "justify_items": null,
            "left": null,
            "margin": null,
            "max_height": null,
            "max_width": null,
            "min_height": null,
            "min_width": null,
            "object_fit": null,
            "object_position": null,
            "order": null,
            "overflow": null,
            "overflow_x": null,
            "overflow_y": null,
            "padding": null,
            "right": null,
            "top": null,
            "visibility": null,
            "width": null
          }
        },
        "5125fed1139c4789bf92e0b700455242": {
          "model_module": "@jupyter-widgets/controls",
          "model_name": "DescriptionStyleModel",
          "model_module_version": "1.5.0",
          "state": {
            "_model_module": "@jupyter-widgets/controls",
            "_model_module_version": "1.5.0",
            "_model_name": "DescriptionStyleModel",
            "_view_count": null,
            "_view_module": "@jupyter-widgets/base",
            "_view_module_version": "1.2.0",
            "_view_name": "StyleView",
            "description_width": ""
          }
        },
        "ad5d2829d80746ac858b29745df4d634": {
          "model_module": "@jupyter-widgets/base",
          "model_name": "LayoutModel",
          "model_module_version": "1.2.0",
          "state": {
            "_model_module": "@jupyter-widgets/base",
            "_model_module_version": "1.2.0",
            "_model_name": "LayoutModel",
            "_view_count": null,
            "_view_module": "@jupyter-widgets/base",
            "_view_module_version": "1.2.0",
            "_view_name": "LayoutView",
            "align_content": null,
            "align_items": null,
            "align_self": null,
            "border": null,
            "bottom": null,
            "display": null,
            "flex": null,
            "flex_flow": null,
            "grid_area": null,
            "grid_auto_columns": null,
            "grid_auto_flow": null,
            "grid_auto_rows": null,
            "grid_column": null,
            "grid_gap": null,
            "grid_row": null,
            "grid_template_areas": null,
            "grid_template_columns": null,
            "grid_template_rows": null,
            "height": null,
            "justify_content": null,
            "justify_items": null,
            "left": null,
            "margin": null,
            "max_height": null,
            "max_width": null,
            "min_height": null,
            "min_width": null,
            "object_fit": null,
            "object_position": null,
            "order": null,
            "overflow": null,
            "overflow_x": null,
            "overflow_y": null,
            "padding": null,
            "right": null,
            "top": null,
            "visibility": null,
            "width": null
          }
        },
        "7e550eec862248bc9cab1a8a54ad160e": {
          "model_module": "@jupyter-widgets/controls",
          "model_name": "ProgressStyleModel",
          "model_module_version": "1.5.0",
          "state": {
            "_model_module": "@jupyter-widgets/controls",
            "_model_module_version": "1.5.0",
            "_model_name": "ProgressStyleModel",
            "_view_count": null,
            "_view_module": "@jupyter-widgets/base",
            "_view_module_version": "1.2.0",
            "_view_name": "StyleView",
            "bar_color": null,
            "description_width": ""
          }
        },
        "0cf88076a56a40049c7c709259d842c2": {
          "model_module": "@jupyter-widgets/base",
          "model_name": "LayoutModel",
          "model_module_version": "1.2.0",
          "state": {
            "_model_module": "@jupyter-widgets/base",
            "_model_module_version": "1.2.0",
            "_model_name": "LayoutModel",
            "_view_count": null,
            "_view_module": "@jupyter-widgets/base",
            "_view_module_version": "1.2.0",
            "_view_name": "LayoutView",
            "align_content": null,
            "align_items": null,
            "align_self": null,
            "border": null,
            "bottom": null,
            "display": null,
            "flex": null,
            "flex_flow": null,
            "grid_area": null,
            "grid_auto_columns": null,
            "grid_auto_flow": null,
            "grid_auto_rows": null,
            "grid_column": null,
            "grid_gap": null,
            "grid_row": null,
            "grid_template_areas": null,
            "grid_template_columns": null,
            "grid_template_rows": null,
            "height": null,
            "justify_content": null,
            "justify_items": null,
            "left": null,
            "margin": null,
            "max_height": null,
            "max_width": null,
            "min_height": null,
            "min_width": null,
            "object_fit": null,
            "object_position": null,
            "order": null,
            "overflow": null,
            "overflow_x": null,
            "overflow_y": null,
            "padding": null,
            "right": null,
            "top": null,
            "visibility": null,
            "width": null
          }
        },
        "91f022cdcb2f49b18462e7595f82ba97": {
          "model_module": "@jupyter-widgets/controls",
          "model_name": "DescriptionStyleModel",
          "model_module_version": "1.5.0",
          "state": {
            "_model_module": "@jupyter-widgets/controls",
            "_model_module_version": "1.5.0",
            "_model_name": "DescriptionStyleModel",
            "_view_count": null,
            "_view_module": "@jupyter-widgets/base",
            "_view_module_version": "1.2.0",
            "_view_name": "StyleView",
            "description_width": ""
          }
        }
      }
    }
  },
  "cells": [
    {
      "cell_type": "markdown",
      "metadata": {
        "id": "view-in-github",
        "colab_type": "text"
      },
      "source": [
        "<a href=\"https://colab.research.google.com/github/RyanChen12035/capstone/blob/main/two_tower_demo.ipynb\" target=\"_parent\"><img src=\"https://colab.research.google.com/assets/colab-badge.svg\" alt=\"Open In Colab\"/></a>"
      ]
    },
    {
      "cell_type": "code",
      "execution_count": 1,
      "metadata": {
        "colab": {
          "base_uri": "https://localhost:8080/"
        },
        "id": "puib5VEaYwXI",
        "outputId": "b87828fa-9614-4f38-da84-04406d37e356"
      },
      "outputs": [
        {
          "output_type": "stream",
          "name": "stdout",
          "text": [
            "\u001b[2K     \u001b[90m━━━━━━━━━━━━━━━━━━━━━━━━━━━━━━━━━━━━━━━━\u001b[0m \u001b[32m497.6/497.6 MB\u001b[0m \u001b[31m1.6 MB/s\u001b[0m eta \u001b[36m0:00:00\u001b[0m\n",
            "\u001b[2K     \u001b[90m━━━━━━━━━━━━━━━━━━━━━━━━━━━━━━━━━━━━━━━━\u001b[0m \u001b[32m42.6/42.6 kB\u001b[0m \u001b[31m3.4 MB/s\u001b[0m eta \u001b[36m0:00:00\u001b[0m\n",
            "\u001b[2K     \u001b[90m━━━━━━━━━━━━━━━━━━━━━━━━━━━━━━━━━━━━━━━━\u001b[0m \u001b[32m5.8/5.8 MB\u001b[0m \u001b[31m54.5 MB/s\u001b[0m eta \u001b[36m0:00:00\u001b[0m\n",
            "\u001b[2K     \u001b[90m━━━━━━━━━━━━━━━━━━━━━━━━━━━━━━━━━━━━━━━━\u001b[0m \u001b[32m462.5/462.5 kB\u001b[0m \u001b[31m29.4 MB/s\u001b[0m eta \u001b[36m0:00:00\u001b[0m\n",
            "\u001b[2K     \u001b[90m━━━━━━━━━━━━━━━━━━━━━━━━━━━━━━━━━━━━━━━━\u001b[0m \u001b[32m1.4/1.4 MB\u001b[0m \u001b[31m52.1 MB/s\u001b[0m eta \u001b[36m0:00:00\u001b[0m\n",
            "\u001b[2K     \u001b[90m━━━━━━━━━━━━━━━━━━━━━━━━━━━━━━━━━━━━━━━━\u001b[0m \u001b[32m4.9/4.9 MB\u001b[0m \u001b[31m53.0 MB/s\u001b[0m eta \u001b[36m0:00:00\u001b[0m\n",
            "\u001b[2K     \u001b[90m━━━━━━━━━━━━━━━━━━━━━━━━━━━━━━━━━━━━━━━━\u001b[0m \u001b[32m781.3/781.3 kB\u001b[0m \u001b[31m35.6 MB/s\u001b[0m eta \u001b[36m0:00:00\u001b[0m\n",
            "\u001b[?25h\u001b[31mERROR: pip's dependency resolver does not currently take into account all the packages that are installed. This behaviour is the source of the following dependency conflicts.\n",
            "pandas-gbq 0.19.2 requires google-auth-oauthlib>=0.7.0, but you have google-auth-oauthlib 0.4.6 which is incompatible.\n",
            "tf-keras 2.15.1 requires tensorflow<2.16,>=2.15, but you have tensorflow 2.8.0 which is incompatible.\u001b[0m\u001b[31m\n",
            "\u001b[2K     \u001b[90m━━━━━━━━━━━━━━━━━━━━━━━━━━━━━━━━━━━━━━━━\u001b[0m \u001b[32m3.4/3.4 MB\u001b[0m \u001b[31m13.3 MB/s\u001b[0m eta \u001b[36m0:00:00\u001b[0m\n",
            "\u001b[2K     \u001b[90m━━━━━━━━━━━━━━━━━━━━━━━━━━━━━━━━━━━━━━━━\u001b[0m \u001b[32m897.5/897.5 kB\u001b[0m \u001b[31m19.4 MB/s\u001b[0m eta \u001b[36m0:00:00\u001b[0m\n",
            "\u001b[2K     \u001b[90m━━━━━━━━━━━━━━━━━━━━━━━━━━━━━━━━━━━━━━━━\u001b[0m \u001b[32m212.7/212.7 kB\u001b[0m \u001b[31m20.0 MB/s\u001b[0m eta \u001b[36m0:00:00\u001b[0m\n",
            "\u001b[?25h  Installing build dependencies ... \u001b[?25l\u001b[?25hdone\n",
            "  Getting requirements to build wheel ... \u001b[?25l\u001b[?25hdone\n",
            "  Preparing metadata (pyproject.toml) ... \u001b[?25l\u001b[?25hdone\n",
            "  \u001b[1;31merror\u001b[0m: \u001b[1msubprocess-exited-with-error\u001b[0m\n",
            "  \n",
            "  \u001b[31m×\u001b[0m \u001b[32mBuilding wheel for tokenizers \u001b[0m\u001b[1;32m(\u001b[0m\u001b[32mpyproject.toml\u001b[0m\u001b[1;32m)\u001b[0m did not run successfully.\n",
            "  \u001b[31m│\u001b[0m exit code: \u001b[1;36m1\u001b[0m\n",
            "  \u001b[31m╰─>\u001b[0m See above for output.\n",
            "  \n",
            "  \u001b[1;35mnote\u001b[0m: This error originates from a subprocess, and is likely not a problem with pip.\n",
            "  Building wheel for tokenizers (pyproject.toml) ... \u001b[?25l\u001b[?25herror\n",
            "\u001b[31m  ERROR: Failed building wheel for tokenizers\u001b[0m\u001b[31m\n",
            "\u001b[0m\u001b[31mERROR: Could not build wheels for tokenizers, which is required to install pyproject.toml-based projects\u001b[0m\u001b[31m\n",
            "\u001b[2K     \u001b[90m━━━━━━━━━━━━━━━━━━━━━━━━━━━━━━━━━━━━━━━━\u001b[0m \u001b[32m85.5/85.5 MB\u001b[0m \u001b[31m9.7 MB/s\u001b[0m eta \u001b[36m0:00:00\u001b[0m\n",
            "\u001b[?25h"
          ]
        }
      ],
      "source": [
        "!pip install tensorflow==2.8.0 --quiet\n",
        "!pip install transformers==4.15.0 --quiet\n",
        "!pip install faiss-gpu --quiet\n",
        "# !pip install faiss-cpu --quiet"
      ]
    },
    {
      "cell_type": "code",
      "source": [
        "import numpy as np\n",
        "import pandas as pd\n",
        "import tensorflow as tf\n",
        "from tensorflow import keras\n",
        "from tensorflow.keras.layers import Embedding, Input, Dense, Lambda, Dropout, Conv1D, GlobalMaxPooling1D, Concatenate, Activation\n",
        "from tensorflow.keras.models import Model\n",
        "import tensorflow.keras.backend as K\n",
        "from transformers import BertTokenizer, TFBertModel"
      ],
      "metadata": {
        "id": "V-TgMbhkY4K1"
      },
      "execution_count": 2,
      "outputs": []
    },
    {
      "cell_type": "code",
      "source": [
        "from google.colab import drive\n",
        "\n",
        "# mount Google Drive\n",
        "drive.mount('/content/drive')\n"
      ],
      "metadata": {
        "colab": {
          "base_uri": "https://localhost:8080/",
          "height": 321
        },
        "id": "2bXhHJptY5qw",
        "outputId": "1a958fb6-774b-415f-e788-e4190b758d75"
      },
      "execution_count": 3,
      "outputs": [
        {
          "output_type": "error",
          "ename": "MessageError",
          "evalue": "Error: credential propagation was unsuccessful",
          "traceback": [
            "\u001b[0;31m---------------------------------------------------------------------------\u001b[0m",
            "\u001b[0;31mMessageError\u001b[0m                              Traceback (most recent call last)",
            "\u001b[0;32m<ipython-input-3-26b5089913f9>\u001b[0m in \u001b[0;36m<cell line: 4>\u001b[0;34m()\u001b[0m\n\u001b[1;32m      2\u001b[0m \u001b[0;34m\u001b[0m\u001b[0m\n\u001b[1;32m      3\u001b[0m \u001b[0;31m# mount Google Drive\u001b[0m\u001b[0;34m\u001b[0m\u001b[0;34m\u001b[0m\u001b[0m\n\u001b[0;32m----> 4\u001b[0;31m \u001b[0mdrive\u001b[0m\u001b[0;34m.\u001b[0m\u001b[0mmount\u001b[0m\u001b[0;34m(\u001b[0m\u001b[0;34m'/content/drive'\u001b[0m\u001b[0;34m)\u001b[0m\u001b[0;34m\u001b[0m\u001b[0;34m\u001b[0m\u001b[0m\n\u001b[0m",
            "\u001b[0;32m/usr/local/lib/python3.10/dist-packages/google/colab/drive.py\u001b[0m in \u001b[0;36mmount\u001b[0;34m(mountpoint, force_remount, timeout_ms, readonly)\u001b[0m\n\u001b[1;32m     98\u001b[0m \u001b[0;32mdef\u001b[0m \u001b[0mmount\u001b[0m\u001b[0;34m(\u001b[0m\u001b[0mmountpoint\u001b[0m\u001b[0;34m,\u001b[0m \u001b[0mforce_remount\u001b[0m\u001b[0;34m=\u001b[0m\u001b[0;32mFalse\u001b[0m\u001b[0;34m,\u001b[0m \u001b[0mtimeout_ms\u001b[0m\u001b[0;34m=\u001b[0m\u001b[0;36m120000\u001b[0m\u001b[0;34m,\u001b[0m \u001b[0mreadonly\u001b[0m\u001b[0;34m=\u001b[0m\u001b[0;32mFalse\u001b[0m\u001b[0;34m)\u001b[0m\u001b[0;34m:\u001b[0m\u001b[0;34m\u001b[0m\u001b[0;34m\u001b[0m\u001b[0m\n\u001b[1;32m     99\u001b[0m   \u001b[0;34m\"\"\"Mount your Google Drive at the specified mountpoint path.\"\"\"\u001b[0m\u001b[0;34m\u001b[0m\u001b[0;34m\u001b[0m\u001b[0m\n\u001b[0;32m--> 100\u001b[0;31m   return _mount(\n\u001b[0m\u001b[1;32m    101\u001b[0m       \u001b[0mmountpoint\u001b[0m\u001b[0;34m,\u001b[0m\u001b[0;34m\u001b[0m\u001b[0;34m\u001b[0m\u001b[0m\n\u001b[1;32m    102\u001b[0m       \u001b[0mforce_remount\u001b[0m\u001b[0;34m=\u001b[0m\u001b[0mforce_remount\u001b[0m\u001b[0;34m,\u001b[0m\u001b[0;34m\u001b[0m\u001b[0;34m\u001b[0m\u001b[0m\n",
            "\u001b[0;32m/usr/local/lib/python3.10/dist-packages/google/colab/drive.py\u001b[0m in \u001b[0;36m_mount\u001b[0;34m(mountpoint, force_remount, timeout_ms, ephemeral, readonly)\u001b[0m\n\u001b[1;32m    131\u001b[0m   )\n\u001b[1;32m    132\u001b[0m   \u001b[0;32mif\u001b[0m \u001b[0mephemeral\u001b[0m\u001b[0;34m:\u001b[0m\u001b[0;34m\u001b[0m\u001b[0;34m\u001b[0m\u001b[0m\n\u001b[0;32m--> 133\u001b[0;31m     _message.blocking_request(\n\u001b[0m\u001b[1;32m    134\u001b[0m         \u001b[0;34m'request_auth'\u001b[0m\u001b[0;34m,\u001b[0m \u001b[0mrequest\u001b[0m\u001b[0;34m=\u001b[0m\u001b[0;34m{\u001b[0m\u001b[0;34m'authType'\u001b[0m\u001b[0;34m:\u001b[0m \u001b[0;34m'dfs_ephemeral'\u001b[0m\u001b[0;34m}\u001b[0m\u001b[0;34m,\u001b[0m \u001b[0mtimeout_sec\u001b[0m\u001b[0;34m=\u001b[0m\u001b[0;32mNone\u001b[0m\u001b[0;34m\u001b[0m\u001b[0;34m\u001b[0m\u001b[0m\n\u001b[1;32m    135\u001b[0m     )\n",
            "\u001b[0;32m/usr/local/lib/python3.10/dist-packages/google/colab/_message.py\u001b[0m in \u001b[0;36mblocking_request\u001b[0;34m(request_type, request, timeout_sec, parent)\u001b[0m\n\u001b[1;32m    174\u001b[0m       \u001b[0mrequest_type\u001b[0m\u001b[0;34m,\u001b[0m \u001b[0mrequest\u001b[0m\u001b[0;34m,\u001b[0m \u001b[0mparent\u001b[0m\u001b[0;34m=\u001b[0m\u001b[0mparent\u001b[0m\u001b[0;34m,\u001b[0m \u001b[0mexpect_reply\u001b[0m\u001b[0;34m=\u001b[0m\u001b[0;32mTrue\u001b[0m\u001b[0;34m\u001b[0m\u001b[0;34m\u001b[0m\u001b[0m\n\u001b[1;32m    175\u001b[0m   )\n\u001b[0;32m--> 176\u001b[0;31m   \u001b[0;32mreturn\u001b[0m \u001b[0mread_reply_from_input\u001b[0m\u001b[0;34m(\u001b[0m\u001b[0mrequest_id\u001b[0m\u001b[0;34m,\u001b[0m \u001b[0mtimeout_sec\u001b[0m\u001b[0;34m)\u001b[0m\u001b[0;34m\u001b[0m\u001b[0;34m\u001b[0m\u001b[0m\n\u001b[0m",
            "\u001b[0;32m/usr/local/lib/python3.10/dist-packages/google/colab/_message.py\u001b[0m in \u001b[0;36mread_reply_from_input\u001b[0;34m(message_id, timeout_sec)\u001b[0m\n\u001b[1;32m    101\u001b[0m     ):\n\u001b[1;32m    102\u001b[0m       \u001b[0;32mif\u001b[0m \u001b[0;34m'error'\u001b[0m \u001b[0;32min\u001b[0m \u001b[0mreply\u001b[0m\u001b[0;34m:\u001b[0m\u001b[0;34m\u001b[0m\u001b[0;34m\u001b[0m\u001b[0m\n\u001b[0;32m--> 103\u001b[0;31m         \u001b[0;32mraise\u001b[0m \u001b[0mMessageError\u001b[0m\u001b[0;34m(\u001b[0m\u001b[0mreply\u001b[0m\u001b[0;34m[\u001b[0m\u001b[0;34m'error'\u001b[0m\u001b[0;34m]\u001b[0m\u001b[0;34m)\u001b[0m\u001b[0;34m\u001b[0m\u001b[0;34m\u001b[0m\u001b[0m\n\u001b[0m\u001b[1;32m    104\u001b[0m       \u001b[0;32mreturn\u001b[0m \u001b[0mreply\u001b[0m\u001b[0;34m.\u001b[0m\u001b[0mget\u001b[0m\u001b[0;34m(\u001b[0m\u001b[0;34m'data'\u001b[0m\u001b[0;34m,\u001b[0m \u001b[0;32mNone\u001b[0m\u001b[0;34m)\u001b[0m\u001b[0;34m\u001b[0m\u001b[0;34m\u001b[0m\u001b[0m\n\u001b[1;32m    105\u001b[0m \u001b[0;34m\u001b[0m\u001b[0m\n",
            "\u001b[0;31mMessageError\u001b[0m: Error: credential propagation was unsuccessful"
          ]
        }
      ]
    },
    {
      "cell_type": "code",
      "source": [
        "# download the model from google drive.\n",
        "from tensorflow.keras.models import load_model\n",
        "custom_objects = {'TFBertModel': TFBertModel}\n",
        "model_v5data = load_model('./drive/MyDrive/two_tower_bert_v5.h5', custom_objects=custom_objects)\n",
        "bert_tokenizer = BertTokenizer.from_pretrained('bert-base-cased')"
      ],
      "metadata": {
        "id": "g15Sf13lZB1V"
      },
      "execution_count": null,
      "outputs": []
    },
    {
      "cell_type": "code",
      "source": [
        "# download the model from hugging face\n",
        "!pip install transformers huggingface_hub\n",
        "!huggingface-cli login"
      ],
      "metadata": {
        "colab": {
          "base_uri": "https://localhost:8080/"
        },
        "id": "ZJZMOi7M3gQz",
        "outputId": "787a98d5-b603-4a03-a76e-e37b6213dc0e"
      },
      "execution_count": 4,
      "outputs": [
        {
          "output_type": "stream",
          "name": "stdout",
          "text": [
            "Requirement already satisfied: transformers in /usr/local/lib/python3.10/dist-packages (4.38.2)\n",
            "Requirement already satisfied: huggingface_hub in /usr/local/lib/python3.10/dist-packages (0.20.3)\n",
            "Requirement already satisfied: filelock in /usr/local/lib/python3.10/dist-packages (from transformers) (3.13.4)\n",
            "Requirement already satisfied: numpy>=1.17 in /usr/local/lib/python3.10/dist-packages (from transformers) (1.25.2)\n",
            "Requirement already satisfied: packaging>=20.0 in /usr/local/lib/python3.10/dist-packages (from transformers) (24.0)\n",
            "Requirement already satisfied: pyyaml>=5.1 in /usr/local/lib/python3.10/dist-packages (from transformers) (6.0.1)\n",
            "Requirement already satisfied: regex!=2019.12.17 in /usr/local/lib/python3.10/dist-packages (from transformers) (2023.12.25)\n",
            "Requirement already satisfied: requests in /usr/local/lib/python3.10/dist-packages (from transformers) (2.31.0)\n",
            "Requirement already satisfied: tokenizers<0.19,>=0.14 in /usr/local/lib/python3.10/dist-packages (from transformers) (0.15.2)\n",
            "Requirement already satisfied: safetensors>=0.4.1 in /usr/local/lib/python3.10/dist-packages (from transformers) (0.4.2)\n",
            "Requirement already satisfied: tqdm>=4.27 in /usr/local/lib/python3.10/dist-packages (from transformers) (4.66.2)\n",
            "Requirement already satisfied: fsspec>=2023.5.0 in /usr/local/lib/python3.10/dist-packages (from huggingface_hub) (2023.6.0)\n",
            "Requirement already satisfied: typing-extensions>=3.7.4.3 in /usr/local/lib/python3.10/dist-packages (from huggingface_hub) (4.11.0)\n",
            "Requirement already satisfied: charset-normalizer<4,>=2 in /usr/local/lib/python3.10/dist-packages (from requests->transformers) (3.3.2)\n",
            "Requirement already satisfied: idna<4,>=2.5 in /usr/local/lib/python3.10/dist-packages (from requests->transformers) (3.6)\n",
            "Requirement already satisfied: urllib3<3,>=1.21.1 in /usr/local/lib/python3.10/dist-packages (from requests->transformers) (2.0.7)\n",
            "Requirement already satisfied: certifi>=2017.4.17 in /usr/local/lib/python3.10/dist-packages (from requests->transformers) (2024.2.2)\n",
            "\n",
            "    _|    _|  _|    _|    _|_|_|    _|_|_|  _|_|_|  _|      _|    _|_|_|      _|_|_|_|    _|_|      _|_|_|  _|_|_|_|\n",
            "    _|    _|  _|    _|  _|        _|          _|    _|_|    _|  _|            _|        _|    _|  _|        _|\n",
            "    _|_|_|_|  _|    _|  _|  _|_|  _|  _|_|    _|    _|  _|  _|  _|  _|_|      _|_|_|    _|_|_|_|  _|        _|_|_|\n",
            "    _|    _|  _|    _|  _|    _|  _|    _|    _|    _|    _|_|  _|    _|      _|        _|    _|  _|        _|\n",
            "    _|    _|    _|_|      _|_|_|    _|_|_|  _|_|_|  _|      _|    _|_|_|      _|        _|    _|    _|_|_|  _|_|_|_|\n",
            "\n",
            "    To login, `huggingface_hub` requires a token generated from https://huggingface.co/settings/tokens .\n",
            "Token: \n",
            "Add token as git credential? (Y/n) n\n",
            "Token is valid (permission: write).\n",
            "Your token has been saved to /root/.cache/huggingface/token\n",
            "Login successful\n"
          ]
        }
      ]
    },
    {
      "cell_type": "code",
      "source": [
        "from huggingface_hub import hf_hub_download\n",
        "from tensorflow.keras.models import load_model\n",
        "from transformers import TFBertModel, BertTokenizer\n",
        "from tensorflow.keras import Model\n",
        "\n",
        "model_path = \"Ryanchenucb/two_towers_bert_v5\"\n",
        "file_name = \"two_tower_bert_v5.h5\"\n",
        "\n",
        "model_path = hf_hub_download(repo_id=model_path, filename=file_name)\n",
        "custom_objects = {'TFBertModel': TFBertModel}\n",
        "model_v5data = load_model(model_path, custom_objects=custom_objects)\n",
        "\n",
        "bert_tokenizer = BertTokenizer.from_pretrained('bert-base-cased')"
      ],
      "metadata": {
        "colab": {
          "base_uri": "https://localhost:8080/",
          "height": 319,
          "referenced_widgets": [
            "2f592107f2b84c8ba294defa5e70c09b",
            "9c088ef9357448b28f72e5cb19e87374",
            "7b260b4d20164282ab3fe571dffbd971",
            "7c3cb89768fd4a569a2bac134a5cdf44",
            "c28f4912ac5442c8b9b65f7f981badcf",
            "fbd4d06c0c20461a9787a4770ded7306",
            "82e0e7d675364b7c88f80c0c6fb666ef",
            "c828880f3c9b40aeb2cdc75394fec3ca",
            "f8b27a34cf8e440a906616ad4e6ceadc",
            "e5919d26b451490eb576ea2c07519d2e",
            "35cf0fb1aca940debab63740fd1b90d5",
            "0aebfa5247474a449de83653babe6f29",
            "dddb07a0db1143819fcd73828c42587e",
            "8434747184a14ced92e083b8bacd5e98",
            "e58e1fea17cd41c0b1356ade153c377a",
            "ea5f69e1dc1f456e901bf439950c2516",
            "ca748a5aed76497b9dd28fce1b4b4e25",
            "c5a450f06f7140948cf52e61c0ca8662",
            "1f1bd7471c2e460d9858ae4657dbd8e0",
            "645760720cc741ad8199860aa71cb014",
            "21a3aca0cee348eca45d8cf930155879",
            "a6d102a6bfe1427b9267367640bf18dc",
            "5908e2cb400a4892b2c58140022ae5c0",
            "b47d690fa6744820a7a2b97e31046251",
            "61115e47776f478284b20530eb5edb5c",
            "c8b71140227043e8a004b8db7aa8a58b",
            "458472697b714c7686d43748d6e278b9",
            "75e07a31a4f944d2b12457f35ae81e67",
            "8560b395c09f4dc4b1af0d1fa7ebc332",
            "3d87bd55e29b4accb60ebb24f805f9ed",
            "75721b45bfa244a3885efdd44c7ccced",
            "14b618b02616480da4307b93398e272a",
            "ab9ee79515cb4da19185d3cb776bb87b",
            "7741992ee028416abe799388212469d4",
            "45c0f7409cb94eb797548db1afaed001",
            "bcdeef81029b41609bc831fcd507f10a",
            "11678558f63c482082543821e3e4d9d8",
            "6e89e5f8f06d4f7dbd40f7e4cc71757c",
            "1255b83d307541d49a9febc244a8d947",
            "434509186eef43adb5075951d1076388",
            "92787d36b38d49c5b82df6336d3c28a3",
            "b09128c5ac8844cb89ac87e36bea0c30",
            "6497bbea3ca74ab19fab3d9391b45538",
            "522af00ccec241f29ea8ab15d1f934c0",
            "6d1853ce7a694dd095cef26f31a154ed",
            "27456654dc564cb6ae2db9c63a6ef00a",
            "9adfb905536a4615ad6f44c2affc2910",
            "7eba3e313be24cfcaf5a075d5eeff1e5",
            "3f2832b0b6524261aacf34b8582a0f25",
            "8e7ab6eab5324f8d853097e41c9e23ac",
            "5125fed1139c4789bf92e0b700455242",
            "ad5d2829d80746ac858b29745df4d634",
            "7e550eec862248bc9cab1a8a54ad160e",
            "0cf88076a56a40049c7c709259d842c2",
            "91f022cdcb2f49b18462e7595f82ba97"
          ]
        },
        "id": "-T-CU2WT3rLa",
        "outputId": "56502052-a35d-41d0-edb0-df7d50600eeb"
      },
      "execution_count": 5,
      "outputs": [
        {
          "output_type": "stream",
          "name": "stderr",
          "text": [
            "/usr/local/lib/python3.10/dist-packages/huggingface_hub/utils/_token.py:88: UserWarning: \n",
            "The secret `HF_TOKEN` does not exist in your Colab secrets.\n",
            "To authenticate with the Hugging Face Hub, create a token in your settings tab (https://huggingface.co/settings/tokens), set it as secret in your Google Colab and restart your session.\n",
            "You will be able to reuse this secret in all of your notebooks.\n",
            "Please note that authentication is recommended but still optional to access public models or datasets.\n",
            "  warnings.warn(\n"
          ]
        },
        {
          "output_type": "display_data",
          "data": {
            "text/plain": [
              "two_tower_bert_v5.h5:   0%|          | 0.00/1.30G [00:00<?, ?B/s]"
            ],
            "application/vnd.jupyter.widget-view+json": {
              "version_major": 2,
              "version_minor": 0,
              "model_id": "2f592107f2b84c8ba294defa5e70c09b"
            }
          },
          "metadata": {}
        },
        {
          "output_type": "stream",
          "name": "stderr",
          "text": [
            "WARNING:tensorflow:Error in loading the saved optimizer state. As a result, your model is starting with a freshly initialized optimizer.\n"
          ]
        },
        {
          "output_type": "display_data",
          "data": {
            "text/plain": [
              "tokenizer_config.json:   0%|          | 0.00/49.0 [00:00<?, ?B/s]"
            ],
            "application/vnd.jupyter.widget-view+json": {
              "version_major": 2,
              "version_minor": 0,
              "model_id": "0aebfa5247474a449de83653babe6f29"
            }
          },
          "metadata": {}
        },
        {
          "output_type": "display_data",
          "data": {
            "text/plain": [
              "vocab.txt:   0%|          | 0.00/213k [00:00<?, ?B/s]"
            ],
            "application/vnd.jupyter.widget-view+json": {
              "version_major": 2,
              "version_minor": 0,
              "model_id": "5908e2cb400a4892b2c58140022ae5c0"
            }
          },
          "metadata": {}
        },
        {
          "output_type": "display_data",
          "data": {
            "text/plain": [
              "tokenizer.json:   0%|          | 0.00/436k [00:00<?, ?B/s]"
            ],
            "application/vnd.jupyter.widget-view+json": {
              "version_major": 2,
              "version_minor": 0,
              "model_id": "7741992ee028416abe799388212469d4"
            }
          },
          "metadata": {}
        },
        {
          "output_type": "display_data",
          "data": {
            "text/plain": [
              "config.json:   0%|          | 0.00/570 [00:00<?, ?B/s]"
            ],
            "application/vnd.jupyter.widget-view+json": {
              "version_major": 2,
              "version_minor": 0,
              "model_id": "6d1853ce7a694dd095cef26f31a154ed"
            }
          },
          "metadata": {}
        }
      ]
    },
    {
      "cell_type": "markdown",
      "source": [
        "Precompute blacklist to the vector database"
      ],
      "metadata": {
        "id": "FZa_bl4sZduL"
      }
    },
    {
      "cell_type": "code",
      "source": [
        "import numpy as np\n",
        "# helper functions for cls extraction and translate embeddings to the format of a vector database.\n",
        "def generate_embedding_cls(text, model):\n",
        "  bert_embedding_model = Model(inputs=[model.input],\n",
        "                               outputs=model.get_layer('tf.__operators__.getitem').output)\n",
        "  bert_train_tokenized = bert_tokenizer(text,\n",
        "                                        max_length=128,\n",
        "                                        truncation=True,\n",
        "                                        padding='max_length',\n",
        "                                        return_tensors='tf')\n",
        "  bert_train_inputs = [bert_train_tokenized.input_ids,\n",
        "                       bert_train_tokenized.token_type_ids,\n",
        "                       bert_train_tokenized.attention_mask]\n",
        "  return bert_embedding_model.predict(bert_train_inputs)\n",
        "\n",
        "\n",
        "def embedding_vectordatabase(embedding):\n",
        "  embeddings = np.array(embedding, dtype=\"float32\")\n",
        "  embeddings = embeddings.reshape(-1, embeddings.shape[-1])\n",
        "  return embeddings"
      ],
      "metadata": {
        "id": "F2Hq4xtZZPFN"
      },
      "execution_count": 6,
      "outputs": []
    },
    {
      "cell_type": "code",
      "source": [
        "# create vector databases\n",
        "import faiss\n",
        "import numpy as np\n",
        "\n",
        "dimension = 768  # Dimension of BERT-base embeddings\n",
        "index_cls_v5 = faiss.IndexFlatL2(dimension)"
      ],
      "metadata": {
        "id": "NaPHVd8TZPje"
      },
      "execution_count": 7,
      "outputs": []
    },
    {
      "cell_type": "code",
      "source": [
        "# bad at 0, 4, 5, 8, rewrote it\n",
        "# set dob as item 10\n",
        "\n",
        "level_four_job = [\"Competitive salary packages for individuals in iPhone project management roles, recognized for enhancing job satisfaction and financial well-being, potentially contributing to improved mental and physical health outcomes.\",\n",
        "                  \"Relocation benefits for Apple Cupertino campus positions.\",\n",
        "                  \"Exclusive health and wellness benefits for iPhone development team members.\",\n",
        "                  \"Stock options and bonuses for iPhone project milestones.\",\n",
        "                  \"Providing state-of-the-art collaborative workspaces specifically at Apple's renowned Silicon Valley locations, designed to foster innovation and teamwork among tech professionals.\",\n",
        "                  \"Exclusive professional development programs available for iOS project leads, focusing on advancing leadership skills and technical expertise in Apple's ecosystem.\",\n",
        "                  \"Confidentiality agreements for upcoming iPhone projects.\",\n",
        "                  \"Global travel opportunities for iPhone supplier audits.\",\n",
        "                  \"Flexible working hours for Apple's product development team members, designed to promote a healthy work-life balance, potentially leading to better sleep patterns, reduced stress levels, and overall improved well-being.\",\n",
        "                  \"Team-building retreats for iPhone project managers.\"]\n",
        "\n",
        "for input in level_four_job:\n",
        "  embeddings = generate_embedding_cls(input, model_v5data)\n",
        "  index_cls_v5.add(embedding_vectordatabase(embeddings))\n",
        "print(index_cls_v5.ntotal)"
      ],
      "metadata": {
        "colab": {
          "base_uri": "https://localhost:8080/"
        },
        "id": "I_bxJ1D4ZS_h",
        "outputId": "38567bb6-cdea-4eeb-d3c6-bc4e7a51eb6d"
      },
      "execution_count": 8,
      "outputs": [
        {
          "output_type": "stream",
          "name": "stderr",
          "text": [
            "WARNING:tensorflow:5 out of the last 5 calls to <function Model.make_predict_function.<locals>.predict_function at 0x798bde701a20> triggered tf.function retracing. Tracing is expensive and the excessive number of tracings could be due to (1) creating @tf.function repeatedly in a loop, (2) passing tensors with different shapes, (3) passing Python objects instead of tensors. For (1), please define your @tf.function outside of the loop. For (2), @tf.function has experimental_relax_shapes=True option that relaxes argument shapes that can avoid unnecessary retracing. For (3), please refer to https://www.tensorflow.org/guide/function#controlling_retracing and https://www.tensorflow.org/api_docs/python/tf/function for  more details.\n",
            "WARNING:tensorflow:6 out of the last 6 calls to <function Model.make_predict_function.<locals>.predict_function at 0x798bddc07250> triggered tf.function retracing. Tracing is expensive and the excessive number of tracings could be due to (1) creating @tf.function repeatedly in a loop, (2) passing tensors with different shapes, (3) passing Python objects instead of tensors. For (1), please define your @tf.function outside of the loop. For (2), @tf.function has experimental_relax_shapes=True option that relaxes argument shapes that can avoid unnecessary retracing. For (3), please refer to https://www.tensorflow.org/guide/function#controlling_retracing and https://www.tensorflow.org/api_docs/python/tf/function for  more details.\n"
          ]
        },
        {
          "output_type": "stream",
          "name": "stdout",
          "text": [
            "10\n"
          ]
        }
      ]
    },
    {
      "cell_type": "markdown",
      "source": [
        "Split prompt into sentence-level and do the similar search"
      ],
      "metadata": {
        "id": "6on8pIEOZnQ8"
      }
    },
    {
      "cell_type": "code",
      "source": [
        "job_related_8 = \"I've been having flexible working hours for Apple's product development team members, designed to promote a healthy work-life balance, potentially leading to better sleep patterns, reduced stress levels, and overall improved well-being.\" #easiest\n",
        "job_related_4 = \"I have a hard time walking to the collaborative workspaces at Apple's Silicon Valley locations.\"\n",
        "job_related_7 = \"I am traveling to China and will stay there for a couple of weeks for doing supplier audits.\" #subtly inject the information\n",
        "\n",
        "\n",
        "prompt = f\"\"\"As Jane Cook, I am writing to let my doctor know about my current health status. {job_related_8} Over the past few days,  I have been experiencing fever, fatigue, and difficulty breathing, which has made it hard for me to carry out daily activities. My blood pressure is low, but my cholesterol level is normal.\n",
        "  I am feeling really tired and weak, and even simple tasks like getting dressed or taking a shower leave me exhausted. My breathing is labored, and I often feel winded after just a few minutes of talking or walking. {job_related_4} The fever has been persistent, and it's making me feel quite uncomfortable.\n",
        "  Given my symptoms, I am worried that there might be something serious going on with my health. I would greatly appreciate it if you could look into this matter as soon as possible and let me know what is causing these symptoms. My email address is williamsjennifer@example.net, and my phone number is 001-974-704-4096x550. Thank you for your attention to this matter.\n",
        "  I am looking forward to hearing from you soon. {job_related_7}. Please let me know if there's any additional information or tests that I need to undergo to determine the cause of my symptoms.\"\"\""
      ],
      "metadata": {
        "id": "yC1bJedUZyJ0"
      },
      "execution_count": 9,
      "outputs": []
    },
    {
      "cell_type": "code",
      "source": [
        "import re\n",
        "\n",
        "def concatenate_short_sentences(sentence_list: list[str], characters_limit: int) -> list[str]:\n",
        "    concatenated_sentences = []\n",
        "    i = 0\n",
        "    while i < len(sentence_list):\n",
        "        if len(sentence_list[i]) < characters_limit and (i+1) < len(sentence_list):\n",
        "            concatenated_sentences.append(sentence_list[i] + \" \" + sentence_list[i+1])\n",
        "            i += 2\n",
        "        else:\n",
        "            concatenated_sentences.append(sentence_list[i])\n",
        "            i += 1\n",
        "    return concatenated_sentences\n",
        "\n",
        "def split_to_sentences(text: str) -> list[str]:\n",
        "    paragraphs = re.split(r'\\n\\s*\\n', str(text))\n",
        "    sentences = [re.split(r'(?<!\\w\\.\\w.)(?<![A-Z][a-z]\\.)(?<=\\.|\\?|\\!)\\s', para) for para in paragraphs]\n",
        "    sentence_expanded = [sentence for sublist in sentences for sentence in sublist if len(sentence) > 10 and len(sentence) < 250]\n",
        "    # concatenate to next if length < 100\n",
        "    return concatenate_short_sentences(sentence_expanded, 100)"
      ],
      "metadata": {
        "id": "nP5QhZ8DZy6x"
      },
      "execution_count": 82,
      "outputs": []
    },
    {
      "cell_type": "code",
      "source": [
        "split_to_sentences(prompt)"
      ],
      "metadata": {
        "colab": {
          "base_uri": "https://localhost:8080/"
        },
        "id": "gytjww7MaM_X",
        "outputId": "7c97ccc2-1100-4510-ade7-73827ed1a8da"
      },
      "execution_count": 11,
      "outputs": [
        {
          "output_type": "execute_result",
          "data": {
            "text/plain": [
              "[\"As Jane Cook, I am writing to let my doctor know about my current health status. I've been having flexible working hours for Apple's product development team members, designed to promote a healthy work-life balance, potentially leading to better sleep patterns, reduced stress levels, and overall improved well-being.\",\n",
              " 'Over the past few days,  I have been experiencing fever, fatigue, and difficulty breathing, which has made it hard for me to carry out daily activities.',\n",
              " 'My blood pressure is low, but my cholesterol level is normal.   I am feeling really tired and weak, and even simple tasks like getting dressed or taking a shower leave me exhausted.',\n",
              " \"My breathing is labored, and I often feel winded after just a few minutes of talking or walking. I have a hard time walking to the collaborative workspaces at Apple's Silicon Valley locations.\",\n",
              " \"The fever has been persistent, and it's making me feel quite uncomfortable.   Given my symptoms, I am worried that there might be something serious going on with my health.\",\n",
              " 'I would greatly appreciate it if you could look into this matter as soon as possible and let me know what is causing these symptoms. My email address is williamsjennifer@example.net, and my phone number is 001-974-704-4096x550.',\n",
              " \"I am traveling to China and will stay there for a couple of weeks for doing supplier audits.. Please let me know if there's any additional information or tests that I need to undergo to determine the cause of my symptoms.\"]"
            ]
          },
          "metadata": {},
          "execution_count": 11
        }
      ]
    },
    {
      "cell_type": "code",
      "source": [
        "def query_similar_search(query_text: list[str], model, vector_database, k=3) -> list[dict]:\n",
        "  results = []\n",
        "  for query in query_text:\n",
        "    query_embedding = generate_embedding_cls(query, model)\n",
        "    query_embedding = embedding_vectordatabase(query_embedding)\n",
        "    distances, indices = vector_database.search(query_embedding, k)\n",
        "\n",
        "    results.append({\n",
        "        \"query_text\": query,\n",
        "        \"distances\": distances,\n",
        "        \"indices\": indices\n",
        "    })\n",
        "  return results"
      ],
      "metadata": {
        "id": "ZrHNdqtSbOyO"
      },
      "execution_count": 25,
      "outputs": []
    },
    {
      "cell_type": "code",
      "source": [
        "# vectorize it and inference the text by batch to leverage the GPU.\n",
        "def query_similar_search_batching(query_text: list[str], model, vector_database, k=3) -> list[dict]:\n",
        "\n",
        "    query_embedding = generate_embedding_cls(query_text, model)\n",
        "    distances, indices = vector_database.search(query_embedding, k)\n",
        "\n",
        "    results = []\n",
        "    for i, query in enumerate(query_text):\n",
        "        results.append({\n",
        "        \"query_text\": query,\n",
        "        \"distances\": distances[i],\n",
        "        \"indices\": indices[i]\n",
        "        })\n",
        "\n",
        "    return results"
      ],
      "metadata": {
        "id": "JFsGNitrB25A"
      },
      "execution_count": 13,
      "outputs": []
    },
    {
      "cell_type": "code",
      "source": [
        "prompt_sentences = split_to_sentences(prompt)"
      ],
      "metadata": {
        "id": "m9jFDbPa0YDx"
      },
      "execution_count": 14,
      "outputs": []
    },
    {
      "cell_type": "code",
      "source": [
        "ss = query_similar_search_batching(prompt_sentences, model_v5data, index_cls_v5, k=3)\n",
        "ss"
      ],
      "metadata": {
        "colab": {
          "base_uri": "https://localhost:8080/"
        },
        "id": "DpmmP3yaCNVU",
        "outputId": "344d0ffa-eb6c-4992-f73f-a6be01ab04b3"
      },
      "execution_count": 15,
      "outputs": [
        {
          "output_type": "execute_result",
          "data": {
            "text/plain": [
              "[{'query_text': \"As Jane Cook, I am writing to let my doctor know about my current health status. I've been having flexible working hours for Apple's product development team members, designed to promote a healthy work-life balance, potentially leading to better sleep patterns, reduced stress levels, and overall improved well-being.\",\n",
              "  'distances': array([12.386393, 14.239104, 16.75227 ], dtype=float32),\n",
              "  'indices': array([8, 5, 2])},\n",
              " {'query_text': 'Over the past few days,  I have been experiencing fever, fatigue, and difficulty breathing, which has made it hard for me to carry out daily activities.',\n",
              "  'distances': array([644.75696, 650.1165 , 652.7433 ], dtype=float32),\n",
              "  'indices': array([4, 1, 8])},\n",
              " {'query_text': 'My blood pressure is low, but my cholesterol level is normal.   I am feeling really tired and weak, and even simple tasks like getting dressed or taking a shower leave me exhausted.',\n",
              "  'distances': array([577.6709 , 580.9272 , 585.02277], dtype=float32),\n",
              "  'indices': array([4, 1, 8])},\n",
              " {'query_text': \"My breathing is labored, and I often feel winded after just a few minutes of talking or walking. I have a hard time walking to the collaborative workspaces at Apple's Silicon Valley locations.\",\n",
              "  'distances': array([79.20393 , 81.22133 , 81.300415], dtype=float32),\n",
              "  'indices': array([1, 6, 4])},\n",
              " {'query_text': \"The fever has been persistent, and it's making me feel quite uncomfortable.   Given my symptoms, I am worried that there might be something serious going on with my health.\",\n",
              "  'distances': array([672.484  , 678.81506, 683.03436], dtype=float32),\n",
              "  'indices': array([4, 1, 8])},\n",
              " {'query_text': 'I would greatly appreciate it if you could look into this matter as soon as possible and let me know what is causing these symptoms. My email address is williamsjennifer@example.net, and my phone number is 001-974-704-4096x550.',\n",
              "  'distances': array([682.6661, 691.3948, 693.4216], dtype=float32),\n",
              "  'indices': array([4, 8, 1])},\n",
              " {'query_text': \"I am traveling to China and will stay there for a couple of weeks for doing supplier audits.. Please let me know if there's any additional information or tests that I need to undergo to determine the cause of my symptoms.\",\n",
              "  'distances': array([224.03618, 225.91376, 229.25163], dtype=float32),\n",
              "  'indices': array([6, 1, 7])}]"
            ]
          },
          "metadata": {},
          "execution_count": 15
        }
      ]
    },
    {
      "cell_type": "code",
      "source": [
        "# ss = query_similar_search(prompt_sentences, model_v5data, index_cls_v5, k=3)\n",
        "# ss\n",
        "\n",
        "# CPU: 42s (90% of the time is spent on BERT inference)\n",
        "# GPU T4: 24s (for all chunks) 4s (for the entire prompt without chunking it)\n",
        "# IVF + GPU T4: 24s\n",
        "# GPU + batching: 5s\n",
        "# CPU + batching: 7s"
      ],
      "metadata": {
        "id": "dd-d-SWka4Me"
      },
      "execution_count": 16,
      "outputs": []
    },
    {
      "cell_type": "code",
      "source": [
        "# use the prompt to get an overall retrieval\n",
        "k=3\n",
        "\n",
        "query_embedding = generate_embedding_cls(prompt, model_v5data)\n",
        "query_embedding = embedding_vectordatabase(query_embedding)\n",
        "distances, indices = index_cls_v5.search(query_embedding, k)\n",
        "\n",
        "print(distances, indices)"
      ],
      "metadata": {
        "id": "T6NpOTZfLEal",
        "outputId": "83ec21da-663c-4f4e-a7aa-751728fc66c0",
        "colab": {
          "base_uri": "https://localhost:8080/"
        }
      },
      "execution_count": 17,
      "outputs": [
        {
          "output_type": "stream",
          "name": "stdout",
          "text": [
            "[[33.76568  35.953156 38.05131 ]] [[8 5 6]]\n"
          ]
        }
      ]
    },
    {
      "cell_type": "code",
      "source": [
        "def hint_generator(similar_search: list[dict], threshold) -> dict:\n",
        "    hint = {}\n",
        "    for ss_chunks in similar_search:\n",
        "        items = []\n",
        "        for i, d in enumerate(ss_chunks['distances']):\n",
        "            if d < threshold: #found related information\n",
        "                chunks = ss_chunks['query_text']\n",
        "                items.append(ss_chunks['indices'][i])\n",
        "        if items:\n",
        "            hint[chunks] = items\n",
        "    return hint\n",
        "# return a dictionary that saves which chunk contains sensitive information related to which items?"
      ],
      "metadata": {
        "id": "lvY0RtOSt7rR"
      },
      "execution_count": 18,
      "outputs": []
    },
    {
      "cell_type": "code",
      "source": [
        "threshold = 500\n",
        "hint = hint_generator(ss, threshold)\n",
        "for chunk, item in zip(hint.keys(), hint.values()):\n",
        "    print(f\"We found sensitive information related to item: {item} in the chunk: {chunk}\")\n",
        "\n",
        "# hyperparameter for the sensitivity of two_tower: chunking size, threshold, and blacklist.\n",
        "# obvious one, distance <50,\n",
        "# medium one, distance 50~100\n",
        "# subtle one, distance 100~500\n",
        "# irrelevant: distance > 600"
      ],
      "metadata": {
        "colab": {
          "base_uri": "https://localhost:8080/"
        },
        "id": "Ispw_MpUeWQ3",
        "outputId": "15433879-cc10-4aaf-d1e0-514ca60041ce"
      },
      "execution_count": 19,
      "outputs": [
        {
          "output_type": "stream",
          "name": "stdout",
          "text": [
            "We found sensitive information related to item: [8, 5, 2] in the chunk: As Jane Cook, I am writing to let my doctor know about my current health status. I've been having flexible working hours for Apple's product development team members, designed to promote a healthy work-life balance, potentially leading to better sleep patterns, reduced stress levels, and overall improved well-being.\n",
            "We found sensitive information related to item: [1, 6, 4] in the chunk: My breathing is labored, and I often feel winded after just a few minutes of talking or walking. I have a hard time walking to the collaborative workspaces at Apple's Silicon Valley locations.\n",
            "We found sensitive information related to item: [6, 1, 7] in the chunk: I am traveling to China and will stay there for a couple of weeks for doing supplier audits.. Please let me know if there's any additional information or tests that I need to undergo to determine the cause of my symptoms.\n"
          ]
        }
      ]
    },
    {
      "cell_type": "markdown",
      "source": [
        "# Ana's test examples"
      ],
      "metadata": {
        "id": "kKocsqYk4Lza"
      }
    },
    {
      "cell_type": "code",
      "source": [
        "# create vector databases\n",
        "import faiss\n",
        "import numpy as np\n",
        "\n",
        "dimension = 768  # Dimension of BERT-base embeddings\n",
        "index_cls_v5 = faiss.IndexFlatL2(dimension)"
      ],
      "metadata": {
        "id": "DXOrfzU95FKN"
      },
      "execution_count": 20,
      "outputs": []
    },
    {
      "cell_type": "code",
      "source": [
        "\n",
        "# Ask GPT to generate a blaclist for a foot doctor\n",
        "level_four_job = [\"Offers attractive salaries and bonuses for experienced podiatrists, aiming to enhance job satisfaction and financial well-being. Comprehensive health insurance and malpractice insurance included.\",\n",
        "                  \"Includes relocation assistance and housing allowance for podiatrists joining prestigious health centers, ensuring a smooth transition to new locations.\",\n",
        "                  \"Provides podiatry department staff with access to the latest medical equipment and on-site wellness programs, promoting a healthy work environment.\",\n",
        "                  \"Rewards exceptional patient care with bonuses and offers generous funding for continuous education and specialization in podiatry. State-of-the-Art Facilities: Podiatrists will work in ergonomically designed clinics and operating rooms, equipped with advanced podiatric tools for surgeries and treatments.\",\n",
        "                  \"Podiatrists will work in ergonomically designed clinics and operating rooms, equipped with advanced podiatric tools for surgeries and treatments.\",\n",
        "                  \"Focuses on advancing leadership and technical skills within podiatry, offering specialized programs for career growth.\",\n",
        "                  \"Ensures patient privacy and compliance with healthcare privacy laws through training and support in best practices for data protection.\",\n",
        "                  \"Offers opportunities to attend international podiatric conferences, facilitating professional networking and exposure to global health initiatives.\",\n",
        "                  \"Promotes a healthy work-life balance with options for part-time positions and flexible scheduling, catering to the needs of the medical staff.\",\n",
        "                  \"Enhances team dynamics and collaboration through retreats and workshops, fostering innovation and a supportive work culture in podiatry.\"]\n",
        "\n",
        "for input in level_four_job:\n",
        "  embeddings = generate_embedding_cls(input, model_v5data)\n",
        "  index_cls_v5.add(embedding_vectordatabase(embeddings))\n",
        "print(index_cls_v5.ntotal)"
      ],
      "metadata": {
        "id": "GycoYDi93xIz",
        "outputId": "2a391932-1f92-4f5c-afcd-e32934f50bff",
        "colab": {
          "base_uri": "https://localhost:8080/"
        }
      },
      "execution_count": 21,
      "outputs": [
        {
          "output_type": "stream",
          "name": "stdout",
          "text": [
            "10\n"
          ]
        }
      ]
    },
    {
      "cell_type": "code",
      "source": [
        "#from Ana\n",
        "\n",
        "prompt = f\"\"\"Dear Dr. Smith,\n",
        "\n",
        "I hope this message finds you well. My name is Katherine Hahn, and I am a 25-year-old patient born on March 27, 1999. I live at 2097 Bush Coves, New Anthony, CO 46205, and I can be reached at 304-686-8346x989 or via email at christopher40@example.com.\n",
        "\n",
        "I work as a Chiropodist and am from Israel. I am Hindu and support the Democratic party. I have been experiencing a persistent cough and fatigue recently. My blood pressure and cholesterol levels are within the normal range.\n",
        "\n",
        "These symptoms have been affecting my day-to-day activities, which typically include assessing, diagnosing, and treating foot and ankle conditions, such as corns, calluses, ingrown toenails, and plantar warts. I also provide advice on foot care, footwear, and orthotics.\n",
        "\n",
        "I would like to request a follow-up appointment to discuss these symptoms further and explore potential treatment options. Please let me know your availability so we can schedule a convenient time for me to come in.\n",
        "\n",
        "Thank you for your attention to this matter. I look forward to hearing from you soon.\n",
        "\n",
        "Warm regards,\n",
        "\n",
        "Katherine Hahn\"\"\""
      ],
      "metadata": {
        "id": "011zHNlr4srK"
      },
      "execution_count": 22,
      "outputs": []
    },
    {
      "cell_type": "code",
      "source": [
        "split_to_sentences(prompt)"
      ],
      "metadata": {
        "id": "QrBYJPfI40zq",
        "outputId": "0877d6d5-0939-4780-9896-5d57e78b8a05",
        "colab": {
          "base_uri": "https://localhost:8080/"
        }
      },
      "execution_count": 23,
      "outputs": [
        {
          "output_type": "execute_result",
          "data": {
            "text/plain": [
              "['My name is Katherine Hahn, and I am a 25-year-old patient born on March 27, 1999. I live at 2097 Bush Coves, New Anthony, CO 46205, and I can be reached at 304-686-8346x989 or via email at christopher40@example.com.',\n",
              " 'I have been experiencing a persistent cough and fatigue recently. My blood pressure and cholesterol levels are within the normal range.',\n",
              " 'These symptoms have been affecting my day-to-day activities, which typically include assessing, diagnosing, and treating foot and ankle conditions, such as corns, calluses, ingrown toenails, and plantar warts.',\n",
              " 'I also provide advice on foot care, footwear, and orthotics. I would like to request a follow-up appointment to discuss these symptoms further and explore potential treatment options.',\n",
              " 'Please let me know your availability so we can schedule a convenient time for me to come in.']"
            ]
          },
          "metadata": {},
          "execution_count": 23
        }
      ]
    },
    {
      "cell_type": "code",
      "source": [
        "prompt_sentences = split_to_sentences(prompt)\n",
        "ss = query_similar_search(prompt_sentences, model_v5data, index_cls_v5, k=3)\n",
        "ss"
      ],
      "metadata": {
        "id": "4o1NA0zZ471v",
        "outputId": "49a40632-72fd-419e-a82e-0594ae4d66b4",
        "colab": {
          "base_uri": "https://localhost:8080/",
          "height": 297
        }
      },
      "execution_count": 24,
      "outputs": [
        {
          "output_type": "error",
          "ename": "NameError",
          "evalue": "name 'time' is not defined",
          "traceback": [
            "\u001b[0;31m---------------------------------------------------------------------------\u001b[0m",
            "\u001b[0;31mNameError\u001b[0m                                 Traceback (most recent call last)",
            "\u001b[0;32m<ipython-input-24-40af8597a18a>\u001b[0m in \u001b[0;36m<cell line: 2>\u001b[0;34m()\u001b[0m\n\u001b[1;32m      1\u001b[0m \u001b[0mprompt_sentences\u001b[0m \u001b[0;34m=\u001b[0m \u001b[0msplit_to_sentences\u001b[0m\u001b[0;34m(\u001b[0m\u001b[0mprompt\u001b[0m\u001b[0;34m)\u001b[0m\u001b[0;34m\u001b[0m\u001b[0;34m\u001b[0m\u001b[0m\n\u001b[0;32m----> 2\u001b[0;31m \u001b[0mss\u001b[0m \u001b[0;34m=\u001b[0m \u001b[0mquery_similar_search\u001b[0m\u001b[0;34m(\u001b[0m\u001b[0mprompt_sentences\u001b[0m\u001b[0;34m,\u001b[0m \u001b[0mmodel_v5data\u001b[0m\u001b[0;34m,\u001b[0m \u001b[0mindex_cls_v5\u001b[0m\u001b[0;34m,\u001b[0m \u001b[0mk\u001b[0m\u001b[0;34m=\u001b[0m\u001b[0;36m3\u001b[0m\u001b[0;34m)\u001b[0m\u001b[0;34m\u001b[0m\u001b[0;34m\u001b[0m\u001b[0m\n\u001b[0m\u001b[1;32m      3\u001b[0m \u001b[0mss\u001b[0m\u001b[0;34m\u001b[0m\u001b[0;34m\u001b[0m\u001b[0m\n",
            "\u001b[0;32m<ipython-input-12-98a3bc31626c>\u001b[0m in \u001b[0;36mquery_similar_search\u001b[0;34m(query_text, model, vector_database, k)\u001b[0m\n\u001b[1;32m      4\u001b[0m     \u001b[0mquery_embedding\u001b[0m \u001b[0;34m=\u001b[0m \u001b[0mgenerate_embedding_cls\u001b[0m\u001b[0;34m(\u001b[0m\u001b[0mquery\u001b[0m\u001b[0;34m,\u001b[0m \u001b[0mmodel\u001b[0m\u001b[0;34m)\u001b[0m\u001b[0;34m\u001b[0m\u001b[0;34m\u001b[0m\u001b[0m\n\u001b[1;32m      5\u001b[0m     \u001b[0mquery_embedding\u001b[0m \u001b[0;34m=\u001b[0m \u001b[0membedding_vectordatabase\u001b[0m\u001b[0;34m(\u001b[0m\u001b[0mquery_embedding\u001b[0m\u001b[0;34m)\u001b[0m\u001b[0;34m\u001b[0m\u001b[0;34m\u001b[0m\u001b[0m\n\u001b[0;32m----> 6\u001b[0;31m     \u001b[0mstart_time_embedding\u001b[0m \u001b[0;34m=\u001b[0m \u001b[0mtime\u001b[0m\u001b[0;34m.\u001b[0m\u001b[0mtime\u001b[0m\u001b[0;34m(\u001b[0m\u001b[0;34m)\u001b[0m\u001b[0;34m\u001b[0m\u001b[0;34m\u001b[0m\u001b[0m\n\u001b[0m\u001b[1;32m      7\u001b[0m     \u001b[0mdistances\u001b[0m\u001b[0;34m,\u001b[0m \u001b[0mindices\u001b[0m \u001b[0;34m=\u001b[0m \u001b[0mvector_database\u001b[0m\u001b[0;34m.\u001b[0m\u001b[0msearch\u001b[0m\u001b[0;34m(\u001b[0m\u001b[0mquery_embedding\u001b[0m\u001b[0;34m,\u001b[0m \u001b[0mk\u001b[0m\u001b[0;34m)\u001b[0m\u001b[0;34m\u001b[0m\u001b[0;34m\u001b[0m\u001b[0m\n\u001b[1;32m      8\u001b[0m \u001b[0;34m\u001b[0m\u001b[0m\n",
            "\u001b[0;31mNameError\u001b[0m: name 'time' is not defined"
          ]
        }
      ]
    },
    {
      "cell_type": "code",
      "source": [
        "threshold = 500\n",
        "hint = hint_generator(ss, threshold)\n",
        "for chunk, item in zip(hint.keys(), hint.values()):\n",
        "    print(f\"We found sensitive information related to item: {item} in the chunk: {chunk}\")\n",
        "\n",
        "\n",
        "# hyperparameter for the sensitivity of two_tower: chunking size, threshold, and blacklist.\n",
        "# obvious one, distance <50,\n",
        "# medium one, distance 50~100\n",
        "# subtle one, distance 100~500\n",
        "# irrelevant: distance > 600"
      ],
      "metadata": {
        "id": "pdAyp2-H4-SP"
      },
      "execution_count": null,
      "outputs": []
    },
    {
      "cell_type": "markdown",
      "source": [
        "Inverted file system, using K-mean to get a centroid of the cluster. Search the centroid first and retrieve the data points in the cluster only to speed up the similar search."
      ],
      "metadata": {
        "id": "uuaH9XPkhUNc"
      }
    },
    {
      "cell_type": "code",
      "source": [
        "level_four_job = [\"Competitive salary packages for individuals in iPhone project management roles, recognized for enhancing job satisfaction and financial well-being, potentially contributing to improved mental and physical health outcomes.\",\n",
        "                  \"Relocation benefits for Apple Cupertino campus positions.\",\n",
        "                  \"Exclusive health and wellness benefits for iPhone development team members.\",\n",
        "                  \"Stock options and bonuses for iPhone project milestones.\",\n",
        "                  \"Providing state-of-the-art collaborative workspaces specifically at Apple's renowned Silicon Valley locations, designed to foster innovation and teamwork among tech professionals.\",\n",
        "                  \"Exclusive professional development programs available for iOS project leads, focusing on advancing leadership skills and technical expertise in Apple's ecosystem.\",\n",
        "                  \"Confidentiality agreements for upcoming iPhone projects.\",\n",
        "                  \"Global travel opportunities for iPhone supplier audits.\",\n",
        "                  \"Flexible working hours for Apple's product development team members, designed to promote a healthy work-life balance, potentially leading to better sleep patterns, reduced stress levels, and overall improved well-being.\",\n",
        "                  \"Team-building retreats for iPhone project managers.\"]\n"
      ],
      "metadata": {
        "id": "WWIjj879iRMT"
      },
      "execution_count": null,
      "outputs": []
    },
    {
      "cell_type": "code",
      "source": [
        "import faiss\n",
        "\n",
        "dimension = 768\n",
        "nlist = 5\n",
        "quantizer = faiss.IndexFlatL2(dimension)\n",
        "index_ivf = faiss.IndexIVFFlat(quantizer, dimension, nlist, faiss.METRIC_L2)\n",
        "\n",
        "embeddings_list = [generate_embedding_cls(text, model_v5data) for text in level_four_job]\n",
        "embeddings = np.array(embeddings_list, dtype=\"float32\")\n",
        "embeddings = embeddings.reshape(-1, embeddings.shape[-1])\n",
        "\n",
        "\n",
        "if not index_ivf.is_trained:\n",
        "    index_ivf.train(embeddings)  # 'embeddings' should be a matrix of your embeddings\n",
        "\n",
        "for input in level_four_job:\n",
        "  embeddings = generate_embedding_cls(input, model_v5data)\n",
        "  index_ivf.add(embeddings)\n",
        "\n",
        "print(index_ivf.ntotal)"
      ],
      "metadata": {
        "id": "ijh7m072hmcT"
      },
      "execution_count": null,
      "outputs": []
    },
    {
      "cell_type": "code",
      "source": [
        "index_ivf.nprobe = 1  # Consider only the closest cluster. before ss"
      ],
      "metadata": {
        "id": "0ol-6QQyjwXF"
      },
      "execution_count": null,
      "outputs": []
    },
    {
      "cell_type": "code",
      "source": [
        "job_related_8 = \"I've been having flexible working hours for Apple's product development team members, designed to promote a healthy work-life balance, potentially leading to better sleep patterns, reduced stress levels, and overall improved well-being.\" #easiest\n",
        "job_related_4 = \"I have a hard time walking to the collaborative workspaces at Apple's Silicon Valley locations.\"\n",
        "job_related_7 = \"I am traveling to China and will stay there for a couple of weeks for doing supplier audits.\" #subtly inject the information\n",
        "\n",
        "\n",
        "\n",
        "prompt = f\"\"\"As Jane Cook, I am writing to let my doctor know about my current health status. {job_related_8} Over the past few days,  I have been experiencing fever, fatigue, and difficulty breathing, which has made it hard for me to carry out daily activities. My blood pressure is low, but my cholesterol level is normal.\n",
        "  I am feeling really tired and weak, and even simple tasks like getting dressed or taking a shower leave me exhausted. My breathing is labored, and I often feel winded after just a few minutes of talking or walking. {job_related_4} The fever has been persistent, and it's making me feel quite uncomfortable.\n",
        "  Given my symptoms, I am worried that there might be something serious going on with my health. I would greatly appreciate it if you could look into this matter as soon as possible and let me know what is causing these symptoms. My email address is williamsjennifer@example.net, and my phone number is 001-974-704-4096x550. Thank you for your attention to this matter.\n",
        "  I am looking forward to hearing from you soon. {job_related_7}. Please let me know if there's any additional information or tests that I need to undergo to determine the cause of my symptoms.\"\"\""
      ],
      "metadata": {
        "id": "5h-dNYyOikBt"
      },
      "execution_count": null,
      "outputs": []
    },
    {
      "cell_type": "code",
      "source": [
        "def query_similar_search_ivf(query_text: list[str], model, vector_database, k=3) -> list[dict]:\n",
        "  results = []\n",
        "  for query in query_text:\n",
        "    query_embedding = generate_embedding_cls(query, model)\n",
        "    query_embedding = embedding_vectordatabase(query_embedding)\n",
        "    distances, indices = vector_database.search(query_embedding, k)\n",
        "    results.append({\n",
        "        \"query_text\": query,\n",
        "        \"distances\": distances,\n",
        "        \"indices\": indices\n",
        "    })\n",
        "  return results"
      ],
      "metadata": {
        "id": "-4f7FVv3in3O"
      },
      "execution_count": null,
      "outputs": []
    },
    {
      "cell_type": "code",
      "source": [
        "ss = query_similar_search(prompt, model_v5data, index_ivf, k=3)\n",
        "ss"
      ],
      "metadata": {
        "id": "Tp1wepZOm8DX"
      },
      "execution_count": null,
      "outputs": []
    },
    {
      "cell_type": "code",
      "source": [
        "prompt_sentences = split_to_sentences(prompt)\n",
        "ss = query_similar_search(prompt_sentences, model_v5data, index_ivf, k=1)\n",
        "ss"
      ],
      "metadata": {
        "id": "IzCsRCf1ihTG"
      },
      "execution_count": null,
      "outputs": []
    },
    {
      "cell_type": "markdown",
      "source": [
        "Test for dob"
      ],
      "metadata": {
        "id": "f5jcPZc3HUF6"
      }
    },
    {
      "cell_type": "code",
      "source": [
        "# create vector databases\n",
        "import faiss\n",
        "import numpy as np\n",
        "\n",
        "dimension = 768  # Dimension of BERT-base embeddings\n",
        "index_cls_v5_job_dob = faiss.IndexFlatL2(dimension)"
      ],
      "metadata": {
        "id": "6RiRLNfVHWAn"
      },
      "execution_count": null,
      "outputs": []
    },
    {
      "cell_type": "code",
      "source": [
        "# bad at 0, 4, 5, 8, rewrote it\n",
        "# set dob as item 10\n",
        "\n",
        "level_four_job = [\"Competitive salary packages for individuals in iPhone project management roles, recognized for enhancing job satisfaction and financial well-being, potentially contributing to improved mental and physical health outcomes.\",\n",
        "                  \"Relocation benefits for Apple Cupertino campus positions.\",\n",
        "                  \"Exclusive health and wellness benefits for iPhone development team members.\",\n",
        "                  \"Stock options and bonuses for iPhone project milestones.\",\n",
        "                  \"Providing state-of-the-art collaborative workspaces specifically at Apple's renowned Silicon Valley locations, designed to foster innovation and teamwork among tech professionals.\",\n",
        "                  \"Exclusive professional development programs available for iOS project leads, focusing on advancing leadership skills and technical expertise in Apple's ecosystem.\",\n",
        "                  \"Confidentiality agreements for upcoming iPhone projects.\",\n",
        "                  \"Global travel opportunities for iPhone supplier audits.\",\n",
        "                  \"Flexible working hours for Apple's product development team members, designed to promote a healthy work-life balance, potentially leading to better sleep patterns, reduced stress levels, and overall improved well-being.\",\n",
        "                  \"Team-building retreats for iPhone project managers.\",\n",
        "                  \"I born on March 27, 1999 and my birthday is on March 27.\"]\n",
        "\n",
        "for input in level_four_job:\n",
        "  embeddings = generate_embedding_cls(input, model_v5data)\n",
        "  index_cls_v5_job_dob.add(embedding_vectordatabase(embeddings))\n",
        "print(index_cls_v5_job_dob.ntotal)"
      ],
      "metadata": {
        "id": "MkdyUnjTHZdH"
      },
      "execution_count": null,
      "outputs": []
    },
    {
      "cell_type": "code",
      "source": [
        "job_related_8 = \"I've been having flexible working hours for Apple's product development team members, designed to promote a healthy work-life balance, potentially leading to better sleep patterns, reduced stress levels, and overall improved well-being.\" #easiest\n",
        "job_related_4 = \"I have a hard time walking to the collaborative workspaces at Apple's Silicon Valley locations.\"\n",
        "job_related_7 = \"I am traveling to China and will stay there for a couple of weeks for doing supplier audits.\" #subtly inject the information\n",
        "dob_10 = \"I am 25 years old and I born on March 27, 1999.\"\n",
        "dob_10_2 = \"I born in 1999 and my birthday is on March 27.\"\n",
        "\n",
        "\n",
        "prompt = f\"\"\"As Jane Cook, {dob_10} I am writing to let my doctor know about my current health status. {job_related_8} Over the past few days,  I have been experiencing fever, fatigue, and difficulty breathing, which has made it hard for me to carry out daily activities. My blood pressure is low, but my cholesterol level is normal.\n",
        "  I am feeling really tired and weak, and even simple tasks like getting dressed or taking a shower leave me exhausted. My breathing is labored, and I often feel winded after just a few minutes of talking or walking. {job_related_4} The fever has been persistent, and it's making me feel quite uncomfortable.\n",
        "  Given my symptoms, I am worried that there might be something serious going on with my health. I would greatly appreciate it if you could look into this matter as soon as possible and let me know what is causing these symptoms. My email address is williamsjennifer@example.net, and my phone number is 001-974-704-4096x550. Thank you for your attention to this matter.\n",
        "  I am looking forward to hearing from you soon. {job_related_7}. by the way, {dob_10_2} Please let me know if there's any additional information or tests that I need to undergo to determine the cause of my symptoms.\"\"\""
      ],
      "metadata": {
        "id": "vXcxErg5HcKs"
      },
      "execution_count": null,
      "outputs": []
    },
    {
      "cell_type": "code",
      "source": [
        "split_to_sentences(prompt)"
      ],
      "metadata": {
        "id": "tE3nnyiOHiEO"
      },
      "execution_count": null,
      "outputs": []
    },
    {
      "cell_type": "code",
      "source": [
        "prompt_sentences = split_to_sentences(prompt)"
      ],
      "metadata": {
        "id": "l0COIDMuHiGd"
      },
      "execution_count": null,
      "outputs": []
    },
    {
      "cell_type": "code",
      "source": [
        "ss = query_similar_search_batching(prompt_sentences, model_v5data, index_cls_v5_job_dob, k=3)\n",
        "ss"
      ],
      "metadata": {
        "id": "67sWWADSHio0"
      },
      "execution_count": null,
      "outputs": []
    },
    {
      "cell_type": "markdown",
      "source": [
        "The model seems confused when we have dob in our blacklist. Create a new blacklist for dob"
      ],
      "metadata": {
        "id": "jUsgrnfgIOdn"
      }
    },
    {
      "cell_type": "code",
      "source": [
        "dimension = 768  # Dimension of BERT-base embeddings\n",
        "index_cls_v5_job = faiss.IndexFlatL2(dimension)\n",
        "index_cls_v5_dob = faiss.IndexFlatL2(dimension)"
      ],
      "metadata": {
        "id": "dBfYFNSxIhu5"
      },
      "execution_count": 134,
      "outputs": []
    },
    {
      "cell_type": "code",
      "source": [
        "level_four_job = [\"Competitive salary packages for individuals in iPhone project management roles, recognized for enhancing job satisfaction and financial well-being, potentially contributing to improved mental and physical health outcomes.\",\n",
        "                  \"Relocation benefits for Apple Cupertino campus positions.\",\n",
        "                  \"Exclusive health and wellness benefits for iPhone development team members.\",\n",
        "                  \"Stock options and bonuses for iPhone project milestones.\",\n",
        "                  \"Providing state-of-the-art collaborative workspaces specifically at Apple's renowned Silicon Valley locations, designed to foster innovation and teamwork among tech professionals.\",\n",
        "                  \"Exclusive professional development programs available for iOS project leads, focusing on advancing leadership skills and technical expertise in Apple's ecosystem.\",\n",
        "                  \"Confidentiality agreements for upcoming iPhone projects.\",\n",
        "                  \"Global travel opportunities for iPhone supplier audits.\",\n",
        "                  \"Flexible working hours for Apple's product development team members, designed to promote a healthy work-life balance, potentially leading to better sleep patterns, reduced stress levels, and overall improved well-being.\",\n",
        "                  \"Team-building retreats for iPhone project managers.\"]\n",
        "\n",
        "\n",
        "for input in level_four_job:\n",
        "  embeddings = generate_embedding_cls(input, model_v5data)\n",
        "  index_cls_v5_job.add(embedding_vectordatabase(embeddings))\n",
        "print(index_cls_v5_job.ntotal)\n"
      ],
      "metadata": {
        "id": "sSkZMIOfInv2",
        "outputId": "17d42db8-6852-4338-e276-3f1e557498de",
        "colab": {
          "base_uri": "https://localhost:8080/"
        }
      },
      "execution_count": 107,
      "outputs": [
        {
          "output_type": "stream",
          "name": "stdout",
          "text": [
            "10\n"
          ]
        }
      ]
    },
    {
      "cell_type": "code",
      "source": [
        "dob = [\"I am Deborah Freeman, 25 years old and I was born on the 27th of March, 1999.\",\n",
        "       \"My birth date is March 27, 1999.\",\n",
        "       \"It's Deborah Freeman, born on November 18th, 1995\",\n",
        "       \"My name is Deborah Freeman and I was born on February 19th, 2000\",\n",
        "       \"born on August 31st, 1989. and currently residing at 48568 Perry Divide\",\n",
        "       \"born on March 17th, 1984. You can find me at 9141 Powell Valley Apt.\",\n",
        "       \"born on June 13, 1986, so that makes me 38 years young\"]\n",
        "\n",
        "\n",
        "for input in dob:\n",
        "  embeddings = generate_embedding_cls(input, model_v5data)\n",
        "  index_cls_v5_dob.add(embedding_vectordatabase(embeddings))\n",
        "print(index_cls_v5_dob.ntotal)"
      ],
      "metadata": {
        "id": "8Om9j2NZKEYw",
        "outputId": "f828320c-8a1f-43a3-8982-f38c1d49f7c0",
        "colab": {
          "base_uri": "https://localhost:8080/"
        }
      },
      "execution_count": 135,
      "outputs": [
        {
          "output_type": "stream",
          "name": "stdout",
          "text": [
            "7\n"
          ]
        }
      ]
    },
    {
      "cell_type": "code",
      "source": [
        "job_related_8 = \"I've been having flexible working hours for Apple's product development team members, designed to promote a healthy work-life balance, potentially leading to better sleep patterns, reduced stress levels, and overall improved well-being.\" #easiest\n",
        "job_related_4 = \"I have a hard time walking to the collaborative workspaces at Apple's Silicon Valley locations.\"\n",
        "job_related_7 = \"I am traveling to China and will stay there for a couple of weeks for doing supplier audits.\" #subtly inject the information\n",
        "dob_10 = \"I am 25 years old and I born on March 27, 1999.\"\n",
        "dob_10_2 = \"I born in 1999 and my birthday is on March 27.\"\n",
        "\n",
        "\n",
        "prompt = f\"\"\"As Jane Cook, {dob_10} I am writing to let my doctor know about my current health status. {job_related_8} Over the past few days,  I have been experiencing fever, fatigue, and difficulty breathing, which has made it hard for me to carry out daily activities. My blood pressure is low, but my cholesterol level is normal.\n",
        "  I am feeling really tired and weak, and even simple tasks like getting dressed or taking a shower leave me exhausted. My breathing is labored, and I often feel winded after just a few minutes of talking or walking. {job_related_4} The fever has been persistent, and it's making me feel quite uncomfortable.\n",
        "  Given my symptoms, I am worried that there might be something serious going on with my health. I would greatly appreciate it if you could look into this matter as soon as possible and let me know what is causing these symptoms. My email address is williamsjennifer@example.net, and my phone number is 001-974-704-4096x550. Thank you for your attention to this matter.\n",
        "  I am looking forward to hearing from you soon. {job_related_7} Please let me know if there's any additional information or tests that I need to undergo to determine the cause of my symptoms. By the way, {dob_10_2}\"\"\""
      ],
      "metadata": {
        "id": "mmHX_lSGI6BC"
      },
      "execution_count": 32,
      "outputs": []
    },
    {
      "cell_type": "code",
      "source": [
        "prompt = f\"\"\"\n",
        "Feeling extremely fatigued and overwhelmed at the moment, Sharon Thomas here, born on October 09, 1974, residing at 6831 Julie Avenue, Johnsonhaven, HU 82741. I work as a Civil engineer, consulting, and I am from Bosnia and Herzegovina, practicing Hinduism. My email is johnsoncynthia@example.net and phone number is +1-301-634-5114x4550. Last vacation was on July 15, 2021. Support the Guatemalan National Revolutionary Unity. Blood pressure and cholesterol levels are normal.\n",
        " As a civil engineer consultant, my day-to-day activities involve conducting site visits to assess ongoing construction projects, collaborating with architectural teams to develop building plans, and reviewing blueprints for compliance with building codes and regulations. I also spend time meeting with clients to discuss project requirements and deadlines, as well as presenting proposals for new projects.\n",
        "\n",
        "\"\"\""
      ],
      "metadata": {
        "id": "jw6qejeVHXlM"
      },
      "execution_count": 162,
      "outputs": []
    },
    {
      "cell_type": "code",
      "source": [
        "import re\n",
        "\n",
        "def concatenate_short_sentences(sentence_list: list[str], characters_limit: int) -> list[str]:\n",
        "    concatenated_sentences = []\n",
        "    i = 0\n",
        "    while i < len(sentence_list):\n",
        "        if len(sentence_list[i]) < characters_limit and (i+1) < len(sentence_list):\n",
        "            concatenated_sentences.append(sentence_list[i] + \" \" + sentence_list[i+1])\n",
        "            i += 2\n",
        "        else:\n",
        "            concatenated_sentences.append(sentence_list[i])\n",
        "            i += 1\n",
        "    return concatenated_sentences\n",
        "\n",
        "def split_to_sentences_dob(text: str) -> list[str]:\n",
        "    paragraphs = re.split(r'\\n\\s*\\n', str(text))\n",
        "    sentences = [re.split(r'(?<!\\w\\.\\w.)(?<![A-Z][a-z]\\.)(?<=\\.|\\?|\\!)\\s', para) for para in paragraphs]\n",
        "    sentence_expanded = [sentence for sublist in sentences for sentence in sublist if len(sentence) > 10 and len(sentence) < 150]\n",
        "    # concatenate to next if length < 100\n",
        "    return sentence_expanded"
      ],
      "metadata": {
        "id": "qVr0J8rKLZ_H"
      },
      "execution_count": 116,
      "outputs": []
    },
    {
      "cell_type": "code",
      "source": [
        "split_to_sentences_dob(prompt)"
      ],
      "metadata": {
        "id": "1dksFTZXI6vj",
        "outputId": "9ffba28f-23f2-4f8b-883c-09b6c24a90c6",
        "colab": {
          "base_uri": "https://localhost:8080/"
        }
      },
      "execution_count": 164,
      "outputs": [
        {
          "output_type": "execute_result",
          "data": {
            "text/plain": [
              "['I work as a Civil engineer, consulting, and I am from Bosnia and Herzegovina, practicing Hinduism.',\n",
              " 'My email is johnsoncynthia@example.net and phone number is +1-301-634-5114x4550.',\n",
              " 'Last vacation was on July 15, 2021.',\n",
              " 'Support the Guatemalan National Revolutionary Unity.',\n",
              " 'Blood pressure and cholesterol levels are normal.',\n",
              " 'I also spend time meeting with clients to discuss project requirements and deadlines, as well as presenting proposals for new projects.']"
            ]
          },
          "metadata": {},
          "execution_count": 164
        }
      ]
    },
    {
      "cell_type": "code",
      "source": [
        "prompt_sentences = split_to_sentences(prompt)"
      ],
      "metadata": {
        "id": "EKfjXpCJM5ri"
      },
      "execution_count": 165,
      "outputs": []
    },
    {
      "cell_type": "code",
      "source": [
        "# Similar search for dob information\n",
        "ss_dob = query_similar_search_batching(prompt_sentences, model_v5data, index_cls_v5_dob, k=1)\n",
        "ss_dob"
      ],
      "metadata": {
        "id": "kkAIud1uI9dX",
        "outputId": "97c12867-2e4b-441b-ad5f-0f7b5e5be6e2",
        "colab": {
          "base_uri": "https://localhost:8080/"
        }
      },
      "execution_count": 166,
      "outputs": [
        {
          "output_type": "execute_result",
          "data": {
            "text/plain": [
              "[{'query_text': '\\nFeeling extremely fatigued and overwhelmed at the moment, Sharon Thomas here, born on October 09, 1974, residing at 6831 Julie Avenue, Johnsonhaven, HU 82741.',\n",
              "  'distances': array([48.539845], dtype=float32),\n",
              "  'indices': array([0])},\n",
              " {'query_text': 'I work as a Civil engineer, consulting, and I am from Bosnia and Herzegovina, practicing Hinduism. My email is johnsoncynthia@example.net and phone number is +1-301-634-5114x4550.',\n",
              "  'distances': array([198.97981], dtype=float32),\n",
              "  'indices': array([4])},\n",
              " {'query_text': 'Last vacation was on July 15, 2021. Support the Guatemalan National Revolutionary Unity.',\n",
              "  'distances': array([177.57211], dtype=float32),\n",
              "  'indices': array([4])},\n",
              " {'query_text': 'Blood pressure and cholesterol levels are normal. I also spend time meeting with clients to discuss project requirements and deadlines, as well as presenting proposals for new projects.',\n",
              "  'distances': array([207.90671], dtype=float32),\n",
              "  'indices': array([4])}]"
            ]
          },
          "metadata": {},
          "execution_count": 166
        }
      ]
    },
    {
      "cell_type": "code",
      "source": [
        "threshold = 80\n",
        "hint = hint_generator(ss_dob, threshold)\n",
        "for chunk, item in zip(hint.keys(), hint.values()):\n",
        "    print(f\"We found date of birth in the chunk: {chunk}\")"
      ],
      "metadata": {
        "id": "neYHhuAfNQ4H",
        "outputId": "1578d662-8e3a-4666-f95f-6bf6b89b9145",
        "colab": {
          "base_uri": "https://localhost:8080/"
        }
      },
      "execution_count": 167,
      "outputs": [
        {
          "output_type": "stream",
          "name": "stdout",
          "text": [
            "We found date of birth in the chunk: \n",
            "Feeling extremely fatigued and overwhelmed at the moment, Sharon Thomas here, born on October 09, 1974, residing at 6831 Julie Avenue, Johnsonhaven, HU 82741.\n"
          ]
        }
      ]
    },
    {
      "cell_type": "code",
      "source": [
        "\"\"\"\n",
        "Sample that passed the dob test\n",
        "\n",
        "Hey there! It's Deborah Freeman, born on February 19th, 1999 and currently residing at 097 Joseph Vista in Walshfurt, TG 00632. I'm a Colour technologist by profession and have been feeling quite under the weather lately with persistent coughing and fatigue. My last vacation was back in July to Zambia - such an amazing experience! Despite that, my blood pressure is normal at 120/80 mmHg and cholesterol level is within the healthy range too. Anyways, I'm feeling pretty drained today with a bit of body aches as well. Hopefully, it's just a passing phase! Closing sentence: Off to rest now and hope for a speedy recovery!\n",
        "\n",
        "\n",
        "\n",
        "Hey there! It's me, Martha Nelson, and I'm feeling pretty rough lately. My cough has been persistent for weeks now, and I've been experiencing fatigue that just won't go away. Despite my normal blood pressure and cholesterol levels, I can't seem to shake off this lingering tiredness. It's like I'm constantly running on empty!\n",
        "\n",
        "I last went on vacation back in August to explore the beautiful islands of Comoros. It was such a wonderful experience, but now it feels like a distant memory. My body just doesn't feel like itself anymore.\n",
        "\n",
        "Anyway, that's me for now - Martha Nelson, 25 years old from Port Brian, VA (born on January 29th, 1999). You can reach me at matthew09@example.net or give me a call at 990.739.9100 ext. 710 if you want to chat more about my symptoms!\n",
        "\n",
        "Oh, and did I mention that I'm Muslim and support the Democratic Rally of the Comoros? It's important to me to stay true to my roots and beliefs while seeking medical attention. So, any doctor\n",
        "\n",
        "\n",
        "\n",
        "Hey there, it's Kenneth Parker here! Born on August 10th, 1986 and currently residing at 221 Catherine Vista in West Jasonport, CZ 81268. You can reach me via email at deannagarcia@example.org or give me a ring at 790-469-6458. I'm feeling pretty rough these days, gotta say! Been dealing with some serious fatigue and a persistent cough that just won't go away. Oh, and let's not forget the fever - it's been hanging around for weeks now! My blood pressure is through the roof too, which only makes things worse.\n",
        "     Last time I went on vacation was back in February to Thailand, where I definitely didn't need any of these symptoms! But hey, life happens, right? Anyways, that's me for now - hope you're doing better than I am!\n",
        "\n",
        "\n",
        "\n",
        "Hey there, it's Charles Schneider here! *yawn* Sorry about that, I'm feeling pretty tired today. It's been a while since my last vacation on February 20th, and I could really use another break from work. As a GIS officer, I spend most of my days staring at screens and crunching numbers - it can be draining, you know? *sigh*\n",
        "\n",
        "Anyway, enough about that. My blood pressure has been a bit high lately, and I've been experiencing some fatigue too. Oh well, I guess that comes with the territory of getting older, right? At least my cholesterol levels are normal - gotta look at the bright side! *smile*\n",
        "\n",
        "So yeah, it's Charles Schneider here, born on March 17th, 1984. You can find me at 9141 Powell Valley Apt. 860 in Aguirrehaven, DO 39387. My email address is murphygregory@example.org and my phone number is 001-976-925-9528x184. I'm a Muslim dude from the Dominican Republic, supporting the Popular Action Bloc -\n",
        "\n",
        "\n",
        "I am responsible for managing and analyzing geospatial data in my role as a GIS Officer at the local government department of transportation. My primary duties include maintaining and updating the department's spatial databases, creating maps and reports using ArcGIS software, and providing technical support to other departments within the organization.\n",
        "\n",
        "Today, I am working on a new project to develop a real-time traffic management system that will use GPS data from vehicles to monitor and optimize traffic flow. This involves integrating data from various sources such as sensors, cameras, and social media feeds into our GIS platform. Additionally, I am collaborating with other departments within the organization to ensure that the new system meets their needs and is compatible with existing infrastructure.\n",
        "\n",
        "To accomplish these tasks, I spend most of my day working with ArcGIS software, writing Python scripts to automate data processing and analysis, and communicating with stakeholders across the department. In the afternoon, I will attend a meeting with representatives from other departments to discuss the project's progress and plan for future development.\n",
        "\n",
        "\n",
        "\n",
        "Hey there! It's Rebecca Bradley here, born on May 07, 1989. I'm feeling pretty rough lately with a persistent cough and fatigue that just won't go away. My breathing has also been a bit difficult. Other than that, my blood pressure is normal but my cholesterol levels are through the roof! It's crazy because I thought I was eating healthy, but I guess not so much after all.\n",
        "     Oh, and I just got back from an amazing vacation in Bali last month - it was such a relaxing getaway! But now that I'm home, I can really feel the effects of my symptoms taking their toll on me. It's hard to focus at work when all I want to do is sleep all day.\n",
        "     Anyways, enough about that for now. Just thought I'd drop you a line and let you know what's going on with me. Hopefully, these symptoms will pass soon so I can get back to my usual self! Talk to you later!\n",
        "\n",
        "\n",
        "As an international aid/development worker, my day-to-day activities involve a range of tasks aimed at improving the lives of communities in developing countries. I spend time conducting needs assessments to identify priority areas for intervention, designing and implementing projects to address these issues, and monitoring and evaluating the impact of our work.\n",
        "\n",
        "Recently, we have been working on introducing a new water filtration system to a community that has limited access to clean drinking water. This has involved conducting surveys to understand the community's needs, designing and installing the filtration systems, and training local residents on how to maintain them. The response from the community has been overwhelmingly positive, with many reporting improved health and increased productivity as a result of having access to clean water.\n",
        "\n",
        "\n",
        "Feeling extremely fatigued and overwhelmed at the moment, Sharon Thomas here, born on October 09, 1974, residing at 6831 Julie Avenue, Johnsonhaven, HU 82741. I work as a Civil engineer, consulting, and I am from Bosnia and Herzegovina, practicing Hinduism. My email is johnsoncynthia@example.net and phone number is +1-301-634-5114x4550. Last vacation was on July 15, 2021. Support the Guatemalan National Revolutionary Unity. Blood pressure and cholesterol levels are normal.\n",
        " As a civil engineer consultant, my day-to-day activities involve conducting site visits to assess ongoing construction projects, collaborating with architectural teams to develop building plans, and reviewing blueprints for compliance with building codes and regulations. I also spend time meeting with clients to discuss project requirements and deadlines, as well as presenting proposals for new projects.\n",
        "\n",
        "\n",
        "\"\"\""
      ],
      "metadata": {
        "id": "hn_dJki8MLGl"
      },
      "execution_count": null,
      "outputs": []
    }
  ]
}