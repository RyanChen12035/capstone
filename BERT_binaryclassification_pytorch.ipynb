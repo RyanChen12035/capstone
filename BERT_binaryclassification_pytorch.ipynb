{
  "nbformat": 4,
  "nbformat_minor": 0,
  "metadata": {
    "colab": {
      "provenance": [],
      "gpuType": "T4",
      "authorship_tag": "ABX9TyPu8NEF/YMHXW0skFgyfcSh",
      "include_colab_link": true
    },
    "kernelspec": {
      "name": "python3",
      "display_name": "Python 3"
    },
    "language_info": {
      "name": "python"
    },
    "accelerator": "GPU"
  },
  "cells": [
    {
      "cell_type": "markdown",
      "metadata": {
        "id": "view-in-github",
        "colab_type": "text"
      },
      "source": [
        "<a href=\"https://colab.research.google.com/github/RyanChen12035/capstone/blob/main/BERT_binaryclassification_pytorch.ipynb\" target=\"_parent\"><img src=\"https://colab.research.google.com/assets/colab-badge.svg\" alt=\"Open In Colab\"/></a>"
      ]
    },
    {
      "cell_type": "code",
      "execution_count": 1,
      "metadata": {
        "id": "U4e_1SR3nXlf",
        "colab": {
          "base_uri": "https://localhost:8080/"
        },
        "outputId": "24951cb0-9908-4398-e4ac-09f4fe907085"
      },
      "outputs": [
        {
          "output_type": "stream",
          "name": "stdout",
          "text": [
            "Requirement already satisfied: transformers in /usr/local/lib/python3.10/dist-packages (4.38.1)\n",
            "Requirement already satisfied: filelock in /usr/local/lib/python3.10/dist-packages (from transformers) (3.13.1)\n",
            "Requirement already satisfied: huggingface-hub<1.0,>=0.19.3 in /usr/local/lib/python3.10/dist-packages (from transformers) (0.20.3)\n",
            "Requirement already satisfied: numpy>=1.17 in /usr/local/lib/python3.10/dist-packages (from transformers) (1.25.2)\n",
            "Requirement already satisfied: packaging>=20.0 in /usr/local/lib/python3.10/dist-packages (from transformers) (23.2)\n",
            "Requirement already satisfied: pyyaml>=5.1 in /usr/local/lib/python3.10/dist-packages (from transformers) (6.0.1)\n",
            "Requirement already satisfied: regex!=2019.12.17 in /usr/local/lib/python3.10/dist-packages (from transformers) (2023.12.25)\n",
            "Requirement already satisfied: requests in /usr/local/lib/python3.10/dist-packages (from transformers) (2.31.0)\n",
            "Requirement already satisfied: tokenizers<0.19,>=0.14 in /usr/local/lib/python3.10/dist-packages (from transformers) (0.15.2)\n",
            "Requirement already satisfied: safetensors>=0.4.1 in /usr/local/lib/python3.10/dist-packages (from transformers) (0.4.2)\n",
            "Requirement already satisfied: tqdm>=4.27 in /usr/local/lib/python3.10/dist-packages (from transformers) (4.66.2)\n",
            "Requirement already satisfied: fsspec>=2023.5.0 in /usr/local/lib/python3.10/dist-packages (from huggingface-hub<1.0,>=0.19.3->transformers) (2023.6.0)\n",
            "Requirement already satisfied: typing-extensions>=3.7.4.3 in /usr/local/lib/python3.10/dist-packages (from huggingface-hub<1.0,>=0.19.3->transformers) (4.10.0)\n",
            "Requirement already satisfied: charset-normalizer<4,>=2 in /usr/local/lib/python3.10/dist-packages (from requests->transformers) (3.3.2)\n",
            "Requirement already satisfied: idna<4,>=2.5 in /usr/local/lib/python3.10/dist-packages (from requests->transformers) (3.6)\n",
            "Requirement already satisfied: urllib3<3,>=1.21.1 in /usr/local/lib/python3.10/dist-packages (from requests->transformers) (2.0.7)\n",
            "Requirement already satisfied: certifi>=2017.4.17 in /usr/local/lib/python3.10/dist-packages (from requests->transformers) (2024.2.2)\n"
          ]
        }
      ],
      "source": [
        "!pip install transformers"
      ]
    },
    {
      "cell_type": "markdown",
      "source": [
        "source:https://www.youtube.com/watch?v=f-86-HcYYi8"
      ],
      "metadata": {
        "id": "W_QChr3TOdFq"
      }
    },
    {
      "cell_type": "code",
      "source": [
        "import torch\n",
        "import torch.nn as nn\n",
        "import pandas as pd\n",
        "import numpy as np\n",
        "import shutil\n",
        "import sys\n",
        "\n",
        "from transformers import BertTokenizer, BertModel"
      ],
      "metadata": {
        "id": "-N9qFnWo5SqK"
      },
      "execution_count": 2,
      "outputs": []
    },
    {
      "cell_type": "code",
      "source": [
        "df = pd.read_csv(\"./job_PII_diagnosis.csv\", error_bad_lines=False)\n",
        "df.head(5)"
      ],
      "metadata": {
        "colab": {
          "base_uri": "https://localhost:8080/",
          "height": 299
        },
        "id": "bXBn0U4U5Ww6",
        "outputId": "d074606e-7c6f-4b92-854e-f778180529df"
      },
      "execution_count": 25,
      "outputs": [
        {
          "output_type": "stream",
          "name": "stderr",
          "text": [
            "<ipython-input-25-dfcbf89df6b3>:1: FutureWarning: The error_bad_lines argument has been deprecated and will be removed in a future version. Use on_bad_lines in the future.\n",
            "\n",
            "\n",
            "  df = pd.read_csv(\"./job_PII_diagnosis.csv\", error_bad_lines=False)\n"
          ]
        },
        {
          "output_type": "execute_result",
          "data": {
            "text/plain": [
              "                                              prompt  related_to_job\n",
              "0  My job is Marketing Intern and it's Marketing....               1\n",
              "1  My job is Customer Service - Cloud Video Produ...               1\n",
              "2  My job is Commissioning Machinery Assistant (C...               1\n",
              "3  My job is Account Executive - Washington DC an...               1\n",
              "4  My job is Bill Review Manager and it's freelan...               1"
            ],
            "text/html": [
              "\n",
              "  <div id=\"df-54982a83-a15c-49a5-9c27-89635e502cd9\" class=\"colab-df-container\">\n",
              "    <div>\n",
              "<style scoped>\n",
              "    .dataframe tbody tr th:only-of-type {\n",
              "        vertical-align: middle;\n",
              "    }\n",
              "\n",
              "    .dataframe tbody tr th {\n",
              "        vertical-align: top;\n",
              "    }\n",
              "\n",
              "    .dataframe thead th {\n",
              "        text-align: right;\n",
              "    }\n",
              "</style>\n",
              "<table border=\"1\" class=\"dataframe\">\n",
              "  <thead>\n",
              "    <tr style=\"text-align: right;\">\n",
              "      <th></th>\n",
              "      <th>prompt</th>\n",
              "      <th>related_to_job</th>\n",
              "    </tr>\n",
              "  </thead>\n",
              "  <tbody>\n",
              "    <tr>\n",
              "      <th>0</th>\n",
              "      <td>My job is Marketing Intern and it's Marketing....</td>\n",
              "      <td>1</td>\n",
              "    </tr>\n",
              "    <tr>\n",
              "      <th>1</th>\n",
              "      <td>My job is Customer Service - Cloud Video Produ...</td>\n",
              "      <td>1</td>\n",
              "    </tr>\n",
              "    <tr>\n",
              "      <th>2</th>\n",
              "      <td>My job is Commissioning Machinery Assistant (C...</td>\n",
              "      <td>1</td>\n",
              "    </tr>\n",
              "    <tr>\n",
              "      <th>3</th>\n",
              "      <td>My job is Account Executive - Washington DC an...</td>\n",
              "      <td>1</td>\n",
              "    </tr>\n",
              "    <tr>\n",
              "      <th>4</th>\n",
              "      <td>My job is Bill Review Manager and it's freelan...</td>\n",
              "      <td>1</td>\n",
              "    </tr>\n",
              "  </tbody>\n",
              "</table>\n",
              "</div>\n",
              "    <div class=\"colab-df-buttons\">\n",
              "\n",
              "  <div class=\"colab-df-container\">\n",
              "    <button class=\"colab-df-convert\" onclick=\"convertToInteractive('df-54982a83-a15c-49a5-9c27-89635e502cd9')\"\n",
              "            title=\"Convert this dataframe to an interactive table.\"\n",
              "            style=\"display:none;\">\n",
              "\n",
              "  <svg xmlns=\"http://www.w3.org/2000/svg\" height=\"24px\" viewBox=\"0 -960 960 960\">\n",
              "    <path d=\"M120-120v-720h720v720H120Zm60-500h600v-160H180v160Zm220 220h160v-160H400v160Zm0 220h160v-160H400v160ZM180-400h160v-160H180v160Zm440 0h160v-160H620v160ZM180-180h160v-160H180v160Zm440 0h160v-160H620v160Z\"/>\n",
              "  </svg>\n",
              "    </button>\n",
              "\n",
              "  <style>\n",
              "    .colab-df-container {\n",
              "      display:flex;\n",
              "      gap: 12px;\n",
              "    }\n",
              "\n",
              "    .colab-df-convert {\n",
              "      background-color: #E8F0FE;\n",
              "      border: none;\n",
              "      border-radius: 50%;\n",
              "      cursor: pointer;\n",
              "      display: none;\n",
              "      fill: #1967D2;\n",
              "      height: 32px;\n",
              "      padding: 0 0 0 0;\n",
              "      width: 32px;\n",
              "    }\n",
              "\n",
              "    .colab-df-convert:hover {\n",
              "      background-color: #E2EBFA;\n",
              "      box-shadow: 0px 1px 2px rgba(60, 64, 67, 0.3), 0px 1px 3px 1px rgba(60, 64, 67, 0.15);\n",
              "      fill: #174EA6;\n",
              "    }\n",
              "\n",
              "    .colab-df-buttons div {\n",
              "      margin-bottom: 4px;\n",
              "    }\n",
              "\n",
              "    [theme=dark] .colab-df-convert {\n",
              "      background-color: #3B4455;\n",
              "      fill: #D2E3FC;\n",
              "    }\n",
              "\n",
              "    [theme=dark] .colab-df-convert:hover {\n",
              "      background-color: #434B5C;\n",
              "      box-shadow: 0px 1px 3px 1px rgba(0, 0, 0, 0.15);\n",
              "      filter: drop-shadow(0px 1px 2px rgba(0, 0, 0, 0.3));\n",
              "      fill: #FFFFFF;\n",
              "    }\n",
              "  </style>\n",
              "\n",
              "    <script>\n",
              "      const buttonEl =\n",
              "        document.querySelector('#df-54982a83-a15c-49a5-9c27-89635e502cd9 button.colab-df-convert');\n",
              "      buttonEl.style.display =\n",
              "        google.colab.kernel.accessAllowed ? 'block' : 'none';\n",
              "\n",
              "      async function convertToInteractive(key) {\n",
              "        const element = document.querySelector('#df-54982a83-a15c-49a5-9c27-89635e502cd9');\n",
              "        const dataTable =\n",
              "          await google.colab.kernel.invokeFunction('convertToInteractive',\n",
              "                                                    [key], {});\n",
              "        if (!dataTable) return;\n",
              "\n",
              "        const docLinkHtml = 'Like what you see? Visit the ' +\n",
              "          '<a target=\"_blank\" href=https://colab.research.google.com/notebooks/data_table.ipynb>data table notebook</a>'\n",
              "          + ' to learn more about interactive tables.';\n",
              "        element.innerHTML = '';\n",
              "        dataTable['output_type'] = 'display_data';\n",
              "        await google.colab.output.renderOutput(dataTable, element);\n",
              "        const docLink = document.createElement('div');\n",
              "        docLink.innerHTML = docLinkHtml;\n",
              "        element.appendChild(docLink);\n",
              "      }\n",
              "    </script>\n",
              "  </div>\n",
              "\n",
              "\n",
              "<div id=\"df-0036bb21-002c-406b-a949-09e8c7671b0f\">\n",
              "  <button class=\"colab-df-quickchart\" onclick=\"quickchart('df-0036bb21-002c-406b-a949-09e8c7671b0f')\"\n",
              "            title=\"Suggest charts\"\n",
              "            style=\"display:none;\">\n",
              "\n",
              "<svg xmlns=\"http://www.w3.org/2000/svg\" height=\"24px\"viewBox=\"0 0 24 24\"\n",
              "     width=\"24px\">\n",
              "    <g>\n",
              "        <path d=\"M19 3H5c-1.1 0-2 .9-2 2v14c0 1.1.9 2 2 2h14c1.1 0 2-.9 2-2V5c0-1.1-.9-2-2-2zM9 17H7v-7h2v7zm4 0h-2V7h2v10zm4 0h-2v-4h2v4z\"/>\n",
              "    </g>\n",
              "</svg>\n",
              "  </button>\n",
              "\n",
              "<style>\n",
              "  .colab-df-quickchart {\n",
              "      --bg-color: #E8F0FE;\n",
              "      --fill-color: #1967D2;\n",
              "      --hover-bg-color: #E2EBFA;\n",
              "      --hover-fill-color: #174EA6;\n",
              "      --disabled-fill-color: #AAA;\n",
              "      --disabled-bg-color: #DDD;\n",
              "  }\n",
              "\n",
              "  [theme=dark] .colab-df-quickchart {\n",
              "      --bg-color: #3B4455;\n",
              "      --fill-color: #D2E3FC;\n",
              "      --hover-bg-color: #434B5C;\n",
              "      --hover-fill-color: #FFFFFF;\n",
              "      --disabled-bg-color: #3B4455;\n",
              "      --disabled-fill-color: #666;\n",
              "  }\n",
              "\n",
              "  .colab-df-quickchart {\n",
              "    background-color: var(--bg-color);\n",
              "    border: none;\n",
              "    border-radius: 50%;\n",
              "    cursor: pointer;\n",
              "    display: none;\n",
              "    fill: var(--fill-color);\n",
              "    height: 32px;\n",
              "    padding: 0;\n",
              "    width: 32px;\n",
              "  }\n",
              "\n",
              "  .colab-df-quickchart:hover {\n",
              "    background-color: var(--hover-bg-color);\n",
              "    box-shadow: 0 1px 2px rgba(60, 64, 67, 0.3), 0 1px 3px 1px rgba(60, 64, 67, 0.15);\n",
              "    fill: var(--button-hover-fill-color);\n",
              "  }\n",
              "\n",
              "  .colab-df-quickchart-complete:disabled,\n",
              "  .colab-df-quickchart-complete:disabled:hover {\n",
              "    background-color: var(--disabled-bg-color);\n",
              "    fill: var(--disabled-fill-color);\n",
              "    box-shadow: none;\n",
              "  }\n",
              "\n",
              "  .colab-df-spinner {\n",
              "    border: 2px solid var(--fill-color);\n",
              "    border-color: transparent;\n",
              "    border-bottom-color: var(--fill-color);\n",
              "    animation:\n",
              "      spin 1s steps(1) infinite;\n",
              "  }\n",
              "\n",
              "  @keyframes spin {\n",
              "    0% {\n",
              "      border-color: transparent;\n",
              "      border-bottom-color: var(--fill-color);\n",
              "      border-left-color: var(--fill-color);\n",
              "    }\n",
              "    20% {\n",
              "      border-color: transparent;\n",
              "      border-left-color: var(--fill-color);\n",
              "      border-top-color: var(--fill-color);\n",
              "    }\n",
              "    30% {\n",
              "      border-color: transparent;\n",
              "      border-left-color: var(--fill-color);\n",
              "      border-top-color: var(--fill-color);\n",
              "      border-right-color: var(--fill-color);\n",
              "    }\n",
              "    40% {\n",
              "      border-color: transparent;\n",
              "      border-right-color: var(--fill-color);\n",
              "      border-top-color: var(--fill-color);\n",
              "    }\n",
              "    60% {\n",
              "      border-color: transparent;\n",
              "      border-right-color: var(--fill-color);\n",
              "    }\n",
              "    80% {\n",
              "      border-color: transparent;\n",
              "      border-right-color: var(--fill-color);\n",
              "      border-bottom-color: var(--fill-color);\n",
              "    }\n",
              "    90% {\n",
              "      border-color: transparent;\n",
              "      border-bottom-color: var(--fill-color);\n",
              "    }\n",
              "  }\n",
              "</style>\n",
              "\n",
              "  <script>\n",
              "    async function quickchart(key) {\n",
              "      const quickchartButtonEl =\n",
              "        document.querySelector('#' + key + ' button');\n",
              "      quickchartButtonEl.disabled = true;  // To prevent multiple clicks.\n",
              "      quickchartButtonEl.classList.add('colab-df-spinner');\n",
              "      try {\n",
              "        const charts = await google.colab.kernel.invokeFunction(\n",
              "            'suggestCharts', [key], {});\n",
              "      } catch (error) {\n",
              "        console.error('Error during call to suggestCharts:', error);\n",
              "      }\n",
              "      quickchartButtonEl.classList.remove('colab-df-spinner');\n",
              "      quickchartButtonEl.classList.add('colab-df-quickchart-complete');\n",
              "    }\n",
              "    (() => {\n",
              "      let quickchartButtonEl =\n",
              "        document.querySelector('#df-0036bb21-002c-406b-a949-09e8c7671b0f button');\n",
              "      quickchartButtonEl.style.display =\n",
              "        google.colab.kernel.accessAllowed ? 'block' : 'none';\n",
              "    })();\n",
              "  </script>\n",
              "</div>\n",
              "\n",
              "    </div>\n",
              "  </div>\n"
            ],
            "application/vnd.google.colaboratory.intrinsic+json": {
              "type": "dataframe",
              "variable_name": "df",
              "summary": "{\n  \"name\": \"df\",\n  \"rows\": 9667,\n  \"fields\": [\n    {\n      \"column\": \"prompt\",\n      \"properties\": {\n        \"dtype\": \"string\",\n        \"num_unique_values\": 9604,\n        \"samples\": [\n          \"My job is IT Help Desk Intern and it's Engineering. It locates at GR, I, Athens and the salary range is negotiable Following is the introduction of my company: Upstream\\u2019s mission is to revolutionise the way companies market to consumers through cutting edge technology. This is an opportunity to collaborate with like-minded people in an environment that embra, the job description: Overview:We are seeking a highly motivated individual to join our IT team as\\u00a0\\u00a0IT Help Desk Intern.Key Accountabilities\\u00a0Learn to provide ender-user support and first-tier troubleshooting of all user is, the requirements: Knowledge/Skills/ExperienceHigh school graduate, ideally he or she will be finishing a BS\\u00a0\\u00a0degree in a technology or computer science fieldPrior IT support experience would be a plusKnowledge of Windo, and the benefits: negotiable\",\n          \"My job is Shift Supervisor and it's CASH. It locates at US, NY, Bronx and the salary range is negotiable Following is the introduction of my company: Volunteers of America is a faith-based human services organization. We are dedicated to helping individuals and families in need create positive and lasting change through social service programs that, the job description: The shift supervisor is responsible for overall operations of the program or facility during his/her assigned shift.\\u00a0 On evening, nights, holidays and weekend shifts, these duties may be expanded to i, the requirements: The position requires a college degree and one year relevant work experience or an associates degree or 60 college credits and three years relevant work experience., and the benefits: Comprehensive benefits package.\",\n          \"My job is Sales Manager and it's freelancing. It locates at CA, BC, Quesnel and the salary range is negotiable Following is the introduction of my company: nan, the job description: We are looking to grow our fabulous sales team at Regency in order to ensure our customers are well taken care of.\\u00a0 We are looking for someone who loves vehicles, more importantly Dodge, Chrysler, Jee, the requirements: nan, and the benefits: negotiable\"\n        ],\n        \"semantic_type\": \"\",\n        \"description\": \"\"\n      }\n    },\n    {\n      \"column\": \"related_to_job\",\n      \"properties\": {\n        \"dtype\": \"number\",\n        \"std\": 0,\n        \"min\": 0,\n        \"max\": 1,\n        \"num_unique_values\": 2,\n        \"samples\": [\n          0,\n          1\n        ],\n        \"semantic_type\": \"\",\n        \"description\": \"\"\n      }\n    }\n  ]\n}"
            }
          },
          "metadata": {},
          "execution_count": 25
        }
      ]
    },
    {
      "cell_type": "code",
      "source": [
        "# hyperparameters\n",
        "MAX_LEN = 256\n",
        "TRAIN_BATCH_SIZE = 8\n",
        "VALID_BATCH_SIZE = 8\n",
        "EPOCHS = 2\n",
        "LEARNING_RATE = 1e-04"
      ],
      "metadata": {
        "id": "gqG70lOl8jD1"
      },
      "execution_count": 55,
      "outputs": []
    },
    {
      "cell_type": "code",
      "source": [
        "# tokenizer and model\n",
        "tokenizer = BertTokenizer.from_pretrained('bert-base-uncased')"
      ],
      "metadata": {
        "id": "CAglKvf26Ml_"
      },
      "execution_count": 27,
      "outputs": []
    },
    {
      "cell_type": "code",
      "source": [
        "example = \"\"\"\n",
        "            My job is Marketing Intern and it's Marketing. It locates at US, NY, New York and the salary range is negotiable Following is the introduction of my company: We're Food52, and we've created a groundbreaking and award-winning cooking site. We support, connect, and celebrate home cooks, and give them everything they need in one place.We have a top editorial,, the job description: Food52, a fast-growing, James Beard Award-winning online food community and crowd-sourced and curated recipe hub, is currently interviewing full- and part-time unpaid interns to work in a small team o, the requirements: Experience with content management systems a major plus (any blogging counts!)Familiar with the Food52 editorial voice and aestheticLoves food, appreciates the importance of home cooking and cooking w, and the benefits: negotiable\n",
        "        \"\"\"\n",
        "\n",
        "encodings = tokenizer.encode_plus(\n",
        "    example,\n",
        "    add_special_tokens=True,\n",
        "    max_length=MAX_LEN,\n",
        "    padding='max_length',\n",
        "    truncation=True,\n",
        "    return_attention_mask=True,\n",
        "    return_tensor='pt'\n",
        ")\n",
        "encodings"
      ],
      "metadata": {
        "colab": {
          "base_uri": "https://localhost:8080/"
        },
        "id": "Pbu5tIEa6pda",
        "outputId": "889edda3-cd86-4934-d51c-2494c7b1967a"
      },
      "execution_count": 28,
      "outputs": [
        {
          "output_type": "stream",
          "name": "stderr",
          "text": [
            "Keyword arguments {'return_tensor': 'pt'} not recognized.\n"
          ]
        },
        {
          "output_type": "execute_result",
          "data": {
            "text/plain": [
              "{'input_ids': [101, 2026, 3105, 2003, 5821, 25204, 1998, 2009, 1005, 1055, 5821, 1012, 2009, 12453, 2015, 2012, 2149, 1010, 6396, 1010, 2047, 2259, 1998, 1996, 10300, 2846, 2003, 11265, 3995, 10711, 3468, 2206, 2003, 1996, 4955, 1997, 2026, 2194, 1024, 2057, 1005, 2128, 2833, 25746, 1010, 1998, 2057, 1005, 2310, 2580, 1037, 23222, 1998, 2400, 1011, 3045, 8434, 2609, 1012, 2057, 2490, 1010, 7532, 1010, 1998, 8439, 2188, 26929, 1010, 1998, 2507, 2068, 2673, 2027, 2342, 1999, 2028, 2173, 1012, 2057, 2031, 1037, 2327, 8368, 1010, 1010, 1996, 3105, 6412, 1024, 2833, 25746, 1010, 1037, 3435, 1011, 3652, 1010, 2508, 10154, 2400, 1011, 3045, 3784, 2833, 2451, 1998, 4306, 1011, 23184, 1998, 17940, 17974, 9594, 1010, 2003, 2747, 27805, 2440, 1011, 1998, 2112, 1011, 2051, 23850, 25204, 2015, 2000, 2147, 1999, 1037, 2235, 2136, 1051, 1010, 1996, 5918, 1024, 3325, 2007, 4180, 2968, 3001, 1037, 2350, 4606, 1006, 2151, 9927, 4726, 9294, 999, 1007, 5220, 2007, 1996, 2833, 25746, 8368, 2376, 1998, 12465, 14301, 2229, 2833, 1010, 9120, 2015, 1996, 5197, 1997, 2188, 8434, 1998, 8434, 1059, 1010, 1998, 1996, 6666, 1024, 11265, 3995, 10711, 3468, 102, 0, 0, 0, 0, 0, 0, 0, 0, 0, 0, 0, 0, 0, 0, 0, 0, 0, 0, 0, 0, 0, 0, 0, 0, 0, 0, 0, 0, 0, 0, 0, 0, 0, 0, 0, 0, 0, 0, 0, 0, 0, 0, 0, 0, 0, 0, 0, 0, 0, 0, 0, 0, 0, 0, 0, 0, 0, 0, 0, 0, 0, 0, 0, 0, 0, 0, 0, 0, 0, 0], 'token_type_ids': [0, 0, 0, 0, 0, 0, 0, 0, 0, 0, 0, 0, 0, 0, 0, 0, 0, 0, 0, 0, 0, 0, 0, 0, 0, 0, 0, 0, 0, 0, 0, 0, 0, 0, 0, 0, 0, 0, 0, 0, 0, 0, 0, 0, 0, 0, 0, 0, 0, 0, 0, 0, 0, 0, 0, 0, 0, 0, 0, 0, 0, 0, 0, 0, 0, 0, 0, 0, 0, 0, 0, 0, 0, 0, 0, 0, 0, 0, 0, 0, 0, 0, 0, 0, 0, 0, 0, 0, 0, 0, 0, 0, 0, 0, 0, 0, 0, 0, 0, 0, 0, 0, 0, 0, 0, 0, 0, 0, 0, 0, 0, 0, 0, 0, 0, 0, 0, 0, 0, 0, 0, 0, 0, 0, 0, 0, 0, 0, 0, 0, 0, 0, 0, 0, 0, 0, 0, 0, 0, 0, 0, 0, 0, 0, 0, 0, 0, 0, 0, 0, 0, 0, 0, 0, 0, 0, 0, 0, 0, 0, 0, 0, 0, 0, 0, 0, 0, 0, 0, 0, 0, 0, 0, 0, 0, 0, 0, 0, 0, 0, 0, 0, 0, 0, 0, 0, 0, 0, 0, 0, 0, 0, 0, 0, 0, 0, 0, 0, 0, 0, 0, 0, 0, 0, 0, 0, 0, 0, 0, 0, 0, 0, 0, 0, 0, 0, 0, 0, 0, 0, 0, 0, 0, 0, 0, 0, 0, 0, 0, 0, 0, 0, 0, 0, 0, 0, 0, 0, 0, 0, 0, 0, 0, 0, 0, 0, 0, 0, 0, 0, 0, 0, 0, 0, 0, 0], 'attention_mask': [1, 1, 1, 1, 1, 1, 1, 1, 1, 1, 1, 1, 1, 1, 1, 1, 1, 1, 1, 1, 1, 1, 1, 1, 1, 1, 1, 1, 1, 1, 1, 1, 1, 1, 1, 1, 1, 1, 1, 1, 1, 1, 1, 1, 1, 1, 1, 1, 1, 1, 1, 1, 1, 1, 1, 1, 1, 1, 1, 1, 1, 1, 1, 1, 1, 1, 1, 1, 1, 1, 1, 1, 1, 1, 1, 1, 1, 1, 1, 1, 1, 1, 1, 1, 1, 1, 1, 1, 1, 1, 1, 1, 1, 1, 1, 1, 1, 1, 1, 1, 1, 1, 1, 1, 1, 1, 1, 1, 1, 1, 1, 1, 1, 1, 1, 1, 1, 1, 1, 1, 1, 1, 1, 1, 1, 1, 1, 1, 1, 1, 1, 1, 1, 1, 1, 1, 1, 1, 1, 1, 1, 1, 1, 1, 1, 1, 1, 1, 1, 1, 1, 1, 1, 1, 1, 1, 1, 1, 1, 1, 1, 1, 1, 1, 1, 1, 1, 1, 1, 1, 1, 1, 1, 1, 1, 1, 1, 1, 1, 1, 1, 1, 1, 1, 1, 1, 0, 0, 0, 0, 0, 0, 0, 0, 0, 0, 0, 0, 0, 0, 0, 0, 0, 0, 0, 0, 0, 0, 0, 0, 0, 0, 0, 0, 0, 0, 0, 0, 0, 0, 0, 0, 0, 0, 0, 0, 0, 0, 0, 0, 0, 0, 0, 0, 0, 0, 0, 0, 0, 0, 0, 0, 0, 0, 0, 0, 0, 0, 0, 0, 0, 0, 0, 0, 0, 0]}"
            ]
          },
          "metadata": {},
          "execution_count": 28
        }
      ]
    },
    {
      "cell_type": "code",
      "source": [
        "# df['prompt'][0]\n",
        "# \" \".join(str(df['prompt'][0]).split())"
      ],
      "metadata": {
        "id": "tNeiRn6xA-4-"
      },
      "execution_count": 29,
      "outputs": []
    },
    {
      "cell_type": "code",
      "source": [
        "df['related_to_job'].values"
      ],
      "metadata": {
        "colab": {
          "base_uri": "https://localhost:8080/"
        },
        "id": "wO4XoE1Ci9gL",
        "outputId": "467df68a-a90f-48b4-ee16-22780b502914"
      },
      "execution_count": 30,
      "outputs": [
        {
          "output_type": "execute_result",
          "data": {
            "text/plain": [
              "array([1, 1, 1, ..., 0, 0, 0])"
            ]
          },
          "metadata": {},
          "execution_count": 30
        }
      ]
    },
    {
      "cell_type": "code",
      "source": [
        "# encapsulte data with pytorch dataset\n",
        "# help(tokenizer.encode_plus)\n",
        "\n",
        "class CustomDataSet(torch.utils.data.Dataset):\n",
        "    def __init__(self, df, tokenizer, max_len):\n",
        "        self.tokenizer = tokenizer\n",
        "        self.df = df\n",
        "        self.max_len = max_len\n",
        "        self.example = df['prompt'] #input X\n",
        "        self.targets = df['related_to_job'].values #target y\n",
        "\n",
        "    def __len__(self):\n",
        "        return len(self.example)\n",
        "\n",
        "    def __getitem__(self, index):\n",
        "        example = str(self.example[index]) #in case any type error\n",
        "        example = \" \".join(example.split())\n",
        "\n",
        "        inputs = self.tokenizer.encode_plus(\n",
        "            example,\n",
        "            None,\n",
        "            add_special_tokens=True, #[CLS], [SEP], [PAD]\n",
        "            max_length=self.max_len,\n",
        "            padding='max_length',\n",
        "            return_token_type_ids=True,\n",
        "            truncation=True,\n",
        "            return_attention_mask=True,\n",
        "            return_tensors='pt'\n",
        "        )\n",
        "\n",
        "        return {\n",
        "            'input_ids': inputs['input_ids'].flatten(),\n",
        "            'token_type_ids': inputs['token_type_ids'].flatten(),\n",
        "            'attention_mask': inputs['attention_mask'].flatten(),\n",
        "            'targets': torch.tensor([self.targets[index]], dtype=torch.float)\n",
        "        }"
      ],
      "metadata": {
        "id": "-O3WOezz9laX"
      },
      "execution_count": 31,
      "outputs": []
    },
    {
      "cell_type": "code",
      "source": [
        "# take only training and validation\n",
        "from sklearn.model_selection import train_test_split\n",
        "\n",
        "train_df, val_df = train_test_split(df, test_size=0.2, random_state=200)\n",
        "train_df = train_df.reset_index(drop=True)\n",
        "val_df = val_df.reset_index(drop=True)"
      ],
      "metadata": {
        "id": "wKscla3LCn-e"
      },
      "execution_count": 32,
      "outputs": []
    },
    {
      "cell_type": "code",
      "source": [
        "print(val_df.describe())\n",
        "print(val_df.isnull().sum())\n",
        "print(train_df.describe())\n",
        "print(train_df.isnull().sum())"
      ],
      "metadata": {
        "colab": {
          "base_uri": "https://localhost:8080/"
        },
        "id": "phm5WOJVhR5y",
        "outputId": "d59c4515-1f11-4ef7-b4c5-9ced8c25be69"
      },
      "execution_count": 33,
      "outputs": [
        {
          "output_type": "stream",
          "name": "stdout",
          "text": [
            "       related_to_job\n",
            "count     1934.000000\n",
            "mean         0.631851\n",
            "std          0.482427\n",
            "min          0.000000\n",
            "25%          0.000000\n",
            "50%          1.000000\n",
            "75%          1.000000\n",
            "max          1.000000\n",
            "prompt            0\n",
            "related_to_job    0\n",
            "dtype: int64\n",
            "       related_to_job\n",
            "count     7733.000000\n",
            "mean         0.617871\n",
            "std          0.485939\n",
            "min          0.000000\n",
            "25%          0.000000\n",
            "50%          1.000000\n",
            "75%          1.000000\n",
            "max          1.000000\n",
            "prompt            0\n",
            "related_to_job    0\n",
            "dtype: int64\n"
          ]
        }
      ]
    },
    {
      "cell_type": "code",
      "source": [
        "val_df[0:5]"
      ],
      "metadata": {
        "colab": {
          "base_uri": "https://localhost:8080/",
          "height": 206
        },
        "id": "z0ATu_DeiA9-",
        "outputId": "c6e2b4be-2b8c-4b04-c54e-2a32c97b8426"
      },
      "execution_count": 34,
      "outputs": [
        {
          "output_type": "execute_result",
          "data": {
            "text/plain": [
              "                                              prompt  related_to_job\n",
              "0  My job is Director of Engineering and it's fre...               1\n",
              "1  My job is Office Administrator and it's freela...               1\n",
              "2  My job is Senior Front End Engineer and it's E...               1\n",
              "3  My job is Field Engineer and it's freelancing....               1\n",
              "4  My job is Designer: Internship and it's freela...               1"
            ],
            "text/html": [
              "\n",
              "  <div id=\"df-d221ee05-5e84-4b2a-aa2d-7d6347a9886a\" class=\"colab-df-container\">\n",
              "    <div>\n",
              "<style scoped>\n",
              "    .dataframe tbody tr th:only-of-type {\n",
              "        vertical-align: middle;\n",
              "    }\n",
              "\n",
              "    .dataframe tbody tr th {\n",
              "        vertical-align: top;\n",
              "    }\n",
              "\n",
              "    .dataframe thead th {\n",
              "        text-align: right;\n",
              "    }\n",
              "</style>\n",
              "<table border=\"1\" class=\"dataframe\">\n",
              "  <thead>\n",
              "    <tr style=\"text-align: right;\">\n",
              "      <th></th>\n",
              "      <th>prompt</th>\n",
              "      <th>related_to_job</th>\n",
              "    </tr>\n",
              "  </thead>\n",
              "  <tbody>\n",
              "    <tr>\n",
              "      <th>0</th>\n",
              "      <td>My job is Director of Engineering and it's fre...</td>\n",
              "      <td>1</td>\n",
              "    </tr>\n",
              "    <tr>\n",
              "      <th>1</th>\n",
              "      <td>My job is Office Administrator and it's freela...</td>\n",
              "      <td>1</td>\n",
              "    </tr>\n",
              "    <tr>\n",
              "      <th>2</th>\n",
              "      <td>My job is Senior Front End Engineer and it's E...</td>\n",
              "      <td>1</td>\n",
              "    </tr>\n",
              "    <tr>\n",
              "      <th>3</th>\n",
              "      <td>My job is Field Engineer and it's freelancing....</td>\n",
              "      <td>1</td>\n",
              "    </tr>\n",
              "    <tr>\n",
              "      <th>4</th>\n",
              "      <td>My job is Designer: Internship and it's freela...</td>\n",
              "      <td>1</td>\n",
              "    </tr>\n",
              "  </tbody>\n",
              "</table>\n",
              "</div>\n",
              "    <div class=\"colab-df-buttons\">\n",
              "\n",
              "  <div class=\"colab-df-container\">\n",
              "    <button class=\"colab-df-convert\" onclick=\"convertToInteractive('df-d221ee05-5e84-4b2a-aa2d-7d6347a9886a')\"\n",
              "            title=\"Convert this dataframe to an interactive table.\"\n",
              "            style=\"display:none;\">\n",
              "\n",
              "  <svg xmlns=\"http://www.w3.org/2000/svg\" height=\"24px\" viewBox=\"0 -960 960 960\">\n",
              "    <path d=\"M120-120v-720h720v720H120Zm60-500h600v-160H180v160Zm220 220h160v-160H400v160Zm0 220h160v-160H400v160ZM180-400h160v-160H180v160Zm440 0h160v-160H620v160ZM180-180h160v-160H180v160Zm440 0h160v-160H620v160Z\"/>\n",
              "  </svg>\n",
              "    </button>\n",
              "\n",
              "  <style>\n",
              "    .colab-df-container {\n",
              "      display:flex;\n",
              "      gap: 12px;\n",
              "    }\n",
              "\n",
              "    .colab-df-convert {\n",
              "      background-color: #E8F0FE;\n",
              "      border: none;\n",
              "      border-radius: 50%;\n",
              "      cursor: pointer;\n",
              "      display: none;\n",
              "      fill: #1967D2;\n",
              "      height: 32px;\n",
              "      padding: 0 0 0 0;\n",
              "      width: 32px;\n",
              "    }\n",
              "\n",
              "    .colab-df-convert:hover {\n",
              "      background-color: #E2EBFA;\n",
              "      box-shadow: 0px 1px 2px rgba(60, 64, 67, 0.3), 0px 1px 3px 1px rgba(60, 64, 67, 0.15);\n",
              "      fill: #174EA6;\n",
              "    }\n",
              "\n",
              "    .colab-df-buttons div {\n",
              "      margin-bottom: 4px;\n",
              "    }\n",
              "\n",
              "    [theme=dark] .colab-df-convert {\n",
              "      background-color: #3B4455;\n",
              "      fill: #D2E3FC;\n",
              "    }\n",
              "\n",
              "    [theme=dark] .colab-df-convert:hover {\n",
              "      background-color: #434B5C;\n",
              "      box-shadow: 0px 1px 3px 1px rgba(0, 0, 0, 0.15);\n",
              "      filter: drop-shadow(0px 1px 2px rgba(0, 0, 0, 0.3));\n",
              "      fill: #FFFFFF;\n",
              "    }\n",
              "  </style>\n",
              "\n",
              "    <script>\n",
              "      const buttonEl =\n",
              "        document.querySelector('#df-d221ee05-5e84-4b2a-aa2d-7d6347a9886a button.colab-df-convert');\n",
              "      buttonEl.style.display =\n",
              "        google.colab.kernel.accessAllowed ? 'block' : 'none';\n",
              "\n",
              "      async function convertToInteractive(key) {\n",
              "        const element = document.querySelector('#df-d221ee05-5e84-4b2a-aa2d-7d6347a9886a');\n",
              "        const dataTable =\n",
              "          await google.colab.kernel.invokeFunction('convertToInteractive',\n",
              "                                                    [key], {});\n",
              "        if (!dataTable) return;\n",
              "\n",
              "        const docLinkHtml = 'Like what you see? Visit the ' +\n",
              "          '<a target=\"_blank\" href=https://colab.research.google.com/notebooks/data_table.ipynb>data table notebook</a>'\n",
              "          + ' to learn more about interactive tables.';\n",
              "        element.innerHTML = '';\n",
              "        dataTable['output_type'] = 'display_data';\n",
              "        await google.colab.output.renderOutput(dataTable, element);\n",
              "        const docLink = document.createElement('div');\n",
              "        docLink.innerHTML = docLinkHtml;\n",
              "        element.appendChild(docLink);\n",
              "      }\n",
              "    </script>\n",
              "  </div>\n",
              "\n",
              "\n",
              "<div id=\"df-f2591ee9-e830-440a-b0d2-3e331ca17eeb\">\n",
              "  <button class=\"colab-df-quickchart\" onclick=\"quickchart('df-f2591ee9-e830-440a-b0d2-3e331ca17eeb')\"\n",
              "            title=\"Suggest charts\"\n",
              "            style=\"display:none;\">\n",
              "\n",
              "<svg xmlns=\"http://www.w3.org/2000/svg\" height=\"24px\"viewBox=\"0 0 24 24\"\n",
              "     width=\"24px\">\n",
              "    <g>\n",
              "        <path d=\"M19 3H5c-1.1 0-2 .9-2 2v14c0 1.1.9 2 2 2h14c1.1 0 2-.9 2-2V5c0-1.1-.9-2-2-2zM9 17H7v-7h2v7zm4 0h-2V7h2v10zm4 0h-2v-4h2v4z\"/>\n",
              "    </g>\n",
              "</svg>\n",
              "  </button>\n",
              "\n",
              "<style>\n",
              "  .colab-df-quickchart {\n",
              "      --bg-color: #E8F0FE;\n",
              "      --fill-color: #1967D2;\n",
              "      --hover-bg-color: #E2EBFA;\n",
              "      --hover-fill-color: #174EA6;\n",
              "      --disabled-fill-color: #AAA;\n",
              "      --disabled-bg-color: #DDD;\n",
              "  }\n",
              "\n",
              "  [theme=dark] .colab-df-quickchart {\n",
              "      --bg-color: #3B4455;\n",
              "      --fill-color: #D2E3FC;\n",
              "      --hover-bg-color: #434B5C;\n",
              "      --hover-fill-color: #FFFFFF;\n",
              "      --disabled-bg-color: #3B4455;\n",
              "      --disabled-fill-color: #666;\n",
              "  }\n",
              "\n",
              "  .colab-df-quickchart {\n",
              "    background-color: var(--bg-color);\n",
              "    border: none;\n",
              "    border-radius: 50%;\n",
              "    cursor: pointer;\n",
              "    display: none;\n",
              "    fill: var(--fill-color);\n",
              "    height: 32px;\n",
              "    padding: 0;\n",
              "    width: 32px;\n",
              "  }\n",
              "\n",
              "  .colab-df-quickchart:hover {\n",
              "    background-color: var(--hover-bg-color);\n",
              "    box-shadow: 0 1px 2px rgba(60, 64, 67, 0.3), 0 1px 3px 1px rgba(60, 64, 67, 0.15);\n",
              "    fill: var(--button-hover-fill-color);\n",
              "  }\n",
              "\n",
              "  .colab-df-quickchart-complete:disabled,\n",
              "  .colab-df-quickchart-complete:disabled:hover {\n",
              "    background-color: var(--disabled-bg-color);\n",
              "    fill: var(--disabled-fill-color);\n",
              "    box-shadow: none;\n",
              "  }\n",
              "\n",
              "  .colab-df-spinner {\n",
              "    border: 2px solid var(--fill-color);\n",
              "    border-color: transparent;\n",
              "    border-bottom-color: var(--fill-color);\n",
              "    animation:\n",
              "      spin 1s steps(1) infinite;\n",
              "  }\n",
              "\n",
              "  @keyframes spin {\n",
              "    0% {\n",
              "      border-color: transparent;\n",
              "      border-bottom-color: var(--fill-color);\n",
              "      border-left-color: var(--fill-color);\n",
              "    }\n",
              "    20% {\n",
              "      border-color: transparent;\n",
              "      border-left-color: var(--fill-color);\n",
              "      border-top-color: var(--fill-color);\n",
              "    }\n",
              "    30% {\n",
              "      border-color: transparent;\n",
              "      border-left-color: var(--fill-color);\n",
              "      border-top-color: var(--fill-color);\n",
              "      border-right-color: var(--fill-color);\n",
              "    }\n",
              "    40% {\n",
              "      border-color: transparent;\n",
              "      border-right-color: var(--fill-color);\n",
              "      border-top-color: var(--fill-color);\n",
              "    }\n",
              "    60% {\n",
              "      border-color: transparent;\n",
              "      border-right-color: var(--fill-color);\n",
              "    }\n",
              "    80% {\n",
              "      border-color: transparent;\n",
              "      border-right-color: var(--fill-color);\n",
              "      border-bottom-color: var(--fill-color);\n",
              "    }\n",
              "    90% {\n",
              "      border-color: transparent;\n",
              "      border-bottom-color: var(--fill-color);\n",
              "    }\n",
              "  }\n",
              "</style>\n",
              "\n",
              "  <script>\n",
              "    async function quickchart(key) {\n",
              "      const quickchartButtonEl =\n",
              "        document.querySelector('#' + key + ' button');\n",
              "      quickchartButtonEl.disabled = true;  // To prevent multiple clicks.\n",
              "      quickchartButtonEl.classList.add('colab-df-spinner');\n",
              "      try {\n",
              "        const charts = await google.colab.kernel.invokeFunction(\n",
              "            'suggestCharts', [key], {});\n",
              "      } catch (error) {\n",
              "        console.error('Error during call to suggestCharts:', error);\n",
              "      }\n",
              "      quickchartButtonEl.classList.remove('colab-df-spinner');\n",
              "      quickchartButtonEl.classList.add('colab-df-quickchart-complete');\n",
              "    }\n",
              "    (() => {\n",
              "      let quickchartButtonEl =\n",
              "        document.querySelector('#df-f2591ee9-e830-440a-b0d2-3e331ca17eeb button');\n",
              "      quickchartButtonEl.style.display =\n",
              "        google.colab.kernel.accessAllowed ? 'block' : 'none';\n",
              "    })();\n",
              "  </script>\n",
              "</div>\n",
              "\n",
              "    </div>\n",
              "  </div>\n"
            ],
            "application/vnd.google.colaboratory.intrinsic+json": {
              "type": "dataframe",
              "summary": "{\n  \"name\": \"val_df[0:5]\",\n  \"rows\": 5,\n  \"fields\": [\n    {\n      \"column\": \"prompt\",\n      \"properties\": {\n        \"dtype\": \"string\",\n        \"num_unique_values\": 5,\n        \"samples\": [\n          \"My job is Office Administrator and it's freelancing. It locates at US, NY, New York Metro  and the salary range is negotiable Following is the introduction of my company: Replise was started in 2008, just a year after Twitter was launched, by a bunch of serial entrepreneurs who believed they could bridge the gap between technology and business. We focus on what we are , the job description: Come and join our award-winning firm! At Replise, we value our employees and reward them for excellence. We are currently looking for an Office Administrator to join our team in our future office (Loc, the requirements: The position of Office Administrator will require excellent organisational skills to handle the office management and administrative support for the Replise US office.Desired Skills and ExperienceQual, and the benefits: About RepliseAt Replise, we believe in social media. We draw business insights from social media using proven market research methodologies. We help our customers get the cutting edge intelligence they need to create their strategies and define their tactics.\\u00a0Replise was started in 2008, just a year after Twitter was launched, by a bunch of serial entrepreneurs who believed they could bridge the gap between technology and business. We focus on what we are best at: analysing social media and giving insights; so our customers can focus on what they are best at: their core business. The expertise of our research team, the flexibility of our social analytics platform and the breadth and depth of our data empower our customers.\\u00a0They can develop better products because we help them understand the needs and wants of their target audiences. They can keep ahead of their competitors and keep up with their industry\\u2019s cutting edge because we help them see what\\u2019s in the big picture and what is not. This is why we work with brands like Nike, Samsung and Nestle, and many communication agencies across Europe. Now, we are extending our business operations in the US and Canada, so we\\u2019re recruiting a complete team of social media pros.\",\n          \"My job is Designer: Internship and it's freelancing. It locates at US, CA, san francisco and the salary range is negotiable Following is the introduction of my company: Balanced Labs exists to provide accountants and small businesses everywhere with a better life through intelligent and elegant tools., the job description: Balanced Labs exists to provide accountants and small businesses everywhere with a better life through intelligent and elegant tools.\\u00a0We're looking for designers to help develop the aesthetic and foun, the requirements: Internship. A current portfolio and a desire to build a beautiful and simple product., and the benefits: negotiable\",\n          \"My job is Senior Front End Engineer and it's Engineering. It locates at GR, I, Athens and the salary range is negotiable Following is the introduction of my company: #URL_e837e935106c9b32dff718b3aff43001785693e48a3ebed31444faf85ee2da31# (\\u201cPPH\\u201d) is a global online services marketplace that allows businesses to get their job done fast and reliably. \\u00a0We have a fast-g, the job description: Company Description#URL_73fd5344bc7619454b016d7d6652f589abd4c13ff8ccdb7a62dec766ecefe0f9# is a\\u00a0one-stop virtual\\u00a0community\\u00a0where\\u00a0freelancers and small businesses can connect.\\u00a0 With a vibrant community , the requirements: Desired Skills / ExperienceSolid experience with front end code on web-based apps/systems.Extensive experience in some mvc js frameworks (angular, backbone, ext js, agility etc...).Extensive experienc, and the benefits: We offer a very competitive package, depending on level of experience and the value we believe you can add to the business. You will have the opportunity to work in a motivating and multicultural environment as well as on a global scale project.\"\n        ],\n        \"semantic_type\": \"\",\n        \"description\": \"\"\n      }\n    },\n    {\n      \"column\": \"related_to_job\",\n      \"properties\": {\n        \"dtype\": \"number\",\n        \"std\": 0,\n        \"min\": 1,\n        \"max\": 1,\n        \"num_unique_values\": 1,\n        \"samples\": [\n          1\n        ],\n        \"semantic_type\": \"\",\n        \"description\": \"\"\n      }\n    }\n  ]\n}"
            }
          },
          "metadata": {},
          "execution_count": 34
        }
      ]
    },
    {
      "cell_type": "code",
      "source": [
        "# encapsulate pandas dataframe with tokenizer and dataset\n",
        "train_dataset = CustomDataSet(train_df, tokenizer, MAX_LEN)\n",
        "valid_dataset = CustomDataSet(val_df, tokenizer, MAX_LEN)"
      ],
      "metadata": {
        "id": "l4qC2CReDnC5"
      },
      "execution_count": 35,
      "outputs": []
    },
    {
      "cell_type": "code",
      "source": [
        "valid_dataset[1]['targets']"
      ],
      "metadata": {
        "colab": {
          "base_uri": "https://localhost:8080/"
        },
        "id": "GPbi1n8limGc",
        "outputId": "7e636d3f-681e-4651-cb31-2bcecfff7aef"
      },
      "execution_count": 36,
      "outputs": [
        {
          "output_type": "execute_result",
          "data": {
            "text/plain": [
              "tensor([1.])"
            ]
          },
          "metadata": {},
          "execution_count": 36
        }
      ]
    },
    {
      "cell_type": "code",
      "source": [
        "#dataset -> each row\n",
        "def print_sample_shapes(dataset, num_samples=5):\n",
        "    for i in range(num_samples):\n",
        "        sample = dataset[i]\n",
        "        print(f\"Sample {i}:\")\n",
        "        print(f\"  input_ids shape: {sample['input_ids'].shape}\")\n",
        "        print(f\"  token_type_ids shape: {sample['token_type_ids'].shape}\")\n",
        "        print(f\"  attention_mask shape: {sample['attention_mask'].shape}\")\n",
        "        print(f\"  targets shape: {sample['targets'].shape}\")\n",
        "        print(sample['targets'])\n",
        "        print(\"---------------\")\n",
        "\n",
        "# Print shapes for a few samples from the training dataset\n",
        "print(\"Training Dataset Sample Shapes:\")\n",
        "print_sample_shapes(train_dataset)\n",
        "\n",
        "# Print shapes for a few samples from the validation dataset\n",
        "print(\"Validation Dataset Sample Shapes:\")\n",
        "print_sample_shapes(valid_dataset)"
      ],
      "metadata": {
        "colab": {
          "base_uri": "https://localhost:8080/"
        },
        "id": "HjudgF43dU-C",
        "outputId": "bf3c2e19-4531-418e-a2f0-40f7e537555b"
      },
      "execution_count": 37,
      "outputs": [
        {
          "output_type": "stream",
          "name": "stdout",
          "text": [
            "Training Dataset Sample Shapes:\n",
            "Sample 0:\n",
            "  input_ids shape: torch.Size([256])\n",
            "  token_type_ids shape: torch.Size([256])\n",
            "  attention_mask shape: torch.Size([256])\n",
            "  targets shape: torch.Size([1])\n",
            "tensor([1.])\n",
            "---------------\n",
            "Sample 1:\n",
            "  input_ids shape: torch.Size([256])\n",
            "  token_type_ids shape: torch.Size([256])\n",
            "  attention_mask shape: torch.Size([256])\n",
            "  targets shape: torch.Size([1])\n",
            "tensor([0.])\n",
            "---------------\n",
            "Sample 2:\n",
            "  input_ids shape: torch.Size([256])\n",
            "  token_type_ids shape: torch.Size([256])\n",
            "  attention_mask shape: torch.Size([256])\n",
            "  targets shape: torch.Size([1])\n",
            "tensor([0.])\n",
            "---------------\n",
            "Sample 3:\n",
            "  input_ids shape: torch.Size([256])\n",
            "  token_type_ids shape: torch.Size([256])\n",
            "  attention_mask shape: torch.Size([256])\n",
            "  targets shape: torch.Size([1])\n",
            "tensor([1.])\n",
            "---------------\n",
            "Sample 4:\n",
            "  input_ids shape: torch.Size([256])\n",
            "  token_type_ids shape: torch.Size([256])\n",
            "  attention_mask shape: torch.Size([256])\n",
            "  targets shape: torch.Size([1])\n",
            "tensor([1.])\n",
            "---------------\n",
            "Validation Dataset Sample Shapes:\n",
            "Sample 0:\n",
            "  input_ids shape: torch.Size([256])\n",
            "  token_type_ids shape: torch.Size([256])\n",
            "  attention_mask shape: torch.Size([256])\n",
            "  targets shape: torch.Size([1])\n",
            "tensor([1.])\n",
            "---------------\n",
            "Sample 1:\n",
            "  input_ids shape: torch.Size([256])\n",
            "  token_type_ids shape: torch.Size([256])\n",
            "  attention_mask shape: torch.Size([256])\n",
            "  targets shape: torch.Size([1])\n",
            "tensor([1.])\n",
            "---------------\n",
            "Sample 2:\n",
            "  input_ids shape: torch.Size([256])\n",
            "  token_type_ids shape: torch.Size([256])\n",
            "  attention_mask shape: torch.Size([256])\n",
            "  targets shape: torch.Size([1])\n",
            "tensor([1.])\n",
            "---------------\n",
            "Sample 3:\n",
            "  input_ids shape: torch.Size([256])\n",
            "  token_type_ids shape: torch.Size([256])\n",
            "  attention_mask shape: torch.Size([256])\n",
            "  targets shape: torch.Size([1])\n",
            "tensor([1.])\n",
            "---------------\n",
            "Sample 4:\n",
            "  input_ids shape: torch.Size([256])\n",
            "  token_type_ids shape: torch.Size([256])\n",
            "  attention_mask shape: torch.Size([256])\n",
            "  targets shape: torch.Size([1])\n",
            "tensor([1.])\n",
            "---------------\n"
          ]
        }
      ]
    },
    {
      "cell_type": "code",
      "source": [
        "# Dataloader\n",
        "train_dataloader = torch.utils.data.DataLoader(\n",
        "    train_dataset,\n",
        "    batch_size=TRAIN_BATCH_SIZE,\n",
        "    shuffle=True,\n",
        "    num_workers=0\n",
        ")\n",
        "\n",
        "val_dataloader = torch.utils.data.DataLoader(\n",
        "    valid_dataset,\n",
        "    batch_size=TRAIN_BATCH_SIZE,\n",
        "    shuffle=True,\n",
        "    num_workers=0\n",
        ")"
      ],
      "metadata": {
        "id": "R1NGt0o6DuAk"
      },
      "execution_count": 38,
      "outputs": []
    },
    {
      "cell_type": "code",
      "source": [
        "device = torch.device('cuda') if torch.cuda.is_available() else torch.device('cpu')\n",
        "device"
      ],
      "metadata": {
        "colab": {
          "base_uri": "https://localhost:8080/"
        },
        "id": "cvAtfNY_FKTX",
        "outputId": "8dd1f2cb-8985-4cd5-d3c7-8cc2636b0737"
      },
      "execution_count": 39,
      "outputs": [
        {
          "output_type": "execute_result",
          "data": {
            "text/plain": [
              "device(type='cuda')"
            ]
          },
          "metadata": {},
          "execution_count": 39
        }
      ]
    },
    {
      "cell_type": "code",
      "source": [
        "def load_ckp(checkpoint_fpath, model, optimizer):\n",
        "    \"\"\"\n",
        "    checkpoint_path: path to save checkpoint\n",
        "    model: model that we want to load checkpoint parameters into\n",
        "    optimizer: optimizer we defined in previous training\n",
        "    \"\"\"\n",
        "    # load check point\n",
        "    checkpoint = torch.load(checkpoint_fpath)\n",
        "    # initialize state_dict from checkpoint to model\n",
        "    model.load_state_dict(checkpoint['state_dict'])\n",
        "    # initialize optimizer from checkpoint to optimizer\n",
        "    optimizer.load_state_dict(checkpoint['optimizer'])\n",
        "    # initialize valid_loss_min from checkpoint to valid_loss_min\n",
        "    valid_loss_min = checkpoint['valid_loss_min']\n",
        "    # return model, optimizer, epoch value, min validation loss\n",
        "    return model, optimizer, checkpoint['epoch'], valid_loss_min.item()\n",
        "\n",
        "def save_ckp(state, is_best, checkpoint_path, best_model_path):\n",
        "    \"\"\"\n",
        "    state: checkpoint we want to save\n",
        "    is_best: is this the best checkpoint; min validation loss\n",
        "    checkpoint_path: path to save checkpoint\n",
        "    best_model_path: path to save best model\n",
        "    \"\"\"\n",
        "    f_path = checkpoint_path\n",
        "    # save checkpoint data to the path given, checkpoint_path\n",
        "    torch.save(state, f_path)\n",
        "    # if it is a best model, min validation loss\n",
        "    if is_best:\n",
        "        best_fpath = best_model_path\n",
        "        # copy that checkpoint file to best path given, best_model_path\n",
        "        shutil.copyfile(f_path, best_fpath)"
      ],
      "metadata": {
        "id": "3oIB9BckFPw3"
      },
      "execution_count": 40,
      "outputs": []
    },
    {
      "cell_type": "code",
      "source": [
        "# building model\n",
        "class BERTclass(nn.Module):\n",
        "    def __init__(self):\n",
        "        super(BERTclass, self).__init__()\n",
        "        self.bert_model = BertModel.from_pretrained('bert-base-uncased', return_dict=True)\n",
        "        self.dropout = nn.Dropout(0.3)\n",
        "        self.linear = nn.Linear(768, 1)\n",
        "\n",
        "    def forward(self, input_ids, attn_mask, token_type_ids):\n",
        "        x = self.bert_model(\n",
        "            input_ids,\n",
        "            attention_mask=attn_mask,\n",
        "            token_type_ids=token_type_ids\n",
        "        )\n",
        "        x = self.dropout(x[0][:, 0, :]) #CLS token\n",
        "        x = self.linear(x)\n",
        "        return x\n",
        "\n",
        "model = BERTclass()\n",
        "model.to(device)"
      ],
      "metadata": {
        "colab": {
          "base_uri": "https://localhost:8080/"
        },
        "id": "VLWIOn1iG8qS",
        "outputId": "c7bd27cd-d518-4487-b77f-f529382508de"
      },
      "execution_count": 47,
      "outputs": [
        {
          "output_type": "execute_result",
          "data": {
            "text/plain": [
              "BERTclass(\n",
              "  (bert_model): BertModel(\n",
              "    (embeddings): BertEmbeddings(\n",
              "      (word_embeddings): Embedding(30522, 768, padding_idx=0)\n",
              "      (position_embeddings): Embedding(512, 768)\n",
              "      (token_type_embeddings): Embedding(2, 768)\n",
              "      (LayerNorm): LayerNorm((768,), eps=1e-12, elementwise_affine=True)\n",
              "      (dropout): Dropout(p=0.1, inplace=False)\n",
              "    )\n",
              "    (encoder): BertEncoder(\n",
              "      (layer): ModuleList(\n",
              "        (0-11): 12 x BertLayer(\n",
              "          (attention): BertAttention(\n",
              "            (self): BertSelfAttention(\n",
              "              (query): Linear(in_features=768, out_features=768, bias=True)\n",
              "              (key): Linear(in_features=768, out_features=768, bias=True)\n",
              "              (value): Linear(in_features=768, out_features=768, bias=True)\n",
              "              (dropout): Dropout(p=0.1, inplace=False)\n",
              "            )\n",
              "            (output): BertSelfOutput(\n",
              "              (dense): Linear(in_features=768, out_features=768, bias=True)\n",
              "              (LayerNorm): LayerNorm((768,), eps=1e-12, elementwise_affine=True)\n",
              "              (dropout): Dropout(p=0.1, inplace=False)\n",
              "            )\n",
              "          )\n",
              "          (intermediate): BertIntermediate(\n",
              "            (dense): Linear(in_features=768, out_features=3072, bias=True)\n",
              "            (intermediate_act_fn): GELUActivation()\n",
              "          )\n",
              "          (output): BertOutput(\n",
              "            (dense): Linear(in_features=3072, out_features=768, bias=True)\n",
              "            (LayerNorm): LayerNorm((768,), eps=1e-12, elementwise_affine=True)\n",
              "            (dropout): Dropout(p=0.1, inplace=False)\n",
              "          )\n",
              "        )\n",
              "      )\n",
              "    )\n",
              "    (pooler): BertPooler(\n",
              "      (dense): Linear(in_features=768, out_features=768, bias=True)\n",
              "      (activation): Tanh()\n",
              "    )\n",
              "  )\n",
              "  (dropout): Dropout(p=0.3, inplace=False)\n",
              "  (linear): Linear(in_features=768, out_features=1, bias=True)\n",
              ")"
            ]
          },
          "metadata": {},
          "execution_count": 47
        }
      ]
    },
    {
      "cell_type": "code",
      "source": [
        "#loss function\n",
        "def loss_fn(outputs, targets):\n",
        "    return torch.nn.BCEWithLogitsLoss()(outputs, targets) # pass (outputs, targets) as argument and combining sigmoid function.\n",
        "# optimizer\n",
        "optimizer = torch.optim.Adam(params=model.parameters(), lr=LEARNING_RATE)"
      ],
      "metadata": {
        "id": "NM4WCljIKIzP"
      },
      "execution_count": 48,
      "outputs": []
    },
    {
      "cell_type": "code",
      "source": [
        "val_targets=[]\n",
        "val_outputs=[]"
      ],
      "metadata": {
        "id": "lpK3mRXDMLpl"
      },
      "execution_count": 49,
      "outputs": []
    },
    {
      "cell_type": "code",
      "source": [
        "def train_model(n_epochs, training_loader, validation_loader, model,\n",
        "                optimizer, checkpoint_path, best_model_path):\n",
        "    # initialize tracker for minimum validation loss\n",
        "    valid_loss_min = np.Inf\n",
        "\n",
        "    for epochs in range(1, n_epochs+1):\n",
        "        train_loss = 0\n",
        "        valid_loss = 0\n",
        "\n",
        "        model.train()\n",
        "        print('############# Epoch {}: Training Start   #############'.format(epochs))\n",
        "        for index, batch in enumerate(training_loader):\n",
        "            input_ids = batch['input_ids'].to(device, dtype = torch.long) #to gpu and take integer\n",
        "            attention_mask = batch['attention_mask'].to(device, dtype = torch.long)\n",
        "            token_type_ids = batch['token_type_ids'].to(device, dtype = torch.long)\n",
        "            targets = batch['targets'].to(device, dtype = torch.float)\n",
        "            outputs = model(input_ids, attention_mask, token_type_ids)\n",
        "            loss = loss_fn(outputs, targets)\n",
        "            optimizer.zero_grad()\n",
        "            loss.backward()\n",
        "            optimizer.step()\n",
        "            train_loss = train_loss + ((1 / (index + 1)) * (loss.item() - train_loss))\n",
        "\n",
        "        print('############# Epoch {}: Training End     #############'.format(epochs))\n",
        "        print('############# Epoch {}: Validation Start   #############'.format(epochs))\n",
        "\n",
        "        model.eval()\n",
        "        with torch.no_grad():\n",
        "            for index, batch in enumerate(validation_loader):\n",
        "                input_ids = batch['input_ids'].to(device, dtype = torch.long) #to gpu and take integer\n",
        "                attention_mask = batch['attention_mask'].to(device, dtype = torch.long)\n",
        "                token_type_ids = batch['token_type_ids'].to(device, dtype = torch.long)\n",
        "                targets = batch['targets'].to(device, dtype = torch.float)\n",
        "                outputs = model(input_ids, attention_mask, token_type_ids)\n",
        "                loss = loss_fn(outputs, targets)\n",
        "                valid_loss = valid_loss  + ((1 / (index + 1)) * (loss.item() - valid_loss))\n",
        "\n",
        "            print('############# Epoch {}: Validation End     #############'.format(epochs))\n",
        "            # calculate average losses\n",
        "            train_loss = train_loss/len(training_loader)\n",
        "            valid_loss = valid_loss/len(validation_loader)\n",
        "            # print training/validation statistics\n",
        "            print('Epoch: {} \\tAvgerage Training Loss: {:.6f} \\tAverage Validation Loss: {:.6f}'.format(\n",
        "                    epochs,\n",
        "                    train_loss,\n",
        "                    valid_loss\n",
        "                    ))\n",
        "\n",
        "            checkpoint = {\n",
        "                    'epoch': epochs + 1,\n",
        "                    'valid_loss_min': valid_loss,\n",
        "                    'state_dict': model.state_dict(),\n",
        "                    'optimizer': optimizer.state_dict()\n",
        "            }\n",
        "\n",
        "            save_ckp(checkpoint, False, checkpoint_path, best_model_path)\n",
        "\n",
        "            ## TODO: save the model if validation loss has decreased\n",
        "            if valid_loss <= valid_loss_min:\n",
        "                print('Validation loss decreased ({:.6f} --> {:.6f}).  Saving model ...'.format(valid_loss_min,valid_loss))\n",
        "                # save checkpoint as best model\n",
        "                save_ckp(checkpoint, True, checkpoint_path, best_model_path)\n",
        "                valid_loss_min = valid_loss\n",
        "        print('############# Epoch {}  Done   #############\\n'.format(epochs))\n",
        "    return model\n"
      ],
      "metadata": {
        "id": "FIk40Z4BMNkG"
      },
      "execution_count": 53,
      "outputs": []
    },
    {
      "cell_type": "code",
      "source": [
        "ckpt_path = \"/content/curr_ckpt\"\n",
        "best_model_path = \"/content/best_model.pt\""
      ],
      "metadata": {
        "id": "5s3hzAiOVnO9"
      },
      "execution_count": 51,
      "outputs": []
    },
    {
      "cell_type": "code",
      "source": [
        "trained_model = train_model(EPOCHS, train_dataloader, val_dataloader, model, optimizer, ckpt_path, best_model_path)"
      ],
      "metadata": {
        "colab": {
          "base_uri": "https://localhost:8080/"
        },
        "id": "zEspRRgmVzee",
        "outputId": "dfc9bed5-e0f9-4e8e-c753-aee723ef0f54"
      },
      "execution_count": 54,
      "outputs": [
        {
          "output_type": "stream",
          "name": "stdout",
          "text": [
            "############# Epoch 1: Training Start   #############\n",
            "############# Epoch 1: Training End     #############\n",
            "############# Epoch 1: Validation Start   #############\n",
            "############# Epoch 1: Validation End     #############\n",
            "Epoch: 1 \tAvgerage Training Loss: 0.000000 \tAverage Validation Loss: 0.000000\n",
            "Validation loss decreased (inf --> 0.000000).  Saving model ...\n",
            "############# Epoch 1  Done   #############\n",
            "\n",
            "############# Epoch 2: Training Start   #############\n",
            "############# Epoch 2: Training End     #############\n",
            "############# Epoch 2: Validation Start   #############\n",
            "############# Epoch 2: Validation End     #############\n",
            "Epoch: 2 \tAvgerage Training Loss: 0.000000 \tAverage Validation Loss: 0.000000\n",
            "Validation loss decreased (0.000000 --> 0.000000).  Saving model ...\n",
            "############# Epoch 2  Done   #############\n",
            "\n"
          ]
        }
      ]
    },
    {
      "cell_type": "code",
      "source": [
        "#save the model\n",
        "torch.save(trained_model.state_dict(), '/content/model_state_dict.pth')"
      ],
      "metadata": {
        "id": "bSMlUGbTqXpQ"
      },
      "execution_count": null,
      "outputs": []
    },
    {
      "cell_type": "code",
      "source": [
        "# Recreate the model structure\n",
        "model = BERTclass()  # Make sure this is the same structure as the saved model\n",
        "\n",
        "# Load the state dictionary\n",
        "model.load_state_dict(torch.load('/content/model_state_dict.pth'))\n",
        "\n",
        "# If you're loading the model for inference only\n",
        "model.eval()"
      ],
      "metadata": {
        "id": "nbJUV7erqWQm"
      },
      "execution_count": null,
      "outputs": []
    }
  ]
}