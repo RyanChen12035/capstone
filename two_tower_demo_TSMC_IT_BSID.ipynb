{
  "nbformat": 4,
  "nbformat_minor": 0,
  "metadata": {
    "colab": {
      "provenance": [],
      "gpuType": "T4",
      "include_colab_link": true
    },
    "kernelspec": {
      "name": "python3",
      "display_name": "Python 3"
    },
    "language_info": {
      "name": "python"
    },
    "widgets": {
      "application/vnd.jupyter.widget-state+json": {
        "7b051ee21cc24ed48d90ea5246c9cdf9": {
          "model_module": "@jupyter-widgets/controls",
          "model_name": "HBoxModel",
          "model_module_version": "1.5.0",
          "state": {
            "_dom_classes": [],
            "_model_module": "@jupyter-widgets/controls",
            "_model_module_version": "1.5.0",
            "_model_name": "HBoxModel",
            "_view_count": null,
            "_view_module": "@jupyter-widgets/controls",
            "_view_module_version": "1.5.0",
            "_view_name": "HBoxView",
            "box_style": "",
            "children": [
              "IPY_MODEL_d3c9876a6c3e44f3b5527aba0ec41c04",
              "IPY_MODEL_eff842f7a62248bcb1491f321758bdbe",
              "IPY_MODEL_f5d50e532d7944cf80adaff95f6608fd"
            ],
            "layout": "IPY_MODEL_8b46d9e12dfd482cb03ee0e49f124e04"
          }
        },
        "d3c9876a6c3e44f3b5527aba0ec41c04": {
          "model_module": "@jupyter-widgets/controls",
          "model_name": "HTMLModel",
          "model_module_version": "1.5.0",
          "state": {
            "_dom_classes": [],
            "_model_module": "@jupyter-widgets/controls",
            "_model_module_version": "1.5.0",
            "_model_name": "HTMLModel",
            "_view_count": null,
            "_view_module": "@jupyter-widgets/controls",
            "_view_module_version": "1.5.0",
            "_view_name": "HTMLView",
            "description": "",
            "description_tooltip": null,
            "layout": "IPY_MODEL_6eac1ffdb6ee472eb03c0a252771393c",
            "placeholder": "​",
            "style": "IPY_MODEL_23f4a89e95d74bf09bd98bb15a3f5f74",
            "value": "tokenizer_config.json: 100%"
          }
        },
        "eff842f7a62248bcb1491f321758bdbe": {
          "model_module": "@jupyter-widgets/controls",
          "model_name": "FloatProgressModel",
          "model_module_version": "1.5.0",
          "state": {
            "_dom_classes": [],
            "_model_module": "@jupyter-widgets/controls",
            "_model_module_version": "1.5.0",
            "_model_name": "FloatProgressModel",
            "_view_count": null,
            "_view_module": "@jupyter-widgets/controls",
            "_view_module_version": "1.5.0",
            "_view_name": "ProgressView",
            "bar_style": "success",
            "description": "",
            "description_tooltip": null,
            "layout": "IPY_MODEL_6387f8167f21410e8dbbc3948f64b1b4",
            "max": 49,
            "min": 0,
            "orientation": "horizontal",
            "style": "IPY_MODEL_41ad1b0f7f7a473b941b587380ae7f7a",
            "value": 49
          }
        },
        "f5d50e532d7944cf80adaff95f6608fd": {
          "model_module": "@jupyter-widgets/controls",
          "model_name": "HTMLModel",
          "model_module_version": "1.5.0",
          "state": {
            "_dom_classes": [],
            "_model_module": "@jupyter-widgets/controls",
            "_model_module_version": "1.5.0",
            "_model_name": "HTMLModel",
            "_view_count": null,
            "_view_module": "@jupyter-widgets/controls",
            "_view_module_version": "1.5.0",
            "_view_name": "HTMLView",
            "description": "",
            "description_tooltip": null,
            "layout": "IPY_MODEL_0a220e8d38f344d68567e65e0473607e",
            "placeholder": "​",
            "style": "IPY_MODEL_083c77c6ea22413c85794ed668ef8241",
            "value": " 49.0/49.0 [00:00&lt;00:00, 3.33kB/s]"
          }
        },
        "8b46d9e12dfd482cb03ee0e49f124e04": {
          "model_module": "@jupyter-widgets/base",
          "model_name": "LayoutModel",
          "model_module_version": "1.2.0",
          "state": {
            "_model_module": "@jupyter-widgets/base",
            "_model_module_version": "1.2.0",
            "_model_name": "LayoutModel",
            "_view_count": null,
            "_view_module": "@jupyter-widgets/base",
            "_view_module_version": "1.2.0",
            "_view_name": "LayoutView",
            "align_content": null,
            "align_items": null,
            "align_self": null,
            "border": null,
            "bottom": null,
            "display": null,
            "flex": null,
            "flex_flow": null,
            "grid_area": null,
            "grid_auto_columns": null,
            "grid_auto_flow": null,
            "grid_auto_rows": null,
            "grid_column": null,
            "grid_gap": null,
            "grid_row": null,
            "grid_template_areas": null,
            "grid_template_columns": null,
            "grid_template_rows": null,
            "height": null,
            "justify_content": null,
            "justify_items": null,
            "left": null,
            "margin": null,
            "max_height": null,
            "max_width": null,
            "min_height": null,
            "min_width": null,
            "object_fit": null,
            "object_position": null,
            "order": null,
            "overflow": null,
            "overflow_x": null,
            "overflow_y": null,
            "padding": null,
            "right": null,
            "top": null,
            "visibility": null,
            "width": null
          }
        },
        "6eac1ffdb6ee472eb03c0a252771393c": {
          "model_module": "@jupyter-widgets/base",
          "model_name": "LayoutModel",
          "model_module_version": "1.2.0",
          "state": {
            "_model_module": "@jupyter-widgets/base",
            "_model_module_version": "1.2.0",
            "_model_name": "LayoutModel",
            "_view_count": null,
            "_view_module": "@jupyter-widgets/base",
            "_view_module_version": "1.2.0",
            "_view_name": "LayoutView",
            "align_content": null,
            "align_items": null,
            "align_self": null,
            "border": null,
            "bottom": null,
            "display": null,
            "flex": null,
            "flex_flow": null,
            "grid_area": null,
            "grid_auto_columns": null,
            "grid_auto_flow": null,
            "grid_auto_rows": null,
            "grid_column": null,
            "grid_gap": null,
            "grid_row": null,
            "grid_template_areas": null,
            "grid_template_columns": null,
            "grid_template_rows": null,
            "height": null,
            "justify_content": null,
            "justify_items": null,
            "left": null,
            "margin": null,
            "max_height": null,
            "max_width": null,
            "min_height": null,
            "min_width": null,
            "object_fit": null,
            "object_position": null,
            "order": null,
            "overflow": null,
            "overflow_x": null,
            "overflow_y": null,
            "padding": null,
            "right": null,
            "top": null,
            "visibility": null,
            "width": null
          }
        },
        "23f4a89e95d74bf09bd98bb15a3f5f74": {
          "model_module": "@jupyter-widgets/controls",
          "model_name": "DescriptionStyleModel",
          "model_module_version": "1.5.0",
          "state": {
            "_model_module": "@jupyter-widgets/controls",
            "_model_module_version": "1.5.0",
            "_model_name": "DescriptionStyleModel",
            "_view_count": null,
            "_view_module": "@jupyter-widgets/base",
            "_view_module_version": "1.2.0",
            "_view_name": "StyleView",
            "description_width": ""
          }
        },
        "6387f8167f21410e8dbbc3948f64b1b4": {
          "model_module": "@jupyter-widgets/base",
          "model_name": "LayoutModel",
          "model_module_version": "1.2.0",
          "state": {
            "_model_module": "@jupyter-widgets/base",
            "_model_module_version": "1.2.0",
            "_model_name": "LayoutModel",
            "_view_count": null,
            "_view_module": "@jupyter-widgets/base",
            "_view_module_version": "1.2.0",
            "_view_name": "LayoutView",
            "align_content": null,
            "align_items": null,
            "align_self": null,
            "border": null,
            "bottom": null,
            "display": null,
            "flex": null,
            "flex_flow": null,
            "grid_area": null,
            "grid_auto_columns": null,
            "grid_auto_flow": null,
            "grid_auto_rows": null,
            "grid_column": null,
            "grid_gap": null,
            "grid_row": null,
            "grid_template_areas": null,
            "grid_template_columns": null,
            "grid_template_rows": null,
            "height": null,
            "justify_content": null,
            "justify_items": null,
            "left": null,
            "margin": null,
            "max_height": null,
            "max_width": null,
            "min_height": null,
            "min_width": null,
            "object_fit": null,
            "object_position": null,
            "order": null,
            "overflow": null,
            "overflow_x": null,
            "overflow_y": null,
            "padding": null,
            "right": null,
            "top": null,
            "visibility": null,
            "width": null
          }
        },
        "41ad1b0f7f7a473b941b587380ae7f7a": {
          "model_module": "@jupyter-widgets/controls",
          "model_name": "ProgressStyleModel",
          "model_module_version": "1.5.0",
          "state": {
            "_model_module": "@jupyter-widgets/controls",
            "_model_module_version": "1.5.0",
            "_model_name": "ProgressStyleModel",
            "_view_count": null,
            "_view_module": "@jupyter-widgets/base",
            "_view_module_version": "1.2.0",
            "_view_name": "StyleView",
            "bar_color": null,
            "description_width": ""
          }
        },
        "0a220e8d38f344d68567e65e0473607e": {
          "model_module": "@jupyter-widgets/base",
          "model_name": "LayoutModel",
          "model_module_version": "1.2.0",
          "state": {
            "_model_module": "@jupyter-widgets/base",
            "_model_module_version": "1.2.0",
            "_model_name": "LayoutModel",
            "_view_count": null,
            "_view_module": "@jupyter-widgets/base",
            "_view_module_version": "1.2.0",
            "_view_name": "LayoutView",
            "align_content": null,
            "align_items": null,
            "align_self": null,
            "border": null,
            "bottom": null,
            "display": null,
            "flex": null,
            "flex_flow": null,
            "grid_area": null,
            "grid_auto_columns": null,
            "grid_auto_flow": null,
            "grid_auto_rows": null,
            "grid_column": null,
            "grid_gap": null,
            "grid_row": null,
            "grid_template_areas": null,
            "grid_template_columns": null,
            "grid_template_rows": null,
            "height": null,
            "justify_content": null,
            "justify_items": null,
            "left": null,
            "margin": null,
            "max_height": null,
            "max_width": null,
            "min_height": null,
            "min_width": null,
            "object_fit": null,
            "object_position": null,
            "order": null,
            "overflow": null,
            "overflow_x": null,
            "overflow_y": null,
            "padding": null,
            "right": null,
            "top": null,
            "visibility": null,
            "width": null
          }
        },
        "083c77c6ea22413c85794ed668ef8241": {
          "model_module": "@jupyter-widgets/controls",
          "model_name": "DescriptionStyleModel",
          "model_module_version": "1.5.0",
          "state": {
            "_model_module": "@jupyter-widgets/controls",
            "_model_module_version": "1.5.0",
            "_model_name": "DescriptionStyleModel",
            "_view_count": null,
            "_view_module": "@jupyter-widgets/base",
            "_view_module_version": "1.2.0",
            "_view_name": "StyleView",
            "description_width": ""
          }
        },
        "9ab043f1a35a489981c868eade111dfc": {
          "model_module": "@jupyter-widgets/controls",
          "model_name": "HBoxModel",
          "model_module_version": "1.5.0",
          "state": {
            "_dom_classes": [],
            "_model_module": "@jupyter-widgets/controls",
            "_model_module_version": "1.5.0",
            "_model_name": "HBoxModel",
            "_view_count": null,
            "_view_module": "@jupyter-widgets/controls",
            "_view_module_version": "1.5.0",
            "_view_name": "HBoxView",
            "box_style": "",
            "children": [
              "IPY_MODEL_90b3b0ff335c484782ec8a4a737298e6",
              "IPY_MODEL_e585e5b6283948c9a7c5102327fccceb",
              "IPY_MODEL_0205aa935e134c2295acb4fc51f4a76d"
            ],
            "layout": "IPY_MODEL_3738b355185648a0a0ba7fb6e9abfe13"
          }
        },
        "90b3b0ff335c484782ec8a4a737298e6": {
          "model_module": "@jupyter-widgets/controls",
          "model_name": "HTMLModel",
          "model_module_version": "1.5.0",
          "state": {
            "_dom_classes": [],
            "_model_module": "@jupyter-widgets/controls",
            "_model_module_version": "1.5.0",
            "_model_name": "HTMLModel",
            "_view_count": null,
            "_view_module": "@jupyter-widgets/controls",
            "_view_module_version": "1.5.0",
            "_view_name": "HTMLView",
            "description": "",
            "description_tooltip": null,
            "layout": "IPY_MODEL_f76dbd92d00c49c1813b7dba95e36845",
            "placeholder": "​",
            "style": "IPY_MODEL_43350616d54245788e2ff3fd09f63ac0",
            "value": "vocab.txt: 100%"
          }
        },
        "e585e5b6283948c9a7c5102327fccceb": {
          "model_module": "@jupyter-widgets/controls",
          "model_name": "FloatProgressModel",
          "model_module_version": "1.5.0",
          "state": {
            "_dom_classes": [],
            "_model_module": "@jupyter-widgets/controls",
            "_model_module_version": "1.5.0",
            "_model_name": "FloatProgressModel",
            "_view_count": null,
            "_view_module": "@jupyter-widgets/controls",
            "_view_module_version": "1.5.0",
            "_view_name": "ProgressView",
            "bar_style": "success",
            "description": "",
            "description_tooltip": null,
            "layout": "IPY_MODEL_0b143e69f44a4244a47c66d996ad47ec",
            "max": 213450,
            "min": 0,
            "orientation": "horizontal",
            "style": "IPY_MODEL_bf24e04ace28440384f6428c54b8236d",
            "value": 213450
          }
        },
        "0205aa935e134c2295acb4fc51f4a76d": {
          "model_module": "@jupyter-widgets/controls",
          "model_name": "HTMLModel",
          "model_module_version": "1.5.0",
          "state": {
            "_dom_classes": [],
            "_model_module": "@jupyter-widgets/controls",
            "_model_module_version": "1.5.0",
            "_model_name": "HTMLModel",
            "_view_count": null,
            "_view_module": "@jupyter-widgets/controls",
            "_view_module_version": "1.5.0",
            "_view_name": "HTMLView",
            "description": "",
            "description_tooltip": null,
            "layout": "IPY_MODEL_719288b285844d349e6d2a27f229381b",
            "placeholder": "​",
            "style": "IPY_MODEL_3001cffd63ed44f0a3d27c22dd7e5318",
            "value": " 213k/213k [00:00&lt;00:00, 2.71MB/s]"
          }
        },
        "3738b355185648a0a0ba7fb6e9abfe13": {
          "model_module": "@jupyter-widgets/base",
          "model_name": "LayoutModel",
          "model_module_version": "1.2.0",
          "state": {
            "_model_module": "@jupyter-widgets/base",
            "_model_module_version": "1.2.0",
            "_model_name": "LayoutModel",
            "_view_count": null,
            "_view_module": "@jupyter-widgets/base",
            "_view_module_version": "1.2.0",
            "_view_name": "LayoutView",
            "align_content": null,
            "align_items": null,
            "align_self": null,
            "border": null,
            "bottom": null,
            "display": null,
            "flex": null,
            "flex_flow": null,
            "grid_area": null,
            "grid_auto_columns": null,
            "grid_auto_flow": null,
            "grid_auto_rows": null,
            "grid_column": null,
            "grid_gap": null,
            "grid_row": null,
            "grid_template_areas": null,
            "grid_template_columns": null,
            "grid_template_rows": null,
            "height": null,
            "justify_content": null,
            "justify_items": null,
            "left": null,
            "margin": null,
            "max_height": null,
            "max_width": null,
            "min_height": null,
            "min_width": null,
            "object_fit": null,
            "object_position": null,
            "order": null,
            "overflow": null,
            "overflow_x": null,
            "overflow_y": null,
            "padding": null,
            "right": null,
            "top": null,
            "visibility": null,
            "width": null
          }
        },
        "f76dbd92d00c49c1813b7dba95e36845": {
          "model_module": "@jupyter-widgets/base",
          "model_name": "LayoutModel",
          "model_module_version": "1.2.0",
          "state": {
            "_model_module": "@jupyter-widgets/base",
            "_model_module_version": "1.2.0",
            "_model_name": "LayoutModel",
            "_view_count": null,
            "_view_module": "@jupyter-widgets/base",
            "_view_module_version": "1.2.0",
            "_view_name": "LayoutView",
            "align_content": null,
            "align_items": null,
            "align_self": null,
            "border": null,
            "bottom": null,
            "display": null,
            "flex": null,
            "flex_flow": null,
            "grid_area": null,
            "grid_auto_columns": null,
            "grid_auto_flow": null,
            "grid_auto_rows": null,
            "grid_column": null,
            "grid_gap": null,
            "grid_row": null,
            "grid_template_areas": null,
            "grid_template_columns": null,
            "grid_template_rows": null,
            "height": null,
            "justify_content": null,
            "justify_items": null,
            "left": null,
            "margin": null,
            "max_height": null,
            "max_width": null,
            "min_height": null,
            "min_width": null,
            "object_fit": null,
            "object_position": null,
            "order": null,
            "overflow": null,
            "overflow_x": null,
            "overflow_y": null,
            "padding": null,
            "right": null,
            "top": null,
            "visibility": null,
            "width": null
          }
        },
        "43350616d54245788e2ff3fd09f63ac0": {
          "model_module": "@jupyter-widgets/controls",
          "model_name": "DescriptionStyleModel",
          "model_module_version": "1.5.0",
          "state": {
            "_model_module": "@jupyter-widgets/controls",
            "_model_module_version": "1.5.0",
            "_model_name": "DescriptionStyleModel",
            "_view_count": null,
            "_view_module": "@jupyter-widgets/base",
            "_view_module_version": "1.2.0",
            "_view_name": "StyleView",
            "description_width": ""
          }
        },
        "0b143e69f44a4244a47c66d996ad47ec": {
          "model_module": "@jupyter-widgets/base",
          "model_name": "LayoutModel",
          "model_module_version": "1.2.0",
          "state": {
            "_model_module": "@jupyter-widgets/base",
            "_model_module_version": "1.2.0",
            "_model_name": "LayoutModel",
            "_view_count": null,
            "_view_module": "@jupyter-widgets/base",
            "_view_module_version": "1.2.0",
            "_view_name": "LayoutView",
            "align_content": null,
            "align_items": null,
            "align_self": null,
            "border": null,
            "bottom": null,
            "display": null,
            "flex": null,
            "flex_flow": null,
            "grid_area": null,
            "grid_auto_columns": null,
            "grid_auto_flow": null,
            "grid_auto_rows": null,
            "grid_column": null,
            "grid_gap": null,
            "grid_row": null,
            "grid_template_areas": null,
            "grid_template_columns": null,
            "grid_template_rows": null,
            "height": null,
            "justify_content": null,
            "justify_items": null,
            "left": null,
            "margin": null,
            "max_height": null,
            "max_width": null,
            "min_height": null,
            "min_width": null,
            "object_fit": null,
            "object_position": null,
            "order": null,
            "overflow": null,
            "overflow_x": null,
            "overflow_y": null,
            "padding": null,
            "right": null,
            "top": null,
            "visibility": null,
            "width": null
          }
        },
        "bf24e04ace28440384f6428c54b8236d": {
          "model_module": "@jupyter-widgets/controls",
          "model_name": "ProgressStyleModel",
          "model_module_version": "1.5.0",
          "state": {
            "_model_module": "@jupyter-widgets/controls",
            "_model_module_version": "1.5.0",
            "_model_name": "ProgressStyleModel",
            "_view_count": null,
            "_view_module": "@jupyter-widgets/base",
            "_view_module_version": "1.2.0",
            "_view_name": "StyleView",
            "bar_color": null,
            "description_width": ""
          }
        },
        "719288b285844d349e6d2a27f229381b": {
          "model_module": "@jupyter-widgets/base",
          "model_name": "LayoutModel",
          "model_module_version": "1.2.0",
          "state": {
            "_model_module": "@jupyter-widgets/base",
            "_model_module_version": "1.2.0",
            "_model_name": "LayoutModel",
            "_view_count": null,
            "_view_module": "@jupyter-widgets/base",
            "_view_module_version": "1.2.0",
            "_view_name": "LayoutView",
            "align_content": null,
            "align_items": null,
            "align_self": null,
            "border": null,
            "bottom": null,
            "display": null,
            "flex": null,
            "flex_flow": null,
            "grid_area": null,
            "grid_auto_columns": null,
            "grid_auto_flow": null,
            "grid_auto_rows": null,
            "grid_column": null,
            "grid_gap": null,
            "grid_row": null,
            "grid_template_areas": null,
            "grid_template_columns": null,
            "grid_template_rows": null,
            "height": null,
            "justify_content": null,
            "justify_items": null,
            "left": null,
            "margin": null,
            "max_height": null,
            "max_width": null,
            "min_height": null,
            "min_width": null,
            "object_fit": null,
            "object_position": null,
            "order": null,
            "overflow": null,
            "overflow_x": null,
            "overflow_y": null,
            "padding": null,
            "right": null,
            "top": null,
            "visibility": null,
            "width": null
          }
        },
        "3001cffd63ed44f0a3d27c22dd7e5318": {
          "model_module": "@jupyter-widgets/controls",
          "model_name": "DescriptionStyleModel",
          "model_module_version": "1.5.0",
          "state": {
            "_model_module": "@jupyter-widgets/controls",
            "_model_module_version": "1.5.0",
            "_model_name": "DescriptionStyleModel",
            "_view_count": null,
            "_view_module": "@jupyter-widgets/base",
            "_view_module_version": "1.2.0",
            "_view_name": "StyleView",
            "description_width": ""
          }
        },
        "eb0fc762588d4eaeb9bcc3ef1b2a14fb": {
          "model_module": "@jupyter-widgets/controls",
          "model_name": "HBoxModel",
          "model_module_version": "1.5.0",
          "state": {
            "_dom_classes": [],
            "_model_module": "@jupyter-widgets/controls",
            "_model_module_version": "1.5.0",
            "_model_name": "HBoxModel",
            "_view_count": null,
            "_view_module": "@jupyter-widgets/controls",
            "_view_module_version": "1.5.0",
            "_view_name": "HBoxView",
            "box_style": "",
            "children": [
              "IPY_MODEL_ce36badc90ab4718a2388327006ef5b8",
              "IPY_MODEL_d4c897060e514386be4e45793bf6e3b5",
              "IPY_MODEL_d7c26b4a59394aab888e80519eaeb23a"
            ],
            "layout": "IPY_MODEL_f358e32e221b4b139a7a3ca1d04486b9"
          }
        },
        "ce36badc90ab4718a2388327006ef5b8": {
          "model_module": "@jupyter-widgets/controls",
          "model_name": "HTMLModel",
          "model_module_version": "1.5.0",
          "state": {
            "_dom_classes": [],
            "_model_module": "@jupyter-widgets/controls",
            "_model_module_version": "1.5.0",
            "_model_name": "HTMLModel",
            "_view_count": null,
            "_view_module": "@jupyter-widgets/controls",
            "_view_module_version": "1.5.0",
            "_view_name": "HTMLView",
            "description": "",
            "description_tooltip": null,
            "layout": "IPY_MODEL_3230cef49afd4df7a7e2b924cfa4dbca",
            "placeholder": "​",
            "style": "IPY_MODEL_e580942d47c74973b50b44cc31e4610f",
            "value": "tokenizer.json: 100%"
          }
        },
        "d4c897060e514386be4e45793bf6e3b5": {
          "model_module": "@jupyter-widgets/controls",
          "model_name": "FloatProgressModel",
          "model_module_version": "1.5.0",
          "state": {
            "_dom_classes": [],
            "_model_module": "@jupyter-widgets/controls",
            "_model_module_version": "1.5.0",
            "_model_name": "FloatProgressModel",
            "_view_count": null,
            "_view_module": "@jupyter-widgets/controls",
            "_view_module_version": "1.5.0",
            "_view_name": "ProgressView",
            "bar_style": "success",
            "description": "",
            "description_tooltip": null,
            "layout": "IPY_MODEL_2075586bcb0940a982121d5add8ac094",
            "max": 435797,
            "min": 0,
            "orientation": "horizontal",
            "style": "IPY_MODEL_f3c60e2341204e15b0f90b5acbea4cbe",
            "value": 435797
          }
        },
        "d7c26b4a59394aab888e80519eaeb23a": {
          "model_module": "@jupyter-widgets/controls",
          "model_name": "HTMLModel",
          "model_module_version": "1.5.0",
          "state": {
            "_dom_classes": [],
            "_model_module": "@jupyter-widgets/controls",
            "_model_module_version": "1.5.0",
            "_model_name": "HTMLModel",
            "_view_count": null,
            "_view_module": "@jupyter-widgets/controls",
            "_view_module_version": "1.5.0",
            "_view_name": "HTMLView",
            "description": "",
            "description_tooltip": null,
            "layout": "IPY_MODEL_7ecc4412cdab4395bb25157bf1dd1ff0",
            "placeholder": "​",
            "style": "IPY_MODEL_4dcdd06a18154fffb941d030ec6292de",
            "value": " 436k/436k [00:00&lt;00:00, 3.28MB/s]"
          }
        },
        "f358e32e221b4b139a7a3ca1d04486b9": {
          "model_module": "@jupyter-widgets/base",
          "model_name": "LayoutModel",
          "model_module_version": "1.2.0",
          "state": {
            "_model_module": "@jupyter-widgets/base",
            "_model_module_version": "1.2.0",
            "_model_name": "LayoutModel",
            "_view_count": null,
            "_view_module": "@jupyter-widgets/base",
            "_view_module_version": "1.2.0",
            "_view_name": "LayoutView",
            "align_content": null,
            "align_items": null,
            "align_self": null,
            "border": null,
            "bottom": null,
            "display": null,
            "flex": null,
            "flex_flow": null,
            "grid_area": null,
            "grid_auto_columns": null,
            "grid_auto_flow": null,
            "grid_auto_rows": null,
            "grid_column": null,
            "grid_gap": null,
            "grid_row": null,
            "grid_template_areas": null,
            "grid_template_columns": null,
            "grid_template_rows": null,
            "height": null,
            "justify_content": null,
            "justify_items": null,
            "left": null,
            "margin": null,
            "max_height": null,
            "max_width": null,
            "min_height": null,
            "min_width": null,
            "object_fit": null,
            "object_position": null,
            "order": null,
            "overflow": null,
            "overflow_x": null,
            "overflow_y": null,
            "padding": null,
            "right": null,
            "top": null,
            "visibility": null,
            "width": null
          }
        },
        "3230cef49afd4df7a7e2b924cfa4dbca": {
          "model_module": "@jupyter-widgets/base",
          "model_name": "LayoutModel",
          "model_module_version": "1.2.0",
          "state": {
            "_model_module": "@jupyter-widgets/base",
            "_model_module_version": "1.2.0",
            "_model_name": "LayoutModel",
            "_view_count": null,
            "_view_module": "@jupyter-widgets/base",
            "_view_module_version": "1.2.0",
            "_view_name": "LayoutView",
            "align_content": null,
            "align_items": null,
            "align_self": null,
            "border": null,
            "bottom": null,
            "display": null,
            "flex": null,
            "flex_flow": null,
            "grid_area": null,
            "grid_auto_columns": null,
            "grid_auto_flow": null,
            "grid_auto_rows": null,
            "grid_column": null,
            "grid_gap": null,
            "grid_row": null,
            "grid_template_areas": null,
            "grid_template_columns": null,
            "grid_template_rows": null,
            "height": null,
            "justify_content": null,
            "justify_items": null,
            "left": null,
            "margin": null,
            "max_height": null,
            "max_width": null,
            "min_height": null,
            "min_width": null,
            "object_fit": null,
            "object_position": null,
            "order": null,
            "overflow": null,
            "overflow_x": null,
            "overflow_y": null,
            "padding": null,
            "right": null,
            "top": null,
            "visibility": null,
            "width": null
          }
        },
        "e580942d47c74973b50b44cc31e4610f": {
          "model_module": "@jupyter-widgets/controls",
          "model_name": "DescriptionStyleModel",
          "model_module_version": "1.5.0",
          "state": {
            "_model_module": "@jupyter-widgets/controls",
            "_model_module_version": "1.5.0",
            "_model_name": "DescriptionStyleModel",
            "_view_count": null,
            "_view_module": "@jupyter-widgets/base",
            "_view_module_version": "1.2.0",
            "_view_name": "StyleView",
            "description_width": ""
          }
        },
        "2075586bcb0940a982121d5add8ac094": {
          "model_module": "@jupyter-widgets/base",
          "model_name": "LayoutModel",
          "model_module_version": "1.2.0",
          "state": {
            "_model_module": "@jupyter-widgets/base",
            "_model_module_version": "1.2.0",
            "_model_name": "LayoutModel",
            "_view_count": null,
            "_view_module": "@jupyter-widgets/base",
            "_view_module_version": "1.2.0",
            "_view_name": "LayoutView",
            "align_content": null,
            "align_items": null,
            "align_self": null,
            "border": null,
            "bottom": null,
            "display": null,
            "flex": null,
            "flex_flow": null,
            "grid_area": null,
            "grid_auto_columns": null,
            "grid_auto_flow": null,
            "grid_auto_rows": null,
            "grid_column": null,
            "grid_gap": null,
            "grid_row": null,
            "grid_template_areas": null,
            "grid_template_columns": null,
            "grid_template_rows": null,
            "height": null,
            "justify_content": null,
            "justify_items": null,
            "left": null,
            "margin": null,
            "max_height": null,
            "max_width": null,
            "min_height": null,
            "min_width": null,
            "object_fit": null,
            "object_position": null,
            "order": null,
            "overflow": null,
            "overflow_x": null,
            "overflow_y": null,
            "padding": null,
            "right": null,
            "top": null,
            "visibility": null,
            "width": null
          }
        },
        "f3c60e2341204e15b0f90b5acbea4cbe": {
          "model_module": "@jupyter-widgets/controls",
          "model_name": "ProgressStyleModel",
          "model_module_version": "1.5.0",
          "state": {
            "_model_module": "@jupyter-widgets/controls",
            "_model_module_version": "1.5.0",
            "_model_name": "ProgressStyleModel",
            "_view_count": null,
            "_view_module": "@jupyter-widgets/base",
            "_view_module_version": "1.2.0",
            "_view_name": "StyleView",
            "bar_color": null,
            "description_width": ""
          }
        },
        "7ecc4412cdab4395bb25157bf1dd1ff0": {
          "model_module": "@jupyter-widgets/base",
          "model_name": "LayoutModel",
          "model_module_version": "1.2.0",
          "state": {
            "_model_module": "@jupyter-widgets/base",
            "_model_module_version": "1.2.0",
            "_model_name": "LayoutModel",
            "_view_count": null,
            "_view_module": "@jupyter-widgets/base",
            "_view_module_version": "1.2.0",
            "_view_name": "LayoutView",
            "align_content": null,
            "align_items": null,
            "align_self": null,
            "border": null,
            "bottom": null,
            "display": null,
            "flex": null,
            "flex_flow": null,
            "grid_area": null,
            "grid_auto_columns": null,
            "grid_auto_flow": null,
            "grid_auto_rows": null,
            "grid_column": null,
            "grid_gap": null,
            "grid_row": null,
            "grid_template_areas": null,
            "grid_template_columns": null,
            "grid_template_rows": null,
            "height": null,
            "justify_content": null,
            "justify_items": null,
            "left": null,
            "margin": null,
            "max_height": null,
            "max_width": null,
            "min_height": null,
            "min_width": null,
            "object_fit": null,
            "object_position": null,
            "order": null,
            "overflow": null,
            "overflow_x": null,
            "overflow_y": null,
            "padding": null,
            "right": null,
            "top": null,
            "visibility": null,
            "width": null
          }
        },
        "4dcdd06a18154fffb941d030ec6292de": {
          "model_module": "@jupyter-widgets/controls",
          "model_name": "DescriptionStyleModel",
          "model_module_version": "1.5.0",
          "state": {
            "_model_module": "@jupyter-widgets/controls",
            "_model_module_version": "1.5.0",
            "_model_name": "DescriptionStyleModel",
            "_view_count": null,
            "_view_module": "@jupyter-widgets/base",
            "_view_module_version": "1.2.0",
            "_view_name": "StyleView",
            "description_width": ""
          }
        },
        "3b4d0f3fb6934b2aa41861e53c533b7c": {
          "model_module": "@jupyter-widgets/controls",
          "model_name": "HBoxModel",
          "model_module_version": "1.5.0",
          "state": {
            "_dom_classes": [],
            "_model_module": "@jupyter-widgets/controls",
            "_model_module_version": "1.5.0",
            "_model_name": "HBoxModel",
            "_view_count": null,
            "_view_module": "@jupyter-widgets/controls",
            "_view_module_version": "1.5.0",
            "_view_name": "HBoxView",
            "box_style": "",
            "children": [
              "IPY_MODEL_5a08ab38d96743db81c8ce315fbe1e4a",
              "IPY_MODEL_9af7138b3afa4576ac9333a362ddf6f3",
              "IPY_MODEL_29fd34cdbd864cf281981922dce8001c"
            ],
            "layout": "IPY_MODEL_0048b82880dd4cd7954a9b60fe8a0f99"
          }
        },
        "5a08ab38d96743db81c8ce315fbe1e4a": {
          "model_module": "@jupyter-widgets/controls",
          "model_name": "HTMLModel",
          "model_module_version": "1.5.0",
          "state": {
            "_dom_classes": [],
            "_model_module": "@jupyter-widgets/controls",
            "_model_module_version": "1.5.0",
            "_model_name": "HTMLModel",
            "_view_count": null,
            "_view_module": "@jupyter-widgets/controls",
            "_view_module_version": "1.5.0",
            "_view_name": "HTMLView",
            "description": "",
            "description_tooltip": null,
            "layout": "IPY_MODEL_b0599ba3f8ad469bae32dd3de9f6b341",
            "placeholder": "​",
            "style": "IPY_MODEL_eb6621853d324e8abda825e338c51436",
            "value": "config.json: 100%"
          }
        },
        "9af7138b3afa4576ac9333a362ddf6f3": {
          "model_module": "@jupyter-widgets/controls",
          "model_name": "FloatProgressModel",
          "model_module_version": "1.5.0",
          "state": {
            "_dom_classes": [],
            "_model_module": "@jupyter-widgets/controls",
            "_model_module_version": "1.5.0",
            "_model_name": "FloatProgressModel",
            "_view_count": null,
            "_view_module": "@jupyter-widgets/controls",
            "_view_module_version": "1.5.0",
            "_view_name": "ProgressView",
            "bar_style": "success",
            "description": "",
            "description_tooltip": null,
            "layout": "IPY_MODEL_d55408175ab34f6183143b8f6f3b558d",
            "max": 570,
            "min": 0,
            "orientation": "horizontal",
            "style": "IPY_MODEL_ddb7ca6e04b54724a469c3d154197f6a",
            "value": 570
          }
        },
        "29fd34cdbd864cf281981922dce8001c": {
          "model_module": "@jupyter-widgets/controls",
          "model_name": "HTMLModel",
          "model_module_version": "1.5.0",
          "state": {
            "_dom_classes": [],
            "_model_module": "@jupyter-widgets/controls",
            "_model_module_version": "1.5.0",
            "_model_name": "HTMLModel",
            "_view_count": null,
            "_view_module": "@jupyter-widgets/controls",
            "_view_module_version": "1.5.0",
            "_view_name": "HTMLView",
            "description": "",
            "description_tooltip": null,
            "layout": "IPY_MODEL_dc50a84228fc4427ae355df7ad2de5d2",
            "placeholder": "​",
            "style": "IPY_MODEL_a896bc07891a430ca18544ddf23b0363",
            "value": " 570/570 [00:00&lt;00:00, 30.5kB/s]"
          }
        },
        "0048b82880dd4cd7954a9b60fe8a0f99": {
          "model_module": "@jupyter-widgets/base",
          "model_name": "LayoutModel",
          "model_module_version": "1.2.0",
          "state": {
            "_model_module": "@jupyter-widgets/base",
            "_model_module_version": "1.2.0",
            "_model_name": "LayoutModel",
            "_view_count": null,
            "_view_module": "@jupyter-widgets/base",
            "_view_module_version": "1.2.0",
            "_view_name": "LayoutView",
            "align_content": null,
            "align_items": null,
            "align_self": null,
            "border": null,
            "bottom": null,
            "display": null,
            "flex": null,
            "flex_flow": null,
            "grid_area": null,
            "grid_auto_columns": null,
            "grid_auto_flow": null,
            "grid_auto_rows": null,
            "grid_column": null,
            "grid_gap": null,
            "grid_row": null,
            "grid_template_areas": null,
            "grid_template_columns": null,
            "grid_template_rows": null,
            "height": null,
            "justify_content": null,
            "justify_items": null,
            "left": null,
            "margin": null,
            "max_height": null,
            "max_width": null,
            "min_height": null,
            "min_width": null,
            "object_fit": null,
            "object_position": null,
            "order": null,
            "overflow": null,
            "overflow_x": null,
            "overflow_y": null,
            "padding": null,
            "right": null,
            "top": null,
            "visibility": null,
            "width": null
          }
        },
        "b0599ba3f8ad469bae32dd3de9f6b341": {
          "model_module": "@jupyter-widgets/base",
          "model_name": "LayoutModel",
          "model_module_version": "1.2.0",
          "state": {
            "_model_module": "@jupyter-widgets/base",
            "_model_module_version": "1.2.0",
            "_model_name": "LayoutModel",
            "_view_count": null,
            "_view_module": "@jupyter-widgets/base",
            "_view_module_version": "1.2.0",
            "_view_name": "LayoutView",
            "align_content": null,
            "align_items": null,
            "align_self": null,
            "border": null,
            "bottom": null,
            "display": null,
            "flex": null,
            "flex_flow": null,
            "grid_area": null,
            "grid_auto_columns": null,
            "grid_auto_flow": null,
            "grid_auto_rows": null,
            "grid_column": null,
            "grid_gap": null,
            "grid_row": null,
            "grid_template_areas": null,
            "grid_template_columns": null,
            "grid_template_rows": null,
            "height": null,
            "justify_content": null,
            "justify_items": null,
            "left": null,
            "margin": null,
            "max_height": null,
            "max_width": null,
            "min_height": null,
            "min_width": null,
            "object_fit": null,
            "object_position": null,
            "order": null,
            "overflow": null,
            "overflow_x": null,
            "overflow_y": null,
            "padding": null,
            "right": null,
            "top": null,
            "visibility": null,
            "width": null
          }
        },
        "eb6621853d324e8abda825e338c51436": {
          "model_module": "@jupyter-widgets/controls",
          "model_name": "DescriptionStyleModel",
          "model_module_version": "1.5.0",
          "state": {
            "_model_module": "@jupyter-widgets/controls",
            "_model_module_version": "1.5.0",
            "_model_name": "DescriptionStyleModel",
            "_view_count": null,
            "_view_module": "@jupyter-widgets/base",
            "_view_module_version": "1.2.0",
            "_view_name": "StyleView",
            "description_width": ""
          }
        },
        "d55408175ab34f6183143b8f6f3b558d": {
          "model_module": "@jupyter-widgets/base",
          "model_name": "LayoutModel",
          "model_module_version": "1.2.0",
          "state": {
            "_model_module": "@jupyter-widgets/base",
            "_model_module_version": "1.2.0",
            "_model_name": "LayoutModel",
            "_view_count": null,
            "_view_module": "@jupyter-widgets/base",
            "_view_module_version": "1.2.0",
            "_view_name": "LayoutView",
            "align_content": null,
            "align_items": null,
            "align_self": null,
            "border": null,
            "bottom": null,
            "display": null,
            "flex": null,
            "flex_flow": null,
            "grid_area": null,
            "grid_auto_columns": null,
            "grid_auto_flow": null,
            "grid_auto_rows": null,
            "grid_column": null,
            "grid_gap": null,
            "grid_row": null,
            "grid_template_areas": null,
            "grid_template_columns": null,
            "grid_template_rows": null,
            "height": null,
            "justify_content": null,
            "justify_items": null,
            "left": null,
            "margin": null,
            "max_height": null,
            "max_width": null,
            "min_height": null,
            "min_width": null,
            "object_fit": null,
            "object_position": null,
            "order": null,
            "overflow": null,
            "overflow_x": null,
            "overflow_y": null,
            "padding": null,
            "right": null,
            "top": null,
            "visibility": null,
            "width": null
          }
        },
        "ddb7ca6e04b54724a469c3d154197f6a": {
          "model_module": "@jupyter-widgets/controls",
          "model_name": "ProgressStyleModel",
          "model_module_version": "1.5.0",
          "state": {
            "_model_module": "@jupyter-widgets/controls",
            "_model_module_version": "1.5.0",
            "_model_name": "ProgressStyleModel",
            "_view_count": null,
            "_view_module": "@jupyter-widgets/base",
            "_view_module_version": "1.2.0",
            "_view_name": "StyleView",
            "bar_color": null,
            "description_width": ""
          }
        },
        "dc50a84228fc4427ae355df7ad2de5d2": {
          "model_module": "@jupyter-widgets/base",
          "model_name": "LayoutModel",
          "model_module_version": "1.2.0",
          "state": {
            "_model_module": "@jupyter-widgets/base",
            "_model_module_version": "1.2.0",
            "_model_name": "LayoutModel",
            "_view_count": null,
            "_view_module": "@jupyter-widgets/base",
            "_view_module_version": "1.2.0",
            "_view_name": "LayoutView",
            "align_content": null,
            "align_items": null,
            "align_self": null,
            "border": null,
            "bottom": null,
            "display": null,
            "flex": null,
            "flex_flow": null,
            "grid_area": null,
            "grid_auto_columns": null,
            "grid_auto_flow": null,
            "grid_auto_rows": null,
            "grid_column": null,
            "grid_gap": null,
            "grid_row": null,
            "grid_template_areas": null,
            "grid_template_columns": null,
            "grid_template_rows": null,
            "height": null,
            "justify_content": null,
            "justify_items": null,
            "left": null,
            "margin": null,
            "max_height": null,
            "max_width": null,
            "min_height": null,
            "min_width": null,
            "object_fit": null,
            "object_position": null,
            "order": null,
            "overflow": null,
            "overflow_x": null,
            "overflow_y": null,
            "padding": null,
            "right": null,
            "top": null,
            "visibility": null,
            "width": null
          }
        },
        "a896bc07891a430ca18544ddf23b0363": {
          "model_module": "@jupyter-widgets/controls",
          "model_name": "DescriptionStyleModel",
          "model_module_version": "1.5.0",
          "state": {
            "_model_module": "@jupyter-widgets/controls",
            "_model_module_version": "1.5.0",
            "_model_name": "DescriptionStyleModel",
            "_view_count": null,
            "_view_module": "@jupyter-widgets/base",
            "_view_module_version": "1.2.0",
            "_view_name": "StyleView",
            "description_width": ""
          }
        },
        "88f23e72382f43a781e37a8932f9563b": {
          "model_module": "@jupyter-widgets/controls",
          "model_name": "HBoxModel",
          "model_module_version": "1.5.0",
          "state": {
            "_dom_classes": [],
            "_model_module": "@jupyter-widgets/controls",
            "_model_module_version": "1.5.0",
            "_model_name": "HBoxModel",
            "_view_count": null,
            "_view_module": "@jupyter-widgets/controls",
            "_view_module_version": "1.5.0",
            "_view_name": "HBoxView",
            "box_style": "",
            "children": [
              "IPY_MODEL_0a40f33d059247bfbdae8d8e15ab5399",
              "IPY_MODEL_846ae66016c946aca292187a4d2469d8",
              "IPY_MODEL_eebe1130913845bcb1c41f995f2ba598"
            ],
            "layout": "IPY_MODEL_49d1a6a3076b4041ac3127c847bc4fff"
          }
        },
        "0a40f33d059247bfbdae8d8e15ab5399": {
          "model_module": "@jupyter-widgets/controls",
          "model_name": "HTMLModel",
          "model_module_version": "1.5.0",
          "state": {
            "_dom_classes": [],
            "_model_module": "@jupyter-widgets/controls",
            "_model_module_version": "1.5.0",
            "_model_name": "HTMLModel",
            "_view_count": null,
            "_view_module": "@jupyter-widgets/controls",
            "_view_module_version": "1.5.0",
            "_view_name": "HTMLView",
            "description": "",
            "description_tooltip": null,
            "layout": "IPY_MODEL_dac6cc14848c4768a4079364bd5b7e0a",
            "placeholder": "​",
            "style": "IPY_MODEL_20c3e977c603418390fe397cea97a26f",
            "value": "two_tower_bert_v5.h5: 100%"
          }
        },
        "846ae66016c946aca292187a4d2469d8": {
          "model_module": "@jupyter-widgets/controls",
          "model_name": "FloatProgressModel",
          "model_module_version": "1.5.0",
          "state": {
            "_dom_classes": [],
            "_model_module": "@jupyter-widgets/controls",
            "_model_module_version": "1.5.0",
            "_model_name": "FloatProgressModel",
            "_view_count": null,
            "_view_module": "@jupyter-widgets/controls",
            "_view_module_version": "1.5.0",
            "_view_name": "ProgressView",
            "bar_style": "success",
            "description": "",
            "description_tooltip": null,
            "layout": "IPY_MODEL_5295cb3a551a49a6ae0a83abd04aaf1c",
            "max": 1296787128,
            "min": 0,
            "orientation": "horizontal",
            "style": "IPY_MODEL_463b1ae79dfe405bb9ad433b9f9cffc5",
            "value": 1296787128
          }
        },
        "eebe1130913845bcb1c41f995f2ba598": {
          "model_module": "@jupyter-widgets/controls",
          "model_name": "HTMLModel",
          "model_module_version": "1.5.0",
          "state": {
            "_dom_classes": [],
            "_model_module": "@jupyter-widgets/controls",
            "_model_module_version": "1.5.0",
            "_model_name": "HTMLModel",
            "_view_count": null,
            "_view_module": "@jupyter-widgets/controls",
            "_view_module_version": "1.5.0",
            "_view_name": "HTMLView",
            "description": "",
            "description_tooltip": null,
            "layout": "IPY_MODEL_abdd593eabb245a5bdd518c3a336a390",
            "placeholder": "​",
            "style": "IPY_MODEL_44f81bd72d2f4db8bfa701f8a1e2ae59",
            "value": " 1.30G/1.30G [00:41&lt;00:00, 32.9MB/s]"
          }
        },
        "49d1a6a3076b4041ac3127c847bc4fff": {
          "model_module": "@jupyter-widgets/base",
          "model_name": "LayoutModel",
          "model_module_version": "1.2.0",
          "state": {
            "_model_module": "@jupyter-widgets/base",
            "_model_module_version": "1.2.0",
            "_model_name": "LayoutModel",
            "_view_count": null,
            "_view_module": "@jupyter-widgets/base",
            "_view_module_version": "1.2.0",
            "_view_name": "LayoutView",
            "align_content": null,
            "align_items": null,
            "align_self": null,
            "border": null,
            "bottom": null,
            "display": null,
            "flex": null,
            "flex_flow": null,
            "grid_area": null,
            "grid_auto_columns": null,
            "grid_auto_flow": null,
            "grid_auto_rows": null,
            "grid_column": null,
            "grid_gap": null,
            "grid_row": null,
            "grid_template_areas": null,
            "grid_template_columns": null,
            "grid_template_rows": null,
            "height": null,
            "justify_content": null,
            "justify_items": null,
            "left": null,
            "margin": null,
            "max_height": null,
            "max_width": null,
            "min_height": null,
            "min_width": null,
            "object_fit": null,
            "object_position": null,
            "order": null,
            "overflow": null,
            "overflow_x": null,
            "overflow_y": null,
            "padding": null,
            "right": null,
            "top": null,
            "visibility": null,
            "width": null
          }
        },
        "dac6cc14848c4768a4079364bd5b7e0a": {
          "model_module": "@jupyter-widgets/base",
          "model_name": "LayoutModel",
          "model_module_version": "1.2.0",
          "state": {
            "_model_module": "@jupyter-widgets/base",
            "_model_module_version": "1.2.0",
            "_model_name": "LayoutModel",
            "_view_count": null,
            "_view_module": "@jupyter-widgets/base",
            "_view_module_version": "1.2.0",
            "_view_name": "LayoutView",
            "align_content": null,
            "align_items": null,
            "align_self": null,
            "border": null,
            "bottom": null,
            "display": null,
            "flex": null,
            "flex_flow": null,
            "grid_area": null,
            "grid_auto_columns": null,
            "grid_auto_flow": null,
            "grid_auto_rows": null,
            "grid_column": null,
            "grid_gap": null,
            "grid_row": null,
            "grid_template_areas": null,
            "grid_template_columns": null,
            "grid_template_rows": null,
            "height": null,
            "justify_content": null,
            "justify_items": null,
            "left": null,
            "margin": null,
            "max_height": null,
            "max_width": null,
            "min_height": null,
            "min_width": null,
            "object_fit": null,
            "object_position": null,
            "order": null,
            "overflow": null,
            "overflow_x": null,
            "overflow_y": null,
            "padding": null,
            "right": null,
            "top": null,
            "visibility": null,
            "width": null
          }
        },
        "20c3e977c603418390fe397cea97a26f": {
          "model_module": "@jupyter-widgets/controls",
          "model_name": "DescriptionStyleModel",
          "model_module_version": "1.5.0",
          "state": {
            "_model_module": "@jupyter-widgets/controls",
            "_model_module_version": "1.5.0",
            "_model_name": "DescriptionStyleModel",
            "_view_count": null,
            "_view_module": "@jupyter-widgets/base",
            "_view_module_version": "1.2.0",
            "_view_name": "StyleView",
            "description_width": ""
          }
        },
        "5295cb3a551a49a6ae0a83abd04aaf1c": {
          "model_module": "@jupyter-widgets/base",
          "model_name": "LayoutModel",
          "model_module_version": "1.2.0",
          "state": {
            "_model_module": "@jupyter-widgets/base",
            "_model_module_version": "1.2.0",
            "_model_name": "LayoutModel",
            "_view_count": null,
            "_view_module": "@jupyter-widgets/base",
            "_view_module_version": "1.2.0",
            "_view_name": "LayoutView",
            "align_content": null,
            "align_items": null,
            "align_self": null,
            "border": null,
            "bottom": null,
            "display": null,
            "flex": null,
            "flex_flow": null,
            "grid_area": null,
            "grid_auto_columns": null,
            "grid_auto_flow": null,
            "grid_auto_rows": null,
            "grid_column": null,
            "grid_gap": null,
            "grid_row": null,
            "grid_template_areas": null,
            "grid_template_columns": null,
            "grid_template_rows": null,
            "height": null,
            "justify_content": null,
            "justify_items": null,
            "left": null,
            "margin": null,
            "max_height": null,
            "max_width": null,
            "min_height": null,
            "min_width": null,
            "object_fit": null,
            "object_position": null,
            "order": null,
            "overflow": null,
            "overflow_x": null,
            "overflow_y": null,
            "padding": null,
            "right": null,
            "top": null,
            "visibility": null,
            "width": null
          }
        },
        "463b1ae79dfe405bb9ad433b9f9cffc5": {
          "model_module": "@jupyter-widgets/controls",
          "model_name": "ProgressStyleModel",
          "model_module_version": "1.5.0",
          "state": {
            "_model_module": "@jupyter-widgets/controls",
            "_model_module_version": "1.5.0",
            "_model_name": "ProgressStyleModel",
            "_view_count": null,
            "_view_module": "@jupyter-widgets/base",
            "_view_module_version": "1.2.0",
            "_view_name": "StyleView",
            "bar_color": null,
            "description_width": ""
          }
        },
        "abdd593eabb245a5bdd518c3a336a390": {
          "model_module": "@jupyter-widgets/base",
          "model_name": "LayoutModel",
          "model_module_version": "1.2.0",
          "state": {
            "_model_module": "@jupyter-widgets/base",
            "_model_module_version": "1.2.0",
            "_model_name": "LayoutModel",
            "_view_count": null,
            "_view_module": "@jupyter-widgets/base",
            "_view_module_version": "1.2.0",
            "_view_name": "LayoutView",
            "align_content": null,
            "align_items": null,
            "align_self": null,
            "border": null,
            "bottom": null,
            "display": null,
            "flex": null,
            "flex_flow": null,
            "grid_area": null,
            "grid_auto_columns": null,
            "grid_auto_flow": null,
            "grid_auto_rows": null,
            "grid_column": null,
            "grid_gap": null,
            "grid_row": null,
            "grid_template_areas": null,
            "grid_template_columns": null,
            "grid_template_rows": null,
            "height": null,
            "justify_content": null,
            "justify_items": null,
            "left": null,
            "margin": null,
            "max_height": null,
            "max_width": null,
            "min_height": null,
            "min_width": null,
            "object_fit": null,
            "object_position": null,
            "order": null,
            "overflow": null,
            "overflow_x": null,
            "overflow_y": null,
            "padding": null,
            "right": null,
            "top": null,
            "visibility": null,
            "width": null
          }
        },
        "44f81bd72d2f4db8bfa701f8a1e2ae59": {
          "model_module": "@jupyter-widgets/controls",
          "model_name": "DescriptionStyleModel",
          "model_module_version": "1.5.0",
          "state": {
            "_model_module": "@jupyter-widgets/controls",
            "_model_module_version": "1.5.0",
            "_model_name": "DescriptionStyleModel",
            "_view_count": null,
            "_view_module": "@jupyter-widgets/base",
            "_view_module_version": "1.2.0",
            "_view_name": "StyleView",
            "description_width": ""
          }
        }
      }
    },
    "accelerator": "GPU"
  },
  "cells": [
    {
      "cell_type": "markdown",
      "metadata": {
        "id": "view-in-github",
        "colab_type": "text"
      },
      "source": [
        "<a href=\"https://colab.research.google.com/github/RyanChen12035/capstone/blob/main/two_tower_demo_TSMC_IT_BSID.ipynb\" target=\"_parent\"><img src=\"https://colab.research.google.com/assets/colab-badge.svg\" alt=\"Open In Colab\"/></a>"
      ]
    },
    {
      "cell_type": "code",
      "execution_count": 1,
      "metadata": {
        "colab": {
          "base_uri": "https://localhost:8080/"
        },
        "id": "puib5VEaYwXI",
        "outputId": "967d5f5d-8cf1-4748-b708-74e8426fcc09"
      },
      "outputs": [
        {
          "output_type": "stream",
          "name": "stdout",
          "text": [
            "\u001b[2K   \u001b[90m━━━━━━━━━━━━━━━━━━━━━━━━━━━━━━━━━━━━━━━━\u001b[0m \u001b[32m497.6/497.6 MB\u001b[0m \u001b[31m2.4 MB/s\u001b[0m eta \u001b[36m0:00:00\u001b[0m\n",
            "\u001b[2K   \u001b[90m━━━━━━━━━━━━━━━━━━━━━━━━━━━━━━━━━━━━━━━━\u001b[0m \u001b[32m462.5/462.5 kB\u001b[0m \u001b[31m10.5 MB/s\u001b[0m eta \u001b[36m0:00:00\u001b[0m\n",
            "\u001b[2K   \u001b[90m━━━━━━━━━━━━━━━━━━━━━━━━━━━━━━━━━━━━━━━━\u001b[0m \u001b[32m1.4/1.4 MB\u001b[0m \u001b[31m32.6 MB/s\u001b[0m eta \u001b[36m0:00:00\u001b[0m\n",
            "\u001b[2K   \u001b[90m━━━━━━━━━━━━━━━━━━━━━━━━━━━━━━━━━━━━━━━━\u001b[0m \u001b[32m42.6/42.6 kB\u001b[0m \u001b[31m2.6 MB/s\u001b[0m eta \u001b[36m0:00:00\u001b[0m\n",
            "\u001b[2K   \u001b[90m━━━━━━━━━━━━━━━━━━━━━━━━━━━━━━━━━━━━━━━━\u001b[0m \u001b[32m5.8/5.8 MB\u001b[0m \u001b[31m41.8 MB/s\u001b[0m eta \u001b[36m0:00:00\u001b[0m\n",
            "\u001b[2K   \u001b[90m━━━━━━━━━━━━━━━━━━━━━━━━━━━━━━━━━━━━━━━━\u001b[0m \u001b[32m4.9/4.9 MB\u001b[0m \u001b[31m55.9 MB/s\u001b[0m eta \u001b[36m0:00:00\u001b[0m\n",
            "\u001b[2K   \u001b[90m━━━━━━━━━━━━━━━━━━━━━━━━━━━━━━━━━━━━━━━━\u001b[0m \u001b[32m781.3/781.3 kB\u001b[0m \u001b[31m19.9 MB/s\u001b[0m eta \u001b[36m0:00:00\u001b[0m\n",
            "\u001b[?25h\u001b[31mERROR: pip's dependency resolver does not currently take into account all the packages that are installed. This behaviour is the source of the following dependency conflicts.\n",
            "pandas-gbq 0.19.2 requires google-auth-oauthlib>=0.7.0, but you have google-auth-oauthlib 0.4.6 which is incompatible.\n",
            "tf-keras 2.15.1 requires tensorflow<2.16,>=2.15, but you have tensorflow 2.8.0 which is incompatible.\u001b[0m\u001b[31m\n",
            "\u001b[2K     \u001b[90m━━━━━━━━━━━━━━━━━━━━━━━━━━━━━━━━━━━━━━━━\u001b[0m \u001b[32m59.8/59.8 kB\u001b[0m \u001b[31m3.5 MB/s\u001b[0m eta \u001b[36m0:00:00\u001b[0m\n",
            "\u001b[2K     \u001b[90m━━━━━━━━━━━━━━━━━━━━━━━━━━━━━━━━━━━━━━━━\u001b[0m \u001b[32m212.7/212.7 kB\u001b[0m \u001b[31m11.5 MB/s\u001b[0m eta \u001b[36m0:00:00\u001b[0m\n",
            "\u001b[?25h  Installing build dependencies ... \u001b[?25l\u001b[?25hdone\n",
            "  Getting requirements to build wheel ... \u001b[?25l\u001b[?25hdone\n",
            "  Preparing metadata (pyproject.toml) ... \u001b[?25l\u001b[?25hdone\n",
            "\u001b[2K   \u001b[90m━━━━━━━━━━━━━━━━━━━━━━━━━━━━━━━━━━━━━━━━\u001b[0m \u001b[32m3.4/3.4 MB\u001b[0m \u001b[31m48.6 MB/s\u001b[0m eta \u001b[36m0:00:00\u001b[0m\n",
            "\u001b[2K   \u001b[90m━━━━━━━━━━━━━━━━━━━━━━━━━━━━━━━━━━━━━━━━\u001b[0m \u001b[32m897.5/897.5 kB\u001b[0m \u001b[31m37.7 MB/s\u001b[0m eta \u001b[36m0:00:00\u001b[0m\n",
            "\u001b[?25h  \u001b[1;31merror\u001b[0m: \u001b[1msubprocess-exited-with-error\u001b[0m\n",
            "  \n",
            "  \u001b[31m×\u001b[0m \u001b[32mBuilding wheel for tokenizers \u001b[0m\u001b[1;32m(\u001b[0m\u001b[32mpyproject.toml\u001b[0m\u001b[1;32m)\u001b[0m did not run successfully.\n",
            "  \u001b[31m│\u001b[0m exit code: \u001b[1;36m1\u001b[0m\n",
            "  \u001b[31m╰─>\u001b[0m See above for output.\n",
            "  \n",
            "  \u001b[1;35mnote\u001b[0m: This error originates from a subprocess, and is likely not a problem with pip.\n",
            "  Building wheel for tokenizers (pyproject.toml) ... \u001b[?25l\u001b[?25herror\n",
            "\u001b[31m  ERROR: Failed building wheel for tokenizers\u001b[0m\u001b[31m\n",
            "\u001b[0m\u001b[31mERROR: ERROR: Failed to build installable wheels for some pyproject.toml based projects (tokenizers)\u001b[0m\u001b[31m\n",
            "\u001b[2K   \u001b[90m━━━━━━━━━━━━━━━━━━━━━━━━━━━━━━━━━━━━━━━━\u001b[0m \u001b[32m85.5/85.5 MB\u001b[0m \u001b[31m7.1 MB/s\u001b[0m eta \u001b[36m0:00:00\u001b[0m\n",
            "\u001b[?25h"
          ]
        }
      ],
      "source": [
        "!pip install tensorflow==2.8.0 --quiet\n",
        "!pip install transformers==4.15.0 --quiet\n",
        "!pip install faiss-gpu --quiet\n",
        "# !pip install faiss-cpu --quiet"
      ]
    },
    {
      "cell_type": "code",
      "source": [
        "import numpy as np\n",
        "import pandas as pd\n",
        "import tensorflow as tf\n",
        "from tensorflow import keras\n",
        "from tensorflow.keras.layers import Embedding, Input, Dense, Lambda, Dropout, Conv1D, GlobalMaxPooling1D, Concatenate, Activation\n",
        "from tensorflow.keras.models import Model\n",
        "import tensorflow.keras.backend as K\n",
        "from transformers import BertTokenizer, TFBertModel"
      ],
      "metadata": {
        "id": "V-TgMbhkY4K1"
      },
      "execution_count": 2,
      "outputs": []
    },
    {
      "cell_type": "code",
      "source": [
        "from google.colab import drive\n",
        "\n",
        "# mount Google Drive\n",
        "drive.mount('/content/drive')\n"
      ],
      "metadata": {
        "colab": {
          "base_uri": "https://localhost:8080/"
        },
        "id": "2bXhHJptY5qw",
        "outputId": "14060b27-6453-4825-e4b0-fcb5ac476570"
      },
      "execution_count": 3,
      "outputs": [
        {
          "output_type": "stream",
          "name": "stdout",
          "text": [
            "Mounted at /content/drive\n"
          ]
        }
      ]
    },
    {
      "cell_type": "code",
      "source": [
        "# download the model from google drive.\n",
        "from tensorflow.keras.models import load_model\n",
        "custom_objects = {'TFBertModel': TFBertModel}\n",
        "model_v5data = load_model('./drive/MyDrive/two_tower_bert_v5.h5', custom_objects=custom_objects)\n",
        "bert_tokenizer = BertTokenizer.from_pretrained('bert-base-cased')"
      ],
      "metadata": {
        "id": "g15Sf13lZB1V",
        "outputId": "15286177-7d6c-43f6-dfed-20208184f412",
        "colab": {
          "base_uri": "https://localhost:8080/",
          "height": 267,
          "referenced_widgets": [
            "7b051ee21cc24ed48d90ea5246c9cdf9",
            "d3c9876a6c3e44f3b5527aba0ec41c04",
            "eff842f7a62248bcb1491f321758bdbe",
            "f5d50e532d7944cf80adaff95f6608fd",
            "8b46d9e12dfd482cb03ee0e49f124e04",
            "6eac1ffdb6ee472eb03c0a252771393c",
            "23f4a89e95d74bf09bd98bb15a3f5f74",
            "6387f8167f21410e8dbbc3948f64b1b4",
            "41ad1b0f7f7a473b941b587380ae7f7a",
            "0a220e8d38f344d68567e65e0473607e",
            "083c77c6ea22413c85794ed668ef8241",
            "9ab043f1a35a489981c868eade111dfc",
            "90b3b0ff335c484782ec8a4a737298e6",
            "e585e5b6283948c9a7c5102327fccceb",
            "0205aa935e134c2295acb4fc51f4a76d",
            "3738b355185648a0a0ba7fb6e9abfe13",
            "f76dbd92d00c49c1813b7dba95e36845",
            "43350616d54245788e2ff3fd09f63ac0",
            "0b143e69f44a4244a47c66d996ad47ec",
            "bf24e04ace28440384f6428c54b8236d",
            "719288b285844d349e6d2a27f229381b",
            "3001cffd63ed44f0a3d27c22dd7e5318",
            "eb0fc762588d4eaeb9bcc3ef1b2a14fb",
            "ce36badc90ab4718a2388327006ef5b8",
            "d4c897060e514386be4e45793bf6e3b5",
            "d7c26b4a59394aab888e80519eaeb23a",
            "f358e32e221b4b139a7a3ca1d04486b9",
            "3230cef49afd4df7a7e2b924cfa4dbca",
            "e580942d47c74973b50b44cc31e4610f",
            "2075586bcb0940a982121d5add8ac094",
            "f3c60e2341204e15b0f90b5acbea4cbe",
            "7ecc4412cdab4395bb25157bf1dd1ff0",
            "4dcdd06a18154fffb941d030ec6292de",
            "3b4d0f3fb6934b2aa41861e53c533b7c",
            "5a08ab38d96743db81c8ce315fbe1e4a",
            "9af7138b3afa4576ac9333a362ddf6f3",
            "29fd34cdbd864cf281981922dce8001c",
            "0048b82880dd4cd7954a9b60fe8a0f99",
            "b0599ba3f8ad469bae32dd3de9f6b341",
            "eb6621853d324e8abda825e338c51436",
            "d55408175ab34f6183143b8f6f3b558d",
            "ddb7ca6e04b54724a469c3d154197f6a",
            "dc50a84228fc4427ae355df7ad2de5d2",
            "a896bc07891a430ca18544ddf23b0363"
          ]
        }
      },
      "execution_count": 4,
      "outputs": [
        {
          "output_type": "stream",
          "name": "stderr",
          "text": [
            "WARNING:tensorflow:Error in loading the saved optimizer state. As a result, your model is starting with a freshly initialized optimizer.\n",
            "/usr/local/lib/python3.10/dist-packages/huggingface_hub/utils/_token.py:89: UserWarning: \n",
            "The secret `HF_TOKEN` does not exist in your Colab secrets.\n",
            "To authenticate with the Hugging Face Hub, create a token in your settings tab (https://huggingface.co/settings/tokens), set it as secret in your Google Colab and restart your session.\n",
            "You will be able to reuse this secret in all of your notebooks.\n",
            "Please note that authentication is recommended but still optional to access public models or datasets.\n",
            "  warnings.warn(\n"
          ]
        },
        {
          "output_type": "display_data",
          "data": {
            "text/plain": [
              "tokenizer_config.json:   0%|          | 0.00/49.0 [00:00<?, ?B/s]"
            ],
            "application/vnd.jupyter.widget-view+json": {
              "version_major": 2,
              "version_minor": 0,
              "model_id": "7b051ee21cc24ed48d90ea5246c9cdf9"
            }
          },
          "metadata": {}
        },
        {
          "output_type": "display_data",
          "data": {
            "text/plain": [
              "vocab.txt:   0%|          | 0.00/213k [00:00<?, ?B/s]"
            ],
            "application/vnd.jupyter.widget-view+json": {
              "version_major": 2,
              "version_minor": 0,
              "model_id": "9ab043f1a35a489981c868eade111dfc"
            }
          },
          "metadata": {}
        },
        {
          "output_type": "display_data",
          "data": {
            "text/plain": [
              "tokenizer.json:   0%|          | 0.00/436k [00:00<?, ?B/s]"
            ],
            "application/vnd.jupyter.widget-view+json": {
              "version_major": 2,
              "version_minor": 0,
              "model_id": "eb0fc762588d4eaeb9bcc3ef1b2a14fb"
            }
          },
          "metadata": {}
        },
        {
          "output_type": "display_data",
          "data": {
            "text/plain": [
              "config.json:   0%|          | 0.00/570 [00:00<?, ?B/s]"
            ],
            "application/vnd.jupyter.widget-view+json": {
              "version_major": 2,
              "version_minor": 0,
              "model_id": "3b4d0f3fb6934b2aa41861e53c533b7c"
            }
          },
          "metadata": {}
        }
      ]
    },
    {
      "cell_type": "code",
      "source": [
        "# download the model from hugging face\n",
        "!pip install transformers huggingface_hub\n",
        "!huggingface-cli login"
      ],
      "metadata": {
        "colab": {
          "base_uri": "https://localhost:8080/"
        },
        "id": "ZJZMOi7M3gQz",
        "outputId": "787a98d5-b603-4a03-a76e-e37b6213dc0e"
      },
      "execution_count": null,
      "outputs": [
        {
          "output_type": "stream",
          "name": "stdout",
          "text": [
            "Requirement already satisfied: transformers in /usr/local/lib/python3.10/dist-packages (4.38.2)\n",
            "Requirement already satisfied: huggingface_hub in /usr/local/lib/python3.10/dist-packages (0.20.3)\n",
            "Requirement already satisfied: filelock in /usr/local/lib/python3.10/dist-packages (from transformers) (3.13.4)\n",
            "Requirement already satisfied: numpy>=1.17 in /usr/local/lib/python3.10/dist-packages (from transformers) (1.25.2)\n",
            "Requirement already satisfied: packaging>=20.0 in /usr/local/lib/python3.10/dist-packages (from transformers) (24.0)\n",
            "Requirement already satisfied: pyyaml>=5.1 in /usr/local/lib/python3.10/dist-packages (from transformers) (6.0.1)\n",
            "Requirement already satisfied: regex!=2019.12.17 in /usr/local/lib/python3.10/dist-packages (from transformers) (2023.12.25)\n",
            "Requirement already satisfied: requests in /usr/local/lib/python3.10/dist-packages (from transformers) (2.31.0)\n",
            "Requirement already satisfied: tokenizers<0.19,>=0.14 in /usr/local/lib/python3.10/dist-packages (from transformers) (0.15.2)\n",
            "Requirement already satisfied: safetensors>=0.4.1 in /usr/local/lib/python3.10/dist-packages (from transformers) (0.4.2)\n",
            "Requirement already satisfied: tqdm>=4.27 in /usr/local/lib/python3.10/dist-packages (from transformers) (4.66.2)\n",
            "Requirement already satisfied: fsspec>=2023.5.0 in /usr/local/lib/python3.10/dist-packages (from huggingface_hub) (2023.6.0)\n",
            "Requirement already satisfied: typing-extensions>=3.7.4.3 in /usr/local/lib/python3.10/dist-packages (from huggingface_hub) (4.11.0)\n",
            "Requirement already satisfied: charset-normalizer<4,>=2 in /usr/local/lib/python3.10/dist-packages (from requests->transformers) (3.3.2)\n",
            "Requirement already satisfied: idna<4,>=2.5 in /usr/local/lib/python3.10/dist-packages (from requests->transformers) (3.6)\n",
            "Requirement already satisfied: urllib3<3,>=1.21.1 in /usr/local/lib/python3.10/dist-packages (from requests->transformers) (2.0.7)\n",
            "Requirement already satisfied: certifi>=2017.4.17 in /usr/local/lib/python3.10/dist-packages (from requests->transformers) (2024.2.2)\n",
            "\n",
            "    _|    _|  _|    _|    _|_|_|    _|_|_|  _|_|_|  _|      _|    _|_|_|      _|_|_|_|    _|_|      _|_|_|  _|_|_|_|\n",
            "    _|    _|  _|    _|  _|        _|          _|    _|_|    _|  _|            _|        _|    _|  _|        _|\n",
            "    _|_|_|_|  _|    _|  _|  _|_|  _|  _|_|    _|    _|  _|  _|  _|  _|_|      _|_|_|    _|_|_|_|  _|        _|_|_|\n",
            "    _|    _|  _|    _|  _|    _|  _|    _|    _|    _|    _|_|  _|    _|      _|        _|    _|  _|        _|\n",
            "    _|    _|    _|_|      _|_|_|    _|_|_|  _|_|_|  _|      _|    _|_|_|      _|        _|    _|    _|_|_|  _|_|_|_|\n",
            "\n",
            "    To login, `huggingface_hub` requires a token generated from https://huggingface.co/settings/tokens .\n",
            "Token: \n",
            "Add token as git credential? (Y/n) n\n",
            "Token is valid (permission: write).\n",
            "Your token has been saved to /root/.cache/huggingface/token\n",
            "Login successful\n"
          ]
        }
      ]
    },
    {
      "cell_type": "markdown",
      "source": [
        "![showcase.png](data:image/png;base64,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)"
      ],
      "metadata": {
        "id": "Z91K9qetjyZM"
      }
    },
    {
      "cell_type": "code",
      "source": [
        "from huggingface_hub import hf_hub_download\n",
        "from tensorflow.keras.models import load_model\n",
        "from transformers import TFBertModel, BertTokenizer\n",
        "from tensorflow.keras import Model\n",
        "\n",
        "model_path = \"Ryanchenucb/two_towers_bert_v5\"\n",
        "file_name = \"two_tower_bert_v5.h5\"\n",
        "\n",
        "model_path = hf_hub_download(repo_id=model_path, filename=file_name)\n",
        "custom_objects = {'TFBertModel': TFBertModel}\n",
        "model_v5data = load_model(model_path, custom_objects=custom_objects)\n",
        "\n",
        "bert_tokenizer = BertTokenizer.from_pretrained('bert-base-cased')"
      ],
      "metadata": {
        "colab": {
          "base_uri": "https://localhost:8080/",
          "height": 66,
          "referenced_widgets": [
            "88f23e72382f43a781e37a8932f9563b",
            "0a40f33d059247bfbdae8d8e15ab5399",
            "846ae66016c946aca292187a4d2469d8",
            "eebe1130913845bcb1c41f995f2ba598",
            "49d1a6a3076b4041ac3127c847bc4fff",
            "dac6cc14848c4768a4079364bd5b7e0a",
            "20c3e977c603418390fe397cea97a26f",
            "5295cb3a551a49a6ae0a83abd04aaf1c",
            "463b1ae79dfe405bb9ad433b9f9cffc5",
            "abdd593eabb245a5bdd518c3a336a390",
            "44f81bd72d2f4db8bfa701f8a1e2ae59"
          ]
        },
        "id": "-T-CU2WT3rLa",
        "outputId": "debe1adf-15ca-4c7c-a01b-744d27747e4c"
      },
      "execution_count": 5,
      "outputs": [
        {
          "output_type": "display_data",
          "data": {
            "text/plain": [
              "two_tower_bert_v5.h5:   0%|          | 0.00/1.30G [00:00<?, ?B/s]"
            ],
            "application/vnd.jupyter.widget-view+json": {
              "version_major": 2,
              "version_minor": 0,
              "model_id": "88f23e72382f43a781e37a8932f9563b"
            }
          },
          "metadata": {}
        },
        {
          "output_type": "stream",
          "name": "stderr",
          "text": [
            "WARNING:tensorflow:Error in loading the saved optimizer state. As a result, your model is starting with a freshly initialized optimizer.\n"
          ]
        }
      ]
    },
    {
      "cell_type": "markdown",
      "source": [
        "Precompute blacklist to the vector database"
      ],
      "metadata": {
        "id": "FZa_bl4sZduL"
      }
    },
    {
      "cell_type": "code",
      "source": [
        "import numpy as np\n",
        "# helper functions for cls extraction and translate embeddings to the format of a vector database.\n",
        "def generate_embedding_cls(text, model):\n",
        "  bert_embedding_model = Model(inputs=[model.input],\n",
        "                               outputs=model.get_layer('tf.__operators__.getitem').output)\n",
        "  bert_train_tokenized = bert_tokenizer(text,\n",
        "                                        max_length=128,\n",
        "                                        truncation=True,\n",
        "                                        padding='max_length',\n",
        "                                        return_tensors='tf')\n",
        "  bert_train_inputs = [bert_train_tokenized.input_ids,\n",
        "                       bert_train_tokenized.token_type_ids,\n",
        "                       bert_train_tokenized.attention_mask]\n",
        "  return bert_embedding_model.predict(bert_train_inputs)\n",
        "\n",
        "\n",
        "def embedding_vectordatabase(embedding):\n",
        "  embeddings = np.array(embedding, dtype=\"float32\")\n",
        "  embeddings = embeddings.reshape(-1, embeddings.shape[-1])\n",
        "  return embeddings"
      ],
      "metadata": {
        "id": "F2Hq4xtZZPFN"
      },
      "execution_count": 30,
      "outputs": []
    },
    {
      "cell_type": "code",
      "source": [
        "# create vector databases\n",
        "import faiss\n",
        "import numpy as np\n",
        "\n",
        "dimension = 768  # Dimension of BERT-base embeddings\n",
        "index_cls_v5 = faiss.IndexFlatL2(dimension)"
      ],
      "metadata": {
        "id": "NaPHVd8TZPje"
      },
      "execution_count": 31,
      "outputs": []
    },
    {
      "cell_type": "code",
      "source": [
        "# bad at 0, 4, 5, 8, rewrote it\n",
        "# set dob as item 10\n",
        "\n",
        "level_four_job = [\"Competitive salary packages for individuals in iPhone project management roles, recognized for enhancing job satisfaction and financial well-being, potentially contributing to improved mental and physical health outcomes.\",\n",
        "                  \"Relocation benefits for Apple Cupertino campus positions.\",\n",
        "                  \"Exclusive health and wellness benefits for iPhone development team members.\",\n",
        "                  \"Stock options and bonuses for iPhone project milestones.\",\n",
        "                  \"Providing state-of-the-art collaborative workspaces specifically at Apple's renowned Silicon Valley locations, designed to foster innovation and teamwork among tech professionals.\",\n",
        "                  \"Exclusive professional development programs available for iOS project leads, focusing on advancing leadership skills and technical expertise in Apple's ecosystem.\",\n",
        "                  \"Confidentiality agreements for upcoming iPhone projects.\",\n",
        "                  \"Global travel opportunities for iPhone supplier audits.\",\n",
        "                  \"Flexible working hours for Apple's product development team members, designed to promote a healthy work-life balance, potentially leading to better sleep patterns, reduced stress levels, and overall improved well-being.\",\n",
        "                  \"Team-building retreats for iPhone project managers.\"]\n",
        "\n",
        "for input in level_four_job:\n",
        "  embeddings = generate_embedding_cls(input, model_v5data)\n",
        "  index_cls_v5.add(embedding_vectordatabase(embeddings))\n",
        "print(index_cls_v5.ntotal)"
      ],
      "metadata": {
        "colab": {
          "base_uri": "https://localhost:8080/"
        },
        "id": "I_bxJ1D4ZS_h",
        "outputId": "5d955eb6-042d-414f-9fde-66a9b6463b34"
      },
      "execution_count": 32,
      "outputs": [
        {
          "output_type": "stream",
          "name": "stdout",
          "text": [
            "10\n"
          ]
        }
      ]
    },
    {
      "cell_type": "markdown",
      "source": [
        "Split prompt into sentence-level and do the similar search"
      ],
      "metadata": {
        "id": "6on8pIEOZnQ8"
      }
    },
    {
      "cell_type": "code",
      "source": [
        "job_related_8 = \"I've been having flexible working hours for Apple's product development team members, designed to promote a healthy work-life balance, potentially leading to better sleep patterns, reduced stress levels, and overall improved well-being.\" #easiest\n",
        "job_related_4 = \"I have a hard time walking to the collaborative workspaces at Apple's Silicon Valley locations.\"\n",
        "job_related_7 = \"I am traveling to China and will stay there for a couple of weeks for doing supplier audits.\" #subtly inject the information\n",
        "\n",
        "\n",
        "prompt = f\"\"\"As Jane Cook, I am writing to let my doctor know about my current health status. {job_related_8} Over the past few days,  I have been experiencing fever, fatigue, and difficulty breathing, which has made it hard for me to carry out daily activities. My blood pressure is low, but my cholesterol level is normal.\n",
        "  I am feeling really tired and weak, and even simple tasks like getting dressed or taking a shower leave me exhausted. My breathing is labored, and I often feel winded after just a few minutes of talking or walking. {job_related_4} The fever has been persistent, and it's making me feel quite uncomfortable.\n",
        "  Given my symptoms, I am worried that there might be something serious going on with my health. I would greatly appreciate it if you could look into this matter as soon as possible and let me know what is causing these symptoms. My email address is williamsjennifer@example.net, and my phone number is 001-974-704-4096x550. Thank you for your attention to this matter.\n",
        "  I am looking forward to hearing from you soon. {job_related_7}. Please let me know if there's any additional information or tests that I need to undergo to determine the cause of my symptoms.\"\"\""
      ],
      "metadata": {
        "id": "yC1bJedUZyJ0"
      },
      "execution_count": 33,
      "outputs": []
    },
    {
      "cell_type": "code",
      "source": [
        "import re\n",
        "\n",
        "def concatenate_short_sentences(sentence_list: list[str], characters_limit: int) -> list[str]:\n",
        "    concatenated_sentences = []\n",
        "    i = 0\n",
        "    while i < len(sentence_list):\n",
        "        if len(sentence_list[i]) < characters_limit and (i+1) < len(sentence_list):\n",
        "            concatenated_sentences.append(sentence_list[i] + \" \" + sentence_list[i+1])\n",
        "            i += 2\n",
        "        else:\n",
        "            concatenated_sentences.append(sentence_list[i])\n",
        "            i += 1\n",
        "    return concatenated_sentences\n",
        "\n",
        "def split_to_sentences(text: str) -> list[str]:\n",
        "    paragraphs = re.split(r'\\n\\s*\\n', str(text))\n",
        "    sentences = [re.split(r'(?<!\\w\\.\\w.)(?<![A-Z][a-z]\\.)(?<=\\.|\\?|\\!)\\s', para) for para in paragraphs]\n",
        "    sentence_expanded = [sentence for sublist in sentences for sentence in sublist if len(sentence) > 10 and len(sentence) < 250]\n",
        "    # concatenate to next if length < 100\n",
        "    return concatenate_short_sentences(sentence_expanded, 150)"
      ],
      "metadata": {
        "id": "nP5QhZ8DZy6x"
      },
      "execution_count": 34,
      "outputs": []
    },
    {
      "cell_type": "code",
      "source": [
        "split_to_sentences(prompt)"
      ],
      "metadata": {
        "colab": {
          "base_uri": "https://localhost:8080/"
        },
        "id": "gytjww7MaM_X",
        "outputId": "74c32445-04af-4623-8f34-d43996d9767b"
      },
      "execution_count": 35,
      "outputs": [
        {
          "output_type": "execute_result",
          "data": {
            "text/plain": [
              "[\"As Jane Cook, I am writing to let my doctor know about my current health status. I've been having flexible working hours for Apple's product development team members, designed to promote a healthy work-life balance, potentially leading to better sleep patterns, reduced stress levels, and overall improved well-being.\",\n",
              " 'Over the past few days,  I have been experiencing fever, fatigue, and difficulty breathing, which has made it hard for me to carry out daily activities.',\n",
              " 'My blood pressure is low, but my cholesterol level is normal.   I am feeling really tired and weak, and even simple tasks like getting dressed or taking a shower leave me exhausted.',\n",
              " \"My breathing is labored, and I often feel winded after just a few minutes of talking or walking. I have a hard time walking to the collaborative workspaces at Apple's Silicon Valley locations.\",\n",
              " \"The fever has been persistent, and it's making me feel quite uncomfortable.   Given my symptoms, I am worried that there might be something serious going on with my health.\",\n",
              " 'I would greatly appreciate it if you could look into this matter as soon as possible and let me know what is causing these symptoms. My email address is williamsjennifer@example.net, and my phone number is 001-974-704-4096x550.',\n",
              " 'Thank you for your attention to this matter.   I am looking forward to hearing from you soon.',\n",
              " \"I am traveling to China and will stay there for a couple of weeks for doing supplier audits.. Please let me know if there's any additional information or tests that I need to undergo to determine the cause of my symptoms.\"]"
            ]
          },
          "metadata": {},
          "execution_count": 35
        }
      ]
    },
    {
      "cell_type": "code",
      "source": [
        "def query_similar_search(query_text: list[str], model, vector_database, k=3) -> list[dict]:\n",
        "  results = []\n",
        "  for query in query_text:\n",
        "    query_embedding = generate_embedding_cls(query, model)\n",
        "    query_embedding = embedding_vectordatabase(query_embedding)\n",
        "    distances, indices = vector_database.search(query_embedding, k)\n",
        "\n",
        "    results.append({\n",
        "        \"query_text\": query,\n",
        "        \"distances\": distances,\n",
        "        \"indices\": indices\n",
        "    })\n",
        "  return results"
      ],
      "metadata": {
        "id": "ZrHNdqtSbOyO"
      },
      "execution_count": 36,
      "outputs": []
    },
    {
      "cell_type": "code",
      "source": [
        "# vectorize it and inference the text by batch to leverage the GPU.\n",
        "def query_similar_search_batching(query_text: list[str], model, vector_database, k=3) -> list[dict]:\n",
        "\n",
        "    query_embedding = generate_embedding_cls(query_text, model)\n",
        "    distances, indices = vector_database.search(query_embedding, k)\n",
        "\n",
        "    results = []\n",
        "    for i, query in enumerate(query_text):\n",
        "        results.append({\n",
        "        \"query_text\": query,\n",
        "        \"distances\": distances[i],\n",
        "        \"indices\": indices[i]\n",
        "        })\n",
        "\n",
        "    return results"
      ],
      "metadata": {
        "id": "JFsGNitrB25A"
      },
      "execution_count": 37,
      "outputs": []
    },
    {
      "cell_type": "code",
      "source": [
        "prompt_sentences = split_to_sentences(prompt)"
      ],
      "metadata": {
        "id": "m9jFDbPa0YDx"
      },
      "execution_count": 38,
      "outputs": []
    },
    {
      "cell_type": "code",
      "source": [
        "ss = query_similar_search_batching(prompt_sentences, model_v5data, index_cls_v5, k=3)\n",
        "ss"
      ],
      "metadata": {
        "colab": {
          "base_uri": "https://localhost:8080/"
        },
        "id": "DpmmP3yaCNVU",
        "outputId": "1b82cc18-682f-4dd8-f48c-90722537e8d5"
      },
      "execution_count": 39,
      "outputs": [
        {
          "output_type": "execute_result",
          "data": {
            "text/plain": [
              "[{'query_text': \"As Jane Cook, I am writing to let my doctor know about my current health status. I've been having flexible working hours for Apple's product development team members, designed to promote a healthy work-life balance, potentially leading to better sleep patterns, reduced stress levels, and overall improved well-being.\",\n",
              "  'distances': array([12.386377, 14.239104, 16.75228 ], dtype=float32),\n",
              "  'indices': array([8, 5, 2])},\n",
              " {'query_text': 'Over the past few days,  I have been experiencing fever, fatigue, and difficulty breathing, which has made it hard for me to carry out daily activities.',\n",
              "  'distances': array([644.75714, 650.1165 , 652.74316], dtype=float32),\n",
              "  'indices': array([4, 1, 8])},\n",
              " {'query_text': 'My blood pressure is low, but my cholesterol level is normal.   I am feeling really tired and weak, and even simple tasks like getting dressed or taking a shower leave me exhausted.',\n",
              "  'distances': array([577.67096, 580.9273 , 585.0229 ], dtype=float32),\n",
              "  'indices': array([4, 1, 8])},\n",
              " {'query_text': \"My breathing is labored, and I often feel winded after just a few minutes of talking or walking. I have a hard time walking to the collaborative workspaces at Apple's Silicon Valley locations.\",\n",
              "  'distances': array([79.20394 , 81.221375, 81.30047 ], dtype=float32),\n",
              "  'indices': array([1, 6, 4])},\n",
              " {'query_text': \"The fever has been persistent, and it's making me feel quite uncomfortable.   Given my symptoms, I am worried that there might be something serious going on with my health.\",\n",
              "  'distances': array([672.484  , 678.81506, 683.0342 ], dtype=float32),\n",
              "  'indices': array([4, 1, 8])},\n",
              " {'query_text': 'I would greatly appreciate it if you could look into this matter as soon as possible and let me know what is causing these symptoms. My email address is williamsjennifer@example.net, and my phone number is 001-974-704-4096x550.',\n",
              "  'distances': array([682.66614, 691.3947 , 693.4217 ], dtype=float32),\n",
              "  'indices': array([4, 8, 1])},\n",
              " {'query_text': 'Thank you for your attention to this matter.   I am looking forward to hearing from you soon.',\n",
              "  'distances': array([774.18835, 786.1691 , 786.687  ], dtype=float32),\n",
              "  'indices': array([4, 6, 1])},\n",
              " {'query_text': \"I am traveling to China and will stay there for a couple of weeks for doing supplier audits.. Please let me know if there's any additional information or tests that I need to undergo to determine the cause of my symptoms.\",\n",
              "  'distances': array([224.03633, 225.9138 , 229.2518 ], dtype=float32),\n",
              "  'indices': array([6, 1, 7])}]"
            ]
          },
          "metadata": {},
          "execution_count": 39
        }
      ]
    },
    {
      "cell_type": "code",
      "source": [
        "# ss = query_similar_search(prompt_sentences, model_v5data, index_cls_v5, k=3)\n",
        "# ss\n",
        "\n",
        "# CPU: 42s (90% of the time is spent on BERT inference)\n",
        "# GPU T4: 24s (for all chunks) 4s (for the entire prompt without chunking it)\n",
        "# IVF + GPU T4: 24s\n",
        "# GPU + batching: 5s\n",
        "# CPU + batching: 7s"
      ],
      "metadata": {
        "id": "dd-d-SWka4Me"
      },
      "execution_count": null,
      "outputs": []
    },
    {
      "cell_type": "code",
      "source": [
        "# use the prompt to get an overall retrieval\n",
        "k=3\n",
        "\n",
        "query_embedding = generate_embedding_cls(prompt, model_v5data)\n",
        "query_embedding = embedding_vectordatabase(query_embedding)\n",
        "distances, indices = index_cls_v5.search(query_embedding, k)\n",
        "\n",
        "print(distances, indices)"
      ],
      "metadata": {
        "id": "T6NpOTZfLEal",
        "outputId": "e008e8a2-0ce9-4e6f-ecb6-49e2e68b3935",
        "colab": {
          "base_uri": "https://localhost:8080/"
        }
      },
      "execution_count": 40,
      "outputs": [
        {
          "output_type": "stream",
          "name": "stdout",
          "text": [
            "[[33.76567  35.953167 38.05133 ]] [[8 5 6]]\n"
          ]
        }
      ]
    },
    {
      "cell_type": "code",
      "source": [
        "def hint_generator(similar_search: list[dict], threshold) -> dict:\n",
        "    hint = {}\n",
        "    for ss_chunks in similar_search:\n",
        "        items = []\n",
        "        for i, d in enumerate(ss_chunks['distances']):\n",
        "            if d < threshold: #found related information\n",
        "                chunks = ss_chunks['query_text']\n",
        "                items.append(ss_chunks['indices'][i])\n",
        "        if items:\n",
        "            hint[chunks] = items\n",
        "    return hint\n",
        "# return a dictionary that saves which chunk contains sensitive information related to which items?"
      ],
      "metadata": {
        "id": "lvY0RtOSt7rR"
      },
      "execution_count": 41,
      "outputs": []
    },
    {
      "cell_type": "code",
      "source": [
        "threshold = 500\n",
        "hint = hint_generator(ss, threshold)\n",
        "for chunk, item in zip(hint.keys(), hint.values()):\n",
        "    print(f\"We found sensitive information related to item: {item} in the chunk: {chunk}\")\n",
        "\n",
        "# hyperparameter for the sensitivity of two_tower: chunking size, threshold, and blacklist.\n",
        "# obvious one, distance <50,\n",
        "# medium one, distance 50~100\n",
        "# subtle one, distance 100~500\n",
        "# irrelevant: distance > 600"
      ],
      "metadata": {
        "colab": {
          "base_uri": "https://localhost:8080/"
        },
        "id": "Ispw_MpUeWQ3",
        "outputId": "23186d87-28be-47bc-a1c5-7378929174a5"
      },
      "execution_count": 42,
      "outputs": [
        {
          "output_type": "stream",
          "name": "stdout",
          "text": [
            "We found sensitive information related to item: [8, 5, 2] in the chunk: As Jane Cook, I am writing to let my doctor know about my current health status. I've been having flexible working hours for Apple's product development team members, designed to promote a healthy work-life balance, potentially leading to better sleep patterns, reduced stress levels, and overall improved well-being.\n",
            "We found sensitive information related to item: [1, 6, 4] in the chunk: My breathing is labored, and I often feel winded after just a few minutes of talking or walking. I have a hard time walking to the collaborative workspaces at Apple's Silicon Valley locations.\n",
            "We found sensitive information related to item: [6, 1, 7] in the chunk: I am traveling to China and will stay there for a couple of weeks for doing supplier audits.. Please let me know if there's any additional information or tests that I need to undergo to determine the cause of my symptoms.\n"
          ]
        }
      ]
    },
    {
      "cell_type": "markdown",
      "source": [
        "# Ana's test examples"
      ],
      "metadata": {
        "id": "kKocsqYk4Lza"
      }
    },
    {
      "cell_type": "code",
      "source": [
        "# create vector databases\n",
        "import faiss\n",
        "import numpy as np\n",
        "\n",
        "dimension = 768  # Dimension of BERT-base embeddings\n",
        "index_cls_v5 = faiss.IndexFlatL2(dimension)"
      ],
      "metadata": {
        "id": "DXOrfzU95FKN"
      },
      "execution_count": 43,
      "outputs": []
    },
    {
      "cell_type": "markdown",
      "source": [
        "![precision_at_k_1.png](data:image/png;base64,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)"
      ],
      "metadata": {
        "id": "tiWgUsRQmuNk"
      }
    },
    {
      "cell_type": "markdown",
      "source": [
        "![precision_at_k_2.png](data:image/png;base64,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)"
      ],
      "metadata": {
        "id": "uuWN4noXmwPw"
      }
    },
    {
      "cell_type": "markdown",
      "source": [
        "Make contents in the blacklist more explicit to help the similar search process and differ one and another."
      ],
      "metadata": {
        "id": "MblPgYr4nBP5"
      }
    },
    {
      "cell_type": "code",
      "source": [
        "\n",
        "# Ask GPT to generate a blaclist for a foot doctor\n",
        "level_four_job = [\"Offers attractive salaries and bonuses for experienced podiatrists, aiming to enhance job satisfaction and financial well-being. Comprehensive health insurance and malpractice insurance included.\",\n",
        "                  \"Includes relocation assistance and housing allowance for podiatrists joining prestigious health centers, ensuring a smooth transition to new locations.\",\n",
        "                  \"Provides podiatry department staff with access to the latest medical equipment and on-site wellness programs, promoting a healthy work environment.\",\n",
        "                  \"Rewards exceptional patient care with bonuses and offers generous funding for continuous education and specialization in podiatry. State-of-the-Art Facilities: Podiatrists will work in ergonomically designed clinics and operating rooms, equipped with advanced podiatric tools for surgeries and treatments.\",\n",
        "                  \"Podiatrists will work in ergonomically designed clinics and operating rooms, equipped with advanced podiatric tools for surgeries and treatments.\",\n",
        "                  \"Focuses on advancing leadership and technical skills within podiatry, offering specialized programs for career growth.\",\n",
        "                  \"Ensures patient privacy and compliance with healthcare privacy laws through training and support in best practices for data protection.\",\n",
        "                  \"Offers opportunities to attend international podiatric conferences, facilitating professional networking and exposure to global health initiatives.\",\n",
        "                  \"Promotes a healthy work-life balance with options for part-time positions and flexible scheduling, catering to the needs of the medical staff.\",\n",
        "                  \"Enhances team dynamics and collaboration through retreats and workshops, fostering innovation and a supportive work culture in podiatry.\"]\n",
        "\n",
        "for input in level_four_job:\n",
        "  embeddings = generate_embedding_cls(input, model_v5data)\n",
        "  index_cls_v5.add(embedding_vectordatabase(embeddings))\n",
        "print(index_cls_v5.ntotal)"
      ],
      "metadata": {
        "id": "GycoYDi93xIz",
        "outputId": "f6b95f6f-254a-4d57-fe71-4d408893bad6",
        "colab": {
          "base_uri": "https://localhost:8080/"
        }
      },
      "execution_count": 44,
      "outputs": [
        {
          "output_type": "stream",
          "name": "stdout",
          "text": [
            "10\n"
          ]
        }
      ]
    },
    {
      "cell_type": "code",
      "source": [
        "#from Ana\n",
        "\n",
        "prompt = f\"\"\"Dear Dr. Smith,\n",
        "\n",
        "I hope this message finds you well. My name is Katherine Hahn, and I am a 25-year-old patient born on March 27, 1999. I live at 2097 Bush Coves, New Anthony, CO 46205, and I can be reached at 304-686-8346x989 or via email at christopher40@example.com.\n",
        "\n",
        "I work as a Chiropodist and am from Israel. I am Hindu and support the Democratic party. I have been experiencing a persistent cough and fatigue recently. My blood pressure and cholesterol levels are within the normal range.\n",
        "\n",
        "These symptoms have been affecting my day-to-day activities, which typically include assessing, diagnosing, and treating foot and ankle conditions, such as corns, calluses, ingrown toenails, and plantar warts. I also provide advice on foot care, footwear, and orthotics.\n",
        "\n",
        "I would like to request a follow-up appointment to discuss these symptoms further and explore potential treatment options. Please let me know your availability so we can schedule a convenient time for me to come in.\n",
        "\n",
        "Thank you for your attention to this matter. I look forward to hearing from you soon.\n",
        "\n",
        "Warm regards,\n",
        "\n",
        "Katherine Hahn\"\"\""
      ],
      "metadata": {
        "id": "011zHNlr4srK"
      },
      "execution_count": 45,
      "outputs": []
    },
    {
      "cell_type": "code",
      "source": [
        "split_to_sentences(prompt)"
      ],
      "metadata": {
        "id": "QrBYJPfI40zq",
        "outputId": "0c4f77a4-4bb8-4fa1-ce42-294fdc62168d",
        "colab": {
          "base_uri": "https://localhost:8080/"
        }
      },
      "execution_count": 46,
      "outputs": [
        {
          "output_type": "execute_result",
          "data": {
            "text/plain": [
              "['Dear Dr. Smith, I hope this message finds you well.',\n",
              " 'My name is Katherine Hahn, and I am a 25-year-old patient born on March 27, 1999. I live at 2097 Bush Coves, New Anthony, CO 46205, and I can be reached at 304-686-8346x989 or via email at christopher40@example.com.',\n",
              " 'I work as a Chiropodist and am from Israel. I am Hindu and support the Democratic party.',\n",
              " 'I have been experiencing a persistent cough and fatigue recently. My blood pressure and cholesterol levels are within the normal range.',\n",
              " 'These symptoms have been affecting my day-to-day activities, which typically include assessing, diagnosing, and treating foot and ankle conditions, such as corns, calluses, ingrown toenails, and plantar warts.',\n",
              " 'I also provide advice on foot care, footwear, and orthotics. I would like to request a follow-up appointment to discuss these symptoms further and explore potential treatment options.',\n",
              " 'Please let me know your availability so we can schedule a convenient time for me to come in. Thank you for your attention to this matter.',\n",
              " 'I look forward to hearing from you soon. Warm regards,',\n",
              " 'Katherine Hahn']"
            ]
          },
          "metadata": {},
          "execution_count": 46
        }
      ]
    },
    {
      "cell_type": "code",
      "source": [
        "prompt_sentences = split_to_sentences(prompt)\n",
        "ss = query_similar_search(prompt_sentences, model_v5data, index_cls_v5, k=3)\n",
        "ss"
      ],
      "metadata": {
        "id": "4o1NA0zZ471v",
        "outputId": "4c637ec8-ebf8-4d99-e0bd-34827f2cdc96",
        "colab": {
          "base_uri": "https://localhost:8080/"
        }
      },
      "execution_count": 47,
      "outputs": [
        {
          "output_type": "execute_result",
          "data": {
            "text/plain": [
              "[{'query_text': 'Dear Dr. Smith, I hope this message finds you well.',\n",
              "  'distances': array([[733.7967 , 734.79175, 737.0455 ]], dtype=float32),\n",
              "  'indices': array([[6, 1, 9]])},\n",
              " {'query_text': 'My name is Katherine Hahn, and I am a 25-year-old patient born on March 27, 1999. I live at 2097 Bush Coves, New Anthony, CO 46205, and I can be reached at 304-686-8346x989 or via email at christopher40@example.com.',\n",
              "  'distances': array([[535.23236, 536.8525 , 545.88477]], dtype=float32),\n",
              "  'indices': array([[1, 6, 9]])},\n",
              " {'query_text': 'I work as a Chiropodist and am from Israel. I am Hindu and support the Democratic party.',\n",
              "  'distances': array([[41.987576, 44.165726, 46.09533 ]], dtype=float32),\n",
              "  'indices': array([[8, 9, 7]])},\n",
              " {'query_text': 'I have been experiencing a persistent cough and fatigue recently. My blood pressure and cholesterol levels are within the normal range.',\n",
              "  'distances': array([[538.3842 , 543.236  , 552.02405]], dtype=float32),\n",
              "  'indices': array([[1, 6, 9]])},\n",
              " {'query_text': 'These symptoms have been affecting my day-to-day activities, which typically include assessing, diagnosing, and treating foot and ankle conditions, such as corns, calluses, ingrown toenails, and plantar warts.',\n",
              "  'distances': array([[292.58878, 300.62643, 310.0006 ]], dtype=float32),\n",
              "  'indices': array([[1, 6, 8]])},\n",
              " {'query_text': 'I also provide advice on foot care, footwear, and orthotics. I would like to request a follow-up appointment to discuss these symptoms further and explore potential treatment options.',\n",
              "  'distances': array([[103.12696, 110.66935, 112.55908]], dtype=float32),\n",
              "  'indices': array([[6, 8, 7]])},\n",
              " {'query_text': 'Please let me know your availability so we can schedule a convenient time for me to come in. Thank you for your attention to this matter.',\n",
              "  'distances': array([[745.808 , 746.6876, 749.2011]], dtype=float32),\n",
              "  'indices': array([[1, 6, 9]])},\n",
              " {'query_text': 'I look forward to hearing from you soon. Warm regards,',\n",
              "  'distances': array([[675.6041, 679.0521, 679.6436]], dtype=float32),\n",
              "  'indices': array([[6, 9, 1]])},\n",
              " {'query_text': 'Katherine Hahn',\n",
              "  'distances': array([[408.58075, 411.53613, 417.79483]], dtype=float32),\n",
              "  'indices': array([[1, 6, 9]])}]"
            ]
          },
          "metadata": {},
          "execution_count": 47
        }
      ]
    },
    {
      "cell_type": "code",
      "source": [
        "def hint_generator(similar_search: list[dict], threshold: float) -> dict:\n",
        "    hint = {}\n",
        "    for ss_chunks in similar_search:\n",
        "        items = []\n",
        "        chunks = ss_chunks['query_text']\n",
        "        for i, d in enumerate(ss_chunks['distances'][0]):  # Access the first element of the array\n",
        "            if d < threshold:  # found related information\n",
        "                items.append(ss_chunks['indices'][0][i])  # Access the first element of the array\n",
        "        if items:\n",
        "            hint[chunks] = items\n",
        "    return hint"
      ],
      "metadata": {
        "id": "9G9AODgEo_D5"
      },
      "execution_count": 49,
      "outputs": []
    },
    {
      "cell_type": "code",
      "source": [
        "threshold = 400\n",
        "hint = hint_generator(ss, threshold)\n",
        "for chunk, item in zip(hint.keys(), hint.values()):\n",
        "    print(f\"We found sensitive information related to item: {item} in the chunk: {chunk}\")\n",
        "\n",
        "\n",
        "# hyperparameter for the sensitivity of two_tower: chunking size, threshold, and blacklist.\n",
        "# obvious one, distance <50,\n",
        "# medium one, distance 50~100\n",
        "# subtle one, distance 100~500\n",
        "# irrelevant: distance > 600"
      ],
      "metadata": {
        "id": "pdAyp2-H4-SP",
        "outputId": "b08b50d2-11e0-42f0-e0e7-62a11429f030",
        "colab": {
          "base_uri": "https://localhost:8080/"
        }
      },
      "execution_count": 51,
      "outputs": [
        {
          "output_type": "stream",
          "name": "stdout",
          "text": [
            "We found sensitive information related to item: [8, 9, 7] in the chunk: I work as a Chiropodist and am from Israel. I am Hindu and support the Democratic party.\n",
            "We found sensitive information related to item: [1, 6, 8] in the chunk: These symptoms have been affecting my day-to-day activities, which typically include assessing, diagnosing, and treating foot and ankle conditions, such as corns, calluses, ingrown toenails, and plantar warts.\n",
            "We found sensitive information related to item: [6, 8, 7] in the chunk: I also provide advice on foot care, footwear, and orthotics. I would like to request a follow-up appointment to discuss these symptoms further and explore potential treatment options.\n"
          ]
        }
      ]
    },
    {
      "cell_type": "markdown",
      "source": [
        "Inverted file system, using K-mean to get a centroid of the cluster. Search the centroid first and retrieve the data points in the cluster only to speed up the similar search."
      ],
      "metadata": {
        "id": "uuaH9XPkhUNc"
      }
    },
    {
      "cell_type": "code",
      "source": [
        "level_four_job = [\"Competitive salary packages for individuals in iPhone project management roles, recognized for enhancing job satisfaction and financial well-being, potentially contributing to improved mental and physical health outcomes.\",\n",
        "                  \"Relocation benefits for Apple Cupertino campus positions.\",\n",
        "                  \"Exclusive health and wellness benefits for iPhone development team members.\",\n",
        "                  \"Stock options and bonuses for iPhone project milestones.\",\n",
        "                  \"Providing state-of-the-art collaborative workspaces specifically at Apple's renowned Silicon Valley locations, designed to foster innovation and teamwork among tech professionals.\",\n",
        "                  \"Exclusive professional development programs available for iOS project leads, focusing on advancing leadership skills and technical expertise in Apple's ecosystem.\",\n",
        "                  \"Confidentiality agreements for upcoming iPhone projects.\",\n",
        "                  \"Global travel opportunities for iPhone supplier audits.\",\n",
        "                  \"Flexible working hours for Apple's product development team members, designed to promote a healthy work-life balance, potentially leading to better sleep patterns, reduced stress levels, and overall improved well-being.\",\n",
        "                  \"Team-building retreats for iPhone project managers.\"]\n"
      ],
      "metadata": {
        "id": "WWIjj879iRMT"
      },
      "execution_count": null,
      "outputs": []
    },
    {
      "cell_type": "code",
      "source": [
        "import faiss\n",
        "\n",
        "dimension = 768\n",
        "nlist = 5\n",
        "quantizer = faiss.IndexFlatL2(dimension)\n",
        "index_ivf = faiss.IndexIVFFlat(quantizer, dimension, nlist, faiss.METRIC_L2)\n",
        "\n",
        "embeddings_list = [generate_embedding_cls(text, model_v5data) for text in level_four_job]\n",
        "embeddings = np.array(embeddings_list, dtype=\"float32\")\n",
        "embeddings = embeddings.reshape(-1, embeddings.shape[-1])\n",
        "\n",
        "\n",
        "if not index_ivf.is_trained:\n",
        "    index_ivf.train(embeddings)  # 'embeddings' should be a matrix of your embeddings\n",
        "\n",
        "for input in level_four_job:\n",
        "  embeddings = generate_embedding_cls(input, model_v5data)\n",
        "  index_ivf.add(embeddings)\n",
        "\n",
        "print(index_ivf.ntotal)"
      ],
      "metadata": {
        "id": "ijh7m072hmcT"
      },
      "execution_count": null,
      "outputs": []
    },
    {
      "cell_type": "code",
      "source": [
        "index_ivf.nprobe = 1  # Consider only the closest cluster. before ss"
      ],
      "metadata": {
        "id": "0ol-6QQyjwXF"
      },
      "execution_count": null,
      "outputs": []
    },
    {
      "cell_type": "code",
      "source": [
        "job_related_8 = \"I've been having flexible working hours for Apple's product development team members, designed to promote a healthy work-life balance, potentially leading to better sleep patterns, reduced stress levels, and overall improved well-being.\" #easiest\n",
        "job_related_4 = \"I have a hard time walking to the collaborative workspaces at Apple's Silicon Valley locations.\"\n",
        "job_related_7 = \"I am traveling to China and will stay there for a couple of weeks for doing supplier audits.\" #subtly inject the information\n",
        "\n",
        "\n",
        "\n",
        "prompt = f\"\"\"As Jane Cook, I am writing to let my doctor know about my current health status. {job_related_8} Over the past few days,  I have been experiencing fever, fatigue, and difficulty breathing, which has made it hard for me to carry out daily activities. My blood pressure is low, but my cholesterol level is normal.\n",
        "  I am feeling really tired and weak, and even simple tasks like getting dressed or taking a shower leave me exhausted. My breathing is labored, and I often feel winded after just a few minutes of talking or walking. {job_related_4} The fever has been persistent, and it's making me feel quite uncomfortable.\n",
        "  Given my symptoms, I am worried that there might be something serious going on with my health. I would greatly appreciate it if you could look into this matter as soon as possible and let me know what is causing these symptoms. My email address is williamsjennifer@example.net, and my phone number is 001-974-704-4096x550. Thank you for your attention to this matter.\n",
        "  I am looking forward to hearing from you soon. {job_related_7}. Please let me know if there's any additional information or tests that I need to undergo to determine the cause of my symptoms.\"\"\""
      ],
      "metadata": {
        "id": "5h-dNYyOikBt"
      },
      "execution_count": null,
      "outputs": []
    },
    {
      "cell_type": "code",
      "source": [
        "def query_similar_search_ivf(query_text: list[str], model, vector_database, k=3) -> list[dict]:\n",
        "  results = []\n",
        "  for query in query_text:\n",
        "    query_embedding = generate_embedding_cls(query, model)\n",
        "    query_embedding = embedding_vectordatabase(query_embedding)\n",
        "    distances, indices = vector_database.search(query_embedding, k)\n",
        "    results.append({\n",
        "        \"query_text\": query,\n",
        "        \"distances\": distances,\n",
        "        \"indices\": indices\n",
        "    })\n",
        "  return results"
      ],
      "metadata": {
        "id": "-4f7FVv3in3O"
      },
      "execution_count": null,
      "outputs": []
    },
    {
      "cell_type": "code",
      "source": [
        "ss = query_similar_search(prompt, model_v5data, index_ivf, k=3)\n",
        "ss"
      ],
      "metadata": {
        "id": "Tp1wepZOm8DX"
      },
      "execution_count": null,
      "outputs": []
    },
    {
      "cell_type": "code",
      "source": [
        "prompt_sentences = split_to_sentences(prompt)\n",
        "ss = query_similar_search(prompt_sentences, model_v5data, index_ivf, k=1)\n",
        "ss"
      ],
      "metadata": {
        "id": "IzCsRCf1ihTG"
      },
      "execution_count": null,
      "outputs": []
    },
    {
      "cell_type": "markdown",
      "source": [
        "Test for dob"
      ],
      "metadata": {
        "id": "f5jcPZc3HUF6"
      }
    },
    {
      "cell_type": "code",
      "source": [
        "# create vector databases\n",
        "import faiss\n",
        "import numpy as np\n",
        "\n",
        "dimension = 768  # Dimension of BERT-base embeddings\n",
        "index_cls_v5_job_dob = faiss.IndexFlatL2(dimension)"
      ],
      "metadata": {
        "id": "6RiRLNfVHWAn"
      },
      "execution_count": null,
      "outputs": []
    },
    {
      "cell_type": "code",
      "source": [
        "# bad at 0, 4, 5, 8, rewrote it\n",
        "# set dob as item 10\n",
        "\n",
        "level_four_job = [\"Competitive salary packages for individuals in iPhone project management roles, recognized for enhancing job satisfaction and financial well-being, potentially contributing to improved mental and physical health outcomes.\",\n",
        "                  \"Relocation benefits for Apple Cupertino campus positions.\",\n",
        "                  \"Exclusive health and wellness benefits for iPhone development team members.\",\n",
        "                  \"Stock options and bonuses for iPhone project milestones.\",\n",
        "                  \"Providing state-of-the-art collaborative workspaces specifically at Apple's renowned Silicon Valley locations, designed to foster innovation and teamwork among tech professionals.\",\n",
        "                  \"Exclusive professional development programs available for iOS project leads, focusing on advancing leadership skills and technical expertise in Apple's ecosystem.\",\n",
        "                  \"Confidentiality agreements for upcoming iPhone projects.\",\n",
        "                  \"Global travel opportunities for iPhone supplier audits.\",\n",
        "                  \"Flexible working hours for Apple's product development team members, designed to promote a healthy work-life balance, potentially leading to better sleep patterns, reduced stress levels, and overall improved well-being.\",\n",
        "                  \"Team-building retreats for iPhone project managers.\",\n",
        "                  \"I born on March 27, 1999 and my birthday is on March 27.\"]\n",
        "\n",
        "for input in level_four_job:\n",
        "  embeddings = generate_embedding_cls(input, model_v5data)\n",
        "  index_cls_v5_job_dob.add(embedding_vectordatabase(embeddings))\n",
        "print(index_cls_v5_job_dob.ntotal)"
      ],
      "metadata": {
        "id": "MkdyUnjTHZdH"
      },
      "execution_count": null,
      "outputs": []
    },
    {
      "cell_type": "code",
      "source": [
        "job_related_8 = \"I've been having flexible working hours for Apple's product development team members, designed to promote a healthy work-life balance, potentially leading to better sleep patterns, reduced stress levels, and overall improved well-being.\" #easiest\n",
        "job_related_4 = \"I have a hard time walking to the collaborative workspaces at Apple's Silicon Valley locations.\"\n",
        "job_related_7 = \"I am traveling to China and will stay there for a couple of weeks for doing supplier audits.\" #subtly inject the information\n",
        "dob_10 = \"I am 25 years old and I born on March 27, 1999.\"\n",
        "dob_10_2 = \"I born in 1999 and my birthday is on March 27.\"\n",
        "\n",
        "\n",
        "prompt = f\"\"\"As Jane Cook, {dob_10} I am writing to let my doctor know about my current health status. {job_related_8} Over the past few days,  I have been experiencing fever, fatigue, and difficulty breathing, which has made it hard for me to carry out daily activities. My blood pressure is low, but my cholesterol level is normal.\n",
        "  I am feeling really tired and weak, and even simple tasks like getting dressed or taking a shower leave me exhausted. My breathing is labored, and I often feel winded after just a few minutes of talking or walking. {job_related_4} The fever has been persistent, and it's making me feel quite uncomfortable.\n",
        "  Given my symptoms, I am worried that there might be something serious going on with my health. I would greatly appreciate it if you could look into this matter as soon as possible and let me know what is causing these symptoms. My email address is williamsjennifer@example.net, and my phone number is 001-974-704-4096x550. Thank you for your attention to this matter.\n",
        "  I am looking forward to hearing from you soon. {job_related_7}. by the way, {dob_10_2} Please let me know if there's any additional information or tests that I need to undergo to determine the cause of my symptoms.\"\"\""
      ],
      "metadata": {
        "id": "vXcxErg5HcKs"
      },
      "execution_count": null,
      "outputs": []
    },
    {
      "cell_type": "code",
      "source": [
        "split_to_sentences(prompt)"
      ],
      "metadata": {
        "id": "tE3nnyiOHiEO"
      },
      "execution_count": null,
      "outputs": []
    },
    {
      "cell_type": "code",
      "source": [
        "prompt_sentences = split_to_sentences(prompt)"
      ],
      "metadata": {
        "id": "l0COIDMuHiGd"
      },
      "execution_count": null,
      "outputs": []
    },
    {
      "cell_type": "code",
      "source": [
        "ss = query_similar_search_batching(prompt_sentences, model_v5data, index_cls_v5_job_dob, k=3)\n",
        "ss"
      ],
      "metadata": {
        "id": "67sWWADSHio0"
      },
      "execution_count": null,
      "outputs": []
    },
    {
      "cell_type": "markdown",
      "source": [
        "The model seems confused when we have dob in our blacklist. Create a new blacklist for dob"
      ],
      "metadata": {
        "id": "jUsgrnfgIOdn"
      }
    },
    {
      "cell_type": "code",
      "source": [
        "dimension = 768  # Dimension of BERT-base embeddings\n",
        "index_cls_v5_job = faiss.IndexFlatL2(dimension)\n",
        "index_cls_v5_dob = faiss.IndexFlatL2(dimension)"
      ],
      "metadata": {
        "id": "dBfYFNSxIhu5"
      },
      "execution_count": null,
      "outputs": []
    },
    {
      "cell_type": "code",
      "source": [
        "level_four_job = [\"Competitive salary packages for individuals in iPhone project management roles, recognized for enhancing job satisfaction and financial well-being, potentially contributing to improved mental and physical health outcomes.\",\n",
        "                  \"Relocation benefits for Apple Cupertino campus positions.\",\n",
        "                  \"Exclusive health and wellness benefits for iPhone development team members.\",\n",
        "                  \"Stock options and bonuses for iPhone project milestones.\",\n",
        "                  \"Providing state-of-the-art collaborative workspaces specifically at Apple's renowned Silicon Valley locations, designed to foster innovation and teamwork among tech professionals.\",\n",
        "                  \"Exclusive professional development programs available for iOS project leads, focusing on advancing leadership skills and technical expertise in Apple's ecosystem.\",\n",
        "                  \"Confidentiality agreements for upcoming iPhone projects.\",\n",
        "                  \"Global travel opportunities for iPhone supplier audits.\",\n",
        "                  \"Flexible working hours for Apple's product development team members, designed to promote a healthy work-life balance, potentially leading to better sleep patterns, reduced stress levels, and overall improved well-being.\",\n",
        "                  \"Team-building retreats for iPhone project managers.\"]\n",
        "\n",
        "\n",
        "for input in level_four_job:\n",
        "  embeddings = generate_embedding_cls(input, model_v5data)\n",
        "  index_cls_v5_job.add(embedding_vectordatabase(embeddings))\n",
        "print(index_cls_v5_job.ntotal)\n"
      ],
      "metadata": {
        "id": "sSkZMIOfInv2",
        "outputId": "17d42db8-6852-4338-e276-3f1e557498de",
        "colab": {
          "base_uri": "https://localhost:8080/"
        }
      },
      "execution_count": null,
      "outputs": [
        {
          "output_type": "stream",
          "name": "stdout",
          "text": [
            "10\n"
          ]
        }
      ]
    },
    {
      "cell_type": "code",
      "source": [
        "dob = [\"I am Deborah Freeman, 25 years old and I was born on the 27th of March, 1999.\",\n",
        "       \"My birth date is March 27, 1999.\",\n",
        "       \"It's Deborah Freeman, born on November 18th, 1995\",\n",
        "       \"My name is Deborah Freeman and I was born on February 19th, 2000\",\n",
        "       \"born on August 31st, 1989. and currently residing at 48568 Perry Divide\",\n",
        "       \"born on March 17th, 1984. You can find me at 9141 Powell Valley Apt.\",\n",
        "       \"born on June 13, 1986, so that makes me 38 years young\"]\n",
        "\n",
        "\n",
        "for input in dob:\n",
        "  embeddings = generate_embedding_cls(input, model_v5data)\n",
        "  index_cls_v5_dob.add(embedding_vectordatabase(embeddings))\n",
        "print(index_cls_v5_dob.ntotal)"
      ],
      "metadata": {
        "id": "8Om9j2NZKEYw",
        "outputId": "f828320c-8a1f-43a3-8982-f38c1d49f7c0",
        "colab": {
          "base_uri": "https://localhost:8080/"
        }
      },
      "execution_count": null,
      "outputs": [
        {
          "output_type": "stream",
          "name": "stdout",
          "text": [
            "7\n"
          ]
        }
      ]
    },
    {
      "cell_type": "code",
      "source": [
        "job_related_8 = \"I've been having flexible working hours for Apple's product development team members, designed to promote a healthy work-life balance, potentially leading to better sleep patterns, reduced stress levels, and overall improved well-being.\" #easiest\n",
        "job_related_4 = \"I have a hard time walking to the collaborative workspaces at Apple's Silicon Valley locations.\"\n",
        "job_related_7 = \"I am traveling to China and will stay there for a couple of weeks for doing supplier audits.\" #subtly inject the information\n",
        "dob_10 = \"I am 25 years old and I born on March 27, 1999.\"\n",
        "dob_10_2 = \"I born in 1999 and my birthday is on March 27.\"\n",
        "\n",
        "\n",
        "prompt = f\"\"\"As Jane Cook, {dob_10} I am writing to let my doctor know about my current health status. {job_related_8} Over the past few days,  I have been experiencing fever, fatigue, and difficulty breathing, which has made it hard for me to carry out daily activities. My blood pressure is low, but my cholesterol level is normal.\n",
        "  I am feeling really tired and weak, and even simple tasks like getting dressed or taking a shower leave me exhausted. My breathing is labored, and I often feel winded after just a few minutes of talking or walking. {job_related_4} The fever has been persistent, and it's making me feel quite uncomfortable.\n",
        "  Given my symptoms, I am worried that there might be something serious going on with my health. I would greatly appreciate it if you could look into this matter as soon as possible and let me know what is causing these symptoms. My email address is williamsjennifer@example.net, and my phone number is 001-974-704-4096x550. Thank you for your attention to this matter.\n",
        "  I am looking forward to hearing from you soon. {job_related_7} Please let me know if there's any additional information or tests that I need to undergo to determine the cause of my symptoms. By the way, {dob_10_2}\"\"\""
      ],
      "metadata": {
        "id": "mmHX_lSGI6BC"
      },
      "execution_count": null,
      "outputs": []
    },
    {
      "cell_type": "code",
      "source": [
        "prompt = f\"\"\"\n",
        "Feeling extremely fatigued and overwhelmed at the moment, Sharon Thomas here, born on October 09, 1974, residing at 6831 Julie Avenue, Johnsonhaven, HU 82741. I work as a Civil engineer, consulting, and I am from Bosnia and Herzegovina, practicing Hinduism. My email is johnsoncynthia@example.net and phone number is +1-301-634-5114x4550. Last vacation was on July 15, 2021. Support the Guatemalan National Revolutionary Unity. Blood pressure and cholesterol levels are normal.\n",
        " As a civil engineer consultant, my day-to-day activities involve conducting site visits to assess ongoing construction projects, collaborating with architectural teams to develop building plans, and reviewing blueprints for compliance with building codes and regulations. I also spend time meeting with clients to discuss project requirements and deadlines, as well as presenting proposals for new projects.\n",
        "\n",
        "\"\"\""
      ],
      "metadata": {
        "id": "jw6qejeVHXlM"
      },
      "execution_count": null,
      "outputs": []
    },
    {
      "cell_type": "code",
      "source": [
        "import re\n",
        "\n",
        "def concatenate_short_sentences(sentence_list: list[str], characters_limit: int) -> list[str]:\n",
        "    concatenated_sentences = []\n",
        "    i = 0\n",
        "    while i < len(sentence_list):\n",
        "        if len(sentence_list[i]) < characters_limit and (i+1) < len(sentence_list):\n",
        "            concatenated_sentences.append(sentence_list[i] + \" \" + sentence_list[i+1])\n",
        "            i += 2\n",
        "        else:\n",
        "            concatenated_sentences.append(sentence_list[i])\n",
        "            i += 1\n",
        "    return concatenated_sentences\n",
        "\n",
        "def split_to_sentences_dob(text: str) -> list[str]:\n",
        "    paragraphs = re.split(r'\\n\\s*\\n', str(text))\n",
        "    sentences = [re.split(r'(?<!\\w\\.\\w.)(?<![A-Z][a-z]\\.)(?<=\\.|\\?|\\!)\\s', para) for para in paragraphs]\n",
        "    sentence_expanded = [sentence for sublist in sentences for sentence in sublist if len(sentence) > 10 and len(sentence) < 150]\n",
        "    # concatenate to next if length < 100\n",
        "    return sentence_expanded"
      ],
      "metadata": {
        "id": "qVr0J8rKLZ_H"
      },
      "execution_count": null,
      "outputs": []
    },
    {
      "cell_type": "code",
      "source": [
        "split_to_sentences_dob(prompt)"
      ],
      "metadata": {
        "id": "1dksFTZXI6vj",
        "outputId": "9ffba28f-23f2-4f8b-883c-09b6c24a90c6",
        "colab": {
          "base_uri": "https://localhost:8080/"
        }
      },
      "execution_count": null,
      "outputs": [
        {
          "output_type": "execute_result",
          "data": {
            "text/plain": [
              "['I work as a Civil engineer, consulting, and I am from Bosnia and Herzegovina, practicing Hinduism.',\n",
              " 'My email is johnsoncynthia@example.net and phone number is +1-301-634-5114x4550.',\n",
              " 'Last vacation was on July 15, 2021.',\n",
              " 'Support the Guatemalan National Revolutionary Unity.',\n",
              " 'Blood pressure and cholesterol levels are normal.',\n",
              " 'I also spend time meeting with clients to discuss project requirements and deadlines, as well as presenting proposals for new projects.']"
            ]
          },
          "metadata": {},
          "execution_count": 164
        }
      ]
    },
    {
      "cell_type": "code",
      "source": [
        "prompt_sentences = split_to_sentences(prompt)"
      ],
      "metadata": {
        "id": "EKfjXpCJM5ri"
      },
      "execution_count": null,
      "outputs": []
    },
    {
      "cell_type": "code",
      "source": [
        "# Similar search for dob information\n",
        "ss_dob = query_similar_search_batching(prompt_sentences, model_v5data, index_cls_v5_dob, k=1)\n",
        "ss_dob"
      ],
      "metadata": {
        "id": "kkAIud1uI9dX",
        "outputId": "97c12867-2e4b-441b-ad5f-0f7b5e5be6e2",
        "colab": {
          "base_uri": "https://localhost:8080/"
        }
      },
      "execution_count": null,
      "outputs": [
        {
          "output_type": "execute_result",
          "data": {
            "text/plain": [
              "[{'query_text': '\\nFeeling extremely fatigued and overwhelmed at the moment, Sharon Thomas here, born on October 09, 1974, residing at 6831 Julie Avenue, Johnsonhaven, HU 82741.',\n",
              "  'distances': array([48.539845], dtype=float32),\n",
              "  'indices': array([0])},\n",
              " {'query_text': 'I work as a Civil engineer, consulting, and I am from Bosnia and Herzegovina, practicing Hinduism. My email is johnsoncynthia@example.net and phone number is +1-301-634-5114x4550.',\n",
              "  'distances': array([198.97981], dtype=float32),\n",
              "  'indices': array([4])},\n",
              " {'query_text': 'Last vacation was on July 15, 2021. Support the Guatemalan National Revolutionary Unity.',\n",
              "  'distances': array([177.57211], dtype=float32),\n",
              "  'indices': array([4])},\n",
              " {'query_text': 'Blood pressure and cholesterol levels are normal. I also spend time meeting with clients to discuss project requirements and deadlines, as well as presenting proposals for new projects.',\n",
              "  'distances': array([207.90671], dtype=float32),\n",
              "  'indices': array([4])}]"
            ]
          },
          "metadata": {},
          "execution_count": 166
        }
      ]
    },
    {
      "cell_type": "code",
      "source": [
        "threshold = 80\n",
        "hint = hint_generator(ss_dob, threshold)\n",
        "for chunk, item in zip(hint.keys(), hint.values()):\n",
        "    print(f\"We found date of birth in the chunk: {chunk}\")"
      ],
      "metadata": {
        "id": "neYHhuAfNQ4H",
        "outputId": "1578d662-8e3a-4666-f95f-6bf6b89b9145",
        "colab": {
          "base_uri": "https://localhost:8080/"
        }
      },
      "execution_count": null,
      "outputs": [
        {
          "output_type": "stream",
          "name": "stdout",
          "text": [
            "We found date of birth in the chunk: \n",
            "Feeling extremely fatigued and overwhelmed at the moment, Sharon Thomas here, born on October 09, 1974, residing at 6831 Julie Avenue, Johnsonhaven, HU 82741.\n"
          ]
        }
      ]
    },
    {
      "cell_type": "code",
      "source": [
        "\"\"\"\n",
        "Sample that passed the dob test\n",
        "\n",
        "Hey there! It's Deborah Freeman, born on February 19th, 1999 and currently residing at 097 Joseph Vista in Walshfurt, TG 00632. I'm a Colour technologist by profession and have been feeling quite under the weather lately with persistent coughing and fatigue. My last vacation was back in July to Zambia - such an amazing experience! Despite that, my blood pressure is normal at 120/80 mmHg and cholesterol level is within the healthy range too. Anyways, I'm feeling pretty drained today with a bit of body aches as well. Hopefully, it's just a passing phase! Closing sentence: Off to rest now and hope for a speedy recovery!\n",
        "\n",
        "\n",
        "\n",
        "Hey there! It's me, Martha Nelson, and I'm feeling pretty rough lately. My cough has been persistent for weeks now, and I've been experiencing fatigue that just won't go away. Despite my normal blood pressure and cholesterol levels, I can't seem to shake off this lingering tiredness. It's like I'm constantly running on empty!\n",
        "\n",
        "I last went on vacation back in August to explore the beautiful islands of Comoros. It was such a wonderful experience, but now it feels like a distant memory. My body just doesn't feel like itself anymore.\n",
        "\n",
        "Anyway, that's me for now - Martha Nelson, 25 years old from Port Brian, VA (born on January 29th, 1999). You can reach me at matthew09@example.net or give me a call at 990.739.9100 ext. 710 if you want to chat more about my symptoms!\n",
        "\n",
        "Oh, and did I mention that I'm Muslim and support the Democratic Rally of the Comoros? It's important to me to stay true to my roots and beliefs while seeking medical attention. So, any doctor\n",
        "\n",
        "\n",
        "\n",
        "Hey there, it's Kenneth Parker here! Born on August 10th, 1986 and currently residing at 221 Catherine Vista in West Jasonport, CZ 81268. You can reach me via email at deannagarcia@example.org or give me a ring at 790-469-6458. I'm feeling pretty rough these days, gotta say! Been dealing with some serious fatigue and a persistent cough that just won't go away. Oh, and let's not forget the fever - it's been hanging around for weeks now! My blood pressure is through the roof too, which only makes things worse.\n",
        "     Last time I went on vacation was back in February to Thailand, where I definitely didn't need any of these symptoms! But hey, life happens, right? Anyways, that's me for now - hope you're doing better than I am!\n",
        "\n",
        "\n",
        "\n",
        "Hey there, it's Charles Schneider here! *yawn* Sorry about that, I'm feeling pretty tired today. It's been a while since my last vacation on February 20th, and I could really use another break from work. As a GIS officer, I spend most of my days staring at screens and crunching numbers - it can be draining, you know? *sigh*\n",
        "\n",
        "Anyway, enough about that. My blood pressure has been a bit high lately, and I've been experiencing some fatigue too. Oh well, I guess that comes with the territory of getting older, right? At least my cholesterol levels are normal - gotta look at the bright side! *smile*\n",
        "\n",
        "So yeah, it's Charles Schneider here, born on March 17th, 1984. You can find me at 9141 Powell Valley Apt. 860 in Aguirrehaven, DO 39387. My email address is murphygregory@example.org and my phone number is 001-976-925-9528x184. I'm a Muslim dude from the Dominican Republic, supporting the Popular Action Bloc -\n",
        "\n",
        "\n",
        "I am responsible for managing and analyzing geospatial data in my role as a GIS Officer at the local government department of transportation. My primary duties include maintaining and updating the department's spatial databases, creating maps and reports using ArcGIS software, and providing technical support to other departments within the organization.\n",
        "\n",
        "Today, I am working on a new project to develop a real-time traffic management system that will use GPS data from vehicles to monitor and optimize traffic flow. This involves integrating data from various sources such as sensors, cameras, and social media feeds into our GIS platform. Additionally, I am collaborating with other departments within the organization to ensure that the new system meets their needs and is compatible with existing infrastructure.\n",
        "\n",
        "To accomplish these tasks, I spend most of my day working with ArcGIS software, writing Python scripts to automate data processing and analysis, and communicating with stakeholders across the department. In the afternoon, I will attend a meeting with representatives from other departments to discuss the project's progress and plan for future development.\n",
        "\n",
        "\n",
        "\n",
        "Hey there! It's Rebecca Bradley here, born on May 07, 1989. I'm feeling pretty rough lately with a persistent cough and fatigue that just won't go away. My breathing has also been a bit difficult. Other than that, my blood pressure is normal but my cholesterol levels are through the roof! It's crazy because I thought I was eating healthy, but I guess not so much after all.\n",
        "     Oh, and I just got back from an amazing vacation in Bali last month - it was such a relaxing getaway! But now that I'm home, I can really feel the effects of my symptoms taking their toll on me. It's hard to focus at work when all I want to do is sleep all day.\n",
        "     Anyways, enough about that for now. Just thought I'd drop you a line and let you know what's going on with me. Hopefully, these symptoms will pass soon so I can get back to my usual self! Talk to you later!\n",
        "\n",
        "\n",
        "As an international aid/development worker, my day-to-day activities involve a range of tasks aimed at improving the lives of communities in developing countries. I spend time conducting needs assessments to identify priority areas for intervention, designing and implementing projects to address these issues, and monitoring and evaluating the impact of our work.\n",
        "\n",
        "Recently, we have been working on introducing a new water filtration system to a community that has limited access to clean drinking water. This has involved conducting surveys to understand the community's needs, designing and installing the filtration systems, and training local residents on how to maintain them. The response from the community has been overwhelmingly positive, with many reporting improved health and increased productivity as a result of having access to clean water.\n",
        "\n",
        "\n",
        "Feeling extremely fatigued and overwhelmed at the moment, Sharon Thomas here, born on October 09, 1974, residing at 6831 Julie Avenue, Johnsonhaven, HU 82741. I work as a Civil engineer, consulting, and I am from Bosnia and Herzegovina, practicing Hinduism. My email is johnsoncynthia@example.net and phone number is +1-301-634-5114x4550. Last vacation was on July 15, 2021. Support the Guatemalan National Revolutionary Unity. Blood pressure and cholesterol levels are normal.\n",
        " As a civil engineer consultant, my day-to-day activities involve conducting site visits to assess ongoing construction projects, collaborating with architectural teams to develop building plans, and reviewing blueprints for compliance with building codes and regulations. I also spend time meeting with clients to discuss project requirements and deadlines, as well as presenting proposals for new projects.\n",
        "\n",
        "\n",
        "\"\"\""
      ],
      "metadata": {
        "id": "hn_dJki8MLGl"
      },
      "execution_count": null,
      "outputs": []
    }
  ]
}