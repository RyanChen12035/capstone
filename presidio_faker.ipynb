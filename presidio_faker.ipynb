{
  "nbformat": 4,
  "nbformat_minor": 0,
  "metadata": {
    "colab": {
      "provenance": [],
      "authorship_tag": "ABX9TyOLGBNO5Qoq7V6ckI2tJSHQ",
      "include_colab_link": true
    },
    "kernelspec": {
      "name": "python3",
      "display_name": "Python 3"
    },
    "language_info": {
      "name": "python"
    }
  },
  "cells": [
    {
      "cell_type": "markdown",
      "metadata": {
        "id": "view-in-github",
        "colab_type": "text"
      },
      "source": [
        "<a href=\"https://colab.research.google.com/github/RyanChen12035/capstone/blob/main/presidio_faker.ipynb\" target=\"_parent\"><img src=\"https://colab.research.google.com/assets/colab-badge.svg\" alt=\"Open In Colab\"/></a>"
      ]
    },
    {
      "cell_type": "code",
      "execution_count": 1,
      "metadata": {
        "colab": {
          "base_uri": "https://localhost:8080/"
        },
        "id": "WUMoYFt7X-55",
        "outputId": "0d4734d7-c324-48b3-af80-6050be0ea7cd"
      },
      "outputs": [
        {
          "output_type": "stream",
          "name": "stdout",
          "text": [
            "Collecting presidio-analyzer\n",
            "  Downloading presidio_analyzer-2.2.353-py3-none-any.whl (85 kB)\n",
            "\u001b[?25l     \u001b[90m━━━━━━━━━━━━━━━━━━━━━━━━━━━━━━━━━━━━━━━━\u001b[0m \u001b[32m0.0/85.7 kB\u001b[0m \u001b[31m?\u001b[0m eta \u001b[36m-:--:--\u001b[0m\r\u001b[2K     \u001b[91m━━━━━━━━━━━━━━━━━━━━━━━━━━━━━━━━━━━━━━\u001b[0m\u001b[90m╺\u001b[0m\u001b[90m━\u001b[0m \u001b[32m81.9/85.7 kB\u001b[0m \u001b[31m2.8 MB/s\u001b[0m eta \u001b[36m0:00:01\u001b[0m\r\u001b[2K     \u001b[90m━━━━━━━━━━━━━━━━━━━━━━━━━━━━━━━━━━━━━━━━\u001b[0m \u001b[32m85.7/85.7 kB\u001b[0m \u001b[31m2.1 MB/s\u001b[0m eta \u001b[36m0:00:00\u001b[0m\n",
            "\u001b[?25hRequirement already satisfied: spacy<4.0.0,>=3.4.4 in /usr/local/lib/python3.10/dist-packages (from presidio-analyzer) (3.7.3)\n",
            "Requirement already satisfied: regex in /usr/local/lib/python3.10/dist-packages (from presidio-analyzer) (2023.12.25)\n",
            "Collecting tldextract (from presidio-analyzer)\n",
            "  Downloading tldextract-5.1.1-py3-none-any.whl (97 kB)\n",
            "\u001b[2K     \u001b[90m━━━━━━━━━━━━━━━━━━━━━━━━━━━━━━━━━━━━━━━━\u001b[0m \u001b[32m97.7/97.7 kB\u001b[0m \u001b[31m6.5 MB/s\u001b[0m eta \u001b[36m0:00:00\u001b[0m\n",
            "\u001b[?25hRequirement already satisfied: pyyaml in /usr/local/lib/python3.10/dist-packages (from presidio-analyzer) (6.0.1)\n",
            "Collecting phonenumbers<9.0.0,>=8.12 (from presidio-analyzer)\n",
            "  Downloading phonenumbers-8.13.30-py2.py3-none-any.whl (2.6 MB)\n",
            "\u001b[2K     \u001b[90m━━━━━━━━━━━━━━━━━━━━━━━━━━━━━━━━━━━━━━━━\u001b[0m \u001b[32m2.6/2.6 MB\u001b[0m \u001b[31m11.9 MB/s\u001b[0m eta \u001b[36m0:00:00\u001b[0m\n",
            "\u001b[?25hRequirement already satisfied: spacy-legacy<3.1.0,>=3.0.11 in /usr/local/lib/python3.10/dist-packages (from spacy<4.0.0,>=3.4.4->presidio-analyzer) (3.0.12)\n",
            "Requirement already satisfied: spacy-loggers<2.0.0,>=1.0.0 in /usr/local/lib/python3.10/dist-packages (from spacy<4.0.0,>=3.4.4->presidio-analyzer) (1.0.5)\n",
            "Requirement already satisfied: murmurhash<1.1.0,>=0.28.0 in /usr/local/lib/python3.10/dist-packages (from spacy<4.0.0,>=3.4.4->presidio-analyzer) (1.0.10)\n",
            "Requirement already satisfied: cymem<2.1.0,>=2.0.2 in /usr/local/lib/python3.10/dist-packages (from spacy<4.0.0,>=3.4.4->presidio-analyzer) (2.0.8)\n",
            "Requirement already satisfied: preshed<3.1.0,>=3.0.2 in /usr/local/lib/python3.10/dist-packages (from spacy<4.0.0,>=3.4.4->presidio-analyzer) (3.0.9)\n",
            "Requirement already satisfied: thinc<8.3.0,>=8.2.2 in /usr/local/lib/python3.10/dist-packages (from spacy<4.0.0,>=3.4.4->presidio-analyzer) (8.2.3)\n",
            "Requirement already satisfied: wasabi<1.2.0,>=0.9.1 in /usr/local/lib/python3.10/dist-packages (from spacy<4.0.0,>=3.4.4->presidio-analyzer) (1.1.2)\n",
            "Requirement already satisfied: srsly<3.0.0,>=2.4.3 in /usr/local/lib/python3.10/dist-packages (from spacy<4.0.0,>=3.4.4->presidio-analyzer) (2.4.8)\n",
            "Requirement already satisfied: catalogue<2.1.0,>=2.0.6 in /usr/local/lib/python3.10/dist-packages (from spacy<4.0.0,>=3.4.4->presidio-analyzer) (2.0.10)\n",
            "Requirement already satisfied: weasel<0.4.0,>=0.1.0 in /usr/local/lib/python3.10/dist-packages (from spacy<4.0.0,>=3.4.4->presidio-analyzer) (0.3.4)\n",
            "Requirement already satisfied: typer<0.10.0,>=0.3.0 in /usr/local/lib/python3.10/dist-packages (from spacy<4.0.0,>=3.4.4->presidio-analyzer) (0.9.0)\n",
            "Requirement already satisfied: smart-open<7.0.0,>=5.2.1 in /usr/local/lib/python3.10/dist-packages (from spacy<4.0.0,>=3.4.4->presidio-analyzer) (6.4.0)\n",
            "Requirement already satisfied: tqdm<5.0.0,>=4.38.0 in /usr/local/lib/python3.10/dist-packages (from spacy<4.0.0,>=3.4.4->presidio-analyzer) (4.66.1)\n",
            "Requirement already satisfied: requests<3.0.0,>=2.13.0 in /usr/local/lib/python3.10/dist-packages (from spacy<4.0.0,>=3.4.4->presidio-analyzer) (2.31.0)\n",
            "Requirement already satisfied: pydantic!=1.8,!=1.8.1,<3.0.0,>=1.7.4 in /usr/local/lib/python3.10/dist-packages (from spacy<4.0.0,>=3.4.4->presidio-analyzer) (2.6.1)\n",
            "Requirement already satisfied: jinja2 in /usr/local/lib/python3.10/dist-packages (from spacy<4.0.0,>=3.4.4->presidio-analyzer) (3.1.3)\n",
            "Requirement already satisfied: setuptools in /usr/local/lib/python3.10/dist-packages (from spacy<4.0.0,>=3.4.4->presidio-analyzer) (67.7.2)\n",
            "Requirement already satisfied: packaging>=20.0 in /usr/local/lib/python3.10/dist-packages (from spacy<4.0.0,>=3.4.4->presidio-analyzer) (23.2)\n",
            "Requirement already satisfied: langcodes<4.0.0,>=3.2.0 in /usr/local/lib/python3.10/dist-packages (from spacy<4.0.0,>=3.4.4->presidio-analyzer) (3.3.0)\n",
            "Requirement already satisfied: numpy>=1.19.0 in /usr/local/lib/python3.10/dist-packages (from spacy<4.0.0,>=3.4.4->presidio-analyzer) (1.23.5)\n",
            "Requirement already satisfied: idna in /usr/local/lib/python3.10/dist-packages (from tldextract->presidio-analyzer) (3.6)\n",
            "Collecting requests-file>=1.4 (from tldextract->presidio-analyzer)\n",
            "  Downloading requests_file-2.0.0-py2.py3-none-any.whl (4.2 kB)\n",
            "Requirement already satisfied: filelock>=3.0.8 in /usr/local/lib/python3.10/dist-packages (from tldextract->presidio-analyzer) (3.13.1)\n",
            "Requirement already satisfied: annotated-types>=0.4.0 in /usr/local/lib/python3.10/dist-packages (from pydantic!=1.8,!=1.8.1,<3.0.0,>=1.7.4->spacy<4.0.0,>=3.4.4->presidio-analyzer) (0.6.0)\n",
            "Requirement already satisfied: pydantic-core==2.16.2 in /usr/local/lib/python3.10/dist-packages (from pydantic!=1.8,!=1.8.1,<3.0.0,>=1.7.4->spacy<4.0.0,>=3.4.4->presidio-analyzer) (2.16.2)\n",
            "Requirement already satisfied: typing-extensions>=4.6.1 in /usr/local/lib/python3.10/dist-packages (from pydantic!=1.8,!=1.8.1,<3.0.0,>=1.7.4->spacy<4.0.0,>=3.4.4->presidio-analyzer) (4.9.0)\n",
            "Requirement already satisfied: charset-normalizer<4,>=2 in /usr/local/lib/python3.10/dist-packages (from requests<3.0.0,>=2.13.0->spacy<4.0.0,>=3.4.4->presidio-analyzer) (3.3.2)\n",
            "Requirement already satisfied: urllib3<3,>=1.21.1 in /usr/local/lib/python3.10/dist-packages (from requests<3.0.0,>=2.13.0->spacy<4.0.0,>=3.4.4->presidio-analyzer) (2.0.7)\n",
            "Requirement already satisfied: certifi>=2017.4.17 in /usr/local/lib/python3.10/dist-packages (from requests<3.0.0,>=2.13.0->spacy<4.0.0,>=3.4.4->presidio-analyzer) (2024.2.2)\n",
            "Requirement already satisfied: blis<0.8.0,>=0.7.8 in /usr/local/lib/python3.10/dist-packages (from thinc<8.3.0,>=8.2.2->spacy<4.0.0,>=3.4.4->presidio-analyzer) (0.7.11)\n",
            "Requirement already satisfied: confection<1.0.0,>=0.0.1 in /usr/local/lib/python3.10/dist-packages (from thinc<8.3.0,>=8.2.2->spacy<4.0.0,>=3.4.4->presidio-analyzer) (0.1.4)\n",
            "Requirement already satisfied: click<9.0.0,>=7.1.1 in /usr/local/lib/python3.10/dist-packages (from typer<0.10.0,>=0.3.0->spacy<4.0.0,>=3.4.4->presidio-analyzer) (8.1.7)\n",
            "Requirement already satisfied: cloudpathlib<0.17.0,>=0.7.0 in /usr/local/lib/python3.10/dist-packages (from weasel<0.4.0,>=0.1.0->spacy<4.0.0,>=3.4.4->presidio-analyzer) (0.16.0)\n",
            "Requirement already satisfied: MarkupSafe>=2.0 in /usr/local/lib/python3.10/dist-packages (from jinja2->spacy<4.0.0,>=3.4.4->presidio-analyzer) (2.1.5)\n",
            "Installing collected packages: phonenumbers, requests-file, tldextract, presidio-analyzer\n",
            "Successfully installed phonenumbers-8.13.30 presidio-analyzer-2.2.353 requests-file-2.0.0 tldextract-5.1.1\n",
            "Collecting presidio-evaluator\n",
            "  Downloading presidio_evaluator-0.1.3-py3-none-any.whl (638 kB)\n",
            "\u001b[2K     \u001b[90m━━━━━━━━━━━━━━━━━━━━━━━━━━━━━━━━━━━━━━━━\u001b[0m \u001b[32m638.8/638.8 kB\u001b[0m \u001b[31m7.8 MB/s\u001b[0m eta \u001b[36m0:00:00\u001b[0m\n",
            "\u001b[?25hCollecting azure-ai-textanalytics<6.0.0,>=5.3.0 (from presidio-evaluator)\n",
            "  Downloading azure_ai_textanalytics-5.3.0-py3-none-any.whl (298 kB)\n",
            "\u001b[2K     \u001b[90m━━━━━━━━━━━━━━━━━━━━━━━━━━━━━━━━━━━━━━━━\u001b[0m \u001b[32m298.6/298.6 kB\u001b[0m \u001b[31m10.5 MB/s\u001b[0m eta \u001b[36m0:00:00\u001b[0m\n",
            "\u001b[?25hCollecting faker<22.0,>=21.0 (from presidio-evaluator)\n",
            "  Downloading Faker-21.0.1-py3-none-any.whl (1.7 MB)\n",
            "\u001b[2K     \u001b[90m━━━━━━━━━━━━━━━━━━━━━━━━━━━━━━━━━━━━━━━━\u001b[0m \u001b[32m1.7/1.7 MB\u001b[0m \u001b[31m14.1 MB/s\u001b[0m eta \u001b[36m0:00:00\u001b[0m\n",
            "\u001b[?25hRequirement already satisfied: numpy<2.0,>=1.22 in /usr/local/lib/python3.10/dist-packages (from presidio-evaluator) (1.23.5)\n",
            "Collecting pandas<3.0.0,>=2.1.4 (from presidio-evaluator)\n",
            "  Downloading pandas-2.2.0-cp310-cp310-manylinux_2_17_x86_64.manylinux2014_x86_64.whl (13.0 MB)\n",
            "\u001b[2K     \u001b[90m━━━━━━━━━━━━━━━━━━━━━━━━━━━━━━━━━━━━━━━━\u001b[0m \u001b[32m13.0/13.0 MB\u001b[0m \u001b[31m37.3 MB/s\u001b[0m eta \u001b[36m0:00:00\u001b[0m\n",
            "\u001b[?25hCollecting plotly<6.0.0,>=5.18.0 (from presidio-evaluator)\n",
            "  Downloading plotly-5.18.0-py3-none-any.whl (15.6 MB)\n",
            "\u001b[2K     \u001b[90m━━━━━━━━━━━━━━━━━━━━━━━━━━━━━━━━━━━━━━━━\u001b[0m \u001b[32m15.6/15.6 MB\u001b[0m \u001b[31m60.6 MB/s\u001b[0m eta \u001b[36m0:00:00\u001b[0m\n",
            "\u001b[?25hRequirement already satisfied: presidio-analyzer<3.0.0,>=2.2.351 in /usr/local/lib/python3.10/dist-packages (from presidio-evaluator) (2.2.353)\n",
            "Collecting presidio-anonymizer<3.0.0,>=2.2.351 (from presidio-evaluator)\n",
            "  Downloading presidio_anonymizer-2.2.353-py3-none-any.whl (31 kB)\n",
            "Collecting python-dotenv<2.0.0,>=1.0.0 (from presidio-evaluator)\n",
            "  Downloading python_dotenv-1.0.1-py3-none-any.whl (19 kB)\n",
            "Requirement already satisfied: requests<3.0,>=2.25 in /usr/local/lib/python3.10/dist-packages (from presidio-evaluator) (2.31.0)\n",
            "Collecting scikit-learn<2.0.0,>=1.3.2 (from presidio-evaluator)\n",
            "  Downloading scikit_learn-1.4.0-1-cp310-cp310-manylinux_2_17_x86_64.manylinux2014_x86_64.whl (12.1 MB)\n",
            "\u001b[2K     \u001b[90m━━━━━━━━━━━━━━━━━━━━━━━━━━━━━━━━━━━━━━━━\u001b[0m \u001b[32m12.1/12.1 MB\u001b[0m \u001b[31m79.9 MB/s\u001b[0m eta \u001b[36m0:00:00\u001b[0m\n",
            "\u001b[?25hRequirement already satisfied: spacy<4.0.0,>=3.5.0 in /usr/local/lib/python3.10/dist-packages (from presidio-evaluator) (3.7.3)\n",
            "Requirement already satisfied: tqdm<5.0.0,>=4.60.0 in /usr/local/lib/python3.10/dist-packages (from presidio-evaluator) (4.66.1)\n",
            "Collecting xmltodict<0.13.0,>=0.12.0 (from presidio-evaluator)\n",
            "  Downloading xmltodict-0.12.0-py2.py3-none-any.whl (9.2 kB)\n",
            "Collecting azure-core<2.0.0,>=1.24.0 (from azure-ai-textanalytics<6.0.0,>=5.3.0->presidio-evaluator)\n",
            "  Downloading azure_core-1.30.0-py3-none-any.whl (193 kB)\n",
            "\u001b[2K     \u001b[90m━━━━━━━━━━━━━━━━━━━━━━━━━━━━━━━━━━━━━━━━\u001b[0m \u001b[32m193.4/193.4 kB\u001b[0m \u001b[31m20.8 MB/s\u001b[0m eta \u001b[36m0:00:00\u001b[0m\n",
            "\u001b[?25hCollecting azure-common~=1.1 (from azure-ai-textanalytics<6.0.0,>=5.3.0->presidio-evaluator)\n",
            "  Downloading azure_common-1.1.28-py2.py3-none-any.whl (14 kB)\n",
            "Collecting isodate<1.0.0,>=0.6.1 (from azure-ai-textanalytics<6.0.0,>=5.3.0->presidio-evaluator)\n",
            "  Downloading isodate-0.6.1-py2.py3-none-any.whl (41 kB)\n",
            "\u001b[2K     \u001b[90m━━━━━━━━━━━━━━━━━━━━━━━━━━━━━━━━━━━━━━━━\u001b[0m \u001b[32m41.7/41.7 kB\u001b[0m \u001b[31m4.4 MB/s\u001b[0m eta \u001b[36m0:00:00\u001b[0m\n",
            "\u001b[?25hRequirement already satisfied: typing-extensions>=4.0.1 in /usr/local/lib/python3.10/dist-packages (from azure-ai-textanalytics<6.0.0,>=5.3.0->presidio-evaluator) (4.9.0)\n",
            "Requirement already satisfied: python-dateutil>=2.4 in /usr/local/lib/python3.10/dist-packages (from faker<22.0,>=21.0->presidio-evaluator) (2.8.2)\n",
            "Requirement already satisfied: pytz>=2020.1 in /usr/local/lib/python3.10/dist-packages (from pandas<3.0.0,>=2.1.4->presidio-evaluator) (2023.4)\n",
            "Collecting tzdata>=2022.7 (from pandas<3.0.0,>=2.1.4->presidio-evaluator)\n",
            "  Downloading tzdata-2024.1-py2.py3-none-any.whl (345 kB)\n",
            "\u001b[2K     \u001b[90m━━━━━━━━━━━━━━━━━━━━━━━━━━━━━━━━━━━━━━━━\u001b[0m \u001b[32m345.4/345.4 kB\u001b[0m \u001b[31m33.6 MB/s\u001b[0m eta \u001b[36m0:00:00\u001b[0m\n",
            "\u001b[?25hRequirement already satisfied: tenacity>=6.2.0 in /usr/local/lib/python3.10/dist-packages (from plotly<6.0.0,>=5.18.0->presidio-evaluator) (8.2.3)\n",
            "Requirement already satisfied: packaging in /usr/local/lib/python3.10/dist-packages (from plotly<6.0.0,>=5.18.0->presidio-evaluator) (23.2)\n",
            "Requirement already satisfied: regex in /usr/local/lib/python3.10/dist-packages (from presidio-analyzer<3.0.0,>=2.2.351->presidio-evaluator) (2023.12.25)\n",
            "Requirement already satisfied: tldextract in /usr/local/lib/python3.10/dist-packages (from presidio-analyzer<3.0.0,>=2.2.351->presidio-evaluator) (5.1.1)\n",
            "Requirement already satisfied: pyyaml in /usr/local/lib/python3.10/dist-packages (from presidio-analyzer<3.0.0,>=2.2.351->presidio-evaluator) (6.0.1)\n",
            "Requirement already satisfied: phonenumbers<9.0.0,>=8.12 in /usr/local/lib/python3.10/dist-packages (from presidio-analyzer<3.0.0,>=2.2.351->presidio-evaluator) (8.13.30)\n",
            "Collecting pycryptodome>=3.10.1 (from presidio-anonymizer<3.0.0,>=2.2.351->presidio-evaluator)\n",
            "  Downloading pycryptodome-3.20.0-cp35-abi3-manylinux_2_17_x86_64.manylinux2014_x86_64.whl (2.1 MB)\n",
            "\u001b[2K     \u001b[90m━━━━━━━━━━━━━━━━━━━━━━━━━━━━━━━━━━━━━━━━\u001b[0m \u001b[32m2.1/2.1 MB\u001b[0m \u001b[31m58.9 MB/s\u001b[0m eta \u001b[36m0:00:00\u001b[0m\n",
            "\u001b[?25hRequirement already satisfied: charset-normalizer<4,>=2 in /usr/local/lib/python3.10/dist-packages (from requests<3.0,>=2.25->presidio-evaluator) (3.3.2)\n",
            "Requirement already satisfied: idna<4,>=2.5 in /usr/local/lib/python3.10/dist-packages (from requests<3.0,>=2.25->presidio-evaluator) (3.6)\n",
            "Requirement already satisfied: urllib3<3,>=1.21.1 in /usr/local/lib/python3.10/dist-packages (from requests<3.0,>=2.25->presidio-evaluator) (2.0.7)\n",
            "Requirement already satisfied: certifi>=2017.4.17 in /usr/local/lib/python3.10/dist-packages (from requests<3.0,>=2.25->presidio-evaluator) (2024.2.2)\n",
            "Requirement already satisfied: scipy>=1.6.0 in /usr/local/lib/python3.10/dist-packages (from scikit-learn<2.0.0,>=1.3.2->presidio-evaluator) (1.11.4)\n",
            "Requirement already satisfied: joblib>=1.2.0 in /usr/local/lib/python3.10/dist-packages (from scikit-learn<2.0.0,>=1.3.2->presidio-evaluator) (1.3.2)\n",
            "Requirement already satisfied: threadpoolctl>=2.0.0 in /usr/local/lib/python3.10/dist-packages (from scikit-learn<2.0.0,>=1.3.2->presidio-evaluator) (3.2.0)\n",
            "Requirement already satisfied: spacy-legacy<3.1.0,>=3.0.11 in /usr/local/lib/python3.10/dist-packages (from spacy<4.0.0,>=3.5.0->presidio-evaluator) (3.0.12)\n",
            "Requirement already satisfied: spacy-loggers<2.0.0,>=1.0.0 in /usr/local/lib/python3.10/dist-packages (from spacy<4.0.0,>=3.5.0->presidio-evaluator) (1.0.5)\n",
            "Requirement already satisfied: murmurhash<1.1.0,>=0.28.0 in /usr/local/lib/python3.10/dist-packages (from spacy<4.0.0,>=3.5.0->presidio-evaluator) (1.0.10)\n",
            "Requirement already satisfied: cymem<2.1.0,>=2.0.2 in /usr/local/lib/python3.10/dist-packages (from spacy<4.0.0,>=3.5.0->presidio-evaluator) (2.0.8)\n",
            "Requirement already satisfied: preshed<3.1.0,>=3.0.2 in /usr/local/lib/python3.10/dist-packages (from spacy<4.0.0,>=3.5.0->presidio-evaluator) (3.0.9)\n",
            "Requirement already satisfied: thinc<8.3.0,>=8.2.2 in /usr/local/lib/python3.10/dist-packages (from spacy<4.0.0,>=3.5.0->presidio-evaluator) (8.2.3)\n",
            "Requirement already satisfied: wasabi<1.2.0,>=0.9.1 in /usr/local/lib/python3.10/dist-packages (from spacy<4.0.0,>=3.5.0->presidio-evaluator) (1.1.2)\n",
            "Requirement already satisfied: srsly<3.0.0,>=2.4.3 in /usr/local/lib/python3.10/dist-packages (from spacy<4.0.0,>=3.5.0->presidio-evaluator) (2.4.8)\n",
            "Requirement already satisfied: catalogue<2.1.0,>=2.0.6 in /usr/local/lib/python3.10/dist-packages (from spacy<4.0.0,>=3.5.0->presidio-evaluator) (2.0.10)\n",
            "Requirement already satisfied: weasel<0.4.0,>=0.1.0 in /usr/local/lib/python3.10/dist-packages (from spacy<4.0.0,>=3.5.0->presidio-evaluator) (0.3.4)\n",
            "Requirement already satisfied: typer<0.10.0,>=0.3.0 in /usr/local/lib/python3.10/dist-packages (from spacy<4.0.0,>=3.5.0->presidio-evaluator) (0.9.0)\n",
            "Requirement already satisfied: smart-open<7.0.0,>=5.2.1 in /usr/local/lib/python3.10/dist-packages (from spacy<4.0.0,>=3.5.0->presidio-evaluator) (6.4.0)\n",
            "Requirement already satisfied: pydantic!=1.8,!=1.8.1,<3.0.0,>=1.7.4 in /usr/local/lib/python3.10/dist-packages (from spacy<4.0.0,>=3.5.0->presidio-evaluator) (2.6.1)\n",
            "Requirement already satisfied: jinja2 in /usr/local/lib/python3.10/dist-packages (from spacy<4.0.0,>=3.5.0->presidio-evaluator) (3.1.3)\n",
            "Requirement already satisfied: setuptools in /usr/local/lib/python3.10/dist-packages (from spacy<4.0.0,>=3.5.0->presidio-evaluator) (67.7.2)\n",
            "Requirement already satisfied: langcodes<4.0.0,>=3.2.0 in /usr/local/lib/python3.10/dist-packages (from spacy<4.0.0,>=3.5.0->presidio-evaluator) (3.3.0)\n",
            "Requirement already satisfied: six>=1.11.0 in /usr/local/lib/python3.10/dist-packages (from azure-core<2.0.0,>=1.24.0->azure-ai-textanalytics<6.0.0,>=5.3.0->presidio-evaluator) (1.16.0)\n",
            "Requirement already satisfied: annotated-types>=0.4.0 in /usr/local/lib/python3.10/dist-packages (from pydantic!=1.8,!=1.8.1,<3.0.0,>=1.7.4->spacy<4.0.0,>=3.5.0->presidio-evaluator) (0.6.0)\n",
            "Requirement already satisfied: pydantic-core==2.16.2 in /usr/local/lib/python3.10/dist-packages (from pydantic!=1.8,!=1.8.1,<3.0.0,>=1.7.4->spacy<4.0.0,>=3.5.0->presidio-evaluator) (2.16.2)\n",
            "Requirement already satisfied: blis<0.8.0,>=0.7.8 in /usr/local/lib/python3.10/dist-packages (from thinc<8.3.0,>=8.2.2->spacy<4.0.0,>=3.5.0->presidio-evaluator) (0.7.11)\n",
            "Requirement already satisfied: confection<1.0.0,>=0.0.1 in /usr/local/lib/python3.10/dist-packages (from thinc<8.3.0,>=8.2.2->spacy<4.0.0,>=3.5.0->presidio-evaluator) (0.1.4)\n",
            "Requirement already satisfied: click<9.0.0,>=7.1.1 in /usr/local/lib/python3.10/dist-packages (from typer<0.10.0,>=0.3.0->spacy<4.0.0,>=3.5.0->presidio-evaluator) (8.1.7)\n",
            "Requirement already satisfied: cloudpathlib<0.17.0,>=0.7.0 in /usr/local/lib/python3.10/dist-packages (from weasel<0.4.0,>=0.1.0->spacy<4.0.0,>=3.5.0->presidio-evaluator) (0.16.0)\n",
            "Requirement already satisfied: MarkupSafe>=2.0 in /usr/local/lib/python3.10/dist-packages (from jinja2->spacy<4.0.0,>=3.5.0->presidio-evaluator) (2.1.5)\n",
            "Requirement already satisfied: requests-file>=1.4 in /usr/local/lib/python3.10/dist-packages (from tldextract->presidio-analyzer<3.0.0,>=2.2.351->presidio-evaluator) (2.0.0)\n",
            "Requirement already satisfied: filelock>=3.0.8 in /usr/local/lib/python3.10/dist-packages (from tldextract->presidio-analyzer<3.0.0,>=2.2.351->presidio-evaluator) (3.13.1)\n",
            "Installing collected packages: azure-common, xmltodict, tzdata, python-dotenv, pycryptodome, plotly, isodate, scikit-learn, presidio-anonymizer, pandas, faker, azure-core, azure-ai-textanalytics, presidio-evaluator\n",
            "  Attempting uninstall: plotly\n",
            "    Found existing installation: plotly 5.15.0\n",
            "    Uninstalling plotly-5.15.0:\n",
            "      Successfully uninstalled plotly-5.15.0\n",
            "  Attempting uninstall: scikit-learn\n",
            "    Found existing installation: scikit-learn 1.2.2\n",
            "    Uninstalling scikit-learn-1.2.2:\n",
            "      Successfully uninstalled scikit-learn-1.2.2\n",
            "  Attempting uninstall: pandas\n",
            "    Found existing installation: pandas 1.5.3\n",
            "    Uninstalling pandas-1.5.3:\n",
            "      Successfully uninstalled pandas-1.5.3\n",
            "\u001b[31mERROR: pip's dependency resolver does not currently take into account all the packages that are installed. This behaviour is the source of the following dependency conflicts.\n",
            "lida 0.0.10 requires fastapi, which is not installed.\n",
            "lida 0.0.10 requires kaleido, which is not installed.\n",
            "lida 0.0.10 requires python-multipart, which is not installed.\n",
            "lida 0.0.10 requires uvicorn, which is not installed.\n",
            "bigframes 0.20.1 requires pandas<2.1.4,>=1.5.0, but you have pandas 2.2.0 which is incompatible.\n",
            "google-colab 1.0.0 requires pandas==1.5.3, but you have pandas 2.2.0 which is incompatible.\u001b[0m\u001b[31m\n",
            "\u001b[0mSuccessfully installed azure-ai-textanalytics-5.3.0 azure-common-1.1.28 azure-core-1.30.0 faker-21.0.1 isodate-0.6.1 pandas-2.2.0 plotly-5.18.0 presidio-anonymizer-2.2.353 presidio-evaluator-0.1.3 pycryptodome-3.20.0 python-dotenv-1.0.1 scikit-learn-1.4.0 tzdata-2024.1 xmltodict-0.12.0\n"
          ]
        }
      ],
      "source": [
        "# source:　https://github.com/microsoft/presidio-research/blob/master/notebooks/1_Generate_data.ipynb\n",
        "# install presidio via pip if not yet installed\n",
        "\n",
        "!pip install presidio-analyzer\n",
        "!pip install presidio-evaluator"
      ]
    },
    {
      "cell_type": "code",
      "source": [],
      "metadata": {
        "id": "D2HT_4zvb6N1"
      },
      "execution_count": null,
      "outputs": []
    },
    {
      "cell_type": "code",
      "source": [
        "import datetime\n",
        "import pprint\n",
        "from collections import Counter\n",
        "from pathlib import Path\n",
        "from typing import Dict, List\n",
        "\n",
        "import numpy as np\n",
        "import pandas as pd\n",
        "import tqdm\n",
        "\n",
        "from presidio_evaluator import InputSample\n",
        "from presidio_evaluator.data_generator import PresidioDataGenerator\n",
        "from presidio_evaluator.data_generator.faker_extensions import (\n",
        "    FakerSpansResult,\n",
        "    RecordsFaker,\n",
        "    IpAddressProvider,\n",
        "    NationalityProvider,\n",
        "    OrganizationProvider,\n",
        "    UsDriverLicenseProvider,\n",
        "    AgeProvider,\n",
        "    AddressProviderNew,\n",
        "    PhoneNumberProviderNew,\n",
        ")"
      ],
      "metadata": {
        "id": "3fD-ZMOvYDcr"
      },
      "execution_count": 2,
      "outputs": []
    },
    {
      "cell_type": "code",
      "source": [
        "sentence_templates = [\n",
        "    \"My name is {{name}} and I just moved to {{city}} from {{country}}. Recently I've been having a lot of pain in my neck and back.\" +\n",
        "    \"I've also been having trouble with my balance and coordination. I've been coughing a lot and my limbs feel weak.\" +\n",
        "    \"As a result please send the diagnosis result to {{address}}\"\n",
        "]\n",
        "\n",
        "\n",
        "data_generator = PresidioDataGenerator()\n",
        "fake_records = data_generator.generate_fake_data(\n",
        "    templates=sentence_templates, n_samples=10\n",
        ")\n",
        "\n",
        "fake_records = list(fake_records)\n",
        "\n",
        "# Print the spans of the first sample\n",
        "print(fake_records[0].fake)\n",
        "print(fake_records[0].spans)"
      ],
      "metadata": {
        "colab": {
          "base_uri": "https://localhost:8080/"
        },
        "id": "Ej0IcMtcY8XU",
        "outputId": "8e5d8c57-fa55-4060-a047-c1deee4a8d6d"
      },
      "execution_count": 28,
      "outputs": [
        {
          "output_type": "stream",
          "name": "stderr",
          "text": [
            "Sampling: 100%|██████████| 10/10 [00:00<00:00, 1382.25it/s]"
          ]
        },
        {
          "output_type": "stream",
          "name": "stdout",
          "text": [
            "My name is Yvette Charles and I just moved to Port Sergio from Japan. Recently I've been having a lot of pain in my neck and back.I've also been having trouble with my balance and coordination. I've been coughing a lot and my limbs feel weak.As a result please send the diagnosis result to 343 Gross Fork\n",
            "Wheelertown, CO 12966\n",
            "[{\"value\": \"343 Gross Fork\\nWheelertown, CO 12966\", \"start\": 290, \"end\": 326, \"type\": \"address\"}, {\"value\": \"Japan\", \"start\": 63, \"end\": 68, \"type\": \"country\"}, {\"value\": \"Port Sergio\", \"start\": 46, \"end\": 57, \"type\": \"city\"}, {\"value\": \"Yvette Charles\", \"start\": 11, \"end\": 25, \"type\": \"name\"}]\n"
          ]
        },
        {
          "output_type": "stream",
          "name": "stderr",
          "text": [
            "\n"
          ]
        }
      ]
    },
    {
      "cell_type": "code",
      "source": [
        "for i in range(10):\n",
        "    print(fake_records[i].fake)"
      ],
      "metadata": {
        "colab": {
          "base_uri": "https://localhost:8080/"
        },
        "id": "FiEOcusNZShE",
        "outputId": "8c6f9024-8426-4b09-8722-084cd0536ba2"
      },
      "execution_count": 29,
      "outputs": [
        {
          "output_type": "stream",
          "name": "stdout",
          "text": [
            "My name is Yvette Charles and I just moved to Port Sergio from Japan. Recently I've been having a lot of pain in my neck and back.I've also been having trouble with my balance and coordination. I've been coughing a lot and my limbs feel weak.As a result please send the diagnosis result to 343 Gross Fork\n",
            "Wheelertown, CO 12966\n",
            "My name is Danielle Carpenter and I just moved to East Mary from Saudi Arabia. Recently I've been having a lot of pain in my neck and back.I've also been having trouble with my balance and coordination. I've been coughing a lot and my limbs feel weak.As a result please send the diagnosis result to 50851 Leonard Underpass\n",
            "Rogersfurt, AR 51805\n",
            "My name is Catherine Johnson and I just moved to Port Barbara from Mozambique. Recently I've been having a lot of pain in my neck and back.I've also been having trouble with my balance and coordination. I've been coughing a lot and my limbs feel weak.As a result please send the diagnosis result to 207 Brenda Orchard\n",
            "Tiffanyborough, NJ 20493\n",
            "My name is Nancy Larsen and I just moved to West Erikaside from Heard Island and McDonald Islands. Recently I've been having a lot of pain in my neck and back.I've also been having trouble with my balance and coordination. I've been coughing a lot and my limbs feel weak.As a result please send the diagnosis result to 8120 Kevin Prairie Suite 711\n",
            "Perkinsland, VA 54158\n",
            "My name is Benjamin Lowe and I just moved to West Amanda from Guyana. Recently I've been having a lot of pain in my neck and back.I've also been having trouble with my balance and coordination. I've been coughing a lot and my limbs feel weak.As a result please send the diagnosis result to PSC 6402, Box 3231\n",
            "APO AP 43825\n",
            "My name is Ann Klein and I just moved to West Frank from El Salvador. Recently I've been having a lot of pain in my neck and back.I've also been having trouble with my balance and coordination. I've been coughing a lot and my limbs feel weak.As a result please send the diagnosis result to USNV Dean\n",
            "FPO AE 34554\n",
            "My name is Melody Rice and I just moved to Hursthaven from Venezuela. Recently I've been having a lot of pain in my neck and back.I've also been having trouble with my balance and coordination. I've been coughing a lot and my limbs feel weak.As a result please send the diagnosis result to 6795 Patricia Ridge\n",
            "South Kimberlyton, TX 06421\n",
            "My name is William Romero and I just moved to Jenniferhaven from Greece. Recently I've been having a lot of pain in my neck and back.I've also been having trouble with my balance and coordination. I've been coughing a lot and my limbs feel weak.As a result please send the diagnosis result to 91252 Jennifer Neck\n",
            "South Sarah, NH 62150\n",
            "My name is Matthew Brown and I just moved to Stevenfurt from French Southern Territories. Recently I've been having a lot of pain in my neck and back.I've also been having trouble with my balance and coordination. I've been coughing a lot and my limbs feel weak.As a result please send the diagnosis result to 91183 Lynch Lodge\n",
            "Melissaside, FL 92583\n",
            "My name is Heather Flores and I just moved to New Philiphaven from Sweden. Recently I've been having a lot of pain in my neck and back.I've also been having trouble with my balance and coordination. I've been coughing a lot and my limbs feel weak.As a result please send the diagnosis result to 28288 Daniel Route\n",
            "South Andrew, MS 29014\n"
          ]
        }
      ]
    },
    {
      "cell_type": "code",
      "source": [
        "# Can update a PII file from https://www.fakenamegenerator.com/order.php\n",
        "\"\"\"\n",
        "ranslate tags from Faker's to Presidio's\n",
        "translator = {\n",
        "    \"person\": \"PERSON\",\n",
        "    \"ip_address\": \"IP_ADDRESS\",\n",
        "    \"us_driver_license\": \"US_DRIVER_LICENSE\",\n",
        "    \"organization\": \"ORGANIZATION\",\n",
        "    \"name_female\": \"PERSON\",\n",
        "    \"address\": \"STREET_ADDRESS\",\n",
        "    \"country\": \"GPE\",\n",
        "    \"state\": \"GPE\",\n",
        "    \"credit_card_number\": \"CREDIT_CARD\",\n",
        "    \"city\": \"GPE\",\n",
        "    \"street_name\": \"STREET_ADDRESS\",\n",
        "    \"building_number\": \"STREET_ADDRESS\",\n",
        "    \"name\": \"PERSON\",\n",
        "    \"iban\": \"IBAN_CODE\",\n",
        "    \"last_name\": \"PERSON\",\n",
        "    \"last_name_male\": \"PERSON\",\n",
        "    \"last_name_female\": \"PERSON\",\n",
        "    \"first_name\": \"PERSON\",\n",
        "    \"first_name_male\": \"PERSON\",\n",
        "    \"first_name_female\": \"PERSON\",\n",
        "    \"phone_number\": \"PHONE_NUMBER\",\n",
        "    \"url\": \"DOMAIN_NAME\",\n",
        "    \"ssn\": \"US_SSN\",\n",
        "    \"email\": \"EMAIL_ADDRESS\",\n",
        "    \"date_time\": \"DATE_TIME\",\n",
        "    \"date_of_birth\": \"DATE_TIME\",\n",
        "    \"day_of_week\": \"DATE_TIME\",\n",
        "    \"year\": \"DATE_TIME\",\n",
        "    \"name_male\": \"PERSON\",\n",
        "    \"prefix_male\": \"TITLE\",\n",
        "    \"prefix_female\": \"TITLE\",\n",
        "    \"prefix\": \"TITLE\",\n",
        "    \"nationality\": \"NRP\",\n",
        "    \"nation_woman\": \"NRP\",\n",
        "    \"nation_man\": \"NRP\",\n",
        "    \"nation_plural\": \"NRP\",\n",
        "    \"first_name_nonbinary\": \"PERSON\",\n",
        "    \"postcode\": \"STREET_ADDRESS\",\n",
        "    \"secondary_address\": \"STREET_ADDRESS\",\n",
        "    \"job\": \"TITLE\",\n",
        "    \"zipcode\": \"ZIP_CODE\",\n",
        "    \"state_abbr\": \"GPE\",\n",
        "    \"age\": \"AGE\",\n",
        "}\n",
        "\"\"\""
      ],
      "metadata": {
        "id": "wBEvLwbzb0IY"
      },
      "execution_count": null,
      "outputs": []
    }
  ]
}